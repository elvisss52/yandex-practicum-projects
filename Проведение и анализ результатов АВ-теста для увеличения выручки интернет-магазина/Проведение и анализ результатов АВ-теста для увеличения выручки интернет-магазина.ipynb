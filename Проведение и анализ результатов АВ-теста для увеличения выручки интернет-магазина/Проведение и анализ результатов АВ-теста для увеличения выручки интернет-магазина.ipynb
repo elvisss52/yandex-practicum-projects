{
 "cells": [
  {
   "cell_type": "markdown",
   "metadata": {},
   "source": [
    "\n",
    "# Проведение и анализ результатов А/В-теста для увеличения выручки интернет-магазина\n",
    "\n",
    "**Описание проекта**\n",
    "\n",
    "Сейчас мы в роли аналитика крупного интернет-магазина. Вместе с отделом маркетинга мы подготовили список гипотез для увеличения выручки.\n",
    "\n",
    "**Описание данных**\n",
    "\n",
    "В нашем распоряжении 3 датасета:\n",
    "\n",
    "Файл **/datasets/hypothesis.csv**:\n",
    "- **Hypothesis** — краткое описание гипотезы;\n",
    "- **Reach** — охват пользователей по 10-балльной шкале;\n",
    "- **Impact** — влияние на пользователей по 10-балльной шкале;\n",
    "- **Confidence** — уверенность в гипотезе по 10-балльной шкале;\n",
    "- **Efforts** — затраты ресурсов на проверку гипотезы по 10-балльной шкале. Чем больше значение Efforts, тем дороже проверка гипотезы.\n",
    "\n",
    "Файл **/datasets/orders.csv**:\n",
    "- **transactionId** — идентификатор заказа;\n",
    "- **visitorId** — идентификатор пользователя, совершившего заказ;\n",
    "- **date** — дата, когда был совершён заказ;\n",
    "- **revenue** — выручка заказа;\n",
    "- **group** — группа A/B-теста, в которую попал заказ.\n",
    "\n",
    "Файл **/datasets/visitors.csv**:\n",
    "- **date** — дата;\n",
    "- **group** — группа A/B-теста;\n",
    "- **visitors** — количество пользователей в указанную дату в указанной группе A/B-теста\n",
    "\n",
    "**Цели нашего исследования:**\n",
    "- приоритизировать гипотезы;\n",
    "- запустить A/B-тест;\n",
    "- проанализировать результаты.\n",
    "\n",
    "На следующем этапе загрузим и подготовим данные к анализу."
   ]
  },
  {
   "cell_type": "markdown",
   "metadata": {},
   "source": [
    "## Загрузим и подготовим данные к анализу"
   ]
  },
  {
   "cell_type": "code",
   "execution_count": 1,
   "metadata": {},
   "outputs": [],
   "source": [
    "# импортируем необходимые библиотеки\n",
    "import pandas as pd\n",
    "import datetime as dt\n",
    "import numpy as np\n",
    "import scipy.stats as stats\n",
    "import matplotlib.pyplot as plt\n",
    "from pandas.plotting import register_matplotlib_converters\n",
    "import warnings\n",
    "# конвертеры, которые позволяют использовать типы pandas в matplotlib  \n",
    "register_matplotlib_converters()\n",
    "pd.set_option('display.max_colwidth', 0)"
   ]
  },
  {
   "cell_type": "code",
   "execution_count": 2,
   "metadata": {},
   "outputs": [],
   "source": [
    "# загрузим данные\n",
    "hypothesis = pd.read_csv('https://code.s3.yandex.net/datasets/hypothesis.csv')\n",
    "orders = pd.read_csv('https://code.s3.yandex.net/datasets/orders.csv')\n",
    "visitors = pd.read_csv('https://code.s3.yandex.net/datasets/visitors.csv')"
   ]
  },
  {
   "cell_type": "code",
   "execution_count": 3,
   "metadata": {},
   "outputs": [
    {
     "name": "stdout",
     "output_type": "stream",
     "text": [
      "Первые 5 строк датафрейма:\n"
     ]
    },
    {
     "data": {
      "text/html": [
       "<div>\n",
       "<style scoped>\n",
       "    .dataframe tbody tr th:only-of-type {\n",
       "        vertical-align: middle;\n",
       "    }\n",
       "\n",
       "    .dataframe tbody tr th {\n",
       "        vertical-align: top;\n",
       "    }\n",
       "\n",
       "    .dataframe thead th {\n",
       "        text-align: right;\n",
       "    }\n",
       "</style>\n",
       "<table border=\"1\" class=\"dataframe\">\n",
       "  <thead>\n",
       "    <tr style=\"text-align: right;\">\n",
       "      <th></th>\n",
       "      <th>Hypothesis</th>\n",
       "      <th>Reach</th>\n",
       "      <th>Impact</th>\n",
       "      <th>Confidence</th>\n",
       "      <th>Efforts</th>\n",
       "    </tr>\n",
       "  </thead>\n",
       "  <tbody>\n",
       "    <tr>\n",
       "      <th>0</th>\n",
       "      <td>Добавить два новых канала привлечения трафика, что позволит привлекать на 30% больше пользователей</td>\n",
       "      <td>3</td>\n",
       "      <td>10</td>\n",
       "      <td>8</td>\n",
       "      <td>6</td>\n",
       "    </tr>\n",
       "    <tr>\n",
       "      <th>1</th>\n",
       "      <td>Запустить собственную службу доставки, что сократит срок доставки заказов</td>\n",
       "      <td>2</td>\n",
       "      <td>5</td>\n",
       "      <td>4</td>\n",
       "      <td>10</td>\n",
       "    </tr>\n",
       "    <tr>\n",
       "      <th>2</th>\n",
       "      <td>Добавить блоки рекомендаций товаров на сайт интернет магазина, чтобы повысить конверсию и средний чек заказа</td>\n",
       "      <td>8</td>\n",
       "      <td>3</td>\n",
       "      <td>7</td>\n",
       "      <td>3</td>\n",
       "    </tr>\n",
       "    <tr>\n",
       "      <th>3</th>\n",
       "      <td>Изменить структура категорий, что увеличит конверсию, т.к. пользователи быстрее найдут нужный товар</td>\n",
       "      <td>8</td>\n",
       "      <td>3</td>\n",
       "      <td>3</td>\n",
       "      <td>8</td>\n",
       "    </tr>\n",
       "    <tr>\n",
       "      <th>4</th>\n",
       "      <td>Изменить цвет фона главной страницы, чтобы увеличить вовлеченность пользователей</td>\n",
       "      <td>3</td>\n",
       "      <td>1</td>\n",
       "      <td>1</td>\n",
       "      <td>1</td>\n",
       "    </tr>\n",
       "  </tbody>\n",
       "</table>\n",
       "</div>"
      ],
      "text/plain": [
       "                                                                                                     Hypothesis  \\\n",
       "0  Добавить два новых канала привлечения трафика, что позволит привлекать на 30% больше пользователей             \n",
       "1  Запустить собственную службу доставки, что сократит срок доставки заказов                                      \n",
       "2  Добавить блоки рекомендаций товаров на сайт интернет магазина, чтобы повысить конверсию и средний чек заказа   \n",
       "3  Изменить структура категорий, что увеличит конверсию, т.к. пользователи быстрее найдут нужный товар            \n",
       "4  Изменить цвет фона главной страницы, чтобы увеличить вовлеченность пользователей                               \n",
       "\n",
       "   Reach  Impact  Confidence  Efforts  \n",
       "0  3      10      8           6        \n",
       "1  2      5       4           10       \n",
       "2  8      3       7           3        \n",
       "3  8      3       3           8        \n",
       "4  3      1       1           1        "
      ]
     },
     "metadata": {},
     "output_type": "display_data"
    },
    {
     "name": "stdout",
     "output_type": "stream",
     "text": [
      "Общая информация о датафрейме:\n",
      "<class 'pandas.core.frame.DataFrame'>\n",
      "RangeIndex: 9 entries, 0 to 8\n",
      "Data columns (total 5 columns):\n",
      " #   Column      Non-Null Count  Dtype \n",
      "---  ------      --------------  ----- \n",
      " 0   Hypothesis  9 non-null      object\n",
      " 1   Reach       9 non-null      int64 \n",
      " 2   Impact      9 non-null      int64 \n",
      " 3   Confidence  9 non-null      int64 \n",
      " 4   Efforts     9 non-null      int64 \n",
      "dtypes: int64(4), object(1)\n",
      "memory usage: 492.0+ bytes\n"
     ]
    },
    {
     "data": {
      "text/plain": [
       "None"
      ]
     },
     "metadata": {},
     "output_type": "display_data"
    },
    {
     "name": "stdout",
     "output_type": "stream",
     "text": [
      "Сводная статистика:\n"
     ]
    },
    {
     "data": {
      "text/html": [
       "<div>\n",
       "<style scoped>\n",
       "    .dataframe tbody tr th:only-of-type {\n",
       "        vertical-align: middle;\n",
       "    }\n",
       "\n",
       "    .dataframe tbody tr th {\n",
       "        vertical-align: top;\n",
       "    }\n",
       "\n",
       "    .dataframe thead th {\n",
       "        text-align: right;\n",
       "    }\n",
       "</style>\n",
       "<table border=\"1\" class=\"dataframe\">\n",
       "  <thead>\n",
       "    <tr style=\"text-align: right;\">\n",
       "      <th></th>\n",
       "      <th>Reach</th>\n",
       "      <th>Impact</th>\n",
       "      <th>Confidence</th>\n",
       "      <th>Efforts</th>\n",
       "    </tr>\n",
       "  </thead>\n",
       "  <tbody>\n",
       "    <tr>\n",
       "      <th>count</th>\n",
       "      <td>9.000000</td>\n",
       "      <td>9.000000</td>\n",
       "      <td>9.000000</td>\n",
       "      <td>9.000000</td>\n",
       "    </tr>\n",
       "    <tr>\n",
       "      <th>mean</th>\n",
       "      <td>4.777778</td>\n",
       "      <td>4.777778</td>\n",
       "      <td>5.555556</td>\n",
       "      <td>4.888889</td>\n",
       "    </tr>\n",
       "    <tr>\n",
       "      <th>std</th>\n",
       "      <td>3.153481</td>\n",
       "      <td>3.192874</td>\n",
       "      <td>3.045944</td>\n",
       "      <td>2.803767</td>\n",
       "    </tr>\n",
       "    <tr>\n",
       "      <th>min</th>\n",
       "      <td>1.000000</td>\n",
       "      <td>1.000000</td>\n",
       "      <td>1.000000</td>\n",
       "      <td>1.000000</td>\n",
       "    </tr>\n",
       "    <tr>\n",
       "      <th>25%</th>\n",
       "      <td>3.000000</td>\n",
       "      <td>3.000000</td>\n",
       "      <td>3.000000</td>\n",
       "      <td>3.000000</td>\n",
       "    </tr>\n",
       "    <tr>\n",
       "      <th>50%</th>\n",
       "      <td>3.000000</td>\n",
       "      <td>3.000000</td>\n",
       "      <td>7.000000</td>\n",
       "      <td>5.000000</td>\n",
       "    </tr>\n",
       "    <tr>\n",
       "      <th>75%</th>\n",
       "      <td>8.000000</td>\n",
       "      <td>7.000000</td>\n",
       "      <td>8.000000</td>\n",
       "      <td>6.000000</td>\n",
       "    </tr>\n",
       "    <tr>\n",
       "      <th>max</th>\n",
       "      <td>10.000000</td>\n",
       "      <td>10.000000</td>\n",
       "      <td>9.000000</td>\n",
       "      <td>10.000000</td>\n",
       "    </tr>\n",
       "  </tbody>\n",
       "</table>\n",
       "</div>"
      ],
      "text/plain": [
       "           Reach     Impact  Confidence    Efforts\n",
       "count  9.000000   9.000000   9.000000    9.000000 \n",
       "mean   4.777778   4.777778   5.555556    4.888889 \n",
       "std    3.153481   3.192874   3.045944    2.803767 \n",
       "min    1.000000   1.000000   1.000000    1.000000 \n",
       "25%    3.000000   3.000000   3.000000    3.000000 \n",
       "50%    3.000000   3.000000   7.000000    5.000000 \n",
       "75%    8.000000   7.000000   8.000000    6.000000 \n",
       "max    10.000000  10.000000  9.000000    10.000000"
      ]
     },
     "metadata": {},
     "output_type": "display_data"
    },
    {
     "name": "stdout",
     "output_type": "stream",
     "text": [
      "Количество пропусков:\n"
     ]
    },
    {
     "data": {
      "text/plain": [
       "Hypothesis    0\n",
       "Reach         0\n",
       "Impact        0\n",
       "Confidence    0\n",
       "Efforts       0\n",
       "dtype: int64"
      ]
     },
     "metadata": {},
     "output_type": "display_data"
    },
    {
     "name": "stdout",
     "output_type": "stream",
     "text": [
      "Количество явных дубликатов:\n"
     ]
    },
    {
     "data": {
      "text/plain": [
       "0"
      ]
     },
     "metadata": {},
     "output_type": "display_data"
    }
   ],
   "source": [
    "# функция для получения основной информации о датафрейме\n",
    "def first_analysis(table):\n",
    "    print('Первые 5 строк датафрейма:')\n",
    "    display(table.head(5))\n",
    "    print('Общая информация о датафрейме:')\n",
    "    display(table.info())\n",
    "    print('Сводная статистика:')\n",
    "    display(table.describe())\n",
    "    print('Количество пропусков:')\n",
    "    display(table.isna().sum())\n",
    "    print('Количество явных дубликатов:')\n",
    "    display(table.duplicated().sum())\n",
    "\n",
    "# получим основную информацию о датафреме с гипотезами\n",
    "first_analysis(hypothesis)"
   ]
  },
  {
   "cell_type": "markdown",
   "metadata": {},
   "source": [
    "Таблица с информацией о гипотезах содержит 9 строк и 5 столбцов. Пропущенные значения отсутствуют. Явные дубликаты в таблице так же отсутствуют. В набор данных входят 2 типа данных: целые числа и строки. Все столбцы датафрейма необходимо привести к нижнему регистру для хорошего стиля."
   ]
  },
  {
   "cell_type": "code",
   "execution_count": 4,
   "metadata": {},
   "outputs": [
    {
     "name": "stdout",
     "output_type": "stream",
     "text": [
      "Первые 5 строк датафрейма:\n"
     ]
    },
    {
     "data": {
      "text/html": [
       "<div>\n",
       "<style scoped>\n",
       "    .dataframe tbody tr th:only-of-type {\n",
       "        vertical-align: middle;\n",
       "    }\n",
       "\n",
       "    .dataframe tbody tr th {\n",
       "        vertical-align: top;\n",
       "    }\n",
       "\n",
       "    .dataframe thead th {\n",
       "        text-align: right;\n",
       "    }\n",
       "</style>\n",
       "<table border=\"1\" class=\"dataframe\">\n",
       "  <thead>\n",
       "    <tr style=\"text-align: right;\">\n",
       "      <th></th>\n",
       "      <th>transactionId</th>\n",
       "      <th>visitorId</th>\n",
       "      <th>date</th>\n",
       "      <th>revenue</th>\n",
       "      <th>group</th>\n",
       "    </tr>\n",
       "  </thead>\n",
       "  <tbody>\n",
       "    <tr>\n",
       "      <th>0</th>\n",
       "      <td>3667963787</td>\n",
       "      <td>3312258926</td>\n",
       "      <td>2019-08-15</td>\n",
       "      <td>1650</td>\n",
       "      <td>B</td>\n",
       "    </tr>\n",
       "    <tr>\n",
       "      <th>1</th>\n",
       "      <td>2804400009</td>\n",
       "      <td>3642806036</td>\n",
       "      <td>2019-08-15</td>\n",
       "      <td>730</td>\n",
       "      <td>B</td>\n",
       "    </tr>\n",
       "    <tr>\n",
       "      <th>2</th>\n",
       "      <td>2961555356</td>\n",
       "      <td>4069496402</td>\n",
       "      <td>2019-08-15</td>\n",
       "      <td>400</td>\n",
       "      <td>A</td>\n",
       "    </tr>\n",
       "    <tr>\n",
       "      <th>3</th>\n",
       "      <td>3797467345</td>\n",
       "      <td>1196621759</td>\n",
       "      <td>2019-08-15</td>\n",
       "      <td>9759</td>\n",
       "      <td>B</td>\n",
       "    </tr>\n",
       "    <tr>\n",
       "      <th>4</th>\n",
       "      <td>2282983706</td>\n",
       "      <td>2322279887</td>\n",
       "      <td>2019-08-15</td>\n",
       "      <td>2308</td>\n",
       "      <td>B</td>\n",
       "    </tr>\n",
       "  </tbody>\n",
       "</table>\n",
       "</div>"
      ],
      "text/plain": [
       "   transactionId   visitorId        date  revenue group\n",
       "0  3667963787     3312258926  2019-08-15  1650     B   \n",
       "1  2804400009     3642806036  2019-08-15  730      B   \n",
       "2  2961555356     4069496402  2019-08-15  400      A   \n",
       "3  3797467345     1196621759  2019-08-15  9759     B   \n",
       "4  2282983706     2322279887  2019-08-15  2308     B   "
      ]
     },
     "metadata": {},
     "output_type": "display_data"
    },
    {
     "name": "stdout",
     "output_type": "stream",
     "text": [
      "Общая информация о датафрейме:\n",
      "<class 'pandas.core.frame.DataFrame'>\n",
      "RangeIndex: 1197 entries, 0 to 1196\n",
      "Data columns (total 5 columns):\n",
      " #   Column         Non-Null Count  Dtype \n",
      "---  ------         --------------  ----- \n",
      " 0   transactionId  1197 non-null   int64 \n",
      " 1   visitorId      1197 non-null   int64 \n",
      " 2   date           1197 non-null   object\n",
      " 3   revenue        1197 non-null   int64 \n",
      " 4   group          1197 non-null   object\n",
      "dtypes: int64(3), object(2)\n",
      "memory usage: 46.9+ KB\n"
     ]
    },
    {
     "data": {
      "text/plain": [
       "None"
      ]
     },
     "metadata": {},
     "output_type": "display_data"
    },
    {
     "name": "stdout",
     "output_type": "stream",
     "text": [
      "Сводная статистика:\n"
     ]
    },
    {
     "data": {
      "text/html": [
       "<div>\n",
       "<style scoped>\n",
       "    .dataframe tbody tr th:only-of-type {\n",
       "        vertical-align: middle;\n",
       "    }\n",
       "\n",
       "    .dataframe tbody tr th {\n",
       "        vertical-align: top;\n",
       "    }\n",
       "\n",
       "    .dataframe thead th {\n",
       "        text-align: right;\n",
       "    }\n",
       "</style>\n",
       "<table border=\"1\" class=\"dataframe\">\n",
       "  <thead>\n",
       "    <tr style=\"text-align: right;\">\n",
       "      <th></th>\n",
       "      <th>transactionId</th>\n",
       "      <th>visitorId</th>\n",
       "      <th>revenue</th>\n",
       "    </tr>\n",
       "  </thead>\n",
       "  <tbody>\n",
       "    <tr>\n",
       "      <th>count</th>\n",
       "      <td>1.197000e+03</td>\n",
       "      <td>1.197000e+03</td>\n",
       "      <td>1.197000e+03</td>\n",
       "    </tr>\n",
       "    <tr>\n",
       "      <th>mean</th>\n",
       "      <td>2.155621e+09</td>\n",
       "      <td>2.165960e+09</td>\n",
       "      <td>8.348006e+03</td>\n",
       "    </tr>\n",
       "    <tr>\n",
       "      <th>std</th>\n",
       "      <td>1.229085e+09</td>\n",
       "      <td>1.236014e+09</td>\n",
       "      <td>3.919113e+04</td>\n",
       "    </tr>\n",
       "    <tr>\n",
       "      <th>min</th>\n",
       "      <td>1.062393e+06</td>\n",
       "      <td>5.114589e+06</td>\n",
       "      <td>5.000000e+01</td>\n",
       "    </tr>\n",
       "    <tr>\n",
       "      <th>25%</th>\n",
       "      <td>1.166776e+09</td>\n",
       "      <td>1.111826e+09</td>\n",
       "      <td>1.220000e+03</td>\n",
       "    </tr>\n",
       "    <tr>\n",
       "      <th>50%</th>\n",
       "      <td>2.145194e+09</td>\n",
       "      <td>2.217985e+09</td>\n",
       "      <td>2.978000e+03</td>\n",
       "    </tr>\n",
       "    <tr>\n",
       "      <th>75%</th>\n",
       "      <td>3.237740e+09</td>\n",
       "      <td>3.177606e+09</td>\n",
       "      <td>8.290000e+03</td>\n",
       "    </tr>\n",
       "    <tr>\n",
       "      <th>max</th>\n",
       "      <td>4.293856e+09</td>\n",
       "      <td>4.283872e+09</td>\n",
       "      <td>1.294500e+06</td>\n",
       "    </tr>\n",
       "  </tbody>\n",
       "</table>\n",
       "</div>"
      ],
      "text/plain": [
       "       transactionId     visitorId       revenue\n",
       "count  1.197000e+03   1.197000e+03  1.197000e+03\n",
       "mean   2.155621e+09   2.165960e+09  8.348006e+03\n",
       "std    1.229085e+09   1.236014e+09  3.919113e+04\n",
       "min    1.062393e+06   5.114589e+06  5.000000e+01\n",
       "25%    1.166776e+09   1.111826e+09  1.220000e+03\n",
       "50%    2.145194e+09   2.217985e+09  2.978000e+03\n",
       "75%    3.237740e+09   3.177606e+09  8.290000e+03\n",
       "max    4.293856e+09   4.283872e+09  1.294500e+06"
      ]
     },
     "metadata": {},
     "output_type": "display_data"
    },
    {
     "name": "stdout",
     "output_type": "stream",
     "text": [
      "Количество пропусков:\n"
     ]
    },
    {
     "data": {
      "text/plain": [
       "transactionId    0\n",
       "visitorId        0\n",
       "date             0\n",
       "revenue          0\n",
       "group            0\n",
       "dtype: int64"
      ]
     },
     "metadata": {},
     "output_type": "display_data"
    },
    {
     "name": "stdout",
     "output_type": "stream",
     "text": [
      "Количество явных дубликатов:\n"
     ]
    },
    {
     "data": {
      "text/plain": [
       "0"
      ]
     },
     "metadata": {},
     "output_type": "display_data"
    }
   ],
   "source": [
    "# получим основную информацию о датафреме с заказами\n",
    "first_analysis(orders)"
   ]
  },
  {
   "cell_type": "markdown",
   "metadata": {},
   "source": [
    "Таблица с информацией о заказах содержит 1197 строк и 5 столбцов. Пропущенные значения отсутствуют. Явные дубликаты в таблице так же отсутствуют. В набор данных входят 2 типа данных: целые числа и строки. Столбец date необходимо привести к типу datetime. Названия столбцов transactionId, visitorId необходимо привести к змеиному регистру."
   ]
  },
  {
   "cell_type": "code",
   "execution_count": 5,
   "metadata": {},
   "outputs": [
    {
     "name": "stdout",
     "output_type": "stream",
     "text": [
      "Первые 5 строк датафрейма:\n"
     ]
    },
    {
     "data": {
      "text/html": [
       "<div>\n",
       "<style scoped>\n",
       "    .dataframe tbody tr th:only-of-type {\n",
       "        vertical-align: middle;\n",
       "    }\n",
       "\n",
       "    .dataframe tbody tr th {\n",
       "        vertical-align: top;\n",
       "    }\n",
       "\n",
       "    .dataframe thead th {\n",
       "        text-align: right;\n",
       "    }\n",
       "</style>\n",
       "<table border=\"1\" class=\"dataframe\">\n",
       "  <thead>\n",
       "    <tr style=\"text-align: right;\">\n",
       "      <th></th>\n",
       "      <th>date</th>\n",
       "      <th>group</th>\n",
       "      <th>visitors</th>\n",
       "    </tr>\n",
       "  </thead>\n",
       "  <tbody>\n",
       "    <tr>\n",
       "      <th>0</th>\n",
       "      <td>2019-08-01</td>\n",
       "      <td>A</td>\n",
       "      <td>719</td>\n",
       "    </tr>\n",
       "    <tr>\n",
       "      <th>1</th>\n",
       "      <td>2019-08-02</td>\n",
       "      <td>A</td>\n",
       "      <td>619</td>\n",
       "    </tr>\n",
       "    <tr>\n",
       "      <th>2</th>\n",
       "      <td>2019-08-03</td>\n",
       "      <td>A</td>\n",
       "      <td>507</td>\n",
       "    </tr>\n",
       "    <tr>\n",
       "      <th>3</th>\n",
       "      <td>2019-08-04</td>\n",
       "      <td>A</td>\n",
       "      <td>717</td>\n",
       "    </tr>\n",
       "    <tr>\n",
       "      <th>4</th>\n",
       "      <td>2019-08-05</td>\n",
       "      <td>A</td>\n",
       "      <td>756</td>\n",
       "    </tr>\n",
       "  </tbody>\n",
       "</table>\n",
       "</div>"
      ],
      "text/plain": [
       "         date group  visitors\n",
       "0  2019-08-01  A     719     \n",
       "1  2019-08-02  A     619     \n",
       "2  2019-08-03  A     507     \n",
       "3  2019-08-04  A     717     \n",
       "4  2019-08-05  A     756     "
      ]
     },
     "metadata": {},
     "output_type": "display_data"
    },
    {
     "name": "stdout",
     "output_type": "stream",
     "text": [
      "Общая информация о датафрейме:\n",
      "<class 'pandas.core.frame.DataFrame'>\n",
      "RangeIndex: 62 entries, 0 to 61\n",
      "Data columns (total 3 columns):\n",
      " #   Column    Non-Null Count  Dtype \n",
      "---  ------    --------------  ----- \n",
      " 0   date      62 non-null     object\n",
      " 1   group     62 non-null     object\n",
      " 2   visitors  62 non-null     int64 \n",
      "dtypes: int64(1), object(2)\n",
      "memory usage: 1.6+ KB\n"
     ]
    },
    {
     "data": {
      "text/plain": [
       "None"
      ]
     },
     "metadata": {},
     "output_type": "display_data"
    },
    {
     "name": "stdout",
     "output_type": "stream",
     "text": [
      "Сводная статистика:\n"
     ]
    },
    {
     "data": {
      "text/html": [
       "<div>\n",
       "<style scoped>\n",
       "    .dataframe tbody tr th:only-of-type {\n",
       "        vertical-align: middle;\n",
       "    }\n",
       "\n",
       "    .dataframe tbody tr th {\n",
       "        vertical-align: top;\n",
       "    }\n",
       "\n",
       "    .dataframe thead th {\n",
       "        text-align: right;\n",
       "    }\n",
       "</style>\n",
       "<table border=\"1\" class=\"dataframe\">\n",
       "  <thead>\n",
       "    <tr style=\"text-align: right;\">\n",
       "      <th></th>\n",
       "      <th>visitors</th>\n",
       "    </tr>\n",
       "  </thead>\n",
       "  <tbody>\n",
       "    <tr>\n",
       "      <th>count</th>\n",
       "      <td>62.000000</td>\n",
       "    </tr>\n",
       "    <tr>\n",
       "      <th>mean</th>\n",
       "      <td>607.290323</td>\n",
       "    </tr>\n",
       "    <tr>\n",
       "      <th>std</th>\n",
       "      <td>114.400560</td>\n",
       "    </tr>\n",
       "    <tr>\n",
       "      <th>min</th>\n",
       "      <td>361.000000</td>\n",
       "    </tr>\n",
       "    <tr>\n",
       "      <th>25%</th>\n",
       "      <td>534.000000</td>\n",
       "    </tr>\n",
       "    <tr>\n",
       "      <th>50%</th>\n",
       "      <td>624.500000</td>\n",
       "    </tr>\n",
       "    <tr>\n",
       "      <th>75%</th>\n",
       "      <td>710.500000</td>\n",
       "    </tr>\n",
       "    <tr>\n",
       "      <th>max</th>\n",
       "      <td>770.000000</td>\n",
       "    </tr>\n",
       "  </tbody>\n",
       "</table>\n",
       "</div>"
      ],
      "text/plain": [
       "         visitors\n",
       "count  62.000000 \n",
       "mean   607.290323\n",
       "std    114.400560\n",
       "min    361.000000\n",
       "25%    534.000000\n",
       "50%    624.500000\n",
       "75%    710.500000\n",
       "max    770.000000"
      ]
     },
     "metadata": {},
     "output_type": "display_data"
    },
    {
     "name": "stdout",
     "output_type": "stream",
     "text": [
      "Количество пропусков:\n"
     ]
    },
    {
     "data": {
      "text/plain": [
       "date        0\n",
       "group       0\n",
       "visitors    0\n",
       "dtype: int64"
      ]
     },
     "metadata": {},
     "output_type": "display_data"
    },
    {
     "name": "stdout",
     "output_type": "stream",
     "text": [
      "Количество явных дубликатов:\n"
     ]
    },
    {
     "data": {
      "text/plain": [
       "0"
      ]
     },
     "metadata": {},
     "output_type": "display_data"
    }
   ],
   "source": [
    "# получим основную информацию о датафреме с пользователями\n",
    "first_analysis(visitors)"
   ]
  },
  {
   "cell_type": "markdown",
   "metadata": {},
   "source": [
    "Таблица с информацией о посетителях содержит 62 строки и 3 столбца. Пропущенные значения отсутствуют. Явные дубликаты в таблице так же отсутствуют. В набор данных входят 2 типа данных: целые числа и строки. Столбец date необходимо привести к типу datetime. Названия столбцов соответствуют хорошему стилю."
   ]
  },
  {
   "cell_type": "code",
   "execution_count": 6,
   "metadata": {},
   "outputs": [],
   "source": [
    "# приведем названия столбцов к общему виду\n",
    "hypothesis.columns = hypothesis.columns.str.lower() \n",
    "\n",
    "orders.columns = [x.replace('Id', '_id') for x in orders.columns]"
   ]
  },
  {
   "cell_type": "code",
   "execution_count": 7,
   "metadata": {},
   "outputs": [],
   "source": [
    "# приведем столбцы с датой к нужному типу\n",
    "orders['date'] = pd.to_datetime(orders['date'], format = '%Y-%m-%d')\n",
    "visitors['date'] = pd.to_datetime(visitors['date'], format = '%Y-%m-%d')"
   ]
  },
  {
   "cell_type": "markdown",
   "metadata": {},
   "source": [
    "**Вывод:**\n",
    "- загружены данные;\n",
    "- названия столбцов приведены к общему виду;\n",
    "- типы данных в столбцах с датами изменены;\n",
    "- пропущенные значения и дубликаты в таблицах отсутствуют.\n",
    "\n",
    "Данные готовы к дальнейшему анализу."
   ]
  },
  {
   "cell_type": "markdown",
   "metadata": {},
   "source": [
    "## Приоритизация гипотез\n",
    "В файле /datasets/hypothesis.csv имеется 9 гипотез по увеличению выручки интернет-магазина с указанными параметрами Reach, Impact, Confidence, Effort.\n",
    "\n",
    "Фреймворк ICE рассчитаем по формуле:\n",
    "**ICE = Impact (влияние) * Confidence (уверенность) / Efforts (усилия)**\n",
    "\n",
    "Фреймворк RICE рассчитаем по формуле: \n",
    "**RICE = Reach (охват) * Impact (влияние) * Confidence (уверенность) / Efforts (усилия)**"
   ]
  },
  {
   "cell_type": "markdown",
   "metadata": {},
   "source": [
    "### Применим фреймворк ICE для приоритизации гипотез."
   ]
  },
  {
   "cell_type": "code",
   "execution_count": 8,
   "metadata": {},
   "outputs": [
    {
     "data": {
      "text/html": [
       "<div>\n",
       "<style scoped>\n",
       "    .dataframe tbody tr th:only-of-type {\n",
       "        vertical-align: middle;\n",
       "    }\n",
       "\n",
       "    .dataframe tbody tr th {\n",
       "        vertical-align: top;\n",
       "    }\n",
       "\n",
       "    .dataframe thead th {\n",
       "        text-align: right;\n",
       "    }\n",
       "</style>\n",
       "<table border=\"1\" class=\"dataframe\">\n",
       "  <thead>\n",
       "    <tr style=\"text-align: right;\">\n",
       "      <th></th>\n",
       "      <th>hypothesis</th>\n",
       "      <th>ICE</th>\n",
       "    </tr>\n",
       "  </thead>\n",
       "  <tbody>\n",
       "    <tr>\n",
       "      <th>8</th>\n",
       "      <td>Запустить акцию, дающую скидку на товар в день рождения</td>\n",
       "      <td>16.20</td>\n",
       "    </tr>\n",
       "    <tr>\n",
       "      <th>0</th>\n",
       "      <td>Добавить два новых канала привлечения трафика, что позволит привлекать на 30% больше пользователей</td>\n",
       "      <td>13.33</td>\n",
       "    </tr>\n",
       "    <tr>\n",
       "      <th>7</th>\n",
       "      <td>Добавить форму подписки на все основные страницы, чтобы собрать базу клиентов для email-рассылок</td>\n",
       "      <td>11.20</td>\n",
       "    </tr>\n",
       "    <tr>\n",
       "      <th>6</th>\n",
       "      <td>Показать на главной странице баннеры с актуальными акциями и распродажами, чтобы увеличить конверсию</td>\n",
       "      <td>8.00</td>\n",
       "    </tr>\n",
       "    <tr>\n",
       "      <th>2</th>\n",
       "      <td>Добавить блоки рекомендаций товаров на сайт интернет магазина, чтобы повысить конверсию и средний чек заказа</td>\n",
       "      <td>7.00</td>\n",
       "    </tr>\n",
       "    <tr>\n",
       "      <th>1</th>\n",
       "      <td>Запустить собственную службу доставки, что сократит срок доставки заказов</td>\n",
       "      <td>2.00</td>\n",
       "    </tr>\n",
       "    <tr>\n",
       "      <th>5</th>\n",
       "      <td>Добавить страницу отзывов клиентов о магазине, что позволит увеличить количество заказов</td>\n",
       "      <td>1.33</td>\n",
       "    </tr>\n",
       "    <tr>\n",
       "      <th>3</th>\n",
       "      <td>Изменить структура категорий, что увеличит конверсию, т.к. пользователи быстрее найдут нужный товар</td>\n",
       "      <td>1.12</td>\n",
       "    </tr>\n",
       "    <tr>\n",
       "      <th>4</th>\n",
       "      <td>Изменить цвет фона главной страницы, чтобы увеличить вовлеченность пользователей</td>\n",
       "      <td>1.00</td>\n",
       "    </tr>\n",
       "  </tbody>\n",
       "</table>\n",
       "</div>"
      ],
      "text/plain": [
       "                                                                                                     hypothesis  \\\n",
       "8  Запустить акцию, дающую скидку на товар в день рождения                                                        \n",
       "0  Добавить два новых канала привлечения трафика, что позволит привлекать на 30% больше пользователей             \n",
       "7  Добавить форму подписки на все основные страницы, чтобы собрать базу клиентов для email-рассылок               \n",
       "6  Показать на главной странице баннеры с актуальными акциями и распродажами, чтобы увеличить конверсию           \n",
       "2  Добавить блоки рекомендаций товаров на сайт интернет магазина, чтобы повысить конверсию и средний чек заказа   \n",
       "1  Запустить собственную службу доставки, что сократит срок доставки заказов                                      \n",
       "5  Добавить страницу отзывов клиентов о магазине, что позволит увеличить количество заказов                       \n",
       "3  Изменить структура категорий, что увеличит конверсию, т.к. пользователи быстрее найдут нужный товар            \n",
       "4  Изменить цвет фона главной страницы, чтобы увеличить вовлеченность пользователей                               \n",
       "\n",
       "     ICE  \n",
       "8  16.20  \n",
       "0  13.33  \n",
       "7  11.20  \n",
       "6  8.00   \n",
       "2  7.00   \n",
       "1  2.00   \n",
       "5  1.33   \n",
       "3  1.12   \n",
       "4  1.00   "
      ]
     },
     "execution_count": 8,
     "metadata": {},
     "output_type": "execute_result"
    }
   ],
   "source": [
    "# рассчитаем ICE\n",
    "hypothesis['ICE'] = ((hypothesis['impact'] * hypothesis['confidence']) / hypothesis['efforts']).round(2)\n",
    "\n",
    "hypothesis[['hypothesis','ICE']].sort_values(by='ICE', ascending=False)"
   ]
  },
  {
   "cell_type": "markdown",
   "metadata": {},
   "source": [
    "Наиболее перспективные гипотезы по ICE: \"Запустить акцию, дающую скидку на товар в день рождения\", \"Добавить два новых канала привлечения трафика, что позволит привлекать на 30% больше пользователей\", \"Добавить форму подписки на все основные страницы, чтобы собрать базу клиентов для email-рассылок\"."
   ]
  },
  {
   "cell_type": "markdown",
   "metadata": {},
   "source": [
    "### Применим фреймворк RICE для приоритизации гипотез."
   ]
  },
  {
   "cell_type": "code",
   "execution_count": 9,
   "metadata": {},
   "outputs": [
    {
     "data": {
      "text/html": [
       "<div>\n",
       "<style scoped>\n",
       "    .dataframe tbody tr th:only-of-type {\n",
       "        vertical-align: middle;\n",
       "    }\n",
       "\n",
       "    .dataframe tbody tr th {\n",
       "        vertical-align: top;\n",
       "    }\n",
       "\n",
       "    .dataframe thead th {\n",
       "        text-align: right;\n",
       "    }\n",
       "</style>\n",
       "<table border=\"1\" class=\"dataframe\">\n",
       "  <thead>\n",
       "    <tr style=\"text-align: right;\">\n",
       "      <th></th>\n",
       "      <th>hypothesis</th>\n",
       "      <th>RICE</th>\n",
       "    </tr>\n",
       "  </thead>\n",
       "  <tbody>\n",
       "    <tr>\n",
       "      <th>7</th>\n",
       "      <td>Добавить форму подписки на все основные страницы, чтобы собрать базу клиентов для email-рассылок</td>\n",
       "      <td>112.0</td>\n",
       "    </tr>\n",
       "    <tr>\n",
       "      <th>2</th>\n",
       "      <td>Добавить блоки рекомендаций товаров на сайт интернет магазина, чтобы повысить конверсию и средний чек заказа</td>\n",
       "      <td>56.0</td>\n",
       "    </tr>\n",
       "    <tr>\n",
       "      <th>0</th>\n",
       "      <td>Добавить два новых канала привлечения трафика, что позволит привлекать на 30% больше пользователей</td>\n",
       "      <td>40.0</td>\n",
       "    </tr>\n",
       "    <tr>\n",
       "      <th>6</th>\n",
       "      <td>Показать на главной странице баннеры с актуальными акциями и распродажами, чтобы увеличить конверсию</td>\n",
       "      <td>40.0</td>\n",
       "    </tr>\n",
       "    <tr>\n",
       "      <th>8</th>\n",
       "      <td>Запустить акцию, дающую скидку на товар в день рождения</td>\n",
       "      <td>16.2</td>\n",
       "    </tr>\n",
       "    <tr>\n",
       "      <th>3</th>\n",
       "      <td>Изменить структура категорий, что увеличит конверсию, т.к. пользователи быстрее найдут нужный товар</td>\n",
       "      <td>9.0</td>\n",
       "    </tr>\n",
       "    <tr>\n",
       "      <th>1</th>\n",
       "      <td>Запустить собственную службу доставки, что сократит срок доставки заказов</td>\n",
       "      <td>4.0</td>\n",
       "    </tr>\n",
       "    <tr>\n",
       "      <th>5</th>\n",
       "      <td>Добавить страницу отзывов клиентов о магазине, что позволит увеличить количество заказов</td>\n",
       "      <td>4.0</td>\n",
       "    </tr>\n",
       "    <tr>\n",
       "      <th>4</th>\n",
       "      <td>Изменить цвет фона главной страницы, чтобы увеличить вовлеченность пользователей</td>\n",
       "      <td>3.0</td>\n",
       "    </tr>\n",
       "  </tbody>\n",
       "</table>\n",
       "</div>"
      ],
      "text/plain": [
       "                                                                                                     hypothesis  \\\n",
       "7  Добавить форму подписки на все основные страницы, чтобы собрать базу клиентов для email-рассылок               \n",
       "2  Добавить блоки рекомендаций товаров на сайт интернет магазина, чтобы повысить конверсию и средний чек заказа   \n",
       "0  Добавить два новых канала привлечения трафика, что позволит привлекать на 30% больше пользователей             \n",
       "6  Показать на главной странице баннеры с актуальными акциями и распродажами, чтобы увеличить конверсию           \n",
       "8  Запустить акцию, дающую скидку на товар в день рождения                                                        \n",
       "3  Изменить структура категорий, что увеличит конверсию, т.к. пользователи быстрее найдут нужный товар            \n",
       "1  Запустить собственную службу доставки, что сократит срок доставки заказов                                      \n",
       "5  Добавить страницу отзывов клиентов о магазине, что позволит увеличить количество заказов                       \n",
       "4  Изменить цвет фона главной страницы, чтобы увеличить вовлеченность пользователей                               \n",
       "\n",
       "    RICE  \n",
       "7  112.0  \n",
       "2  56.0   \n",
       "0  40.0   \n",
       "6  40.0   \n",
       "8  16.2   \n",
       "3  9.0    \n",
       "1  4.0    \n",
       "5  4.0    \n",
       "4  3.0    "
      ]
     },
     "execution_count": 9,
     "metadata": {},
     "output_type": "execute_result"
    }
   ],
   "source": [
    "# рассчитаем RICE\n",
    "hypothesis['RICE'] = (hypothesis['reach'] * hypothesis['impact'] * hypothesis['confidence']) / hypothesis['efforts']\n",
    "\n",
    "hypothesis[['hypothesis','RICE']].sort_values(by='RICE', ascending=False)"
   ]
  },
  {
   "cell_type": "markdown",
   "metadata": {},
   "source": [
    "Наиболее перспективные гипотезы по RICE: \"Добавить форму подписки на все основные страницы, чтобы собрать базу клиентов для email-рассылок\", \"Добавить блоки рекомендаций товаров на сайт интернет магазина, чтобы повысить конверсию и средний чек заказа\", \"Добавить два новых канала привлечения трафика, что позволит привлекать на 30% больше пользователей\". В данном случае порядок изменился."
   ]
  },
  {
   "cell_type": "markdown",
   "metadata": {},
   "source": [
    "### Укажем, как изменилась приоритизация гипотез при применении RICE вместо ICE. "
   ]
  },
  {
   "cell_type": "code",
   "execution_count": 10,
   "metadata": {},
   "outputs": [
    {
     "data": {
      "text/html": [
       "<div>\n",
       "<style scoped>\n",
       "    .dataframe tbody tr th:only-of-type {\n",
       "        vertical-align: middle;\n",
       "    }\n",
       "\n",
       "    .dataframe tbody tr th {\n",
       "        vertical-align: top;\n",
       "    }\n",
       "\n",
       "    .dataframe thead th {\n",
       "        text-align: right;\n",
       "    }\n",
       "</style>\n",
       "<table border=\"1\" class=\"dataframe\">\n",
       "  <thead>\n",
       "    <tr style=\"text-align: right;\">\n",
       "      <th></th>\n",
       "      <th>hypothesis</th>\n",
       "      <th>reach</th>\n",
       "      <th>impact</th>\n",
       "      <th>confidence</th>\n",
       "      <th>efforts</th>\n",
       "      <th>ICE</th>\n",
       "      <th>RICE</th>\n",
       "    </tr>\n",
       "  </thead>\n",
       "  <tbody>\n",
       "    <tr>\n",
       "      <th>7</th>\n",
       "      <td>Добавить форму подписки на все основные страницы, чтобы собрать базу клиентов для email-рассылок</td>\n",
       "      <td>10</td>\n",
       "      <td>7</td>\n",
       "      <td>8</td>\n",
       "      <td>5</td>\n",
       "      <td>11.20</td>\n",
       "      <td>112.0</td>\n",
       "    </tr>\n",
       "    <tr>\n",
       "      <th>2</th>\n",
       "      <td>Добавить блоки рекомендаций товаров на сайт интернет магазина, чтобы повысить конверсию и средний чек заказа</td>\n",
       "      <td>8</td>\n",
       "      <td>3</td>\n",
       "      <td>7</td>\n",
       "      <td>3</td>\n",
       "      <td>7.00</td>\n",
       "      <td>56.0</td>\n",
       "    </tr>\n",
       "    <tr>\n",
       "      <th>0</th>\n",
       "      <td>Добавить два новых канала привлечения трафика, что позволит привлекать на 30% больше пользователей</td>\n",
       "      <td>3</td>\n",
       "      <td>10</td>\n",
       "      <td>8</td>\n",
       "      <td>6</td>\n",
       "      <td>13.33</td>\n",
       "      <td>40.0</td>\n",
       "    </tr>\n",
       "    <tr>\n",
       "      <th>6</th>\n",
       "      <td>Показать на главной странице баннеры с актуальными акциями и распродажами, чтобы увеличить конверсию</td>\n",
       "      <td>5</td>\n",
       "      <td>3</td>\n",
       "      <td>8</td>\n",
       "      <td>3</td>\n",
       "      <td>8.00</td>\n",
       "      <td>40.0</td>\n",
       "    </tr>\n",
       "    <tr>\n",
       "      <th>8</th>\n",
       "      <td>Запустить акцию, дающую скидку на товар в день рождения</td>\n",
       "      <td>1</td>\n",
       "      <td>9</td>\n",
       "      <td>9</td>\n",
       "      <td>5</td>\n",
       "      <td>16.20</td>\n",
       "      <td>16.2</td>\n",
       "    </tr>\n",
       "    <tr>\n",
       "      <th>3</th>\n",
       "      <td>Изменить структура категорий, что увеличит конверсию, т.к. пользователи быстрее найдут нужный товар</td>\n",
       "      <td>8</td>\n",
       "      <td>3</td>\n",
       "      <td>3</td>\n",
       "      <td>8</td>\n",
       "      <td>1.12</td>\n",
       "      <td>9.0</td>\n",
       "    </tr>\n",
       "    <tr>\n",
       "      <th>1</th>\n",
       "      <td>Запустить собственную службу доставки, что сократит срок доставки заказов</td>\n",
       "      <td>2</td>\n",
       "      <td>5</td>\n",
       "      <td>4</td>\n",
       "      <td>10</td>\n",
       "      <td>2.00</td>\n",
       "      <td>4.0</td>\n",
       "    </tr>\n",
       "    <tr>\n",
       "      <th>5</th>\n",
       "      <td>Добавить страницу отзывов клиентов о магазине, что позволит увеличить количество заказов</td>\n",
       "      <td>3</td>\n",
       "      <td>2</td>\n",
       "      <td>2</td>\n",
       "      <td>3</td>\n",
       "      <td>1.33</td>\n",
       "      <td>4.0</td>\n",
       "    </tr>\n",
       "    <tr>\n",
       "      <th>4</th>\n",
       "      <td>Изменить цвет фона главной страницы, чтобы увеличить вовлеченность пользователей</td>\n",
       "      <td>3</td>\n",
       "      <td>1</td>\n",
       "      <td>1</td>\n",
       "      <td>1</td>\n",
       "      <td>1.00</td>\n",
       "      <td>3.0</td>\n",
       "    </tr>\n",
       "  </tbody>\n",
       "</table>\n",
       "</div>"
      ],
      "text/plain": [
       "                                                                                                     hypothesis  \\\n",
       "7  Добавить форму подписки на все основные страницы, чтобы собрать базу клиентов для email-рассылок               \n",
       "2  Добавить блоки рекомендаций товаров на сайт интернет магазина, чтобы повысить конверсию и средний чек заказа   \n",
       "0  Добавить два новых канала привлечения трафика, что позволит привлекать на 30% больше пользователей             \n",
       "6  Показать на главной странице баннеры с актуальными акциями и распродажами, чтобы увеличить конверсию           \n",
       "8  Запустить акцию, дающую скидку на товар в день рождения                                                        \n",
       "3  Изменить структура категорий, что увеличит конверсию, т.к. пользователи быстрее найдут нужный товар            \n",
       "1  Запустить собственную службу доставки, что сократит срок доставки заказов                                      \n",
       "5  Добавить страницу отзывов клиентов о магазине, что позволит увеличить количество заказов                       \n",
       "4  Изменить цвет фона главной страницы, чтобы увеличить вовлеченность пользователей                               \n",
       "\n",
       "   reach  impact  confidence  efforts    ICE   RICE  \n",
       "7  10     7       8           5        11.20  112.0  \n",
       "2  8      3       7           3        7.00   56.0   \n",
       "0  3      10      8           6        13.33  40.0   \n",
       "6  5      3       8           3        8.00   40.0   \n",
       "8  1      9       9           5        16.20  16.2   \n",
       "3  8      3       3           8        1.12   9.0    \n",
       "1  2      5       4           10       2.00   4.0    \n",
       "5  3      2       2           3        1.33   4.0    \n",
       "4  3      1       1           1        1.00   3.0    "
      ]
     },
     "execution_count": 10,
     "metadata": {},
     "output_type": "execute_result"
    }
   ],
   "source": [
    "hypothesis.sort_values(by='RICE', ascending=False)  "
   ]
  },
  {
   "cell_type": "markdown",
   "metadata": {},
   "source": [
    "Приоритизация гипотез при применении RICE вместо ICE изменилась в связи с тем, что параметр Reach у гипотез под номером 7 и 2 выше, чем у остальных. В обоих случаях на своих местах остались гипотезы с индексом 6 и 4."
   ]
  },
  {
   "cell_type": "markdown",
   "metadata": {},
   "source": [
    "## Анализ A/B-теста\n",
    "Ранее мы получили результаты теста, которые описаны в файлах /datasets/orders.csv и /datasets/visitors.csv."
   ]
  },
  {
   "cell_type": "markdown",
   "metadata": {},
   "source": [
    "### Построим график кумулятивной выручки по группам."
   ]
  },
  {
   "cell_type": "markdown",
   "metadata": {},
   "source": [
    "Перед тем, как приступить к анализу результатов А/В теста, проверим, есть ли пользователи, входящие в обе группы."
   ]
  },
  {
   "cell_type": "code",
   "execution_count": 11,
   "metadata": {},
   "outputs": [
    {
     "name": "stdout",
     "output_type": "stream",
     "text": [
      "Общее число пользователей в тесте: 1031\n",
      "Количество пользователей в двух группах: 58\n",
      "Доля пользователей, входящих в обе группы: 0.06\n"
     ]
    }
   ],
   "source": [
    "# проверим сегменты на совпадение пользователей\n",
    "group_a = orders[orders['group'] == 'A']['visitor_id']\n",
    "group_b = orders[orders['group'] == 'B']['visitor_id']\n",
    "orders_ab = orders.query('visitor_id in @group_a and visitor_id in @group_b')\n",
    "\n",
    "print('Общее число пользователей в тесте:', orders['visitor_id'].nunique())\n",
    "print('Количество пользователей в двух группах:', orders_ab['visitor_id'].nunique())\n",
    "print('Доля пользователей, входящих в обе группы:', '{0:.2f}'.format(orders_ab['visitor_id'].nunique() / orders['visitor_id'].nunique()))"
   ]
  },
  {
   "cell_type": "markdown",
   "metadata": {},
   "source": [
    "Такие пользователи действительно есть. Примерно 6% от общего числа пользователей попали в оба сегмента теста."
   ]
  },
  {
   "cell_type": "code",
   "execution_count": 12,
   "metadata": {},
   "outputs": [
    {
     "data": {
      "image/png": "[encoded data removed]",
      "text/plain": [
       "<Figure size 1000x500 with 1 Axes>"
      ]
     },
     "metadata": {},
     "output_type": "display_data"
    }
   ],
   "source": [
    "# создаем массив уникальных пар значений дат и групп теста\n",
    "dates_groups = orders[['date', 'group']].drop_duplicates()\n",
    "\n",
    "# получаем агрегированные кумулятивные по дням данные о заказах \n",
    "orders_aggregated = dates_groups.apply(\n",
    "    lambda x: orders[\n",
    "        np.logical_and(\n",
    "            orders['date'] <= x['date'], orders['group'] == x['group']\n",
    "        )\n",
    "    ].agg(\n",
    "        {\n",
    "            'date': 'max',\n",
    "            'group': 'max',\n",
    "            'transaction_id': 'nunique',\n",
    "            'visitor_id': 'nunique',\n",
    "            'revenue': 'sum',\n",
    "        }\n",
    "    ),\n",
    "    axis=1,\n",
    ").sort_values(by=['date', 'group'])\n",
    "\n",
    "# получаем агрегированные кумулятивные по дням данные о посетителях интернет-магазина \n",
    "visitors_aggregated = dates_groups.apply(\n",
    "    lambda x: visitors[\n",
    "        np.logical_and(\n",
    "            visitors['date'] <= x['date'], visitors['group'] == x['group']\n",
    "        )\n",
    "    ].agg({'date': 'max', 'group': 'max', 'visitors': 'sum'}),\n",
    "    axis=1,\n",
    ").sort_values(by=['date', 'group'])\n",
    "\n",
    "# объединяем кумулятивные данные в одной таблице и присваиваем ее столбцам понятные названия\n",
    "cumulative_data = orders_aggregated.merge(\n",
    "    visitors_aggregated, left_on=['date', 'group'], right_on=['date', 'group']\n",
    ")\n",
    "cumulative_data.columns = [\n",
    "    'date',\n",
    "    'group',\n",
    "    'orders',\n",
    "    'buyers',\n",
    "    'revenue',\n",
    "    'visitors',\n",
    "]\n",
    "\n",
    "# датафрейм с кумулятивным количеством заказов и кумулятивной выручкой по дням в группе А\n",
    "cumulative_revenue_A = cumulative_data[cumulative_data['group']=='A'][['date','revenue', 'orders']]\n",
    "\n",
    "# датафрейм с кумулятивным количеством заказов и кумулятивной выручкой по дням в группе B\n",
    "cumulative_revenue_B = cumulative_data[cumulative_data['group']=='B'][['date','revenue', 'orders']]\n",
    "\n",
    "# cтроим графики выручки группы А и В\n",
    "plt.figure(figsize=(10,5))\n",
    "plt.plot(cumulative_revenue_A['date'], cumulative_revenue_A['revenue'], label='A')\n",
    "plt.plot(cumulative_revenue_B['date'], cumulative_revenue_B['revenue'], label='B')\n",
    "\n",
    "plt.title('График кумулятивной выручки по группам')\n",
    "plt.ylabel('Выручка')\n",
    "plt.xticks(rotation=45)\n",
    "plt.legend()\n",
    "plt.grid()\n",
    "plt.show()"
   ]
  },
  {
   "cell_type": "markdown",
   "metadata": {},
   "source": [
    "Можем видеть, что на протяжении всего теста сегмент В лидировал. Примерно 18 августа произошел резкий рост выручки в группе В, что может быть связано с крупными заказами. Вероятно, если бы не скачок в группе В, то выручки в обеих сегментах росли бы равномерно."
   ]
  },
  {
   "cell_type": "markdown",
   "metadata": {},
   "source": [
    "### Построим график кумулятивного среднего чека по группам."
   ]
  },
  {
   "cell_type": "code",
   "execution_count": 13,
   "metadata": {},
   "outputs": [
    {
     "data": {
      "image/png": "[encoded data removed]",
      "text/plain": [
       "<Figure size 1000x500 with 1 Axes>"
      ]
     },
     "metadata": {},
     "output_type": "display_data"
    }
   ],
   "source": [
    "# cтроим графики среднего чека группы А и В\n",
    "plt.figure(figsize=(10,5))\n",
    "plt.plot(cumulative_revenue_A['date'], cumulative_revenue_A['revenue']/cumulative_revenue_A['orders'], label='A')\n",
    "plt.plot(cumulative_revenue_B['date'], cumulative_revenue_B['revenue']/cumulative_revenue_B['orders'], label='B')\n",
    "\n",
    "plt.title('График кумулятивного среднего чека по группам')\n",
    "plt.ylabel('Выручка')\n",
    "plt.xticks(rotation=45)\n",
    "plt.legend()\n",
    "plt.grid()\n",
    "plt.show()"
   ]
  },
  {
   "cell_type": "markdown",
   "metadata": {},
   "source": [
    "Кумулятивное значение среднего чека по группам колеблется примерно до 18 августа. Также замечем резкий скачок в сегменте В 18 августа. Как уже предположили ранее, это может быть связано с крупными заказами в этот день."
   ]
  },
  {
   "cell_type": "markdown",
   "metadata": {},
   "source": [
    "### Построим график относительного изменения кумулятивного среднего чека группы B к группе A. "
   ]
  },
  {
   "cell_type": "code",
   "execution_count": 14,
   "metadata": {},
   "outputs": [
    {
     "data": {
      "image/png": "[encoded data removed]",
      "text/plain": [
       "<Figure size 1000x500 with 1 Axes>"
      ]
     },
     "metadata": {},
     "output_type": "display_data"
    }
   ],
   "source": [
    "# собираем данные в одном датафрейме\n",
    "merged_cumulative_revenue = cumulative_revenue_A.merge(cumulative_revenue_B, left_on='date', right_on='date', how='left', suffixes=['A', 'B'])\n",
    "\n",
    "# cтроим отношение средних чеков\n",
    "plt.figure(figsize=(10,5))\n",
    "plt.plot(merged_cumulative_revenue['date'], (merged_cumulative_revenue['revenueB']/merged_cumulative_revenue['ordersB'])/(merged_cumulative_revenue['revenueA']/merged_cumulative_revenue['ordersA'])-1)\n",
    "\n",
    "plt.title('График относительного изменения кумулятивного \\n среднего чека группы В к группе А')\n",
    "plt.xticks(rotation=45)\n",
    "plt.grid()\n",
    "plt.axhline(y=0, color='black', linestyle='--') \n",
    "plt.show()"
   ]
  },
  {
   "cell_type": "markdown",
   "metadata": {},
   "source": [
    "График относительного изменения кумулятивного среднего чека группы В к группе А нестабилен. Результаты значиельно и резко менялись в некоторые дни. Вероятно, в эти дни были совершены аномальные заказы."
   ]
  },
  {
   "cell_type": "markdown",
   "metadata": {},
   "source": [
    "### Построим график кумулятивного среднего количества заказов на посетителя по группам."
   ]
  },
  {
   "cell_type": "code",
   "execution_count": 15,
   "metadata": {},
   "outputs": [
    {
     "data": {
      "image/png": "[encoded data removed]",
      "text/plain": [
       "<Figure size 1000x500 with 1 Axes>"
      ]
     },
     "metadata": {},
     "output_type": "display_data"
    }
   ],
   "source": [
    "# считаем кумулятивную конверсию\n",
    "cumulative_data['conversion'] = cumulative_data['orders']/cumulative_data['visitors']\n",
    "\n",
    "# отделяем данные по группе A\n",
    "cumulative_data_A = cumulative_data[cumulative_data['group']=='A']\n",
    "\n",
    "# отделяем данные по группе B\n",
    "cumulative_data_B = cumulative_data[cumulative_data['group']=='B']\n",
    "\n",
    "# строим графики\n",
    "plt.figure(figsize=(10,5))\n",
    "plt.plot(cumulative_data_A['date'], cumulative_data_A['conversion'], label='A')\n",
    "plt.plot(cumulative_data_B['date'], cumulative_data_B['conversion'], label='B')\n",
    "\n",
    "plt.title('График кумулятивного среднего количества заказов \\n на посетителя по группам')\n",
    "plt.ylabel('Конверсия')\n",
    "plt.xticks(rotation=45)\n",
    "plt.legend()\n",
    "plt.grid()\n",
    "plt.show()"
   ]
  },
  {
   "cell_type": "markdown",
   "metadata": {},
   "source": [
    "В начале теста сегмент А имел больщую конверсию. Примерно 6 августа конверсия обеих групп сравнялась. Но в итоге, конверсия сегмента В превысила конверсию группы А."
   ]
  },
  {
   "cell_type": "markdown",
   "metadata": {},
   "source": [
    "### Построим график относительного изменения кумулятивного среднего количества заказов на посетителя группы B к группе A."
   ]
  },
  {
   "cell_type": "code",
   "execution_count": 16,
   "metadata": {},
   "outputs": [
    {
     "data": {
      "image/png": "[encoded data removed]",
      "text/plain": [
       "<Figure size 1000x500 with 1 Axes>"
      ]
     },
     "metadata": {},
     "output_type": "display_data"
    }
   ],
   "source": [
    "merged_cumulative_conversions = cumulative_data_A[['date','conversion']].merge(cumulative_data_B[['date','conversion']], left_on='date', right_on='date', how='left', suffixes=['A', 'B'])\n",
    "\n",
    "plt.figure(figsize=(10,5))\n",
    "plt.plot(merged_cumulative_conversions['date'], merged_cumulative_conversions['conversionB']/merged_cumulative_conversions['conversionA']-1, label=\"Относительный прирост конверсии группы B относительно группы A\")\n",
    "\n",
    "plt.axhline(y=0, color='black', linestyle='--')\n",
    "plt.axhline(y=0.2, color='grey', linestyle='--')\n",
    "plt.axhline(y=0.14, color='red', linestyle='--')\n",
    "plt.title('График относительного изменения кумулятивного среднего \\n количества заказов на посетителя группы B к группе A')\n",
    "plt.xticks(rotation=45)\n",
    "plt.grid()\n",
    "plt.show()"
   ]
  },
  {
   "cell_type": "markdown",
   "metadata": {},
   "source": [
    "Почти с самого начала теста группа В лидирует по конверсии, однако приблизительно 3 августа ситуация ухудшается. Максимальный прирост (в 20%) можем зафиксировать 15-17 августа. Впоследствии конверсия группы В зафиксировалась около прироста в 14% относительно группы А."
   ]
  },
  {
   "cell_type": "markdown",
   "metadata": {},
   "source": [
    "### Построим точечный график количества заказов по пользователям."
   ]
  },
  {
   "cell_type": "code",
   "execution_count": 17,
   "metadata": {},
   "outputs": [
    {
     "name": "stdout",
     "output_type": "stream",
     "text": [
      "      visitor_id  orders\n",
      "1023  4256040402  11    \n",
      "591   2458001652  11    \n",
      "569   2378935119  9     \n",
      "487   2038680547  8     \n",
      "44    199603092   5     \n",
      "744   3062433592  5     \n",
      "55    237748145   5     \n",
      "917   3803269165  5     \n",
      "299   1230306981  5     \n",
      "897   3717692402  5     \n"
     ]
    },
    {
     "data": {
      "image/png": "[encoded data removed]",
      "text/plain": [
       "<Figure size 1000x500 with 1 Axes>"
      ]
     },
     "metadata": {},
     "output_type": "display_data"
    }
   ],
   "source": [
    "orders_by_users = (\n",
    "    orders.groupby('visitor_id', as_index=False)\n",
    "    .agg({'transaction_id': 'nunique'})\n",
    ")\n",
    "orders_by_users.columns = ['visitor_id', 'orders']\n",
    "\n",
    "print(orders_by_users.sort_values(by='orders', ascending=False).head(10))\n",
    "\n",
    "# серия из чисел от 0 до количества наблюдений в orders_by_users\n",
    "x_values = pd.Series(range(0, len(orders_by_users)))\n",
    "\n",
    "plt.figure(figsize=(10,5))\n",
    "plt.scatter(x_values, orders_by_users['orders']) \n",
    "plt.title('Точечный график количества заказов по пользователям')\n",
    "plt.xlabel('Число пользователей')\n",
    "plt.ylabel('Число заказов')\n",
    "plt.grid()\n",
    "plt.show()"
   ]
  },
  {
   "cell_type": "markdown",
   "metadata": {},
   "source": [
    "Пользователей, заказавших более 3-х совсем немного. Данные значения могут быть аномалиями. Чтобы это определить, посчитаем выборочные перцентили."
   ]
  },
  {
   "cell_type": "markdown",
   "metadata": {},
   "source": [
    "### Посчитаем 95-й и 99-й перцентили количества заказов на пользователя. Выберем границу для определения аномальных пользователей."
   ]
  },
  {
   "cell_type": "code",
   "execution_count": 18,
   "metadata": {},
   "outputs": [
    {
     "name": "stdout",
     "output_type": "stream",
     "text": [
      "[2. 4.]\n"
     ]
    }
   ],
   "source": [
    "print(np.percentile(orders_by_users['orders'], [95, 99]))"
   ]
  },
  {
   "cell_type": "markdown",
   "metadata": {},
   "source": [
    "Не более 5% пользователей совершали больше 2-х заказов. И не более 1% пользователей - больше 4-х заказов. Примем за аномальных пользователей тех, кто совершил от 3 заказов. Так мы уберём от 1% до 5% пользователей с наибольшим числом заказов. "
   ]
  },
  {
   "cell_type": "markdown",
   "metadata": {},
   "source": [
    "### Построим точечный график стоимостей заказов."
   ]
  },
  {
   "cell_type": "code",
   "execution_count": 19,
   "metadata": {},
   "outputs": [
    {
     "name": "stdout",
     "output_type": "stream",
     "text": [
      "      transaction_id  visitor_id       date  revenue group\n",
      "425   590470918       1920142716 2019-08-19  1294500  B   \n",
      "1196  3936777065      2108080724 2019-08-15  202740   B   \n",
      "858   192721366       1316129916 2019-08-27  93940    A   \n",
      "1136  666610489       1307669133 2019-08-13  92550    A   \n",
      "744   3668308183      888512513  2019-08-27  86620    B   \n",
      "682   1216533772      4266935830 2019-08-29  78990    B   \n",
      "662   1811671147      4266935830 2019-08-29  78990    A   \n",
      "743   3603576309      4133034833 2019-08-09  67990    A   \n",
      "1103  1348774318      1164614297 2019-08-12  66350    A   \n",
      "1099  316924019       148427295  2019-08-12  65710    A   \n"
     ]
    },
    {
     "data": {
      "image/png": "[encoded data removed]",
      "text/plain": [
       "<Figure size 1000x500 with 1 Axes>"
      ]
     },
     "metadata": {},
     "output_type": "display_data"
    }
   ],
   "source": [
    "print(orders.sort_values(by='revenue', ascending=False).head(10))\n",
    "\n",
    "x_values = pd.Series(range(0, len(orders['revenue'])))\n",
    "\n",
    "plt.figure(figsize=(10,5))\n",
    "plt.scatter(x_values, orders['revenue']) \n",
    "plt.title('Точечный график стоимостей заказов')\n",
    "plt.xlabel('Число пользователей')\n",
    "plt.ylabel('Стоимость заказов')\n",
    "plt.grid()\n",
    "plt.show()"
   ]
  },
  {
   "cell_type": "markdown",
   "metadata": {},
   "source": [
    "Построим еще один более наглядный график."
   ]
  },
  {
   "cell_type": "code",
   "execution_count": 20,
   "metadata": {},
   "outputs": [
    {
     "data": {
      "image/png": "[encoded data removed]",
      "text/plain": [
       "<Figure size 1000x500 with 1 Axes>"
      ]
     },
     "metadata": {},
     "output_type": "display_data"
    }
   ],
   "source": [
    "plt.figure(figsize=(10,5))\n",
    "plt.scatter(x_values, orders['revenue']) \n",
    "plt.title('Точечный график стоимостей заказов')\n",
    "plt.xlabel('Число пользователей')\n",
    "plt.ylabel('Стоимость заказов')\n",
    "plt.ylim(0, 100000) \n",
    "plt.grid()\n",
    "plt.show()"
   ]
  },
  {
   "cell_type": "markdown",
   "metadata": {},
   "source": [
    "Заказов стоимостью 40 000 не так много. Присутствуют выбросы в районе 80 000 - 1 250 000. Заказ на сумму 1 250 000 выглядит слишком аномально. Найдем выборочные перцентили."
   ]
  },
  {
   "cell_type": "markdown",
   "metadata": {},
   "source": [
    "### Посчитаем 95-й и 99-й перцентили стоимости заказов. Выберем границу для определения аномальных заказов."
   ]
  },
  {
   "cell_type": "code",
   "execution_count": 21,
   "metadata": {},
   "outputs": [
    {
     "name": "stdout",
     "output_type": "stream",
     "text": [
      "[28000.  58233.2]\n"
     ]
    }
   ],
   "source": [
    "print(np.percentile(orders['revenue'], [95, 99]))"
   ]
  },
  {
   "cell_type": "markdown",
   "metadata": {},
   "source": [
    "Не более, чем у 5% заказов чек дороже 28 000. И не больше, чем у 1% заказов - дороже 58 233. Примем за аномальных пользователей тех, кто совершил заказ дороже 35 000. Так мы уберём от 1% до 5% пользователей с дорогими заказами. "
   ]
  },
  {
   "cell_type": "markdown",
   "metadata": {},
   "source": [
    "### Посчитаем статистическую значимость различий в среднем количестве заказов на посетителя между группами по «сырым» данным."
   ]
  },
  {
   "cell_type": "code",
   "execution_count": 22,
   "metadata": {},
   "outputs": [
    {
     "name": "stdout",
     "output_type": "stream",
     "text": [
      "        date  ordersPerDateA  revenuePerDateA  ordersPerDateB  \\\n",
      "0 2019-08-01  24              148579           21               \n",
      "1 2019-08-02  20              93822            24               \n",
      "2 2019-08-03  24              112473           16               \n",
      "3 2019-08-04  16              70825            17               \n",
      "4 2019-08-05  25              124218           23               \n",
      "\n",
      "   revenuePerDateB  ordersCummulativeA  revenueCummulativeA  \\\n",
      "0  101217           24                  148579                \n",
      "1  165531           44                  242401                \n",
      "2  114248           68                  354874                \n",
      "3  108571           84                  425699                \n",
      "4  92428            109                 549917                \n",
      "\n",
      "   ordersCummulativeB  revenueCummulativeB  visitors_per_date_A  \\\n",
      "0  21                  101217               719                   \n",
      "1  45                  266748               619                   \n",
      "2  61                  380996               507                   \n",
      "3  78                  489567               717                   \n",
      "4  101                 581995               756                   \n",
      "\n",
      "   visitors_per_date_B  visitors_cummulative_A  visitors_cummulative_B  \n",
      "0  713                  719                     713                     \n",
      "1  581                  1338                    1294                    \n",
      "2  509                  1845                    1803                    \n",
      "3  770                  2562                    2573                    \n",
      "4  707                  3318                    3280                    \n"
     ]
    }
   ],
   "source": [
    "visitors_A_daily = visitors[visitors['group'] == 'A'][['date', 'visitors']]\n",
    "visitors_A_daily.columns = ['date', 'visitors_per_date_A']\n",
    "\n",
    "visitors_A_cummulative = visitors_A_daily.apply(\n",
    "    lambda x: visitors_A_daily[visitors_A_daily['date'] <= x['date']].agg(\n",
    "        {'date': 'max', 'visitors_per_date_A': 'sum'}\n",
    "    ),\n",
    "    axis=1,\n",
    ")\n",
    "visitors_A_cummulative.columns = ['date', 'visitors_cummulative_A']\n",
    "\n",
    "visitors_B_daily = visitors[visitors['group'] == 'B'][['date', 'visitors']]\n",
    "visitors_B_daily.columns = ['date', 'visitors_per_date_B']\n",
    "\n",
    "visitors_B_cummulative = visitors_B_daily.apply(\n",
    "    lambda x: visitors_B_daily[visitors_B_daily['date'] <= x['date']].agg(\n",
    "        {'date': 'max', 'visitors_per_date_B': 'sum'}\n",
    "    ),\n",
    "    axis=1,\n",
    ")\n",
    "visitors_B_cummulative.columns = ['date', 'visitors_cummulative_B']\n",
    "\n",
    "orders_A_daily = (\n",
    "    orders[orders['group'] == 'A'][['date', 'transaction_id', 'visitor_id', 'revenue']]\n",
    "    .groupby('date', as_index=False)\n",
    "    .agg({'transaction_id': pd.Series.nunique, 'revenue': 'sum'})\n",
    ")\n",
    "orders_A_daily.columns = ['date', 'ordersPerDateA', 'revenuePerDateA']\n",
    "\n",
    "ordersACummulative = orders_A_daily.apply(\n",
    "    lambda x: orders_A_daily[orders_A_daily['date'] <= x['date']].agg(\n",
    "        {'date': 'max', 'ordersPerDateA': 'sum', 'revenuePerDateA': 'sum'}\n",
    "    ),\n",
    "    axis=1,\n",
    ").sort_values(by=['date'])\n",
    "ordersACummulative.columns = [\n",
    "    'date',\n",
    "    'ordersCummulativeA',\n",
    "    'revenueCummulativeA',\n",
    "]\n",
    "\n",
    "ordersBDaily = (\n",
    "    orders[orders['group'] == 'B'][['date', 'transaction_id', 'visitor_id', 'revenue']]\n",
    "    .groupby('date', as_index=False)\n",
    "    .agg({'transaction_id': pd.Series.nunique, 'revenue': 'sum'})\n",
    ")\n",
    "ordersBDaily.columns = ['date', 'ordersPerDateB', 'revenuePerDateB']\n",
    "\n",
    "ordersBCummulative = ordersBDaily.apply(\n",
    "    lambda x: ordersBDaily[ordersBDaily['date'] <= x['date']].agg(\n",
    "        {'date': 'max', 'ordersPerDateB': 'sum', 'revenuePerDateB': 'sum'}\n",
    "    ),\n",
    "    axis=1,\n",
    ").sort_values(by=['date'])\n",
    "ordersBCummulative.columns = [\n",
    "    'date',\n",
    "    'ordersCummulativeB',\n",
    "    'revenueCummulativeB',\n",
    "]\n",
    "\n",
    "data = (\n",
    "    orders_A_daily.merge(\n",
    "        ordersBDaily, left_on='date', right_on='date', how='left'\n",
    "    )\n",
    "    .merge(ordersACummulative, left_on='date', right_on='date', how='left')\n",
    "    .merge(ordersBCummulative, left_on='date', right_on='date', how='left')\n",
    "    .merge(visitors_A_daily, left_on='date', right_on='date', how='left')\n",
    "    .merge(visitors_B_daily, left_on='date', right_on='date', how='left')\n",
    "    .merge(visitors_A_cummulative, left_on='date', right_on='date', how='left')\n",
    "    .merge(visitors_B_cummulative, left_on='date', right_on='date', how='left')\n",
    ")\n",
    "\n",
    "print(data.head(5))\n",
    "orders_by_users_A = (\n",
    "    orders[orders['group'] == 'A']\n",
    "    .groupby('visitor_id', as_index=False)\n",
    "    .agg({'transaction_id': pd.Series.nunique})\n",
    ")\n",
    "orders_by_users_A.columns = ['visitor_id', 'orders']\n",
    "\n",
    "orders_by_users_B = (\n",
    "    orders[orders['group'] == 'B']\n",
    "    .groupby('visitor_id', as_index=False)\n",
    "    .agg({'transaction_id': pd.Series.nunique})\n",
    ")\n",
    "orders_by_users_B.columns = ['visitor_id', 'orders'] \n",
    "sample_A = pd.concat([orders_by_users_A['orders'],pd.Series(0, index=np.arange(data['visitors_per_date_A'].sum() - len(orders_by_users_A['orders'])), name='orders')],axis=0)\n",
    "\n",
    "sample_B = pd.concat([orders_by_users_B['orders'],pd.Series(0, index=np.arange(data['visitors_per_date_B'].sum() - len(orders_by_users_B['orders'])), name='orders')],axis=0) "
   ]
  },
  {
   "cell_type": "markdown",
   "metadata": {},
   "source": [
    "Сформулируем гипотезы. Нулевая: различий в среднем количестве заказов между группами нет. Альтернативная: различия в среднем количестве заказов между группами есть."
   ]
  },
  {
   "cell_type": "code",
   "execution_count": 23,
   "metadata": {},
   "outputs": [
    {
     "name": "stdout",
     "output_type": "stream",
     "text": [
      "P-value: 0.01679\n",
      "Относительный прирост среднего группы В к конверсии группы А: 0.138\n"
     ]
    }
   ],
   "source": [
    "print('P-value:',\"{0:.5f}\".format(stats.mannwhitneyu(sample_A, sample_B)[1]))\n",
    "\n",
    "print('Относительный прирост среднего группы В к конверсии группы А:',\"{0:.3f}\".format(sample_B.mean() / sample_A.mean() - 1))"
   ]
  },
  {
   "cell_type": "markdown",
   "metadata": {},
   "source": [
    "P-value оказался меньше 0.05, поэтому нулевую гипотезу отвергаем. Анализ \"сырых данных\" сообщает, что в среднем количестве заказов между группами есть статистически значимые различия. Относительный прирост среднего группы В к конверсии группы А равен 13.8%."
   ]
  },
  {
   "cell_type": "markdown",
   "metadata": {},
   "source": [
    "### Посчитаем статистическую значимость различий в среднем чеке заказа между группами по «сырым» данным."
   ]
  },
  {
   "cell_type": "markdown",
   "metadata": {},
   "source": [
    "Сформулируем гипотезы. Нулевая: различий в среднем чеке заказа между группами нет. Альтернативная: различия в среднем чеке между группами есть."
   ]
  },
  {
   "cell_type": "code",
   "execution_count": 24,
   "metadata": {},
   "outputs": [
    {
     "name": "stdout",
     "output_type": "stream",
     "text": [
      "P-value: 0.729\n",
      "Относительный прирост средней выручки группы В к выручке группы А: 0.259\n"
     ]
    }
   ],
   "source": [
    "print('P-value:','{0:.3f}'.format(stats.mannwhitneyu(orders[orders['group']=='A']['revenue'], orders[orders['group']=='B']['revenue'])[1]))\n",
    "print('Относительный прирост средней выручки группы В к выручке группы А:','{0:.3f}'.format(orders[orders['group']=='B']['revenue'].mean()/orders[orders['group']=='A']['revenue'].mean()-1)) "
   ]
  },
  {
   "cell_type": "markdown",
   "metadata": {},
   "source": [
    "P-value в данном случае больше 0.05 - статистически значимых отличий в среднем чеке между группами нет. Кроме того, относительное различие среднего чека между сегментами 25.9%."
   ]
  },
  {
   "cell_type": "markdown",
   "metadata": {},
   "source": [
    "### Посчитаем статистическую значимость различий в среднем количестве заказов на посетителя между группами по «очищенным» данным. "
   ]
  },
  {
   "cell_type": "markdown",
   "metadata": {},
   "source": [
    "Сформулируем гипотезы. Нулевая: различий в среднем количестве заказов между группами без учета выбросов нет. Альтернативная: различия в среднем количестве заказов между группами без учета выбросов есть."
   ]
  },
  {
   "cell_type": "code",
   "execution_count": 25,
   "metadata": {},
   "outputs": [
    {
     "name": "stdout",
     "output_type": "stream",
     "text": [
      "P-value: 0.01390\n",
      "Относительный прирост среднего группы В к конверсии группы А: 0.155\n"
     ]
    }
   ],
   "source": [
    "users_with_many_orders = pd.concat(\n",
    "    [\n",
    "        orders_by_users_A[orders_by_users_A['orders'] > 3]['visitor_id'],\n",
    "        orders_by_users_B[orders_by_users_B['orders'] > 3]['visitor_id'],\n",
    "    ],\n",
    "    axis=0,\n",
    ")\n",
    "users_with_expensive_orders = orders[orders['revenue'] > 35000]['visitor_id']\n",
    "ab_normal_users = (\n",
    "    pd.concat([users_with_many_orders, users_with_expensive_orders], axis=0)\n",
    "    .drop_duplicates()\n",
    "    .sort_values()\n",
    ")\n",
    "sample_A_filtered = pd.concat(\n",
    "    [\n",
    "        orders_by_users_A[\n",
    "            np.logical_not(orders_by_users_A['visitor_id'].isin(ab_normal_users))\n",
    "        ]['orders'],\n",
    "        pd.Series(\n",
    "            0,\n",
    "            index=np.arange(\n",
    "                data['visitors_per_date_A'].sum() - len(orders_by_users_A['orders'])\n",
    "            ),\n",
    "            name='orders',\n",
    "        ),\n",
    "    ],\n",
    "    axis=0,\n",
    ")\n",
    "\n",
    "sample_B_filtered = pd.concat(\n",
    "    [\n",
    "        orders_by_users_B[\n",
    "            np.logical_not(orders_by_users_B['visitor_id'].isin(ab_normal_users))\n",
    "        ]['orders'],\n",
    "        pd.Series(\n",
    "            0,\n",
    "            index=np.arange(\n",
    "                data['visitors_per_date_B'].sum() - len(orders_by_users_B['orders'])\n",
    "            ),\n",
    "            name='orders',\n",
    "        ),\n",
    "    ],\n",
    "    axis=0,\n",
    ") \n",
    "print('P-value:','{0:.5f}'.format(stats.mannwhitneyu(sample_A_filtered, sample_B_filtered)[1]))\n",
    "print('Относительный прирост среднего группы В к конверсии группы А:','{0:.3f}'.format(sample_B_filtered.mean()/sample_A_filtered.mean()-1)) "
   ]
  },
  {
   "cell_type": "markdown",
   "metadata": {},
   "source": [
    "Как и в случае с \"сырыми данными\", статистическая значимость достигнута. Сегмент В выше сегмента А."
   ]
  },
  {
   "cell_type": "markdown",
   "metadata": {},
   "source": [
    "### Посчитаем статистическую значимость различий в среднем чеке заказа между группами по «очищенным» данным."
   ]
  },
  {
   "cell_type": "markdown",
   "metadata": {},
   "source": [
    "Сформулируем гипотезы. Нулевая: различий в среднем чеке заказа между группами без учета выбросов нет. Альтернативная: различия в среднем чеке между группами без учета выбросов есть."
   ]
  },
  {
   "cell_type": "code",
   "execution_count": 26,
   "metadata": {},
   "outputs": [
    {
     "name": "stdout",
     "output_type": "stream",
     "text": [
      "P-value: 0.874\n",
      "Относительный прирост средней выручки группы В к выручке группы А: 0.025\n"
     ]
    }
   ],
   "source": [
    "print(\n",
    "    'P-value:','{0:.3f}'.format(\n",
    "        stats.mannwhitneyu(\n",
    "            orders[\n",
    "                np.logical_and(\n",
    "                    orders['group'] == 'A',\n",
    "                    np.logical_not(orders['visitor_id'].isin(ab_normal_users)),\n",
    "                )\n",
    "            ]['revenue'],\n",
    "            orders[\n",
    "                np.logical_and(\n",
    "                    orders['group'] == 'B',\n",
    "                    np.logical_not(orders['visitor_id'].isin(ab_normal_users)),\n",
    "                )\n",
    "            ]['revenue'],\n",
    "        )[1]\n",
    "    )\n",
    ")\n",
    "\n",
    "print(\n",
    "    'Относительный прирост средней выручки группы В к выручке группы А:',\"{0:.3f}\".format(\n",
    "        orders[\n",
    "            np.logical_and(\n",
    "                orders['group'] == 'B',\n",
    "                np.logical_not(orders['visitor_id'].isin(ab_normal_users)),\n",
    "            )\n",
    "        ]['revenue'].mean()\n",
    "        / orders[\n",
    "            np.logical_and(\n",
    "                orders['group'] == 'A',\n",
    "                np.logical_not(orders['visitor_id'].isin(ab_normal_users)),\n",
    "            )\n",
    "        ]['revenue'].mean()\n",
    "        - 1\n",
    "    )\n",
    ") "
   ]
  },
  {
   "cell_type": "markdown",
   "metadata": {},
   "source": [
    "P-value также больше 0.05 - статистически значимых отличий в среднем чеке после удаления выбросов между группами нет. Однако, изменилось относительное различие среднего чека между сегментами - 2.5%."
   ]
  },
  {
   "cell_type": "markdown",
   "metadata": {},
   "source": [
    "### Примем решение по результатам теста и объясним его. Варианты решений:\n",
    "1. Остановить тест, зафиксировать победу одной из групп.\n",
    "2. Остановить тест, зафиксировать отсутствие различий между группами.\n",
    "3. Продолжить тест."
   ]
  },
  {
   "cell_type": "markdown",
   "metadata": {},
   "source": [
    "В ходе анализа получили следующие результаты:\n",
    "- График различия среднего чека колеблется, что говорит о наличии аномалий.\n",
    "- График различия конверсии между группами показал, что результаты группы B лучше группы A: имели тенденцию к росту и зафиксировались около прироста в 14% относительно группы А.\n",
    "- Есть статистически значимое различие по конверсии между группами как по сырым данным, так и после фильтрации аномалий.\n",
    "- По среднему чеку между группами и по сырым данным, и после удаления аномалий статистически значимых различий нет.\n",
    "\n",
    "Исходя из фактов выше, нам с коллегами из отдела маркетинга необходимо остановить тест и зафиксировать победу группы В."
   ]
  }
 ],
 "metadata": {
  "ExecuteTimeLog": [
   {
    "duration": 94,
    "start_time": "2023-07-24T20:11:36.315Z"
   },
   {
    "duration": 1343,
    "start_time": "2023-07-25T17:44:32.359Z"
   },
   {
    "duration": 427,
    "start_time": "2023-07-25T17:44:33.707Z"
   },
   {
    "duration": 106,
    "start_time": "2023-07-25T17:58:47.204Z"
   },
   {
    "duration": 195,
    "start_time": "2023-07-25T18:00:08.013Z"
   },
   {
    "duration": 195,
    "start_time": "2023-07-25T18:01:32.555Z"
   },
   {
    "duration": 4,
    "start_time": "2023-07-25T18:06:40.960Z"
   },
   {
    "duration": 11,
    "start_time": "2023-07-25T18:08:52.749Z"
   },
   {
    "duration": 12,
    "start_time": "2023-07-25T18:10:17.329Z"
   },
   {
    "duration": 12,
    "start_time": "2023-07-25T18:10:46.940Z"
   },
   {
    "duration": 874,
    "start_time": "2023-07-26T18:41:19.367Z"
   },
   {
    "duration": 243,
    "start_time": "2023-07-26T18:41:20.244Z"
   },
   {
    "duration": 4,
    "start_time": "2023-07-26T18:41:20.491Z"
   },
   {
    "duration": 27,
    "start_time": "2023-07-26T18:41:20.498Z"
   },
   {
    "duration": 17,
    "start_time": "2023-07-26T18:41:20.526Z"
   },
   {
    "duration": 123,
    "start_time": "2023-07-26T18:41:20.544Z"
   },
   {
    "duration": 36,
    "start_time": "2023-07-26T18:43:06.144Z"
   },
   {
    "duration": 30,
    "start_time": "2023-07-26T18:43:40.111Z"
   },
   {
    "duration": 3,
    "start_time": "2023-07-26T18:45:43.213Z"
   },
   {
    "duration": 730,
    "start_time": "2023-07-26T18:48:51.150Z"
   },
   {
    "duration": 126,
    "start_time": "2023-07-26T18:48:51.882Z"
   },
   {
    "duration": 37,
    "start_time": "2023-07-26T18:48:52.012Z"
   },
   {
    "duration": 75,
    "start_time": "2023-07-26T18:48:52.050Z"
   },
   {
    "duration": 4,
    "start_time": "2023-07-26T18:48:52.126Z"
   },
   {
    "duration": 626,
    "start_time": "2023-07-26T18:48:52.131Z"
   },
   {
    "duration": 0,
    "start_time": "2023-07-26T18:48:52.759Z"
   },
   {
    "duration": 0,
    "start_time": "2023-07-26T18:48:52.760Z"
   },
   {
    "duration": 0,
    "start_time": "2023-07-26T18:48:52.762Z"
   },
   {
    "duration": 379,
    "start_time": "2023-07-26T18:50:39.320Z"
   },
   {
    "duration": 6,
    "start_time": "2023-07-26T18:52:47.054Z"
   },
   {
    "duration": 15,
    "start_time": "2023-07-26T18:52:58.525Z"
   },
   {
    "duration": 17,
    "start_time": "2023-07-26T18:53:58.620Z"
   },
   {
    "duration": 15,
    "start_time": "2023-07-26T18:54:18.409Z"
   },
   {
    "duration": 13,
    "start_time": "2023-07-26T18:56:29.900Z"
   },
   {
    "duration": 640,
    "start_time": "2023-07-26T18:58:11.637Z"
   },
   {
    "duration": 114,
    "start_time": "2023-07-26T18:58:12.278Z"
   },
   {
    "duration": 36,
    "start_time": "2023-07-26T18:58:12.394Z"
   },
   {
    "duration": 69,
    "start_time": "2023-07-26T18:58:12.431Z"
   },
   {
    "duration": 11,
    "start_time": "2023-07-26T18:58:12.502Z"
   },
   {
    "duration": 6,
    "start_time": "2023-07-26T18:58:12.515Z"
   },
   {
    "duration": 12,
    "start_time": "2023-07-26T18:58:12.523Z"
   },
   {
    "duration": 11,
    "start_time": "2023-07-26T18:58:12.537Z"
   },
   {
    "duration": 101,
    "start_time": "2023-07-26T18:58:12.588Z"
   },
   {
    "duration": 13,
    "start_time": "2023-07-26T18:58:26.799Z"
   },
   {
    "duration": 12,
    "start_time": "2023-07-26T18:59:26.069Z"
   },
   {
    "duration": 676,
    "start_time": "2023-07-26T18:59:33.311Z"
   },
   {
    "duration": 117,
    "start_time": "2023-07-26T18:59:33.989Z"
   },
   {
    "duration": 37,
    "start_time": "2023-07-26T18:59:34.108Z"
   },
   {
    "duration": 63,
    "start_time": "2023-07-26T18:59:34.146Z"
   },
   {
    "duration": 24,
    "start_time": "2023-07-26T18:59:34.211Z"
   },
   {
    "duration": 57,
    "start_time": "2023-07-26T18:59:34.236Z"
   },
   {
    "duration": 31,
    "start_time": "2023-07-26T18:59:34.295Z"
   },
   {
    "duration": 37,
    "start_time": "2023-07-26T18:59:34.329Z"
   },
   {
    "duration": 114,
    "start_time": "2023-07-26T18:59:34.367Z"
   },
   {
    "duration": 775,
    "start_time": "2023-07-26T19:00:01.370Z"
   },
   {
    "duration": 138,
    "start_time": "2023-07-26T19:00:02.147Z"
   },
   {
    "duration": 49,
    "start_time": "2023-07-26T19:00:02.287Z"
   },
   {
    "duration": 66,
    "start_time": "2023-07-26T19:00:02.338Z"
   },
   {
    "duration": 40,
    "start_time": "2023-07-26T19:00:02.405Z"
   },
   {
    "duration": 63,
    "start_time": "2023-07-26T19:00:02.447Z"
   },
   {
    "duration": 51,
    "start_time": "2023-07-26T19:00:02.512Z"
   },
   {
    "duration": 36,
    "start_time": "2023-07-26T19:00:02.565Z"
   },
   {
    "duration": 145,
    "start_time": "2023-07-26T19:00:02.603Z"
   },
   {
    "duration": 4,
    "start_time": "2023-07-26T19:02:46.199Z"
   },
   {
    "duration": 542,
    "start_time": "2023-07-26T19:05:12.188Z"
   },
   {
    "duration": 746,
    "start_time": "2023-07-26T19:07:41.327Z"
   },
   {
    "duration": 117,
    "start_time": "2023-07-26T19:07:42.075Z"
   },
   {
    "duration": 39,
    "start_time": "2023-07-26T19:07:42.194Z"
   },
   {
    "duration": 72,
    "start_time": "2023-07-26T19:07:42.234Z"
   },
   {
    "duration": 17,
    "start_time": "2023-07-26T19:07:42.309Z"
   },
   {
    "duration": 9,
    "start_time": "2023-07-26T19:07:42.328Z"
   },
   {
    "duration": 32,
    "start_time": "2023-07-26T19:07:42.339Z"
   },
   {
    "duration": 27,
    "start_time": "2023-07-26T19:07:42.372Z"
   },
   {
    "duration": 20,
    "start_time": "2023-07-26T19:07:42.400Z"
   },
   {
    "duration": 537,
    "start_time": "2023-07-26T19:07:42.422Z"
   },
   {
    "duration": 190,
    "start_time": "2023-07-26T19:07:42.960Z"
   },
   {
    "duration": 310,
    "start_time": "2023-07-26T19:08:56.069Z"
   },
   {
    "duration": 6,
    "start_time": "2023-07-26T19:14:48.854Z"
   },
   {
    "duration": 288,
    "start_time": "2023-07-26T19:19:35.282Z"
   },
   {
    "duration": 344,
    "start_time": "2023-07-26T19:22:53.798Z"
   },
   {
    "duration": 83,
    "start_time": "2023-07-26T19:27:01.275Z"
   },
   {
    "duration": 113,
    "start_time": "2023-07-26T19:27:19.878Z"
   },
   {
    "duration": 6,
    "start_time": "2023-07-26T19:28:37.424Z"
   },
   {
    "duration": 138,
    "start_time": "2023-07-26T19:30:50.711Z"
   },
   {
    "duration": 7,
    "start_time": "2023-07-26T19:31:45.692Z"
   },
   {
    "duration": 857,
    "start_time": "2023-07-28T06:29:32.587Z"
   },
   {
    "duration": 228,
    "start_time": "2023-07-28T06:29:33.445Z"
   },
   {
    "duration": 29,
    "start_time": "2023-07-28T06:29:33.674Z"
   },
   {
    "duration": 37,
    "start_time": "2023-07-28T06:29:33.705Z"
   },
   {
    "duration": 4,
    "start_time": "2023-07-28T06:29:33.743Z"
   },
   {
    "duration": 10,
    "start_time": "2023-07-28T06:29:33.749Z"
   },
   {
    "duration": 15,
    "start_time": "2023-07-28T06:29:33.760Z"
   },
   {
    "duration": 30,
    "start_time": "2023-07-28T06:29:33.777Z"
   },
   {
    "duration": 20,
    "start_time": "2023-07-28T06:29:33.809Z"
   },
   {
    "duration": 8,
    "start_time": "2023-07-28T06:29:33.831Z"
   },
   {
    "duration": 487,
    "start_time": "2023-07-28T06:29:33.841Z"
   },
   {
    "duration": 168,
    "start_time": "2023-07-28T06:29:34.331Z"
   },
   {
    "duration": 334,
    "start_time": "2023-07-28T06:29:34.501Z"
   },
   {
    "duration": 215,
    "start_time": "2023-07-28T06:29:34.837Z"
   },
   {
    "duration": 285,
    "start_time": "2023-07-28T06:29:35.053Z"
   },
   {
    "duration": 110,
    "start_time": "2023-07-28T06:29:35.340Z"
   },
   {
    "duration": 4,
    "start_time": "2023-07-28T06:29:35.452Z"
   },
   {
    "duration": 128,
    "start_time": "2023-07-28T06:29:35.457Z"
   },
   {
    "duration": 4,
    "start_time": "2023-07-28T06:29:35.587Z"
   },
   {
    "duration": 4,
    "start_time": "2023-07-28T06:31:28.672Z"
   },
   {
    "duration": 198,
    "start_time": "2023-07-28T06:35:41.359Z"
   },
   {
    "duration": 103,
    "start_time": "2023-07-28T06:37:30.817Z"
   },
   {
    "duration": 661,
    "start_time": "2023-07-28T07:42:55.084Z"
   },
   {
    "duration": 112,
    "start_time": "2023-07-28T07:42:55.747Z"
   },
   {
    "duration": 35,
    "start_time": "2023-07-28T07:42:55.860Z"
   },
   {
    "duration": 45,
    "start_time": "2023-07-28T07:42:55.897Z"
   },
   {
    "duration": 5,
    "start_time": "2023-07-28T07:42:55.943Z"
   },
   {
    "duration": 12,
    "start_time": "2023-07-28T07:42:55.949Z"
   },
   {
    "duration": 7,
    "start_time": "2023-07-28T07:42:55.963Z"
   },
   {
    "duration": 15,
    "start_time": "2023-07-28T07:42:55.971Z"
   },
   {
    "duration": 10,
    "start_time": "2023-07-28T07:42:56.020Z"
   },
   {
    "duration": 5,
    "start_time": "2023-07-28T07:42:56.032Z"
   },
   {
    "duration": 485,
    "start_time": "2023-07-28T07:42:56.038Z"
   },
   {
    "duration": 157,
    "start_time": "2023-07-28T07:42:56.524Z"
   },
   {
    "duration": 254,
    "start_time": "2023-07-28T07:42:56.682Z"
   },
   {
    "duration": 211,
    "start_time": "2023-07-28T07:42:56.938Z"
   },
   {
    "duration": 270,
    "start_time": "2023-07-28T07:42:57.151Z"
   },
   {
    "duration": 115,
    "start_time": "2023-07-28T07:42:57.423Z"
   },
   {
    "duration": 5,
    "start_time": "2023-07-28T07:42:57.539Z"
   },
   {
    "duration": 122,
    "start_time": "2023-07-28T07:42:57.545Z"
   },
   {
    "duration": 4,
    "start_time": "2023-07-28T07:42:57.668Z"
   },
   {
    "duration": 163,
    "start_time": "2023-07-28T07:42:57.674Z"
   },
   {
    "duration": 0,
    "start_time": "2023-07-28T07:42:57.838Z"
   },
   {
    "duration": 0,
    "start_time": "2023-07-28T07:42:57.839Z"
   },
   {
    "duration": 0,
    "start_time": "2023-07-28T07:42:57.840Z"
   },
   {
    "duration": 0,
    "start_time": "2023-07-28T07:42:57.841Z"
   },
   {
    "duration": 387,
    "start_time": "2023-07-28T07:47:15.275Z"
   },
   {
    "duration": 802,
    "start_time": "2023-07-28T07:47:24.460Z"
   },
   {
    "duration": 146,
    "start_time": "2023-07-28T07:47:25.264Z"
   },
   {
    "duration": 33,
    "start_time": "2023-07-28T07:47:25.412Z"
   },
   {
    "duration": 26,
    "start_time": "2023-07-28T07:47:25.447Z"
   },
   {
    "duration": 5,
    "start_time": "2023-07-28T07:47:25.474Z"
   },
   {
    "duration": 49,
    "start_time": "2023-07-28T07:47:25.481Z"
   },
   {
    "duration": 9,
    "start_time": "2023-07-28T07:47:25.531Z"
   },
   {
    "duration": 13,
    "start_time": "2023-07-28T07:47:25.542Z"
   },
   {
    "duration": 14,
    "start_time": "2023-07-28T07:47:25.556Z"
   },
   {
    "duration": 10,
    "start_time": "2023-07-28T07:47:25.572Z"
   },
   {
    "duration": 501,
    "start_time": "2023-07-28T07:47:25.584Z"
   },
   {
    "duration": 172,
    "start_time": "2023-07-28T07:47:26.086Z"
   },
   {
    "duration": 236,
    "start_time": "2023-07-28T07:47:26.259Z"
   },
   {
    "duration": 239,
    "start_time": "2023-07-28T07:47:26.497Z"
   },
   {
    "duration": 277,
    "start_time": "2023-07-28T07:47:26.737Z"
   },
   {
    "duration": 115,
    "start_time": "2023-07-28T07:47:27.020Z"
   },
   {
    "duration": 5,
    "start_time": "2023-07-28T07:47:27.136Z"
   },
   {
    "duration": 187,
    "start_time": "2023-07-28T07:47:27.142Z"
   },
   {
    "duration": 4,
    "start_time": "2023-07-28T07:47:27.331Z"
   },
   {
    "duration": 331,
    "start_time": "2023-07-28T07:47:27.336Z"
   },
   {
    "duration": 81,
    "start_time": "2023-07-28T07:47:27.668Z"
   },
   {
    "duration": 0,
    "start_time": "2023-07-28T07:47:27.750Z"
   },
   {
    "duration": 0,
    "start_time": "2023-07-28T07:47:27.752Z"
   },
   {
    "duration": 0,
    "start_time": "2023-07-28T07:47:27.753Z"
   },
   {
    "duration": 1148,
    "start_time": "2023-07-28T07:48:13.985Z"
   },
   {
    "duration": 131,
    "start_time": "2023-07-28T07:48:15.135Z"
   },
   {
    "duration": 75,
    "start_time": "2023-07-28T07:48:15.268Z"
   },
   {
    "duration": 39,
    "start_time": "2023-07-28T07:48:15.345Z"
   },
   {
    "duration": 36,
    "start_time": "2023-07-28T07:48:15.387Z"
   },
   {
    "duration": 16,
    "start_time": "2023-07-28T07:48:15.424Z"
   },
   {
    "duration": 13,
    "start_time": "2023-07-28T07:48:15.442Z"
   },
   {
    "duration": 25,
    "start_time": "2023-07-28T07:48:15.465Z"
   },
   {
    "duration": 10,
    "start_time": "2023-07-28T07:48:15.491Z"
   },
   {
    "duration": 5,
    "start_time": "2023-07-28T07:48:15.504Z"
   },
   {
    "duration": 473,
    "start_time": "2023-07-28T07:48:15.511Z"
   },
   {
    "duration": 167,
    "start_time": "2023-07-28T07:48:15.985Z"
   },
   {
    "duration": 241,
    "start_time": "2023-07-28T07:48:16.154Z"
   },
   {
    "duration": 188,
    "start_time": "2023-07-28T07:48:16.396Z"
   },
   {
    "duration": 289,
    "start_time": "2023-07-28T07:48:16.586Z"
   },
   {
    "duration": 109,
    "start_time": "2023-07-28T07:48:16.877Z"
   },
   {
    "duration": 5,
    "start_time": "2023-07-28T07:48:16.987Z"
   },
   {
    "duration": 136,
    "start_time": "2023-07-28T07:48:16.993Z"
   },
   {
    "duration": 4,
    "start_time": "2023-07-28T07:48:17.131Z"
   },
   {
    "duration": 333,
    "start_time": "2023-07-28T07:48:17.136Z"
   },
   {
    "duration": 21,
    "start_time": "2023-07-28T07:48:17.471Z"
   },
   {
    "duration": 10,
    "start_time": "2023-07-28T07:48:17.494Z"
   },
   {
    "duration": 29,
    "start_time": "2023-07-28T07:48:17.520Z"
   },
   {
    "duration": 13,
    "start_time": "2023-07-28T07:48:17.550Z"
   },
   {
    "duration": 1109,
    "start_time": "2023-07-28T07:50:47.429Z"
   },
   {
    "duration": 113,
    "start_time": "2023-07-28T07:50:48.540Z"
   },
   {
    "duration": 31,
    "start_time": "2023-07-28T07:50:48.655Z"
   },
   {
    "duration": 52,
    "start_time": "2023-07-28T07:50:48.689Z"
   },
   {
    "duration": 4,
    "start_time": "2023-07-28T07:50:48.743Z"
   },
   {
    "duration": 14,
    "start_time": "2023-07-28T07:50:48.748Z"
   },
   {
    "duration": 6,
    "start_time": "2023-07-28T07:50:48.764Z"
   },
   {
    "duration": 18,
    "start_time": "2023-07-28T07:50:48.771Z"
   },
   {
    "duration": 37,
    "start_time": "2023-07-28T07:50:48.790Z"
   },
   {
    "duration": 12,
    "start_time": "2023-07-28T07:50:48.829Z"
   },
   {
    "duration": 501,
    "start_time": "2023-07-28T07:50:48.842Z"
   },
   {
    "duration": 171,
    "start_time": "2023-07-28T07:50:49.344Z"
   },
   {
    "duration": 267,
    "start_time": "2023-07-28T07:50:49.516Z"
   },
   {
    "duration": 173,
    "start_time": "2023-07-28T07:50:49.784Z"
   },
   {
    "duration": 275,
    "start_time": "2023-07-28T07:50:49.958Z"
   },
   {
    "duration": 121,
    "start_time": "2023-07-28T07:50:50.234Z"
   },
   {
    "duration": 5,
    "start_time": "2023-07-28T07:50:50.356Z"
   },
   {
    "duration": 131,
    "start_time": "2023-07-28T07:50:50.363Z"
   },
   {
    "duration": 3,
    "start_time": "2023-07-28T07:50:50.496Z"
   },
   {
    "duration": 323,
    "start_time": "2023-07-28T07:50:50.501Z"
   },
   {
    "duration": 20,
    "start_time": "2023-07-28T07:50:50.825Z"
   },
   {
    "duration": 24,
    "start_time": "2023-07-28T07:50:50.847Z"
   },
   {
    "duration": 32,
    "start_time": "2023-07-28T07:50:50.873Z"
   },
   {
    "duration": 21,
    "start_time": "2023-07-28T07:50:50.907Z"
   },
   {
    "duration": 1245,
    "start_time": "2023-07-30T10:44:11.660Z"
   },
   {
    "duration": 242,
    "start_time": "2023-07-30T10:44:12.907Z"
   },
   {
    "duration": 41,
    "start_time": "2023-07-30T10:44:13.150Z"
   },
   {
    "duration": 27,
    "start_time": "2023-07-30T10:44:13.193Z"
   },
   {
    "duration": 5,
    "start_time": "2023-07-30T10:44:13.222Z"
   },
   {
    "duration": 16,
    "start_time": "2023-07-30T10:44:13.228Z"
   },
   {
    "duration": 33,
    "start_time": "2023-07-30T10:44:13.246Z"
   },
   {
    "duration": 42,
    "start_time": "2023-07-30T10:44:13.281Z"
   },
   {
    "duration": 13,
    "start_time": "2023-07-30T10:44:13.325Z"
   },
   {
    "duration": 6,
    "start_time": "2023-07-30T10:44:13.339Z"
   },
   {
    "duration": 528,
    "start_time": "2023-07-30T10:44:13.346Z"
   },
   {
    "duration": 169,
    "start_time": "2023-07-30T10:44:13.876Z"
   },
   {
    "duration": 351,
    "start_time": "2023-07-30T10:44:14.046Z"
   },
   {
    "duration": 180,
    "start_time": "2023-07-30T10:44:14.399Z"
   },
   {
    "duration": 318,
    "start_time": "2023-07-30T10:44:14.581Z"
   },
   {
    "duration": 120,
    "start_time": "2023-07-30T10:44:14.901Z"
   },
   {
    "duration": 6,
    "start_time": "2023-07-30T10:44:15.022Z"
   },
   {
    "duration": 145,
    "start_time": "2023-07-30T10:44:15.029Z"
   },
   {
    "duration": 4,
    "start_time": "2023-07-30T10:44:15.176Z"
   },
   {
    "duration": 346,
    "start_time": "2023-07-30T10:44:15.181Z"
   },
   {
    "duration": 25,
    "start_time": "2023-07-30T10:44:15.529Z"
   },
   {
    "duration": 26,
    "start_time": "2023-07-30T10:44:15.555Z"
   },
   {
    "duration": 32,
    "start_time": "2023-07-30T10:44:15.583Z"
   },
   {
    "duration": 12,
    "start_time": "2023-07-30T10:44:15.617Z"
   },
   {
    "duration": 1223,
    "start_time": "2023-07-30T12:22:50.891Z"
   },
   {
    "duration": 127,
    "start_time": "2023-07-30T12:22:52.116Z"
   },
   {
    "duration": 42,
    "start_time": "2023-07-30T12:22:52.245Z"
   },
   {
    "duration": 39,
    "start_time": "2023-07-30T12:22:52.289Z"
   },
   {
    "duration": 5,
    "start_time": "2023-07-30T12:22:52.330Z"
   },
   {
    "duration": 53,
    "start_time": "2023-07-30T12:22:52.336Z"
   },
   {
    "duration": 7,
    "start_time": "2023-07-30T12:22:52.392Z"
   },
   {
    "duration": 30,
    "start_time": "2023-07-30T12:22:52.400Z"
   },
   {
    "duration": 12,
    "start_time": "2023-07-30T12:22:52.431Z"
   },
   {
    "duration": 602,
    "start_time": "2023-07-30T12:22:52.445Z"
   },
   {
    "duration": 187,
    "start_time": "2023-07-30T12:22:53.048Z"
   },
   {
    "duration": 359,
    "start_time": "2023-07-30T12:22:53.236Z"
   },
   {
    "duration": 223,
    "start_time": "2023-07-30T12:22:53.597Z"
   },
   {
    "duration": 326,
    "start_time": "2023-07-30T12:22:53.823Z"
   },
   {
    "duration": 140,
    "start_time": "2023-07-30T12:22:54.151Z"
   },
   {
    "duration": 7,
    "start_time": "2023-07-30T12:22:54.293Z"
   },
   {
    "duration": 148,
    "start_time": "2023-07-30T12:22:54.301Z"
   },
   {
    "duration": 4,
    "start_time": "2023-07-30T12:22:54.450Z"
   },
   {
    "duration": 386,
    "start_time": "2023-07-30T12:22:54.455Z"
   },
   {
    "duration": 32,
    "start_time": "2023-07-30T12:22:54.844Z"
   },
   {
    "duration": 16,
    "start_time": "2023-07-30T12:22:54.883Z"
   },
   {
    "duration": 32,
    "start_time": "2023-07-30T12:22:54.901Z"
   },
   {
    "duration": 14,
    "start_time": "2023-07-30T12:22:54.936Z"
   },
   {
    "duration": 1134,
    "start_time": "2023-07-30T12:39:34.342Z"
   },
   {
    "duration": 77,
    "start_time": "2023-07-30T12:39:35.479Z"
   },
   {
    "duration": 49,
    "start_time": "2023-07-30T12:39:35.558Z"
   },
   {
    "duration": 40,
    "start_time": "2023-07-30T12:39:35.609Z"
   },
   {
    "duration": 31,
    "start_time": "2023-07-30T12:39:35.676Z"
   },
   {
    "duration": 5,
    "start_time": "2023-07-30T12:39:35.708Z"
   },
   {
    "duration": 30,
    "start_time": "2023-07-30T12:39:35.715Z"
   },
   {
    "duration": 27,
    "start_time": "2023-07-30T12:39:35.747Z"
   },
   {
    "duration": 29,
    "start_time": "2023-07-30T12:39:35.776Z"
   },
   {
    "duration": 33,
    "start_time": "2023-07-30T12:39:35.807Z"
   },
   {
    "duration": 540,
    "start_time": "2023-07-30T12:39:35.842Z"
   },
   {
    "duration": 193,
    "start_time": "2023-07-30T12:39:36.384Z"
   },
   {
    "duration": 305,
    "start_time": "2023-07-30T12:39:36.579Z"
   },
   {
    "duration": 204,
    "start_time": "2023-07-30T12:39:36.887Z"
   },
   {
    "duration": 307,
    "start_time": "2023-07-30T12:39:37.092Z"
   },
   {
    "duration": 129,
    "start_time": "2023-07-30T12:39:37.401Z"
   },
   {
    "duration": 4,
    "start_time": "2023-07-30T12:39:37.532Z"
   },
   {
    "duration": 159,
    "start_time": "2023-07-30T12:39:37.538Z"
   },
   {
    "duration": 4,
    "start_time": "2023-07-30T12:39:37.699Z"
   },
   {
    "duration": 340,
    "start_time": "2023-07-30T12:39:37.705Z"
   },
   {
    "duration": 34,
    "start_time": "2023-07-30T12:39:38.048Z"
   },
   {
    "duration": 11,
    "start_time": "2023-07-30T12:39:38.084Z"
   },
   {
    "duration": 39,
    "start_time": "2023-07-30T12:39:38.096Z"
   },
   {
    "duration": 40,
    "start_time": "2023-07-30T12:39:38.137Z"
   },
   {
    "duration": 95,
    "start_time": "2023-07-30T13:08:41.278Z"
   },
   {
    "duration": 3,
    "start_time": "2023-07-30T13:13:12.842Z"
   },
   {
    "duration": 9,
    "start_time": "2023-07-30T13:13:14.772Z"
   },
   {
    "duration": 10,
    "start_time": "2023-07-30T13:26:32.605Z"
   },
   {
    "duration": 102,
    "start_time": "2023-07-30T13:27:47.845Z"
   },
   {
    "duration": 1176,
    "start_time": "2023-07-30T13:28:02.649Z"
   },
   {
    "duration": 87,
    "start_time": "2023-07-30T13:28:03.828Z"
   },
   {
    "duration": 49,
    "start_time": "2023-07-30T13:28:03.917Z"
   },
   {
    "duration": 49,
    "start_time": "2023-07-30T13:28:03.968Z"
   },
   {
    "duration": 59,
    "start_time": "2023-07-30T13:28:04.019Z"
   },
   {
    "duration": 9,
    "start_time": "2023-07-30T13:28:04.082Z"
   },
   {
    "duration": 14,
    "start_time": "2023-07-30T13:28:04.093Z"
   },
   {
    "duration": 13,
    "start_time": "2023-07-30T13:28:04.109Z"
   },
   {
    "duration": 12,
    "start_time": "2023-07-30T13:28:04.124Z"
   },
   {
    "duration": 18,
    "start_time": "2023-07-30T13:28:04.138Z"
   },
   {
    "duration": 565,
    "start_time": "2023-07-30T13:28:04.175Z"
   },
   {
    "duration": 174,
    "start_time": "2023-07-30T13:28:04.742Z"
   },
   {
    "duration": 271,
    "start_time": "2023-07-30T13:28:04.918Z"
   },
   {
    "duration": 193,
    "start_time": "2023-07-30T13:28:05.192Z"
   },
   {
    "duration": 314,
    "start_time": "2023-07-30T13:28:05.388Z"
   },
   {
    "duration": 132,
    "start_time": "2023-07-30T13:28:05.703Z"
   },
   {
    "duration": 6,
    "start_time": "2023-07-30T13:28:05.837Z"
   },
   {
    "duration": 168,
    "start_time": "2023-07-30T13:28:05.844Z"
   },
   {
    "duration": 4,
    "start_time": "2023-07-30T13:28:06.013Z"
   },
   {
    "duration": 387,
    "start_time": "2023-07-30T13:28:06.019Z"
   },
   {
    "duration": 24,
    "start_time": "2023-07-30T13:28:06.408Z"
   },
   {
    "duration": 10,
    "start_time": "2023-07-30T13:28:06.434Z"
   },
   {
    "duration": 57,
    "start_time": "2023-07-30T13:28:06.446Z"
   },
   {
    "duration": 12,
    "start_time": "2023-07-30T13:28:06.506Z"
   },
   {
    "duration": 487,
    "start_time": "2023-07-30T14:08:27.415Z"
   },
   {
    "duration": 603,
    "start_time": "2023-07-30T14:09:00.311Z"
   },
   {
    "duration": 215,
    "start_time": "2023-07-30T14:10:53.570Z"
   },
   {
    "duration": 328,
    "start_time": "2023-07-30T14:12:31.574Z"
   },
   {
    "duration": 324,
    "start_time": "2023-07-30T14:12:54.875Z"
   },
   {
    "duration": 236,
    "start_time": "2023-07-30T14:14:36.850Z"
   },
   {
    "duration": 220,
    "start_time": "2023-07-30T14:14:52.870Z"
   },
   {
    "duration": 254,
    "start_time": "2023-07-30T14:14:59.050Z"
   },
   {
    "duration": 242,
    "start_time": "2023-07-30T14:15:06.362Z"
   },
   {
    "duration": 250,
    "start_time": "2023-07-30T14:15:10.305Z"
   },
   {
    "duration": 376,
    "start_time": "2023-07-30T14:19:50.562Z"
   },
   {
    "duration": 330,
    "start_time": "2023-07-30T14:20:25.286Z"
   },
   {
    "duration": 404,
    "start_time": "2023-07-30T14:21:02.214Z"
   },
   {
    "duration": 315,
    "start_time": "2023-07-30T14:21:10.885Z"
   },
   {
    "duration": 320,
    "start_time": "2023-07-30T14:21:27.974Z"
   },
   {
    "duration": 148,
    "start_time": "2023-07-30T14:22:03.995Z"
   },
   {
    "duration": 142,
    "start_time": "2023-07-30T14:22:54.103Z"
   },
   {
    "duration": 171,
    "start_time": "2023-07-30T14:24:47.490Z"
   },
   {
    "duration": 143,
    "start_time": "2023-07-30T14:37:56.559Z"
   },
   {
    "duration": 4,
    "start_time": "2023-07-30T14:44:24.651Z"
   },
   {
    "duration": 54,
    "start_time": "2023-07-31T17:42:44.578Z"
   },
   {
    "duration": 1558,
    "start_time": "2023-07-31T17:42:55.698Z"
   },
   {
    "duration": 338,
    "start_time": "2023-07-31T17:42:57.259Z"
   },
   {
    "duration": 85,
    "start_time": "2023-07-31T17:42:57.599Z"
   },
   {
    "duration": 58,
    "start_time": "2023-07-31T17:42:57.687Z"
   },
   {
    "duration": 64,
    "start_time": "2023-07-31T17:42:57.748Z"
   },
   {
    "duration": 6,
    "start_time": "2023-07-31T17:42:57.814Z"
   },
   {
    "duration": 19,
    "start_time": "2023-07-31T17:42:57.822Z"
   },
   {
    "duration": 35,
    "start_time": "2023-07-31T17:42:57.844Z"
   },
   {
    "duration": 20,
    "start_time": "2023-07-31T17:42:57.885Z"
   },
   {
    "duration": 25,
    "start_time": "2023-07-31T17:42:57.907Z"
   },
   {
    "duration": 779,
    "start_time": "2023-07-31T17:42:57.934Z"
   },
   {
    "duration": 337,
    "start_time": "2023-07-31T17:42:58.715Z"
   },
   {
    "duration": 383,
    "start_time": "2023-07-31T17:42:59.054Z"
   },
   {
    "duration": 282,
    "start_time": "2023-07-31T17:42:59.440Z"
   },
   {
    "duration": 337,
    "start_time": "2023-07-31T17:42:59.724Z"
   },
   {
    "duration": 190,
    "start_time": "2023-07-31T17:43:00.063Z"
   },
   {
    "duration": 5,
    "start_time": "2023-07-31T17:43:00.255Z"
   },
   {
    "duration": 196,
    "start_time": "2023-07-31T17:43:00.273Z"
   },
   {
    "duration": 173,
    "start_time": "2023-07-31T17:43:00.476Z"
   },
   {
    "duration": 5,
    "start_time": "2023-07-31T17:43:00.652Z"
   },
   {
    "duration": 517,
    "start_time": "2023-07-31T17:43:00.671Z"
   },
   {
    "duration": 28,
    "start_time": "2023-07-31T17:43:01.190Z"
   },
   {
    "duration": 36,
    "start_time": "2023-07-31T17:43:01.221Z"
   },
   {
    "duration": 82,
    "start_time": "2023-07-31T17:43:01.259Z"
   },
   {
    "duration": 78,
    "start_time": "2023-07-31T17:43:01.344Z"
   },
   {
    "duration": 425,
    "start_time": "2023-07-31T17:52:07.744Z"
   },
   {
    "duration": 306,
    "start_time": "2023-07-31T18:12:18.506Z"
   },
   {
    "duration": 306,
    "start_time": "2023-07-31T18:34:03.320Z"
   },
   {
    "duration": 344,
    "start_time": "2023-07-31T18:34:10.909Z"
   },
   {
    "duration": 346,
    "start_time": "2023-07-31T18:34:15.259Z"
   },
   {
    "duration": 1223,
    "start_time": "2023-07-31T19:05:54.495Z"
   },
   {
    "duration": 94,
    "start_time": "2023-07-31T19:05:55.720Z"
   },
   {
    "duration": 50,
    "start_time": "2023-07-31T19:05:55.816Z"
   },
   {
    "duration": 49,
    "start_time": "2023-07-31T19:05:55.868Z"
   },
   {
    "duration": 62,
    "start_time": "2023-07-31T19:05:55.920Z"
   },
   {
    "duration": 5,
    "start_time": "2023-07-31T19:05:55.984Z"
   },
   {
    "duration": 19,
    "start_time": "2023-07-31T19:05:55.991Z"
   },
   {
    "duration": 27,
    "start_time": "2023-07-31T19:05:56.012Z"
   },
   {
    "duration": 17,
    "start_time": "2023-07-31T19:05:56.040Z"
   },
   {
    "duration": 20,
    "start_time": "2023-07-31T19:05:56.059Z"
   },
   {
    "duration": 729,
    "start_time": "2023-07-31T19:05:56.082Z"
   },
   {
    "duration": 220,
    "start_time": "2023-07-31T19:05:56.814Z"
   },
   {
    "duration": 359,
    "start_time": "2023-07-31T19:05:57.036Z"
   },
   {
    "duration": 265,
    "start_time": "2023-07-31T19:05:57.399Z"
   },
   {
    "duration": 332,
    "start_time": "2023-07-31T19:05:57.666Z"
   },
   {
    "duration": 152,
    "start_time": "2023-07-31T19:05:57.999Z"
   },
   {
    "duration": 4,
    "start_time": "2023-07-31T19:05:58.153Z"
   },
   {
    "duration": 187,
    "start_time": "2023-07-31T19:05:58.171Z"
   },
   {
    "duration": 179,
    "start_time": "2023-07-31T19:05:58.360Z"
   },
   {
    "duration": 4,
    "start_time": "2023-07-31T19:05:58.541Z"
   },
   {
    "duration": 419,
    "start_time": "2023-07-31T19:05:58.547Z"
   },
   {
    "duration": 38,
    "start_time": "2023-07-31T19:05:58.972Z"
   },
   {
    "duration": 25,
    "start_time": "2023-07-31T19:05:59.012Z"
   },
   {
    "duration": 55,
    "start_time": "2023-07-31T19:05:59.039Z"
   },
   {
    "duration": 13,
    "start_time": "2023-07-31T19:05:59.097Z"
   },
   {
    "duration": 18,
    "start_time": "2023-07-31T19:15:03.588Z"
   },
   {
    "duration": 1132,
    "start_time": "2023-07-31T19:40:43.248Z"
   },
   {
    "duration": 79,
    "start_time": "2023-07-31T19:40:44.382Z"
   },
   {
    "duration": 60,
    "start_time": "2023-07-31T19:40:44.463Z"
   },
   {
    "duration": 60,
    "start_time": "2023-07-31T19:40:44.525Z"
   },
   {
    "duration": 37,
    "start_time": "2023-07-31T19:40:44.589Z"
   },
   {
    "duration": 4,
    "start_time": "2023-07-31T19:40:44.627Z"
   },
   {
    "duration": 80,
    "start_time": "2023-07-31T19:40:44.632Z"
   },
   {
    "duration": 16,
    "start_time": "2023-07-31T19:40:44.713Z"
   },
   {
    "duration": 12,
    "start_time": "2023-07-31T19:40:44.730Z"
   },
   {
    "duration": 59,
    "start_time": "2023-07-31T19:40:44.743Z"
   },
   {
    "duration": 574,
    "start_time": "2023-07-31T19:40:44.805Z"
   },
   {
    "duration": 219,
    "start_time": "2023-07-31T19:40:45.380Z"
   },
   {
    "duration": 318,
    "start_time": "2023-07-31T19:40:45.601Z"
   },
   {
    "duration": 231,
    "start_time": "2023-07-31T19:40:45.922Z"
   },
   {
    "duration": 350,
    "start_time": "2023-07-31T19:40:46.154Z"
   },
   {
    "duration": 191,
    "start_time": "2023-07-31T19:40:46.506Z"
   },
   {
    "duration": 6,
    "start_time": "2023-07-31T19:40:46.699Z"
   },
   {
    "duration": 202,
    "start_time": "2023-07-31T19:40:46.706Z"
   },
   {
    "duration": 158,
    "start_time": "2023-07-31T19:40:46.910Z"
   },
   {
    "duration": 7,
    "start_time": "2023-07-31T19:40:47.070Z"
   },
   {
    "duration": 366,
    "start_time": "2023-07-31T19:40:47.078Z"
   },
   {
    "duration": 37,
    "start_time": "2023-07-31T19:40:47.446Z"
   },
   {
    "duration": 13,
    "start_time": "2023-07-31T19:40:47.484Z"
   },
   {
    "duration": 34,
    "start_time": "2023-07-31T19:40:47.499Z"
   },
   {
    "duration": 38,
    "start_time": "2023-07-31T19:40:47.535Z"
   },
   {
    "duration": 15,
    "start_time": "2023-07-31T19:47:45.994Z"
   },
   {
    "duration": 12,
    "start_time": "2023-07-31T19:47:47.510Z"
   },
   {
    "duration": 242,
    "start_time": "2023-07-31T19:55:27.343Z"
   },
   {
    "duration": 192,
    "start_time": "2023-07-31T19:55:39.997Z"
   },
   {
    "duration": 154,
    "start_time": "2023-07-31T19:55:51.184Z"
   },
   {
    "duration": 347,
    "start_time": "2023-07-31T19:56:08.469Z"
   },
   {
    "duration": 322,
    "start_time": "2023-07-31T19:56:32.274Z"
   },
   {
    "duration": 313,
    "start_time": "2023-07-31T19:56:48.118Z"
   },
   {
    "duration": 220,
    "start_time": "2023-07-31T19:56:56.893Z"
   },
   {
    "duration": 521,
    "start_time": "2023-07-31T19:57:02.667Z"
   },
   {
    "duration": 1230,
    "start_time": "2023-07-31T19:57:26.643Z"
   },
   {
    "duration": 80,
    "start_time": "2023-07-31T19:57:27.876Z"
   },
   {
    "duration": 58,
    "start_time": "2023-07-31T19:57:27.962Z"
   },
   {
    "duration": 59,
    "start_time": "2023-07-31T19:57:28.022Z"
   },
   {
    "duration": 33,
    "start_time": "2023-07-31T19:57:28.088Z"
   },
   {
    "duration": 5,
    "start_time": "2023-07-31T19:57:28.122Z"
   },
   {
    "duration": 17,
    "start_time": "2023-07-31T19:57:28.129Z"
   },
   {
    "duration": 24,
    "start_time": "2023-07-31T19:57:28.173Z"
   },
   {
    "duration": 12,
    "start_time": "2023-07-31T19:57:28.200Z"
   },
   {
    "duration": 23,
    "start_time": "2023-07-31T19:57:28.214Z"
   },
   {
    "duration": 705,
    "start_time": "2023-07-31T19:57:28.239Z"
   },
   {
    "duration": 244,
    "start_time": "2023-07-31T19:57:28.946Z"
   },
   {
    "duration": 327,
    "start_time": "2023-07-31T19:57:29.194Z"
   },
   {
    "duration": 269,
    "start_time": "2023-07-31T19:57:29.523Z"
   },
   {
    "duration": 344,
    "start_time": "2023-07-31T19:57:29.794Z"
   },
   {
    "duration": 174,
    "start_time": "2023-07-31T19:57:30.140Z"
   },
   {
    "duration": 5,
    "start_time": "2023-07-31T19:57:30.315Z"
   },
   {
    "duration": 208,
    "start_time": "2023-07-31T19:57:30.322Z"
   },
   {
    "duration": 181,
    "start_time": "2023-07-31T19:57:30.532Z"
   },
   {
    "duration": 5,
    "start_time": "2023-07-31T19:57:30.715Z"
   },
   {
    "duration": 421,
    "start_time": "2023-07-31T19:57:30.722Z"
   },
   {
    "duration": 40,
    "start_time": "2023-07-31T19:57:31.145Z"
   },
   {
    "duration": 22,
    "start_time": "2023-07-31T19:57:31.187Z"
   },
   {
    "duration": 70,
    "start_time": "2023-07-31T19:57:31.211Z"
   },
   {
    "duration": 47,
    "start_time": "2023-07-31T19:57:31.283Z"
   },
   {
    "duration": 84,
    "start_time": "2023-08-01T18:01:10.907Z"
   },
   {
    "duration": 1341,
    "start_time": "2023-08-01T18:01:16.856Z"
   },
   {
    "duration": 244,
    "start_time": "2023-08-01T18:01:18.199Z"
   },
   {
    "duration": 50,
    "start_time": "2023-08-01T18:01:18.445Z"
   },
   {
    "duration": 78,
    "start_time": "2023-08-01T18:01:18.497Z"
   },
   {
    "duration": 38,
    "start_time": "2023-08-01T18:01:18.577Z"
   },
   {
    "duration": 5,
    "start_time": "2023-08-01T18:01:18.617Z"
   },
   {
    "duration": 46,
    "start_time": "2023-08-01T18:01:18.624Z"
   },
   {
    "duration": 69,
    "start_time": "2023-08-01T18:01:18.672Z"
   },
   {
    "duration": 0,
    "start_time": "2023-08-01T18:01:18.743Z"
   },
   {
    "duration": 0,
    "start_time": "2023-08-01T18:01:18.745Z"
   },
   {
    "duration": 0,
    "start_time": "2023-08-01T18:01:18.746Z"
   },
   {
    "duration": 0,
    "start_time": "2023-08-01T18:01:18.747Z"
   },
   {
    "duration": 0,
    "start_time": "2023-08-01T18:01:18.748Z"
   },
   {
    "duration": 0,
    "start_time": "2023-08-01T18:01:18.749Z"
   },
   {
    "duration": 0,
    "start_time": "2023-08-01T18:01:18.751Z"
   },
   {
    "duration": 0,
    "start_time": "2023-08-01T18:01:18.752Z"
   },
   {
    "duration": 0,
    "start_time": "2023-08-01T18:01:18.754Z"
   },
   {
    "duration": 0,
    "start_time": "2023-08-01T18:01:18.755Z"
   },
   {
    "duration": 0,
    "start_time": "2023-08-01T18:01:18.757Z"
   },
   {
    "duration": 0,
    "start_time": "2023-08-01T18:01:18.758Z"
   },
   {
    "duration": 0,
    "start_time": "2023-08-01T18:01:18.759Z"
   },
   {
    "duration": 0,
    "start_time": "2023-08-01T18:01:18.761Z"
   },
   {
    "duration": 0,
    "start_time": "2023-08-01T18:01:18.762Z"
   },
   {
    "duration": 0,
    "start_time": "2023-08-01T18:01:18.764Z"
   },
   {
    "duration": 0,
    "start_time": "2023-08-01T18:01:18.765Z"
   },
   {
    "duration": 12,
    "start_time": "2023-08-01T18:01:59.517Z"
   },
   {
    "duration": 11,
    "start_time": "2023-08-01T18:03:09.027Z"
   },
   {
    "duration": 1264,
    "start_time": "2023-08-01T18:08:17.900Z"
   },
   {
    "duration": 83,
    "start_time": "2023-08-01T18:08:19.167Z"
   },
   {
    "duration": 56,
    "start_time": "2023-08-01T18:08:19.252Z"
   },
   {
    "duration": 72,
    "start_time": "2023-08-01T18:08:19.310Z"
   },
   {
    "duration": 35,
    "start_time": "2023-08-01T18:08:19.384Z"
   },
   {
    "duration": 4,
    "start_time": "2023-08-01T18:08:19.421Z"
   },
   {
    "duration": 47,
    "start_time": "2023-08-01T18:08:19.427Z"
   },
   {
    "duration": 25,
    "start_time": "2023-08-01T18:08:19.476Z"
   },
   {
    "duration": 12,
    "start_time": "2023-08-01T18:08:19.502Z"
   },
   {
    "duration": 16,
    "start_time": "2023-08-01T18:08:19.516Z"
   },
   {
    "duration": 712,
    "start_time": "2023-08-01T18:08:19.534Z"
   },
   {
    "duration": 253,
    "start_time": "2023-08-01T18:08:20.249Z"
   },
   {
    "duration": 325,
    "start_time": "2023-08-01T18:08:20.504Z"
   },
   {
    "duration": 285,
    "start_time": "2023-08-01T18:08:20.831Z"
   },
   {
    "duration": 331,
    "start_time": "2023-08-01T18:08:21.118Z"
   },
   {
    "duration": 184,
    "start_time": "2023-08-01T18:08:21.451Z"
   },
   {
    "duration": 4,
    "start_time": "2023-08-01T18:08:21.637Z"
   },
   {
    "duration": 203,
    "start_time": "2023-08-01T18:08:21.644Z"
   },
   {
    "duration": 186,
    "start_time": "2023-08-01T18:08:21.849Z"
   },
   {
    "duration": 6,
    "start_time": "2023-08-01T18:08:22.037Z"
   },
   {
    "duration": 425,
    "start_time": "2023-08-01T18:08:22.045Z"
   },
   {
    "duration": 27,
    "start_time": "2023-08-01T18:08:22.472Z"
   },
   {
    "duration": 14,
    "start_time": "2023-08-01T18:08:22.501Z"
   },
   {
    "duration": 67,
    "start_time": "2023-08-01T18:08:22.517Z"
   },
   {
    "duration": 15,
    "start_time": "2023-08-01T18:08:22.585Z"
   },
   {
    "duration": 13,
    "start_time": "2023-08-01T18:21:41.853Z"
   },
   {
    "duration": 13,
    "start_time": "2023-08-01T18:25:11.410Z"
   },
   {
    "duration": 123,
    "start_time": "2023-08-01T18:26:05.122Z"
   },
   {
    "duration": 11,
    "start_time": "2023-08-01T18:26:37.689Z"
   },
   {
    "duration": 23,
    "start_time": "2023-08-01T18:26:53.960Z"
   },
   {
    "duration": 13,
    "start_time": "2023-08-01T18:27:13.361Z"
   },
   {
    "duration": 14,
    "start_time": "2023-08-01T18:28:35.564Z"
   },
   {
    "duration": 13,
    "start_time": "2023-08-01T18:28:41.935Z"
   },
   {
    "duration": 11,
    "start_time": "2023-08-01T18:29:27.657Z"
   },
   {
    "duration": 77,
    "start_time": "2023-08-01T18:29:55.484Z"
   },
   {
    "duration": 14,
    "start_time": "2023-08-01T18:30:08.542Z"
   },
   {
    "duration": 13,
    "start_time": "2023-08-01T18:30:33.682Z"
   },
   {
    "duration": 83,
    "start_time": "2023-08-01T18:30:52.026Z"
   },
   {
    "duration": 63,
    "start_time": "2023-08-01T18:30:57.918Z"
   },
   {
    "duration": 14,
    "start_time": "2023-08-01T18:31:01.967Z"
   },
   {
    "duration": 12,
    "start_time": "2023-08-01T18:31:20.606Z"
   },
   {
    "duration": 22,
    "start_time": "2023-08-01T18:40:24.584Z"
   },
   {
    "duration": 29,
    "start_time": "2023-08-01T18:41:26.550Z"
   },
   {
    "duration": 15,
    "start_time": "2023-08-01T18:42:44.445Z"
   },
   {
    "duration": 17,
    "start_time": "2023-08-01T18:44:10.262Z"
   },
   {
    "duration": 46,
    "start_time": "2023-08-01T18:48:01.387Z"
   },
   {
    "duration": 1248,
    "start_time": "2023-08-01T18:48:08.460Z"
   },
   {
    "duration": 88,
    "start_time": "2023-08-01T18:48:09.711Z"
   },
   {
    "duration": 52,
    "start_time": "2023-08-01T18:48:09.802Z"
   },
   {
    "duration": 58,
    "start_time": "2023-08-01T18:48:09.857Z"
   },
   {
    "duration": 59,
    "start_time": "2023-08-01T18:48:09.917Z"
   },
   {
    "duration": 5,
    "start_time": "2023-08-01T18:48:09.983Z"
   },
   {
    "duration": 18,
    "start_time": "2023-08-01T18:48:09.990Z"
   },
   {
    "duration": 103,
    "start_time": "2023-08-01T18:48:10.010Z"
   },
   {
    "duration": 142,
    "start_time": "2023-08-01T18:48:10.115Z"
   },
   {
    "duration": 69,
    "start_time": "2023-08-01T18:48:10.260Z"
   },
   {
    "duration": 48,
    "start_time": "2023-08-01T18:48:10.331Z"
   },
   {
    "duration": 627,
    "start_time": "2023-08-01T18:48:10.386Z"
   },
   {
    "duration": 241,
    "start_time": "2023-08-01T18:48:11.016Z"
   },
   {
    "duration": 345,
    "start_time": "2023-08-01T18:48:11.259Z"
   },
   {
    "duration": 270,
    "start_time": "2023-08-01T18:48:11.606Z"
   },
   {
    "duration": 342,
    "start_time": "2023-08-01T18:48:11.884Z"
   },
   {
    "duration": 189,
    "start_time": "2023-08-01T18:48:12.228Z"
   },
   {
    "duration": 5,
    "start_time": "2023-08-01T18:48:12.419Z"
   },
   {
    "duration": 196,
    "start_time": "2023-08-01T18:48:12.425Z"
   },
   {
    "duration": 184,
    "start_time": "2023-08-01T18:48:12.623Z"
   },
   {
    "duration": 5,
    "start_time": "2023-08-01T18:48:12.809Z"
   },
   {
    "duration": 406,
    "start_time": "2023-08-01T18:48:12.816Z"
   },
   {
    "duration": 32,
    "start_time": "2023-08-01T18:48:13.225Z"
   },
   {
    "duration": 16,
    "start_time": "2023-08-01T18:48:13.270Z"
   },
   {
    "duration": 33,
    "start_time": "2023-08-01T18:48:13.288Z"
   },
   {
    "duration": 48,
    "start_time": "2023-08-01T18:48:13.323Z"
   },
   {
    "duration": 11,
    "start_time": "2023-08-01T18:55:50.382Z"
   },
   {
    "duration": 120,
    "start_time": "2023-08-01T19:04:30.073Z"
   },
   {
    "duration": 38,
    "start_time": "2023-08-01T19:05:39.556Z"
   },
   {
    "duration": 44,
    "start_time": "2023-08-01T19:06:36.393Z"
   },
   {
    "duration": 48,
    "start_time": "2023-08-01T19:12:30.315Z"
   },
   {
    "duration": 36,
    "start_time": "2023-08-01T19:13:13.642Z"
   },
   {
    "duration": 8,
    "start_time": "2023-08-01T19:14:00.585Z"
   },
   {
    "duration": 7,
    "start_time": "2023-08-01T19:14:46.619Z"
   },
   {
    "duration": 75,
    "start_time": "2023-08-01T19:14:58.593Z"
   },
   {
    "duration": 72,
    "start_time": "2023-08-01T19:15:09.009Z"
   },
   {
    "duration": 79,
    "start_time": "2023-08-01T19:15:20.533Z"
   },
   {
    "duration": 7,
    "start_time": "2023-08-01T19:16:34.713Z"
   },
   {
    "duration": 32,
    "start_time": "2023-08-01T19:17:48.105Z"
   },
   {
    "duration": 84,
    "start_time": "2023-08-01T19:19:47.412Z"
   },
   {
    "duration": 73,
    "start_time": "2023-08-01T19:20:41.684Z"
   },
   {
    "duration": 1215,
    "start_time": "2023-08-01T19:26:45.299Z"
   },
   {
    "duration": 83,
    "start_time": "2023-08-01T19:26:46.516Z"
   },
   {
    "duration": 47,
    "start_time": "2023-08-01T19:26:46.601Z"
   },
   {
    "duration": 43,
    "start_time": "2023-08-01T19:26:46.650Z"
   },
   {
    "duration": 28,
    "start_time": "2023-08-01T19:26:46.695Z"
   },
   {
    "duration": 4,
    "start_time": "2023-08-01T19:26:46.725Z"
   },
   {
    "duration": 44,
    "start_time": "2023-08-01T19:26:46.730Z"
   },
   {
    "duration": 15,
    "start_time": "2023-08-01T19:26:46.778Z"
   },
   {
    "duration": 12,
    "start_time": "2023-08-01T19:26:46.794Z"
   },
   {
    "duration": 11,
    "start_time": "2023-08-01T19:26:46.809Z"
   },
   {
    "duration": 11,
    "start_time": "2023-08-01T19:26:46.822Z"
   },
   {
    "duration": 673,
    "start_time": "2023-08-01T19:26:46.834Z"
   },
   {
    "duration": 241,
    "start_time": "2023-08-01T19:26:47.509Z"
   },
   {
    "duration": 335,
    "start_time": "2023-08-01T19:26:47.751Z"
   },
   {
    "duration": 260,
    "start_time": "2023-08-01T19:26:48.088Z"
   },
   {
    "duration": 348,
    "start_time": "2023-08-01T19:26:48.350Z"
   },
   {
    "duration": 182,
    "start_time": "2023-08-01T19:26:48.700Z"
   },
   {
    "duration": 5,
    "start_time": "2023-08-01T19:26:48.885Z"
   },
   {
    "duration": 193,
    "start_time": "2023-08-01T19:26:48.892Z"
   },
   {
    "duration": 180,
    "start_time": "2023-08-01T19:26:49.087Z"
   },
   {
    "duration": 6,
    "start_time": "2023-08-01T19:26:49.268Z"
   },
   {
    "duration": 372,
    "start_time": "2023-08-01T19:26:49.277Z"
   },
   {
    "duration": 36,
    "start_time": "2023-08-01T19:26:49.651Z"
   },
   {
    "duration": 11,
    "start_time": "2023-08-01T19:26:49.689Z"
   },
   {
    "duration": 52,
    "start_time": "2023-08-01T19:26:49.701Z"
   },
   {
    "duration": 21,
    "start_time": "2023-08-01T19:26:49.755Z"
   }
  ],
  "kernelspec": {
   "display_name": "Python 3 (ipykernel)",
   "language": "python",
   "name": "python3"
  },
  "language_info": {
   "codemirror_mode": {
    "name": "ipython",
    "version": 3
   },
   "file_extension": ".py",
   "mimetype": "text/x-python",
   "name": "python",
   "nbconvert_exporter": "python",
   "pygments_lexer": "ipython3",
   "version": "3.11.5"
  },
  "toc": {
   "base_numbering": 1,
   "nav_menu": {},
   "number_sections": true,
   "sideBar": true,
   "skip_h1_title": true,
   "title_cell": "Table of Contents",
   "title_sidebar": "Contents",
   "toc_cell": false,
   "toc_position": {},
   "toc_section_display": true,
   "toc_window_display": false
  }
 },
 "nbformat": 4,
 "nbformat_minor": 4
}
