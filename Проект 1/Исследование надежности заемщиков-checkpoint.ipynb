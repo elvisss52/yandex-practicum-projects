{
 "cells": [
  {
   "cell_type": "markdown",
   "id": "386f2ae7",
   "metadata": {
    "deletable": false,
    "editable": false,
    "id": "386f2ae7"
   },
   "source": [
    "# Исследование надежности заемщиков\n"
   ]
  },
  {
   "cell_type": "markdown",
   "id": "ffe86f65",
   "metadata": {
    "deletable": false,
    "editable": false,
    "id": "ffe86f65"
   },
   "source": [
    "Во второй части проекта вы выполните шаги 3 и 4. Их вручную проверит ревьюер.\n",
    "Чтобы вам не пришлось писать код заново для шагов 1 и 2, мы добавили авторские решения в ячейки с кодом. \n",
    "\n"
   ]
  },
  {
   "cell_type": "markdown",
   "id": "00dc755b",
   "metadata": {},
   "source": [
    "**Цели исследования:** \n",
    "- определить, как влияет семейное положение и количество детей клиента на факт погашения кредита в срок;\n",
    "- рассмотреть зависимость между уровнем дохода и возвратом кредита в срок;\n",
    "- изучить разные цели кредита и их влияние на его возврат в срок."
   ]
  },
  {
   "cell_type": "markdown",
   "id": "26613308",
   "metadata": {
    "deletable": false,
    "editable": false,
    "id": "26613308"
   },
   "source": [
    "## Откройте таблицу и изучите общую информацию о данных"
   ]
  },
  {
   "cell_type": "markdown",
   "id": "3c9f838e",
   "metadata": {
    "deletable": false,
    "editable": false,
    "id": "3c9f838e"
   },
   "source": [
    "**Задание 1. Импортируйте библиотеку pandas. Считайте данные из csv-файла в датафрейм и сохраните в переменную `data`. Путь к файлу:**\n",
    "\n",
    "`/datasets/data.csv`"
   ]
  },
  {
   "cell_type": "code",
   "execution_count": 1,
   "id": "77a68a90",
   "metadata": {
    "deletable": false,
    "id": "77a68a90"
   },
   "outputs": [],
   "source": [
    "import pandas as pd\n",
    "\n",
    "try:\n",
    "    data = pd.read_csv('/datasets/data.csv')\n",
    "except:\n",
    "    data = pd.read_csv('https://code.s3.yandex.net/datasets/data.csv')"
   ]
  },
  {
   "cell_type": "markdown",
   "id": "45365635",
   "metadata": {
    "deletable": false,
    "editable": false,
    "id": "45365635"
   },
   "source": [
    "**Задание 2. Выведите первые 20 строчек датафрейма `data` на экран.**"
   ]
  },
  {
   "cell_type": "code",
   "execution_count": 2,
   "id": "b0451a9a",
   "metadata": {
    "deletable": false,
    "id": "b0451a9a",
    "outputId": "1a8f3ef2-d323-4ec2-ddf7-89670b5944c4"
   },
   "outputs": [
    {
     "data": {
      "text/html": [
       "<div>\n",
       "<style scoped>\n",
       "    .dataframe tbody tr th:only-of-type {\n",
       "        vertical-align: middle;\n",
       "    }\n",
       "\n",
       "    .dataframe tbody tr th {\n",
       "        vertical-align: top;\n",
       "    }\n",
       "\n",
       "    .dataframe thead th {\n",
       "        text-align: right;\n",
       "    }\n",
       "</style>\n",
       "<table border=\"1\" class=\"dataframe\">\n",
       "  <thead>\n",
       "    <tr style=\"text-align: right;\">\n",
       "      <th></th>\n",
       "      <th>children</th>\n",
       "      <th>days_employed</th>\n",
       "      <th>dob_years</th>\n",
       "      <th>education</th>\n",
       "      <th>education_id</th>\n",
       "      <th>family_status</th>\n",
       "      <th>family_status_id</th>\n",
       "      <th>gender</th>\n",
       "      <th>income_type</th>\n",
       "      <th>debt</th>\n",
       "      <th>total_income</th>\n",
       "      <th>purpose</th>\n",
       "    </tr>\n",
       "  </thead>\n",
       "  <tbody>\n",
       "    <tr>\n",
       "      <th>0</th>\n",
       "      <td>1</td>\n",
       "      <td>-8437.673028</td>\n",
       "      <td>42</td>\n",
       "      <td>высшее</td>\n",
       "      <td>0</td>\n",
       "      <td>женат / замужем</td>\n",
       "      <td>0</td>\n",
       "      <td>F</td>\n",
       "      <td>сотрудник</td>\n",
       "      <td>0</td>\n",
       "      <td>253875.639453</td>\n",
       "      <td>покупка жилья</td>\n",
       "    </tr>\n",
       "    <tr>\n",
       "      <th>1</th>\n",
       "      <td>1</td>\n",
       "      <td>-4024.803754</td>\n",
       "      <td>36</td>\n",
       "      <td>среднее</td>\n",
       "      <td>1</td>\n",
       "      <td>женат / замужем</td>\n",
       "      <td>0</td>\n",
       "      <td>F</td>\n",
       "      <td>сотрудник</td>\n",
       "      <td>0</td>\n",
       "      <td>112080.014102</td>\n",
       "      <td>приобретение автомобиля</td>\n",
       "    </tr>\n",
       "    <tr>\n",
       "      <th>2</th>\n",
       "      <td>0</td>\n",
       "      <td>-5623.422610</td>\n",
       "      <td>33</td>\n",
       "      <td>Среднее</td>\n",
       "      <td>1</td>\n",
       "      <td>женат / замужем</td>\n",
       "      <td>0</td>\n",
       "      <td>M</td>\n",
       "      <td>сотрудник</td>\n",
       "      <td>0</td>\n",
       "      <td>145885.952297</td>\n",
       "      <td>покупка жилья</td>\n",
       "    </tr>\n",
       "    <tr>\n",
       "      <th>3</th>\n",
       "      <td>3</td>\n",
       "      <td>-4124.747207</td>\n",
       "      <td>32</td>\n",
       "      <td>среднее</td>\n",
       "      <td>1</td>\n",
       "      <td>женат / замужем</td>\n",
       "      <td>0</td>\n",
       "      <td>M</td>\n",
       "      <td>сотрудник</td>\n",
       "      <td>0</td>\n",
       "      <td>267628.550329</td>\n",
       "      <td>дополнительное образование</td>\n",
       "    </tr>\n",
       "    <tr>\n",
       "      <th>4</th>\n",
       "      <td>0</td>\n",
       "      <td>340266.072047</td>\n",
       "      <td>53</td>\n",
       "      <td>среднее</td>\n",
       "      <td>1</td>\n",
       "      <td>гражданский брак</td>\n",
       "      <td>1</td>\n",
       "      <td>F</td>\n",
       "      <td>пенсионер</td>\n",
       "      <td>0</td>\n",
       "      <td>158616.077870</td>\n",
       "      <td>сыграть свадьбу</td>\n",
       "    </tr>\n",
       "    <tr>\n",
       "      <th>5</th>\n",
       "      <td>0</td>\n",
       "      <td>-926.185831</td>\n",
       "      <td>27</td>\n",
       "      <td>высшее</td>\n",
       "      <td>0</td>\n",
       "      <td>гражданский брак</td>\n",
       "      <td>1</td>\n",
       "      <td>M</td>\n",
       "      <td>компаньон</td>\n",
       "      <td>0</td>\n",
       "      <td>255763.565419</td>\n",
       "      <td>покупка жилья</td>\n",
       "    </tr>\n",
       "    <tr>\n",
       "      <th>6</th>\n",
       "      <td>0</td>\n",
       "      <td>-2879.202052</td>\n",
       "      <td>43</td>\n",
       "      <td>высшее</td>\n",
       "      <td>0</td>\n",
       "      <td>женат / замужем</td>\n",
       "      <td>0</td>\n",
       "      <td>F</td>\n",
       "      <td>компаньон</td>\n",
       "      <td>0</td>\n",
       "      <td>240525.971920</td>\n",
       "      <td>операции с жильем</td>\n",
       "    </tr>\n",
       "    <tr>\n",
       "      <th>7</th>\n",
       "      <td>0</td>\n",
       "      <td>-152.779569</td>\n",
       "      <td>50</td>\n",
       "      <td>СРЕДНЕЕ</td>\n",
       "      <td>1</td>\n",
       "      <td>женат / замужем</td>\n",
       "      <td>0</td>\n",
       "      <td>M</td>\n",
       "      <td>сотрудник</td>\n",
       "      <td>0</td>\n",
       "      <td>135823.934197</td>\n",
       "      <td>образование</td>\n",
       "    </tr>\n",
       "    <tr>\n",
       "      <th>8</th>\n",
       "      <td>2</td>\n",
       "      <td>-6929.865299</td>\n",
       "      <td>35</td>\n",
       "      <td>ВЫСШЕЕ</td>\n",
       "      <td>0</td>\n",
       "      <td>гражданский брак</td>\n",
       "      <td>1</td>\n",
       "      <td>F</td>\n",
       "      <td>сотрудник</td>\n",
       "      <td>0</td>\n",
       "      <td>95856.832424</td>\n",
       "      <td>на проведение свадьбы</td>\n",
       "    </tr>\n",
       "    <tr>\n",
       "      <th>9</th>\n",
       "      <td>0</td>\n",
       "      <td>-2188.756445</td>\n",
       "      <td>41</td>\n",
       "      <td>среднее</td>\n",
       "      <td>1</td>\n",
       "      <td>женат / замужем</td>\n",
       "      <td>0</td>\n",
       "      <td>M</td>\n",
       "      <td>сотрудник</td>\n",
       "      <td>0</td>\n",
       "      <td>144425.938277</td>\n",
       "      <td>покупка жилья для семьи</td>\n",
       "    </tr>\n",
       "    <tr>\n",
       "      <th>10</th>\n",
       "      <td>2</td>\n",
       "      <td>-4171.483647</td>\n",
       "      <td>36</td>\n",
       "      <td>высшее</td>\n",
       "      <td>0</td>\n",
       "      <td>женат / замужем</td>\n",
       "      <td>0</td>\n",
       "      <td>M</td>\n",
       "      <td>компаньон</td>\n",
       "      <td>0</td>\n",
       "      <td>113943.491460</td>\n",
       "      <td>покупка недвижимости</td>\n",
       "    </tr>\n",
       "    <tr>\n",
       "      <th>11</th>\n",
       "      <td>0</td>\n",
       "      <td>-792.701887</td>\n",
       "      <td>40</td>\n",
       "      <td>среднее</td>\n",
       "      <td>1</td>\n",
       "      <td>женат / замужем</td>\n",
       "      <td>0</td>\n",
       "      <td>F</td>\n",
       "      <td>сотрудник</td>\n",
       "      <td>0</td>\n",
       "      <td>77069.234271</td>\n",
       "      <td>покупка коммерческой недвижимости</td>\n",
       "    </tr>\n",
       "    <tr>\n",
       "      <th>12</th>\n",
       "      <td>0</td>\n",
       "      <td>NaN</td>\n",
       "      <td>65</td>\n",
       "      <td>среднее</td>\n",
       "      <td>1</td>\n",
       "      <td>гражданский брак</td>\n",
       "      <td>1</td>\n",
       "      <td>M</td>\n",
       "      <td>пенсионер</td>\n",
       "      <td>0</td>\n",
       "      <td>NaN</td>\n",
       "      <td>сыграть свадьбу</td>\n",
       "    </tr>\n",
       "    <tr>\n",
       "      <th>13</th>\n",
       "      <td>0</td>\n",
       "      <td>-1846.641941</td>\n",
       "      <td>54</td>\n",
       "      <td>неоконченное высшее</td>\n",
       "      <td>2</td>\n",
       "      <td>женат / замужем</td>\n",
       "      <td>0</td>\n",
       "      <td>F</td>\n",
       "      <td>сотрудник</td>\n",
       "      <td>0</td>\n",
       "      <td>130458.228857</td>\n",
       "      <td>приобретение автомобиля</td>\n",
       "    </tr>\n",
       "    <tr>\n",
       "      <th>14</th>\n",
       "      <td>0</td>\n",
       "      <td>-1844.956182</td>\n",
       "      <td>56</td>\n",
       "      <td>высшее</td>\n",
       "      <td>0</td>\n",
       "      <td>гражданский брак</td>\n",
       "      <td>1</td>\n",
       "      <td>F</td>\n",
       "      <td>компаньон</td>\n",
       "      <td>1</td>\n",
       "      <td>165127.911772</td>\n",
       "      <td>покупка жилой недвижимости</td>\n",
       "    </tr>\n",
       "    <tr>\n",
       "      <th>15</th>\n",
       "      <td>1</td>\n",
       "      <td>-972.364419</td>\n",
       "      <td>26</td>\n",
       "      <td>среднее</td>\n",
       "      <td>1</td>\n",
       "      <td>женат / замужем</td>\n",
       "      <td>0</td>\n",
       "      <td>F</td>\n",
       "      <td>сотрудник</td>\n",
       "      <td>0</td>\n",
       "      <td>116820.904450</td>\n",
       "      <td>строительство собственной недвижимости</td>\n",
       "    </tr>\n",
       "    <tr>\n",
       "      <th>16</th>\n",
       "      <td>0</td>\n",
       "      <td>-1719.934226</td>\n",
       "      <td>35</td>\n",
       "      <td>среднее</td>\n",
       "      <td>1</td>\n",
       "      <td>женат / замужем</td>\n",
       "      <td>0</td>\n",
       "      <td>F</td>\n",
       "      <td>сотрудник</td>\n",
       "      <td>0</td>\n",
       "      <td>289202.704229</td>\n",
       "      <td>недвижимость</td>\n",
       "    </tr>\n",
       "    <tr>\n",
       "      <th>17</th>\n",
       "      <td>0</td>\n",
       "      <td>-2369.999720</td>\n",
       "      <td>33</td>\n",
       "      <td>высшее</td>\n",
       "      <td>0</td>\n",
       "      <td>гражданский брак</td>\n",
       "      <td>1</td>\n",
       "      <td>M</td>\n",
       "      <td>сотрудник</td>\n",
       "      <td>0</td>\n",
       "      <td>90410.586745</td>\n",
       "      <td>строительство недвижимости</td>\n",
       "    </tr>\n",
       "    <tr>\n",
       "      <th>18</th>\n",
       "      <td>0</td>\n",
       "      <td>400281.136913</td>\n",
       "      <td>53</td>\n",
       "      <td>среднее</td>\n",
       "      <td>1</td>\n",
       "      <td>вдовец / вдова</td>\n",
       "      <td>2</td>\n",
       "      <td>F</td>\n",
       "      <td>пенсионер</td>\n",
       "      <td>0</td>\n",
       "      <td>56823.777243</td>\n",
       "      <td>на покупку подержанного автомобиля</td>\n",
       "    </tr>\n",
       "    <tr>\n",
       "      <th>19</th>\n",
       "      <td>0</td>\n",
       "      <td>-10038.818549</td>\n",
       "      <td>48</td>\n",
       "      <td>СРЕДНЕЕ</td>\n",
       "      <td>1</td>\n",
       "      <td>в разводе</td>\n",
       "      <td>3</td>\n",
       "      <td>F</td>\n",
       "      <td>сотрудник</td>\n",
       "      <td>0</td>\n",
       "      <td>242831.107982</td>\n",
       "      <td>на покупку своего автомобиля</td>\n",
       "    </tr>\n",
       "  </tbody>\n",
       "</table>\n",
       "</div>"
      ],
      "text/plain": [
       "    children  days_employed  dob_years            education  education_id  \\\n",
       "0          1   -8437.673028         42               высшее             0   \n",
       "1          1   -4024.803754         36              среднее             1   \n",
       "2          0   -5623.422610         33              Среднее             1   \n",
       "3          3   -4124.747207         32              среднее             1   \n",
       "4          0  340266.072047         53              среднее             1   \n",
       "5          0    -926.185831         27               высшее             0   \n",
       "6          0   -2879.202052         43               высшее             0   \n",
       "7          0    -152.779569         50              СРЕДНЕЕ             1   \n",
       "8          2   -6929.865299         35               ВЫСШЕЕ             0   \n",
       "9          0   -2188.756445         41              среднее             1   \n",
       "10         2   -4171.483647         36               высшее             0   \n",
       "11         0    -792.701887         40              среднее             1   \n",
       "12         0            NaN         65              среднее             1   \n",
       "13         0   -1846.641941         54  неоконченное высшее             2   \n",
       "14         0   -1844.956182         56               высшее             0   \n",
       "15         1    -972.364419         26              среднее             1   \n",
       "16         0   -1719.934226         35              среднее             1   \n",
       "17         0   -2369.999720         33               высшее             0   \n",
       "18         0  400281.136913         53              среднее             1   \n",
       "19         0  -10038.818549         48              СРЕДНЕЕ             1   \n",
       "\n",
       "       family_status  family_status_id gender income_type  debt  \\\n",
       "0    женат / замужем                 0      F   сотрудник     0   \n",
       "1    женат / замужем                 0      F   сотрудник     0   \n",
       "2    женат / замужем                 0      M   сотрудник     0   \n",
       "3    женат / замужем                 0      M   сотрудник     0   \n",
       "4   гражданский брак                 1      F   пенсионер     0   \n",
       "5   гражданский брак                 1      M   компаньон     0   \n",
       "6    женат / замужем                 0      F   компаньон     0   \n",
       "7    женат / замужем                 0      M   сотрудник     0   \n",
       "8   гражданский брак                 1      F   сотрудник     0   \n",
       "9    женат / замужем                 0      M   сотрудник     0   \n",
       "10   женат / замужем                 0      M   компаньон     0   \n",
       "11   женат / замужем                 0      F   сотрудник     0   \n",
       "12  гражданский брак                 1      M   пенсионер     0   \n",
       "13   женат / замужем                 0      F   сотрудник     0   \n",
       "14  гражданский брак                 1      F   компаньон     1   \n",
       "15   женат / замужем                 0      F   сотрудник     0   \n",
       "16   женат / замужем                 0      F   сотрудник     0   \n",
       "17  гражданский брак                 1      M   сотрудник     0   \n",
       "18    вдовец / вдова                 2      F   пенсионер     0   \n",
       "19         в разводе                 3      F   сотрудник     0   \n",
       "\n",
       "     total_income                                 purpose  \n",
       "0   253875.639453                           покупка жилья  \n",
       "1   112080.014102                 приобретение автомобиля  \n",
       "2   145885.952297                           покупка жилья  \n",
       "3   267628.550329              дополнительное образование  \n",
       "4   158616.077870                         сыграть свадьбу  \n",
       "5   255763.565419                           покупка жилья  \n",
       "6   240525.971920                       операции с жильем  \n",
       "7   135823.934197                             образование  \n",
       "8    95856.832424                   на проведение свадьбы  \n",
       "9   144425.938277                 покупка жилья для семьи  \n",
       "10  113943.491460                    покупка недвижимости  \n",
       "11   77069.234271       покупка коммерческой недвижимости  \n",
       "12            NaN                         сыграть свадьбу  \n",
       "13  130458.228857                 приобретение автомобиля  \n",
       "14  165127.911772              покупка жилой недвижимости  \n",
       "15  116820.904450  строительство собственной недвижимости  \n",
       "16  289202.704229                            недвижимость  \n",
       "17   90410.586745              строительство недвижимости  \n",
       "18   56823.777243      на покупку подержанного автомобиля  \n",
       "19  242831.107982            на покупку своего автомобиля  "
      ]
     },
     "execution_count": 2,
     "metadata": {},
     "output_type": "execute_result"
    }
   ],
   "source": [
    "data.head(20)"
   ]
  },
  {
   "cell_type": "markdown",
   "id": "0ed8f27f",
   "metadata": {
    "deletable": false,
    "editable": false,
    "id": "0ed8f27f"
   },
   "source": [
    "**Задание 3. Выведите основную информацию о датафрейме с помощью метода `info()`.**"
   ]
  },
  {
   "cell_type": "code",
   "execution_count": 3,
   "id": "ab3f863b",
   "metadata": {
    "deletable": false,
    "id": "ab3f863b",
    "outputId": "15376089-8dad-46c9-b520-c05248d43158"
   },
   "outputs": [
    {
     "name": "stdout",
     "output_type": "stream",
     "text": [
      "<class 'pandas.core.frame.DataFrame'>\n",
      "RangeIndex: 21525 entries, 0 to 21524\n",
      "Data columns (total 12 columns):\n",
      " #   Column            Non-Null Count  Dtype  \n",
      "---  ------            --------------  -----  \n",
      " 0   children          21525 non-null  int64  \n",
      " 1   days_employed     19351 non-null  float64\n",
      " 2   dob_years         21525 non-null  int64  \n",
      " 3   education         21525 non-null  object \n",
      " 4   education_id      21525 non-null  int64  \n",
      " 5   family_status     21525 non-null  object \n",
      " 6   family_status_id  21525 non-null  int64  \n",
      " 7   gender            21525 non-null  object \n",
      " 8   income_type       21525 non-null  object \n",
      " 9   debt              21525 non-null  int64  \n",
      " 10  total_income      19351 non-null  float64\n",
      " 11  purpose           21525 non-null  object \n",
      "dtypes: float64(2), int64(5), object(5)\n",
      "memory usage: 2.0+ MB\n"
     ]
    }
   ],
   "source": [
    "data.info()"
   ]
  },
  {
   "cell_type": "markdown",
   "id": "60e3e22d",
   "metadata": {
    "deletable": false,
    "editable": false,
    "id": "60e3e22d"
   },
   "source": [
    "## Предобработка данных"
   ]
  },
  {
   "cell_type": "markdown",
   "id": "03dc170c",
   "metadata": {
    "deletable": false,
    "editable": false,
    "id": "03dc170c"
   },
   "source": [
    "### Удаление пропусков"
   ]
  },
  {
   "cell_type": "markdown",
   "id": "a4f54eef",
   "metadata": {
    "deletable": false,
    "editable": false,
    "id": "a4f54eef"
   },
   "source": [
    "**Задание 4. Выведите количество пропущенных значений для каждого столбца. Используйте комбинацию двух методов.**"
   ]
  },
  {
   "cell_type": "code",
   "execution_count": 4,
   "id": "2dc372b2",
   "metadata": {
    "deletable": false,
    "id": "2dc372b2",
    "outputId": "81f4d817-781c-465c-ed15-91ce4446810d"
   },
   "outputs": [
    {
     "data": {
      "text/plain": [
       "children               0\n",
       "days_employed       2174\n",
       "dob_years              0\n",
       "education              0\n",
       "education_id           0\n",
       "family_status          0\n",
       "family_status_id       0\n",
       "gender                 0\n",
       "income_type            0\n",
       "debt                   0\n",
       "total_income        2174\n",
       "purpose                0\n",
       "dtype: int64"
      ]
     },
     "execution_count": 4,
     "metadata": {},
     "output_type": "execute_result"
    }
   ],
   "source": [
    "data.isna().sum()"
   ]
  },
  {
   "cell_type": "markdown",
   "id": "14f011b1",
   "metadata": {
    "deletable": false,
    "editable": false,
    "id": "14f011b1"
   },
   "source": [
    "**Задание 5. В двух столбцах есть пропущенные значения. Один из них — `days_employed`. Пропуски в этом столбце вы обработаете на следующем этапе. Другой столбец с пропущенными значениями — `total_income` — хранит данные о доходах. На сумму дохода сильнее всего влияет тип занятости, поэтому заполнить пропуски в этом столбце нужно медианным значением по каждому типу из столбца `income_type`. Например, у человека с типом занятости `сотрудник` пропуск в столбце `total_income` должен быть заполнен медианным доходом среди всех записей с тем же типом.**"
   ]
  },
  {
   "cell_type": "code",
   "execution_count": 5,
   "id": "bdabfb6e",
   "metadata": {
    "deletable": false,
    "id": "bdabfb6e"
   },
   "outputs": [],
   "source": [
    "for t in data['income_type'].unique():\n",
    "    data.loc[(data['income_type'] == t) & (data['total_income'].isna()), 'total_income'] = \\\n",
    "    data.loc[(data['income_type'] == t), 'total_income'].median()"
   ]
  },
  {
   "cell_type": "markdown",
   "id": "5be34059",
   "metadata": {
    "deletable": false,
    "editable": false,
    "id": "5be34059"
   },
   "source": [
    "### Обработка аномальных значений"
   ]
  },
  {
   "cell_type": "markdown",
   "id": "a87606cb",
   "metadata": {
    "deletable": false,
    "editable": false,
    "id": "a87606cb"
   },
   "source": [
    "**Задание 6. В данных могут встречаться артефакты (аномалии) — значения, которые не отражают действительность и появились по какой-то ошибке. таким артефактом будет отрицательное количество дней трудового стажа в столбце `days_employed`. Для реальных данных это нормально. Обработайте значения в этом столбце: замените все отрицательные значения положительными с помощью метода `abs()`.**"
   ]
  },
  {
   "cell_type": "code",
   "execution_count": 6,
   "id": "020c46cc",
   "metadata": {
    "deletable": false,
    "id": "020c46cc"
   },
   "outputs": [],
   "source": [
    "data['days_employed'] = data['days_employed'].abs()"
   ]
  },
  {
   "cell_type": "markdown",
   "id": "45538a3a",
   "metadata": {
    "deletable": false,
    "editable": false,
    "id": "45538a3a"
   },
   "source": [
    "**Задание 7. Для каждого типа занятости выведите медианное значение трудового стажа `days_employed` в днях.**"
   ]
  },
  {
   "cell_type": "code",
   "execution_count": 7,
   "id": "cd3e6328",
   "metadata": {
    "deletable": false,
    "id": "cd3e6328",
    "outputId": "801ef80e-522b-4668-f34e-565af7432bcf"
   },
   "outputs": [
    {
     "data": {
      "text/plain": [
       "income_type\n",
       "безработный        366413.652744\n",
       "в декрете            3296.759962\n",
       "госслужащий          2689.368353\n",
       "компаньон            1547.382223\n",
       "пенсионер          365213.306266\n",
       "предприниматель       520.848083\n",
       "сотрудник            1574.202821\n",
       "студент               578.751554\n",
       "Name: days_employed, dtype: float64"
      ]
     },
     "execution_count": 7,
     "metadata": {},
     "output_type": "execute_result"
    }
   ],
   "source": [
    "data.groupby('income_type')['days_employed'].agg('median')"
   ]
  },
  {
   "cell_type": "markdown",
   "id": "90c5f058",
   "metadata": {
    "deletable": false,
    "editable": false,
    "id": "90c5f058"
   },
   "source": [
    "У двух типов (безработные и пенсионеры) получатся аномально большие значения. Исправить такие значения сложно, поэтому оставьте их как есть."
   ]
  },
  {
   "cell_type": "markdown",
   "id": "9652e50d",
   "metadata": {
    "deletable": false,
    "editable": false,
    "id": "9652e50d"
   },
   "source": [
    "**Задание 8. Выведите перечень уникальных значений столбца `children`.**"
   ]
  },
  {
   "cell_type": "code",
   "execution_count": 8,
   "id": "dbb37b8e",
   "metadata": {
    "deletable": false,
    "id": "dbb37b8e",
    "outputId": "6975b15c-7f95-4697-d16d-a0c79b657b03"
   },
   "outputs": [
    {
     "data": {
      "text/plain": [
       "array([ 1,  0,  3,  2, -1,  4, 20,  5], dtype=int64)"
      ]
     },
     "execution_count": 8,
     "metadata": {},
     "output_type": "execute_result"
    }
   ],
   "source": [
    "data['children'].unique()"
   ]
  },
  {
   "cell_type": "markdown",
   "id": "2b8b0715",
   "metadata": {
    "deletable": false,
    "editable": false,
    "id": "2b8b0715"
   },
   "source": [
    "**Задание 9. В столбце `children` есть два аномальных значения. Удалите строки, в которых встречаются такие аномальные значения из датафрейма `data`.**"
   ]
  },
  {
   "cell_type": "code",
   "execution_count": 9,
   "id": "20009df8",
   "metadata": {
    "deletable": false,
    "id": "20009df8"
   },
   "outputs": [],
   "source": [
    "data = data[(data['children'] != -1) & (data['children'] != 20)]"
   ]
  },
  {
   "cell_type": "markdown",
   "id": "8c6ac9f1",
   "metadata": {
    "deletable": false,
    "editable": false,
    "id": "8c6ac9f1"
   },
   "source": [
    "**Задание 10. Ещё раз выведите перечень уникальных значений столбца `children`, чтобы убедиться, что артефакты удалены.**"
   ]
  },
  {
   "cell_type": "code",
   "execution_count": 10,
   "id": "07337b81",
   "metadata": {
    "deletable": false,
    "id": "07337b81",
    "outputId": "b2097101-d49d-44d9-901b-32a65c9463d1"
   },
   "outputs": [
    {
     "data": {
      "text/plain": [
       "array([1, 0, 3, 2, 4, 5], dtype=int64)"
      ]
     },
     "execution_count": 10,
     "metadata": {},
     "output_type": "execute_result"
    }
   ],
   "source": [
    "data['children'].unique()"
   ]
  },
  {
   "cell_type": "markdown",
   "id": "ee3f52d4",
   "metadata": {
    "deletable": false,
    "editable": false,
    "id": "ee3f52d4"
   },
   "source": [
    "### Удаление пропусков (продолжение)"
   ]
  },
  {
   "cell_type": "markdown",
   "id": "a700b0e4",
   "metadata": {
    "deletable": false,
    "editable": false,
    "id": "a700b0e4"
   },
   "source": [
    "**Задание 11. Заполните пропуски в столбце `days_employed` медианными значениями по каждого типа занятости `income_type`.**"
   ]
  },
  {
   "cell_type": "code",
   "execution_count": 11,
   "id": "61946b83",
   "metadata": {
    "deletable": false,
    "id": "61946b83"
   },
   "outputs": [],
   "source": [
    "for t in data['income_type'].unique():\n",
    "    data.loc[(data['income_type'] == t) & (data['days_employed'].isna()), 'days_employed'] = \\\n",
    "    data.loc[(data['income_type'] == t), 'days_employed'].median()"
   ]
  },
  {
   "cell_type": "markdown",
   "id": "550dcd9b",
   "metadata": {
    "deletable": false,
    "editable": false,
    "id": "550dcd9b"
   },
   "source": [
    "**Задание 12. Убедитесь, что все пропуски заполнены. Проверьте себя и ещё раз выведите количество пропущенных значений для каждого столбца с помощью двух методов.**"
   ]
  },
  {
   "cell_type": "code",
   "execution_count": 12,
   "id": "937c7014",
   "metadata": {
    "deletable": false,
    "id": "937c7014",
    "outputId": "8da1e4e1-358e-4e87-98c9-f261bce0a7b2"
   },
   "outputs": [
    {
     "data": {
      "text/plain": [
       "children            0\n",
       "days_employed       0\n",
       "dob_years           0\n",
       "education           0\n",
       "education_id        0\n",
       "family_status       0\n",
       "family_status_id    0\n",
       "gender              0\n",
       "income_type         0\n",
       "debt                0\n",
       "total_income        0\n",
       "purpose             0\n",
       "dtype: int64"
      ]
     },
     "execution_count": 12,
     "metadata": {},
     "output_type": "execute_result"
    }
   ],
   "source": [
    "data.isna().sum()"
   ]
  },
  {
   "cell_type": "markdown",
   "id": "d522e295",
   "metadata": {
    "deletable": false,
    "editable": false,
    "id": "d522e295"
   },
   "source": [
    "### Изменение типов данных"
   ]
  },
  {
   "cell_type": "markdown",
   "id": "c229c581",
   "metadata": {
    "deletable": false,
    "editable": false,
    "id": "c229c581"
   },
   "source": [
    "**Задание 13. Замените вещественный тип данных в столбце `total_income` на целочисленный с помощью метода `astype()`.**"
   ]
  },
  {
   "cell_type": "code",
   "execution_count": 13,
   "id": "31036462",
   "metadata": {
    "deletable": false,
    "id": "31036462"
   },
   "outputs": [],
   "source": [
    "data['total_income'] = data['total_income'].astype(int)"
   ]
  },
  {
   "cell_type": "markdown",
   "id": "b8e3d1d9",
   "metadata": {
    "deletable": false,
    "editable": false,
    "id": "b8e3d1d9"
   },
   "source": [
    "### Обработка дубликатов"
   ]
  },
  {
   "cell_type": "markdown",
   "id": "9be53c49",
   "metadata": {
    "deletable": false,
    "editable": false,
    "id": "9be53c49"
   },
   "source": [
    "**Задание 14. Обработайте неявные дубликаты в столбце `education`. В этом столбце есть одни и те же значения, но записанные по-разному: с использованием заглавных и строчных букв. Приведите их к нижнему регистру.**"
   ]
  },
  {
   "cell_type": "code",
   "execution_count": 14,
   "id": "d89e73e1",
   "metadata": {
    "deletable": false,
    "id": "d89e73e1"
   },
   "outputs": [],
   "source": [
    "data['education'] = data['education'].str.lower()"
   ]
  },
  {
   "cell_type": "markdown",
   "id": "01d4500e",
   "metadata": {
    "deletable": false,
    "editable": false,
    "id": "01d4500e"
   },
   "source": [
    "**Задание 15. Выведите на экран количество строк-дубликатов в данных. Если такие строки присутствуют, удалите их.**"
   ]
  },
  {
   "cell_type": "code",
   "execution_count": 15,
   "id": "e10efb23",
   "metadata": {
    "deletable": false,
    "id": "e10efb23",
    "outputId": "9684deba-1934-42d1-99e1-cda61740f822"
   },
   "outputs": [
    {
     "data": {
      "text/plain": [
       "71"
      ]
     },
     "execution_count": 15,
     "metadata": {},
     "output_type": "execute_result"
    }
   ],
   "source": [
    "data.duplicated().sum()"
   ]
  },
  {
   "cell_type": "code",
   "execution_count": 16,
   "id": "df853f20",
   "metadata": {
    "deletable": false,
    "id": "df853f20"
   },
   "outputs": [],
   "source": [
    "data = data.drop_duplicates()"
   ]
  },
  {
   "cell_type": "markdown",
   "id": "627be38f",
   "metadata": {
    "deletable": false,
    "editable": false,
    "id": "627be38f"
   },
   "source": [
    "### Категоризация данных"
   ]
  },
  {
   "cell_type": "markdown",
   "id": "4684c3e0",
   "metadata": {
    "deletable": false,
    "editable": false,
    "id": "4684c3e0"
   },
   "source": [
    "**Задание 16. На основании диапазонов, указанных ниже, создайте в датафрейме `data` столбец `total_income_category` с категориями:**\n",
    "\n",
    "- 0–30000 — `'E'`;\n",
    "- 30001–50000 — `'D'`;\n",
    "- 50001–200000 — `'C'`;\n",
    "- 200001–1000000 — `'B'`;\n",
    "- 1000001 и выше — `'A'`.\n",
    "\n",
    "\n",
    "**Например, кредитополучателю с доходом 25000 нужно назначить категорию `'E'`, а клиенту, получающему 235000, — `'B'`. Используйте собственную функцию с именем `categorize_income()` и метод `apply()`.**"
   ]
  },
  {
   "cell_type": "code",
   "execution_count": 17,
   "id": "78965238",
   "metadata": {
    "deletable": false,
    "id": "78965238"
   },
   "outputs": [],
   "source": [
    "def categorize_income(income):\n",
    "    try:\n",
    "        if 0 <= income <= 30000:\n",
    "            return 'E (0–30000)'\n",
    "        elif 30001 <= income <= 50000:\n",
    "            return 'D (30001–50000)'\n",
    "        elif 50001 <= income <= 200000:\n",
    "            return 'C (50001–200000)'\n",
    "        elif 200001 <= income <= 1000000:\n",
    "            return 'B (200001–1000000)'\n",
    "        elif income >= 1000001:\n",
    "            return 'A (1000001 и выше)'\n",
    "    except:\n",
    "        pass"
   ]
  },
  {
   "cell_type": "code",
   "execution_count": 18,
   "id": "0980ada1",
   "metadata": {
    "deletable": false,
    "id": "0980ada1"
   },
   "outputs": [],
   "source": [
    "data['total_income_category'] = data['total_income'].apply(categorize_income)"
   ]
  },
  {
   "cell_type": "markdown",
   "id": "9917bba0",
   "metadata": {
    "deletable": false,
    "editable": false,
    "id": "9917bba0"
   },
   "source": [
    "**Задание 17. Выведите на экран перечень уникальных целей взятия кредита из столбца `purpose`.**"
   ]
  },
  {
   "cell_type": "code",
   "execution_count": 19,
   "id": "ee07b65e",
   "metadata": {
    "deletable": false,
    "id": "ee07b65e",
    "outputId": "673c12d9-7d7e-4ae0-9812-c622c89dd244"
   },
   "outputs": [
    {
     "data": {
      "text/plain": [
       "array(['покупка жилья', 'приобретение автомобиля',\n",
       "       'дополнительное образование', 'сыграть свадьбу',\n",
       "       'операции с жильем', 'образование', 'на проведение свадьбы',\n",
       "       'покупка жилья для семьи', 'покупка недвижимости',\n",
       "       'покупка коммерческой недвижимости', 'покупка жилой недвижимости',\n",
       "       'строительство собственной недвижимости', 'недвижимость',\n",
       "       'строительство недвижимости', 'на покупку подержанного автомобиля',\n",
       "       'на покупку своего автомобиля',\n",
       "       'операции с коммерческой недвижимостью',\n",
       "       'строительство жилой недвижимости', 'жилье',\n",
       "       'операции со своей недвижимостью', 'автомобили',\n",
       "       'заняться образованием', 'сделка с подержанным автомобилем',\n",
       "       'получение образования', 'автомобиль', 'свадьба',\n",
       "       'получение дополнительного образования', 'покупка своего жилья',\n",
       "       'операции с недвижимостью', 'получение высшего образования',\n",
       "       'свой автомобиль', 'сделка с автомобилем',\n",
       "       'профильное образование', 'высшее образование',\n",
       "       'покупка жилья для сдачи', 'на покупку автомобиля', 'ремонт жилью',\n",
       "       'заняться высшим образованием'], dtype=object)"
      ]
     },
     "execution_count": 19,
     "metadata": {},
     "output_type": "execute_result"
    }
   ],
   "source": [
    "data['purpose'].unique()"
   ]
  },
  {
   "cell_type": "markdown",
   "id": "52b79d56",
   "metadata": {
    "deletable": false,
    "editable": false,
    "id": "52b79d56"
   },
   "source": [
    "**Задание 18. Создайте функцию, которая на основании данных из столбца `purpose` сформирует новый столбец `purpose_category`, в который войдут следующие категории:**\n",
    "\n",
    "- `'операции с автомобилем'`,\n",
    "- `'операции с недвижимостью'`,\n",
    "- `'проведение свадьбы'`,\n",
    "- `'получение образования'`.\n",
    "\n",
    "**Например, если в столбце `purpose` находится подстрока `'на покупку автомобиля'`, то в столбце `purpose_category` должна появиться строка `'операции с автомобилем'`.**\n",
    "\n",
    "**Используйте собственную функцию с именем `categorize_purpose()` и метод `apply()`. Изучите данные в столбце `purpose` и определите, какие подстроки помогут вам правильно определить категорию.**"
   ]
  },
  {
   "cell_type": "code",
   "execution_count": 20,
   "id": "be41da5d",
   "metadata": {
    "deletable": false,
    "id": "be41da5d"
   },
   "outputs": [],
   "source": [
    "def categorize_purpose(row):\n",
    "    try:\n",
    "        if 'автом' in row:\n",
    "            return 'операции с автомобилем'\n",
    "        elif 'жил' in row or 'недвиж' in row:\n",
    "            return 'операции с недвижимостью'\n",
    "        elif 'свад' in row:\n",
    "            return 'проведение свадьбы'\n",
    "        elif 'образов' in row:\n",
    "            return 'получение образования'\n",
    "    except:\n",
    "        return 'нет категории'"
   ]
  },
  {
   "cell_type": "code",
   "execution_count": 21,
   "id": "94c4a19a",
   "metadata": {
    "deletable": false,
    "id": "94c4a19a"
   },
   "outputs": [],
   "source": [
    "data['purpose_category'] = data['purpose'].apply(categorize_purpose)"
   ]
  },
  {
   "cell_type": "markdown",
   "id": "3d596c34",
   "metadata": {
    "deletable": false,
    "editable": false,
    "id": "3d596c34"
   },
   "source": [
    "### Шаг 3. Исследуйте данные и ответьте на вопросы"
   ]
  },
  {
   "cell_type": "markdown",
   "id": "648db036",
   "metadata": {
    "deletable": false,
    "editable": false,
    "id": "648db036"
   },
   "source": [
    "#### 3.1 Есть ли зависимость между количеством детей и возвратом кредита в срок?"
   ]
  },
  {
   "cell_type": "code",
   "execution_count": 22,
   "id": "7fcff25e",
   "metadata": {
    "deletable": false,
    "id": "7fcff25e"
   },
   "outputs": [
    {
     "data": {
      "text/html": [
       "<div>\n",
       "<style scoped>\n",
       "    .dataframe tbody tr th:only-of-type {\n",
       "        vertical-align: middle;\n",
       "    }\n",
       "\n",
       "    .dataframe tbody tr th {\n",
       "        vertical-align: top;\n",
       "    }\n",
       "\n",
       "    .dataframe thead th {\n",
       "        text-align: right;\n",
       "    }\n",
       "</style>\n",
       "<table border=\"1\" class=\"dataframe\">\n",
       "  <thead>\n",
       "    <tr style=\"text-align: right;\">\n",
       "      <th></th>\n",
       "      <th>total</th>\n",
       "      <th>target</th>\n",
       "      <th>share</th>\n",
       "    </tr>\n",
       "    <tr>\n",
       "      <th>children</th>\n",
       "      <th></th>\n",
       "      <th></th>\n",
       "      <th></th>\n",
       "    </tr>\n",
       "  </thead>\n",
       "  <tbody>\n",
       "    <tr>\n",
       "      <th>4</th>\n",
       "      <td>41</td>\n",
       "      <td>4</td>\n",
       "      <td>0.097561</td>\n",
       "    </tr>\n",
       "    <tr>\n",
       "      <th>2</th>\n",
       "      <td>2052</td>\n",
       "      <td>194</td>\n",
       "      <td>0.094542</td>\n",
       "    </tr>\n",
       "    <tr>\n",
       "      <th>1</th>\n",
       "      <td>4808</td>\n",
       "      <td>444</td>\n",
       "      <td>0.092346</td>\n",
       "    </tr>\n",
       "    <tr>\n",
       "      <th>3</th>\n",
       "      <td>330</td>\n",
       "      <td>27</td>\n",
       "      <td>0.081818</td>\n",
       "    </tr>\n",
       "    <tr>\n",
       "      <th>0</th>\n",
       "      <td>14091</td>\n",
       "      <td>1063</td>\n",
       "      <td>0.075438</td>\n",
       "    </tr>\n",
       "    <tr>\n",
       "      <th>5</th>\n",
       "      <td>9</td>\n",
       "      <td>0</td>\n",
       "      <td>0.000000</td>\n",
       "    </tr>\n",
       "  </tbody>\n",
       "</table>\n",
       "</div>"
      ],
      "text/plain": [
       "          total  target     share\n",
       "children                         \n",
       "4            41       4  0.097561\n",
       "2          2052     194  0.094542\n",
       "1          4808     444  0.092346\n",
       "3           330      27  0.081818\n",
       "0         14091    1063  0.075438\n",
       "5             9       0  0.000000"
      ]
     },
     "execution_count": 22,
     "metadata": {},
     "output_type": "execute_result"
    }
   ],
   "source": [
    "#создадим сводную таблицу и сгруппируем данные по столбцу children\n",
    "data_children_pivot = data.pivot_table(index=['children'], values='debt', aggfunc= {'count','sum'})\n",
    "#переименуем названия столбцов\n",
    "data_children_pivot = data_children_pivot.rename(columns={'count': 'total', 'sum': 'target'})\n",
    "#добавим в сводную таблицу новый столбец share со значениями, показывающими долю просрочек\n",
    "data_children_pivot['share'] = data_children_pivot['target'] / data_children_pivot['total']\n",
    "#отсортируем сводную таблицу по столбцу share в порядке убывания\n",
    "data_children_pivot.sort_values(by = 'share', ascending = False)"
   ]
  },
  {
   "cell_type": "markdown",
   "id": "40348855",
   "metadata": {},
   "source": [
    "<div class=\"alert alert-success\">\n",
    "<b>✅ Комментарий ревьюера v1: </b> \n",
    "\n",
    "Таблица верная!\n",
    "</div>"
   ]
  },
  {
   "cell_type": "markdown",
   "id": "2eb9088e",
   "metadata": {
    "deletable": false,
    "id": "2eb9088e"
   },
   "source": [
    "**Вывод:** Наибольшая доля задолженностей по возврату кредитов наблюдается среди клиентов с 4 детьми в семье.  Можно предположить, что это связано с большим количеством непредвиденных расходов.\n",
    "\n",
    "Самая низкая доля просрочек по кредиту приходится на клиентов без детей. Логично, что у данной категории заемщиков меньше финансовых затрат, следовательно более высокая платежеспособность в отличие от семей с детьми. \n",
    "\n",
    "Что касается семей с 5 детьми, кажется нецелесообразным делать вывод из-за небольшого количества данных в этой категории.\n",
    "\n",
    "Также можно отметить, что если не учитывать группы с 3, 4 и 5-ю детьми, то доля задолженностей по возврату кредитов имеет тенденцию к возрастанию при увеличении количества детей в семье. "
   ]
  },
  {
   "cell_type": "markdown",
   "id": "e0cc9624",
   "metadata": {},
   "source": [
    "<div class=\"alert alert-warning\">\n",
    "<b>⚠️ Комментарий ревьюера: v1 </b> \n",
    "\n",
    "Молодец, что обращаешь внимание на малочисленность категорий. Группы с 3 и более детьми можно отнести к их числу. \n",
    "    \n",
    "Как думаешь, если не учитывать группы с 3, 4 и 5-ю детьми, можно сформулировать какую-то общую зависимость? </div>\n"
   ]
  },
  {
   "cell_type": "markdown",
   "id": "81c9262a",
   "metadata": {},
   "source": [
    "<div class=\"alert alert-info\"> <b>Комментарий студента:</b> Дополнила :)</div>"
   ]
  },
  {
   "cell_type": "markdown",
   "id": "60869a9f",
   "metadata": {},
   "source": [
    "<div class=\"alert alert-success\">\n",
    "<b>✅ Комментарий ревьюера v2: </b> \n",
    "\n",
    "Согласна!\n",
    "</div>"
   ]
  },
  {
   "cell_type": "markdown",
   "id": "74c9b3a7",
   "metadata": {
    "deletable": false,
    "editable": false,
    "id": "74c9b3a7"
   },
   "source": [
    "#### 3.2 Есть ли зависимость между семейным положением и возвратом кредита в срок?"
   ]
  },
  {
   "cell_type": "code",
   "execution_count": 23,
   "id": "8098ab3b",
   "metadata": {
    "deletable": false,
    "id": "8098ab3b"
   },
   "outputs": [
    {
     "data": {
      "text/html": [
       "<div>\n",
       "<style scoped>\n",
       "    .dataframe tbody tr th:only-of-type {\n",
       "        vertical-align: middle;\n",
       "    }\n",
       "\n",
       "    .dataframe tbody tr th {\n",
       "        vertical-align: top;\n",
       "    }\n",
       "\n",
       "    .dataframe thead th {\n",
       "        text-align: right;\n",
       "    }\n",
       "</style>\n",
       "<table border=\"1\" class=\"dataframe\">\n",
       "  <thead>\n",
       "    <tr style=\"text-align: right;\">\n",
       "      <th></th>\n",
       "      <th>total</th>\n",
       "      <th>target</th>\n",
       "      <th>share</th>\n",
       "    </tr>\n",
       "    <tr>\n",
       "      <th>family_status</th>\n",
       "      <th></th>\n",
       "      <th></th>\n",
       "      <th></th>\n",
       "    </tr>\n",
       "  </thead>\n",
       "  <tbody>\n",
       "    <tr>\n",
       "      <th>Не женат / не замужем</th>\n",
       "      <td>2796</td>\n",
       "      <td>273</td>\n",
       "      <td>0.097639</td>\n",
       "    </tr>\n",
       "    <tr>\n",
       "      <th>гражданский брак</th>\n",
       "      <td>4134</td>\n",
       "      <td>385</td>\n",
       "      <td>0.093130</td>\n",
       "    </tr>\n",
       "    <tr>\n",
       "      <th>женат / замужем</th>\n",
       "      <td>12261</td>\n",
       "      <td>927</td>\n",
       "      <td>0.075606</td>\n",
       "    </tr>\n",
       "    <tr>\n",
       "      <th>в разводе</th>\n",
       "      <td>1189</td>\n",
       "      <td>84</td>\n",
       "      <td>0.070648</td>\n",
       "    </tr>\n",
       "    <tr>\n",
       "      <th>вдовец / вдова</th>\n",
       "      <td>951</td>\n",
       "      <td>63</td>\n",
       "      <td>0.066246</td>\n",
       "    </tr>\n",
       "  </tbody>\n",
       "</table>\n",
       "</div>"
      ],
      "text/plain": [
       "                       total  target     share\n",
       "family_status                                 \n",
       "Не женат / не замужем   2796     273  0.097639\n",
       "гражданский брак        4134     385  0.093130\n",
       "женат / замужем        12261     927  0.075606\n",
       "в разводе               1189      84  0.070648\n",
       "вдовец / вдова           951      63  0.066246"
      ]
     },
     "execution_count": 23,
     "metadata": {},
     "output_type": "execute_result"
    }
   ],
   "source": [
    "#создадим сводную таблицу и сгруппируем данные по столбцу family_status\n",
    "data_family_pivot = data.pivot_table(index=['family_status'], values='debt', aggfunc= {'count','sum'})\n",
    "#переименуем названия столбцов\n",
    "data_family_pivot = data_family_pivot.rename(columns={'count': 'total', 'sum': 'target'})\n",
    "#добавим в сводную таблицу новый столбец share со значениями, показывающими долю просрочек\n",
    "data_family_pivot['share'] = data_family_pivot['target'] / data_family_pivot['total']\n",
    "#отсортируем сводную таблицу по столбцу share в порядке убывания\n",
    "data_family_pivot.sort_values(by = 'share', ascending = False)"
   ]
  },
  {
   "cell_type": "markdown",
   "id": "da2e5bda",
   "metadata": {},
   "source": [
    "<div class=\"alert alert-success\">\n",
    "<b>✅ Комментарий ревьюера v1: </b> \n",
    "\n",
    "👍\n",
    "</div>"
   ]
  },
  {
   "cell_type": "markdown",
   "id": "c389ca63",
   "metadata": {
    "deletable": false,
    "id": "c389ca63"
   },
   "source": [
    "**Вывод:** В данном случае  так же присутствует зависимость. Согласно сводной таблице, наибольшая доля просрочек по кредиту приходится на клиентов, не состоящих в официальном браке (с семейным положением ‘не женат / не замужем’ и ‘гражданский брак’).\n",
    "\n",
    "Более надежными заемщиками оказались те клиенты, которые когда-то состояли в официальном браке, но к настоящему времени находятся в разводе или овдовели."
   ]
  },
  {
   "cell_type": "markdown",
   "id": "57c6a0ea",
   "metadata": {},
   "source": [
    "<div class=\"alert alert-success\">\n",
    "<b>✅ Комментарий ревьюера v1: </b> \n",
    "\n",
    "Верно!</div>"
   ]
  },
  {
   "cell_type": "markdown",
   "id": "9529de68",
   "metadata": {
    "deletable": false,
    "editable": false,
    "id": "9529de68"
   },
   "source": [
    "#### 3.3 Есть ли зависимость между уровнем дохода и возвратом кредита в срок?"
   ]
  },
  {
   "cell_type": "code",
   "execution_count": 24,
   "id": "8787f44a",
   "metadata": {
    "deletable": false,
    "id": "8787f44a"
   },
   "outputs": [
    {
     "data": {
      "text/html": [
       "<div>\n",
       "<style scoped>\n",
       "    .dataframe tbody tr th:only-of-type {\n",
       "        vertical-align: middle;\n",
       "    }\n",
       "\n",
       "    .dataframe tbody tr th {\n",
       "        vertical-align: top;\n",
       "    }\n",
       "\n",
       "    .dataframe thead th {\n",
       "        text-align: right;\n",
       "    }\n",
       "</style>\n",
       "<table border=\"1\" class=\"dataframe\">\n",
       "  <thead>\n",
       "    <tr style=\"text-align: right;\">\n",
       "      <th></th>\n",
       "      <th>total</th>\n",
       "      <th>target</th>\n",
       "      <th>share</th>\n",
       "    </tr>\n",
       "    <tr>\n",
       "      <th>total_income_category</th>\n",
       "      <th></th>\n",
       "      <th></th>\n",
       "      <th></th>\n",
       "    </tr>\n",
       "  </thead>\n",
       "  <tbody>\n",
       "    <tr>\n",
       "      <th>E (0–30000)</th>\n",
       "      <td>22</td>\n",
       "      <td>2</td>\n",
       "      <td>0.090909</td>\n",
       "    </tr>\n",
       "    <tr>\n",
       "      <th>C (50001–200000)</th>\n",
       "      <td>15921</td>\n",
       "      <td>1353</td>\n",
       "      <td>0.084982</td>\n",
       "    </tr>\n",
       "    <tr>\n",
       "      <th>A (1000001 и выше)</th>\n",
       "      <td>25</td>\n",
       "      <td>2</td>\n",
       "      <td>0.080000</td>\n",
       "    </tr>\n",
       "    <tr>\n",
       "      <th>B (200001–1000000)</th>\n",
       "      <td>5014</td>\n",
       "      <td>354</td>\n",
       "      <td>0.070602</td>\n",
       "    </tr>\n",
       "    <tr>\n",
       "      <th>D (30001–50000)</th>\n",
       "      <td>349</td>\n",
       "      <td>21</td>\n",
       "      <td>0.060172</td>\n",
       "    </tr>\n",
       "  </tbody>\n",
       "</table>\n",
       "</div>"
      ],
      "text/plain": [
       "                       total  target     share\n",
       "total_income_category                         \n",
       "E (0–30000)               22       2  0.090909\n",
       "C (50001–200000)       15921    1353  0.084982\n",
       "A (1000001 и выше)        25       2  0.080000\n",
       "B (200001–1000000)      5014     354  0.070602\n",
       "D (30001–50000)          349      21  0.060172"
      ]
     },
     "execution_count": 24,
     "metadata": {},
     "output_type": "execute_result"
    }
   ],
   "source": [
    "#создадим сводную таблицу и сгруппируем данные по столбцу total_income_category\n",
    "data_income_pivot = data.pivot_table(index=['total_income_category'], values='debt', aggfunc= {'count','sum'})\n",
    "#переименуем названия столбцов\n",
    "data_income_pivot = data_income_pivot.rename(columns={'count': 'total', 'sum': 'target'})\n",
    "#добавим в сводную таблицу новый столбец share со значениями, показывающими долю просрочек\n",
    "data_income_pivot['share'] = data_income_pivot['target'] / data_income_pivot['total']\n",
    "#отсортируем сводную таблицу по столбцу share в порядке убывания\n",
    "data_income_pivot.sort_values(by = 'share', ascending = False)"
   ]
  },
  {
   "cell_type": "markdown",
   "id": "1be27f8d",
   "metadata": {},
   "source": [
    "<div class=\"alert alert-warning\">\n",
    "<b>⚠️ Комментарий ревьюера: v1 </b> \n",
    "\n",
    "Хорошо бы добавить расшифровку категорий в таблицу. </div>\n"
   ]
  },
  {
   "cell_type": "markdown",
   "id": "0d3fdb94",
   "metadata": {},
   "source": [
    "<div class=\"alert alert-info\"> <b>Комментарий студента:</b> Расшифровку категорий добавила.</div>"
   ]
  },
  {
   "cell_type": "markdown",
   "id": "9e355555",
   "metadata": {},
   "source": [
    "<div class=\"alert alert-success\">\n",
    "<b>✅ Комментарий ревьюера v2: </b> \n",
    "\n",
    "Отлично! Так намного нагляднее.\n",
    "</div>"
   ]
  },
  {
   "cell_type": "markdown",
   "id": "6dd14b57",
   "metadata": {
    "deletable": false,
    "id": "6dd14b57"
   },
   "source": [
    "**Вывод:** Из-за небольшого объема выборки в категориях E, A и D будет целесообразно сравнить категории C (50001–200000 рублей) и B (200001–1000000 рублей). \n",
    "\n",
    "Очевидно, что заемщики с доходом от 50001 до 200000 рублей более склонны к риску просрочить возврат кредита. Более надежными клиентами оказались люди с постоянным доходом в диапазоне от 200001 до 1000000 рублей."
   ]
  },
  {
   "cell_type": "markdown",
   "id": "86b2cab4",
   "metadata": {},
   "source": [
    "<div class=\"alert alert-warning\">\n",
    "<b>⚠️ Комментарий ревьюера: v1 </b> \n",
    "\n",
    "Для выявления общей зависимости здесь лучше сравнить только две самые большие выборки B и C.\n",
    "Также можно ввести новую категоризацию (это необязательно), но с более равномерным распределением. Для получения сбалансированных выборок, можно использовать метод qcut().</div>\n"
   ]
  },
  {
   "cell_type": "markdown",
   "id": "73d90e66",
   "metadata": {},
   "source": [
    "<div class=\"alert alert-info\"> <b>Комментарий студента:</b> Исправила.</div>"
   ]
  },
  {
   "cell_type": "markdown",
   "id": "c246b65c",
   "metadata": {},
   "source": [
    "<div class=\"alert alert-success\">\n",
    "<b>✅ Комментарий ревьюера v2: </b> \n",
    "\n",
    "Отлично! Общую зависимость можно даже вот так сформулировать: доля должников падает с ростом дохода.\n",
    "</div>"
   ]
  },
  {
   "cell_type": "markdown",
   "id": "1dcc9b12",
   "metadata": {
    "deletable": false,
    "editable": false,
    "id": "1dcc9b12"
   },
   "source": [
    "#### 3.4 Как разные цели кредита влияют на его возврат в срок?"
   ]
  },
  {
   "cell_type": "code",
   "execution_count": 25,
   "id": "c602bc8b",
   "metadata": {
    "deletable": false,
    "id": "c602bc8b"
   },
   "outputs": [
    {
     "data": {
      "text/html": [
       "<div>\n",
       "<style scoped>\n",
       "    .dataframe tbody tr th:only-of-type {\n",
       "        vertical-align: middle;\n",
       "    }\n",
       "\n",
       "    .dataframe tbody tr th {\n",
       "        vertical-align: top;\n",
       "    }\n",
       "\n",
       "    .dataframe thead th {\n",
       "        text-align: right;\n",
       "    }\n",
       "</style>\n",
       "<table border=\"1\" class=\"dataframe\">\n",
       "  <thead>\n",
       "    <tr style=\"text-align: right;\">\n",
       "      <th></th>\n",
       "      <th>total</th>\n",
       "      <th>target</th>\n",
       "      <th>share</th>\n",
       "    </tr>\n",
       "    <tr>\n",
       "      <th>purpose_category</th>\n",
       "      <th></th>\n",
       "      <th></th>\n",
       "      <th></th>\n",
       "    </tr>\n",
       "  </thead>\n",
       "  <tbody>\n",
       "    <tr>\n",
       "      <th>операции с автомобилем</th>\n",
       "      <td>4279</td>\n",
       "      <td>400</td>\n",
       "      <td>0.093480</td>\n",
       "    </tr>\n",
       "    <tr>\n",
       "      <th>получение образования</th>\n",
       "      <td>3988</td>\n",
       "      <td>369</td>\n",
       "      <td>0.092528</td>\n",
       "    </tr>\n",
       "    <tr>\n",
       "      <th>проведение свадьбы</th>\n",
       "      <td>2313</td>\n",
       "      <td>183</td>\n",
       "      <td>0.079118</td>\n",
       "    </tr>\n",
       "    <tr>\n",
       "      <th>операции с недвижимостью</th>\n",
       "      <td>10751</td>\n",
       "      <td>780</td>\n",
       "      <td>0.072551</td>\n",
       "    </tr>\n",
       "  </tbody>\n",
       "</table>\n",
       "</div>"
      ],
      "text/plain": [
       "                          total  target     share\n",
       "purpose_category                                 \n",
       "операции с автомобилем     4279     400  0.093480\n",
       "получение образования      3988     369  0.092528\n",
       "проведение свадьбы         2313     183  0.079118\n",
       "операции с недвижимостью  10751     780  0.072551"
      ]
     },
     "execution_count": 25,
     "metadata": {},
     "output_type": "execute_result"
    }
   ],
   "source": [
    "#создадим сводную таблицу и сгруппируем данные по столбцу purpose_category\n",
    "data_purpose_pivot = data.pivot_table(index=['purpose_category'], values='debt', aggfunc= {'count','sum'})\n",
    "#переименуем названия столбцов\n",
    "data_purpose_pivot = data_purpose_pivot.rename(columns={'count': 'total', 'sum': 'target'})\n",
    "#добавим в сводную таблицу новый столбец share со значениями, показывающими долю просрочек\n",
    "data_purpose_pivot['share'] = data_purpose_pivot['target'] / data_purpose_pivot['total']\n",
    "#отсортируем сводную таблицу по столбцу share в порядке убывания\n",
    "data_purpose_pivot.sort_values(by = 'share', ascending = False)"
   ]
  },
  {
   "cell_type": "markdown",
   "id": "cf05ed63",
   "metadata": {
    "deletable": false,
    "id": "cf05ed63"
   },
   "source": [
    "**Вывод:** Зависимость возврата кредита в срок от цели кредита очевидна. Чаще всего наблюдаются просрочки среди клиентов, если целью их кредита выступают операции с автомобилем или получение образования. \n",
    "\n",
    "Самая низкая доля просрочек приходится на клиентов, оформивших кредит для операций с недвижимостью. Вероятно, в данном случае клиенты более ответственны и платежеспособны, так как имеют дело с наиболее дорогостоящими объектами."
   ]
  },
  {
   "cell_type": "markdown",
   "id": "9b26ac8f",
   "metadata": {},
   "source": [
    "<div class=\"alert alert-success\">\n",
    "<b>✅ Комментарий ревьюера v1: </b> \n",
    "\n",
    "Здесь все отлично!👍\n",
    "</div>"
   ]
  },
  {
   "cell_type": "markdown",
   "id": "46c1f10b",
   "metadata": {
    "deletable": false,
    "editable": false,
    "id": "46c1f10b"
   },
   "source": [
    "#### 3.5 Приведите возможные причины появления пропусков в исходных данных."
   ]
  },
  {
   "cell_type": "markdown",
   "id": "3697d2a9",
   "metadata": {
    "deletable": false,
    "id": "3697d2a9"
   },
   "source": [
    "*Ответ:* Информация при вводе данных может быть внесена некорректно или намеренно не внесена. Кроме того, может возникнуть техническая ошибка при вводе данных, сохранении или открытии файла."
   ]
  },
  {
   "cell_type": "markdown",
   "id": "a4ae6f10",
   "metadata": {},
   "source": [
    "<div class=\"alert alert-success\">\n",
    "<b>✅ Комментарий ревьюера v1: </b>\n",
    " \n",
    "Все верно. Пропуски здесь могут возникать как из-за технической проблемы, так и из-за человеческого фактора. Например, если какие-то поля были не обязательными для заполнения.</div>"
   ]
  },
  {
   "cell_type": "markdown",
   "id": "3137d257",
   "metadata": {
    "deletable": false,
    "editable": false,
    "id": "3137d257"
   },
   "source": [
    "#### 3.6 Объясните, почему заполнить пропуски медианным значением — лучшее решение для количественных переменных."
   ]
  },
  {
   "cell_type": "markdown",
   "id": "cf40012a",
   "metadata": {
    "deletable": false,
    "id": "cf40012a"
   },
   "source": [
    "*Ответ:* Медианное значение позволяет наиболее корректно заполнить пропуски, особенно если представлен диапазон с сильно выделяющимися значениями."
   ]
  },
  {
   "cell_type": "markdown",
   "id": "fafebe30",
   "metadata": {},
   "source": [
    "<div class=\"alert alert-success\">\n",
    "<b>✅ Комментарий ревьюера v1: </b> \n",
    "\n",
    "Да, медиана менее чувствительна к выбросам в данных.</div>"
   ]
  },
  {
   "cell_type": "markdown",
   "id": "57bc304e",
   "metadata": {
    "deletable": false,
    "editable": false,
    "id": "57bc304e"
   },
   "source": [
    "### Шаг 4: общий вывод."
   ]
  },
  {
   "cell_type": "markdown",
   "id": "1ab75d1c",
   "metadata": {
    "deletable": false,
    "id": "1ab75d1c"
   },
   "source": [
    "Наблюдается зависимость между возвратом кредита в срок и такими параметрами, как наличие ребенка/детей, семейное положение, уровень дохода и цель кредита. \n",
    "\n",
    "Согласно вышепредставленным данным, клиенты, которые рискуют просрочить платеж по кредиту: \n",
    "- имеют четверо детей в семье;\n",
    "- не состоят в официальном браке, а именно в статусе \"не женат / не замужем\" или проживают в гражданском браке;\n",
    "- получают постоянный доход в размере от 30001 до 50000 рублей;\n",
    "- берут кредиты для покупки автомобиля или получения образования.\n",
    "\n",
    "Также есть необходимость охарактеризовать надежных заемщиков. Кредитоспособные клиенты:\n",
    "- не имеют детей;\n",
    "- находятся в разводе или в статусе \"вдовы / вдовца\";\n",
    "- имеют стабильный заработок от 200001 до 1000000 рублей;\n",
    "- оформляют кредиты для покупки недвижимости.\n",
    "\n",
    "Для исследования использовалась таблица, содержащая важную информацию о количестве детей в семье, общем трудовом стаже, возрасте клиента, уровне образования клиента, семейном положении, типе занятости, ежемесячном доходе, цели получения кредита и, конечно, информацию о задолженности.\n",
    "\n",
    "Для более точного анализа данных на этапе предобработки пропуски в столбцах total_income и days_employed были заполнены медианными значениями. В столбце children были удалены строки с аномальными знчениями. Тип данных в столбце total_income был изменен на целочисленный с помощью метода astype(). Были обработаны неявные дубликаты в столбце education, путем приведения их к нижнему регистру.\n",
    "\n"
   ]
  },
  {
   "cell_type": "markdown",
   "id": "8ab7aab3",
   "metadata": {},
   "source": [
    "<div class=\"alert alert-success\">\n",
    "<b>✅ Комментарий ревьюера v1: </b> \n",
    "    \n",
    "Отличная отработка общего вывода. 👏\n",
    "</div>"
   ]
  },
  {
   "cell_type": "markdown",
   "id": "ba1afdba",
   "metadata": {},
   "source": [
    "<div class=\"alert alert-warning\">\n",
    "<b>⚠️ Комментарий ревьюера: v1 </b> \n",
    "\n",
    "Можно сделать общий вывод немного подробнее: добавить информацию о том, с какими данными мы работали, что было сделано на этапе предобработки. Можно дать рекомендации по улучшению качества данных.\n",
    "    \n",
    "</div>"
   ]
  },
  {
   "cell_type": "markdown",
   "id": "33a6813f",
   "metadata": {},
   "source": [
    "<div class=\"alert alert-info\"> \n",
    "<b>Комментарий студента:</b> \n",
    "Общий вывод скорректировала :)</div>"
   ]
  },
  {
   "cell_type": "markdown",
   "id": "b1076208",
   "metadata": {},
   "source": [
    "<div class=\"alert alert-success\">\n",
    "<b>✅ Комментарий ревьюера v2: </b> \n",
    "\n",
    "👍\n",
    "</div>"
   ]
  },
  {
   "cell_type": "markdown",
   "id": "2da306a6",
   "metadata": {},
   "source": [
    "<div style=\"border:solid green 2px; padding: 20px\">\n",
    " \n",
    "Эльвира, у тебя получилась отличная работа!\n",
    "    \n",
    "Критических замечаний нет.\n",
    "    \n",
    "Я готова принять твой проект. Возвращаю его тебе на случай, если у тебя остались какие-то вопросы, или есть желание доработать желтые комментарии. </div>"
   ]
  },
  {
   "cell_type": "markdown",
   "id": "66385b36",
   "metadata": {},
   "source": [
    "<div class=\"alert alert-info\"> \n",
    "<b>Комментарий студента:</b> \n",
    "Лина, привет! :) Спасибо большое за уделенное время. Я постаралась дополнить проект согласно твоим комментариям :) Не исправила только выводы в шагах первой части проекта, но взяла на заметку, в следующем проекте обязательно это учту!\n",
    "</div>"
   ]
  },
  {
   "cell_type": "markdown",
   "id": "d3429c10",
   "metadata": {},
   "source": [
    "<div style=\"border:solid green 2px; padding: 20px\">\n",
    "\n",
    "Эльвира, проект принят! У тебя получилось отличное исследование. Ты здорово справляешься с построением таблиц и их анализом. \n",
    "    \n",
    "Мне было интересно проверять твою работу. Удачи в дальнейшем обучении)"
   ]
  }
 ],
 "metadata": {
  "ExecuteTimeLog": [
   {
    "duration": 558,
    "start_time": "2023-04-15T16:25:26.759Z"
   },
   {
    "duration": 529,
    "start_time": "2023-04-16T11:15:21.914Z"
   },
   {
    "duration": 24,
    "start_time": "2023-04-16T11:15:22.445Z"
   },
   {
    "duration": 45,
    "start_time": "2023-04-16T11:15:22.470Z"
   },
   {
    "duration": 37,
    "start_time": "2023-04-16T11:15:22.517Z"
   },
   {
    "duration": 54,
    "start_time": "2023-04-16T11:15:22.556Z"
   },
   {
    "duration": 3,
    "start_time": "2023-04-16T11:15:22.612Z"
   },
   {
    "duration": 42,
    "start_time": "2023-04-16T11:15:22.616Z"
   },
   {
    "duration": 30,
    "start_time": "2023-04-16T11:15:22.660Z"
   },
   {
    "duration": 21,
    "start_time": "2023-04-16T11:15:22.692Z"
   },
   {
    "duration": 39,
    "start_time": "2023-04-16T11:15:22.716Z"
   },
   {
    "duration": 50,
    "start_time": "2023-04-16T11:15:22.757Z"
   },
   {
    "duration": 15,
    "start_time": "2023-04-16T11:15:22.809Z"
   },
   {
    "duration": 10,
    "start_time": "2023-04-16T11:15:22.826Z"
   },
   {
    "duration": 39,
    "start_time": "2023-04-16T11:15:22.838Z"
   },
   {
    "duration": 30,
    "start_time": "2023-04-16T11:15:22.879Z"
   },
   {
    "duration": 19,
    "start_time": "2023-04-16T11:15:22.911Z"
   },
   {
    "duration": 4,
    "start_time": "2023-04-16T11:15:22.932Z"
   },
   {
    "duration": 13,
    "start_time": "2023-04-16T11:15:22.938Z"
   },
   {
    "duration": 24,
    "start_time": "2023-04-16T11:15:22.953Z"
   },
   {
    "duration": 15,
    "start_time": "2023-04-16T11:15:22.978Z"
   },
   {
    "duration": 15,
    "start_time": "2023-04-16T11:15:22.995Z"
   },
   {
    "duration": 57,
    "start_time": "2023-04-16T11:43:40.507Z"
   },
   {
    "duration": 55,
    "start_time": "2023-04-16T11:43:44.207Z"
   },
   {
    "duration": 98,
    "start_time": "2023-04-16T11:44:17.346Z"
   },
   {
    "duration": 35,
    "start_time": "2023-04-16T11:47:27.216Z"
   },
   {
    "duration": 67,
    "start_time": "2023-04-16T11:50:30.105Z"
   },
   {
    "duration": 17,
    "start_time": "2023-04-16T11:50:30.174Z"
   },
   {
    "duration": 35,
    "start_time": "2023-04-16T11:50:30.193Z"
   },
   {
    "duration": 23,
    "start_time": "2023-04-16T11:50:30.230Z"
   },
   {
    "duration": 54,
    "start_time": "2023-04-16T11:50:30.256Z"
   },
   {
    "duration": 6,
    "start_time": "2023-04-16T11:50:30.312Z"
   },
   {
    "duration": 54,
    "start_time": "2023-04-16T11:50:30.320Z"
   },
   {
    "duration": 32,
    "start_time": "2023-04-16T11:50:30.375Z"
   },
   {
    "duration": 46,
    "start_time": "2023-04-16T11:50:30.409Z"
   },
   {
    "duration": 36,
    "start_time": "2023-04-16T11:50:30.457Z"
   },
   {
    "duration": 72,
    "start_time": "2023-04-16T11:50:30.494Z"
   },
   {
    "duration": 10,
    "start_time": "2023-04-16T11:50:30.568Z"
   },
   {
    "duration": 47,
    "start_time": "2023-04-16T11:50:30.579Z"
   },
   {
    "duration": 40,
    "start_time": "2023-04-16T11:50:30.629Z"
   },
   {
    "duration": 41,
    "start_time": "2023-04-16T11:50:30.670Z"
   },
   {
    "duration": 39,
    "start_time": "2023-04-16T11:50:30.712Z"
   },
   {
    "duration": 19,
    "start_time": "2023-04-16T11:50:30.753Z"
   },
   {
    "duration": 52,
    "start_time": "2023-04-16T11:50:30.773Z"
   },
   {
    "duration": 32,
    "start_time": "2023-04-16T11:50:30.827Z"
   },
   {
    "duration": 30,
    "start_time": "2023-04-16T11:50:30.860Z"
   },
   {
    "duration": 37,
    "start_time": "2023-04-16T11:50:30.892Z"
   },
   {
    "duration": 28,
    "start_time": "2023-04-16T11:50:32.407Z"
   },
   {
    "duration": 26,
    "start_time": "2023-04-16T11:54:34.051Z"
   },
   {
    "duration": 24,
    "start_time": "2023-04-16T11:54:52.609Z"
   },
   {
    "duration": 26,
    "start_time": "2023-04-16T11:54:59.056Z"
   },
   {
    "duration": 21,
    "start_time": "2023-04-16T12:29:39.130Z"
   },
   {
    "duration": 29,
    "start_time": "2023-04-16T12:29:52.026Z"
   },
   {
    "duration": 15,
    "start_time": "2023-04-16T12:31:43.429Z"
   },
   {
    "duration": 24,
    "start_time": "2023-04-16T12:31:58.438Z"
   },
   {
    "duration": 30,
    "start_time": "2023-04-16T12:33:43.085Z"
   },
   {
    "duration": 27,
    "start_time": "2023-04-16T12:34:12.686Z"
   },
   {
    "duration": 24,
    "start_time": "2023-04-16T12:44:39.812Z"
   },
   {
    "duration": 29,
    "start_time": "2023-04-16T12:47:37.393Z"
   },
   {
    "duration": 22,
    "start_time": "2023-04-16T12:48:48.012Z"
   },
   {
    "duration": 23,
    "start_time": "2023-04-16T12:50:34.923Z"
   },
   {
    "duration": 124,
    "start_time": "2023-04-17T16:40:51.128Z"
   },
   {
    "duration": 43,
    "start_time": "2023-04-17T17:34:39.213Z"
   },
   {
    "duration": 1077,
    "start_time": "2023-04-17T17:34:51.937Z"
   },
   {
    "duration": 24,
    "start_time": "2023-04-17T17:34:53.016Z"
   },
   {
    "duration": 25,
    "start_time": "2023-04-17T17:34:53.042Z"
   },
   {
    "duration": 14,
    "start_time": "2023-04-17T17:34:53.069Z"
   },
   {
    "duration": 57,
    "start_time": "2023-04-17T17:34:53.084Z"
   },
   {
    "duration": 4,
    "start_time": "2023-04-17T17:34:53.143Z"
   },
   {
    "duration": 13,
    "start_time": "2023-04-17T17:34:53.148Z"
   },
   {
    "duration": 17,
    "start_time": "2023-04-17T17:34:53.163Z"
   },
   {
    "duration": 30,
    "start_time": "2023-04-17T17:34:53.181Z"
   },
   {
    "duration": 9,
    "start_time": "2023-04-17T17:34:53.213Z"
   },
   {
    "duration": 65,
    "start_time": "2023-04-17T17:34:53.223Z"
   },
   {
    "duration": 11,
    "start_time": "2023-04-17T17:34:53.290Z"
   },
   {
    "duration": 13,
    "start_time": "2023-04-17T17:34:53.303Z"
   },
   {
    "duration": 19,
    "start_time": "2023-04-17T17:34:53.318Z"
   },
   {
    "duration": 37,
    "start_time": "2023-04-17T17:34:53.339Z"
   },
   {
    "duration": 30,
    "start_time": "2023-04-17T17:34:53.378Z"
   },
   {
    "duration": 18,
    "start_time": "2023-04-17T17:34:53.410Z"
   },
   {
    "duration": 22,
    "start_time": "2023-04-17T17:34:53.429Z"
   },
   {
    "duration": 7,
    "start_time": "2023-04-17T17:34:53.453Z"
   },
   {
    "duration": 10,
    "start_time": "2023-04-17T17:34:53.462Z"
   },
   {
    "duration": 43,
    "start_time": "2023-04-17T17:34:53.474Z"
   },
   {
    "duration": 35,
    "start_time": "2023-04-17T17:34:53.519Z"
   },
   {
    "duration": 19,
    "start_time": "2023-04-17T17:34:53.555Z"
   },
   {
    "duration": 25,
    "start_time": "2023-04-17T17:34:53.576Z"
   },
   {
    "duration": 36,
    "start_time": "2023-04-17T17:34:53.602Z"
   },
   {
    "duration": 21,
    "start_time": "2023-04-17T17:36:14.144Z"
   },
   {
    "duration": 20,
    "start_time": "2023-04-17T17:37:18.300Z"
   },
   {
    "duration": 19,
    "start_time": "2023-04-17T17:38:02.795Z"
   },
   {
    "duration": 69,
    "start_time": "2023-04-17T17:38:07.224Z"
   },
   {
    "duration": 15,
    "start_time": "2023-04-17T17:38:07.295Z"
   },
   {
    "duration": 29,
    "start_time": "2023-04-17T17:38:07.312Z"
   },
   {
    "duration": 15,
    "start_time": "2023-04-17T17:38:07.344Z"
   },
   {
    "duration": 37,
    "start_time": "2023-04-17T17:38:07.361Z"
   },
   {
    "duration": 4,
    "start_time": "2023-04-17T17:38:07.400Z"
   },
   {
    "duration": 13,
    "start_time": "2023-04-17T17:38:07.405Z"
   },
   {
    "duration": 14,
    "start_time": "2023-04-17T17:38:07.420Z"
   },
   {
    "duration": 7,
    "start_time": "2023-04-17T17:38:07.436Z"
   },
   {
    "duration": 6,
    "start_time": "2023-04-17T17:38:07.446Z"
   },
   {
    "duration": 33,
    "start_time": "2023-04-17T17:38:07.454Z"
   },
   {
    "duration": 10,
    "start_time": "2023-04-17T17:38:07.489Z"
   },
   {
    "duration": 28,
    "start_time": "2023-04-17T17:38:07.500Z"
   },
   {
    "duration": 19,
    "start_time": "2023-04-17T17:38:07.529Z"
   },
   {
    "duration": 31,
    "start_time": "2023-04-17T17:38:07.550Z"
   },
   {
    "duration": 16,
    "start_time": "2023-04-17T17:38:07.583Z"
   },
   {
    "duration": 3,
    "start_time": "2023-04-17T17:38:07.601Z"
   },
   {
    "duration": 13,
    "start_time": "2023-04-17T17:38:07.605Z"
   },
   {
    "duration": 15,
    "start_time": "2023-04-17T17:38:07.619Z"
   },
   {
    "duration": 4,
    "start_time": "2023-04-17T17:38:07.635Z"
   },
   {
    "duration": 18,
    "start_time": "2023-04-17T17:38:07.640Z"
   },
   {
    "duration": 27,
    "start_time": "2023-04-17T17:38:07.659Z"
   },
   {
    "duration": 20,
    "start_time": "2023-04-17T17:38:07.688Z"
   },
   {
    "duration": 38,
    "start_time": "2023-04-17T17:38:07.710Z"
   },
   {
    "duration": 23,
    "start_time": "2023-04-17T17:38:07.750Z"
   },
   {
    "duration": 72,
    "start_time": "2023-04-17T17:38:27.199Z"
   },
   {
    "duration": 15,
    "start_time": "2023-04-17T17:38:27.273Z"
   },
   {
    "duration": 19,
    "start_time": "2023-04-17T17:38:27.289Z"
   },
   {
    "duration": 24,
    "start_time": "2023-04-17T17:38:27.310Z"
   },
   {
    "duration": 38,
    "start_time": "2023-04-17T17:38:27.336Z"
   },
   {
    "duration": 4,
    "start_time": "2023-04-17T17:38:27.375Z"
   },
   {
    "duration": 12,
    "start_time": "2023-04-17T17:38:27.380Z"
   },
   {
    "duration": 5,
    "start_time": "2023-04-17T17:38:27.394Z"
   },
   {
    "duration": 33,
    "start_time": "2023-04-17T17:38:27.400Z"
   },
   {
    "duration": 6,
    "start_time": "2023-04-17T17:38:27.435Z"
   },
   {
    "duration": 40,
    "start_time": "2023-04-17T17:38:27.443Z"
   },
   {
    "duration": 12,
    "start_time": "2023-04-17T17:38:27.485Z"
   },
   {
    "duration": 4,
    "start_time": "2023-04-17T17:38:27.499Z"
   },
   {
    "duration": 34,
    "start_time": "2023-04-17T17:38:27.506Z"
   },
   {
    "duration": 17,
    "start_time": "2023-04-17T17:38:27.542Z"
   },
   {
    "duration": 15,
    "start_time": "2023-04-17T17:38:27.561Z"
   },
   {
    "duration": 3,
    "start_time": "2023-04-17T17:38:27.578Z"
   },
   {
    "duration": 18,
    "start_time": "2023-04-17T17:38:27.583Z"
   },
   {
    "duration": 32,
    "start_time": "2023-04-17T17:38:27.602Z"
   },
   {
    "duration": 4,
    "start_time": "2023-04-17T17:38:27.636Z"
   },
   {
    "duration": 14,
    "start_time": "2023-04-17T17:38:27.641Z"
   },
   {
    "duration": 25,
    "start_time": "2023-04-17T17:38:27.656Z"
   },
   {
    "duration": 18,
    "start_time": "2023-04-17T17:38:27.682Z"
   },
   {
    "duration": 36,
    "start_time": "2023-04-17T17:38:27.702Z"
   },
   {
    "duration": 20,
    "start_time": "2023-04-17T17:38:27.740Z"
   },
   {
    "duration": 79,
    "start_time": "2023-04-17T17:41:16.203Z"
   },
   {
    "duration": 17,
    "start_time": "2023-04-17T17:41:16.285Z"
   },
   {
    "duration": 35,
    "start_time": "2023-04-17T17:41:16.304Z"
   },
   {
    "duration": 10,
    "start_time": "2023-04-17T17:41:16.342Z"
   },
   {
    "duration": 36,
    "start_time": "2023-04-17T17:41:16.354Z"
   },
   {
    "duration": 3,
    "start_time": "2023-04-17T17:41:16.392Z"
   },
   {
    "duration": 37,
    "start_time": "2023-04-17T17:41:16.397Z"
   },
   {
    "duration": 4,
    "start_time": "2023-04-17T17:41:16.436Z"
   },
   {
    "duration": 9,
    "start_time": "2023-04-17T17:41:16.442Z"
   },
   {
    "duration": 16,
    "start_time": "2023-04-17T17:41:16.454Z"
   },
   {
    "duration": 47,
    "start_time": "2023-04-17T17:41:16.472Z"
   },
   {
    "duration": 13,
    "start_time": "2023-04-17T17:41:16.521Z"
   },
   {
    "duration": 9,
    "start_time": "2023-04-17T17:41:16.536Z"
   },
   {
    "duration": 15,
    "start_time": "2023-04-17T17:41:16.547Z"
   },
   {
    "duration": 24,
    "start_time": "2023-04-17T17:41:16.564Z"
   },
   {
    "duration": 19,
    "start_time": "2023-04-17T17:41:16.590Z"
   },
   {
    "duration": 22,
    "start_time": "2023-04-17T17:41:16.611Z"
   },
   {
    "duration": 11,
    "start_time": "2023-04-17T17:41:16.636Z"
   },
   {
    "duration": 19,
    "start_time": "2023-04-17T17:41:16.649Z"
   },
   {
    "duration": 9,
    "start_time": "2023-04-17T17:41:16.669Z"
   },
   {
    "duration": 16,
    "start_time": "2023-04-17T17:41:16.679Z"
   },
   {
    "duration": 28,
    "start_time": "2023-04-17T17:41:16.697Z"
   },
   {
    "duration": 29,
    "start_time": "2023-04-17T17:41:16.727Z"
   },
   {
    "duration": 19,
    "start_time": "2023-04-17T17:41:16.758Z"
   },
   {
    "duration": 20,
    "start_time": "2023-04-17T17:41:16.779Z"
   },
   {
    "duration": 73,
    "start_time": "2023-04-17T17:42:12.907Z"
   },
   {
    "duration": 15,
    "start_time": "2023-04-17T17:42:12.983Z"
   },
   {
    "duration": 52,
    "start_time": "2023-04-17T17:42:12.999Z"
   },
   {
    "duration": 21,
    "start_time": "2023-04-17T17:42:13.053Z"
   },
   {
    "duration": 56,
    "start_time": "2023-04-17T17:42:13.076Z"
   },
   {
    "duration": 16,
    "start_time": "2023-04-17T17:42:13.134Z"
   },
   {
    "duration": 20,
    "start_time": "2023-04-17T17:42:13.152Z"
   },
   {
    "duration": 35,
    "start_time": "2023-04-17T17:42:13.173Z"
   },
   {
    "duration": 29,
    "start_time": "2023-04-17T17:42:13.210Z"
   },
   {
    "duration": 15,
    "start_time": "2023-04-17T17:42:13.241Z"
   },
   {
    "duration": 52,
    "start_time": "2023-04-17T17:42:13.258Z"
   },
   {
    "duration": 11,
    "start_time": "2023-04-17T17:42:13.312Z"
   },
   {
    "duration": 25,
    "start_time": "2023-04-17T17:42:13.324Z"
   },
   {
    "duration": 12,
    "start_time": "2023-04-17T17:42:13.351Z"
   },
   {
    "duration": 24,
    "start_time": "2023-04-17T17:42:13.364Z"
   },
   {
    "duration": 18,
    "start_time": "2023-04-17T17:42:13.389Z"
   },
   {
    "duration": 4,
    "start_time": "2023-04-17T17:42:13.408Z"
   },
   {
    "duration": 13,
    "start_time": "2023-04-17T17:42:13.413Z"
   },
   {
    "duration": 7,
    "start_time": "2023-04-17T17:42:13.428Z"
   },
   {
    "duration": 3,
    "start_time": "2023-04-17T17:42:13.437Z"
   },
   {
    "duration": 14,
    "start_time": "2023-04-17T17:42:13.442Z"
   },
   {
    "duration": 22,
    "start_time": "2023-04-17T17:42:13.458Z"
   },
   {
    "duration": 21,
    "start_time": "2023-04-17T17:42:13.482Z"
   },
   {
    "duration": 47,
    "start_time": "2023-04-17T17:42:13.504Z"
   },
   {
    "duration": 20,
    "start_time": "2023-04-17T17:42:13.553Z"
   },
   {
    "duration": 575,
    "start_time": "2023-04-17T18:34:00.586Z"
   },
   {
    "duration": 33,
    "start_time": "2023-04-17T18:34:01.163Z"
   },
   {
    "duration": 47,
    "start_time": "2023-04-17T18:34:01.198Z"
   },
   {
    "duration": 50,
    "start_time": "2023-04-17T18:34:01.247Z"
   },
   {
    "duration": 104,
    "start_time": "2023-04-17T18:34:01.299Z"
   },
   {
    "duration": 197,
    "start_time": "2023-04-17T18:34:01.405Z"
   },
   {
    "duration": 71,
    "start_time": "2023-04-17T18:34:01.605Z"
   },
   {
    "duration": 83,
    "start_time": "2023-04-17T18:34:01.678Z"
   },
   {
    "duration": 47,
    "start_time": "2023-04-17T18:34:01.762Z"
   },
   {
    "duration": 77,
    "start_time": "2023-04-17T18:34:01.811Z"
   },
   {
    "duration": 113,
    "start_time": "2023-04-17T18:34:01.890Z"
   },
   {
    "duration": 56,
    "start_time": "2023-04-17T18:34:02.005Z"
   },
   {
    "duration": 64,
    "start_time": "2023-04-17T18:34:02.063Z"
   },
   {
    "duration": 80,
    "start_time": "2023-04-17T18:34:02.129Z"
   },
   {
    "duration": 80,
    "start_time": "2023-04-17T18:34:02.211Z"
   },
   {
    "duration": 64,
    "start_time": "2023-04-17T18:34:02.293Z"
   },
   {
    "duration": 17,
    "start_time": "2023-04-17T18:34:02.359Z"
   },
   {
    "duration": 56,
    "start_time": "2023-04-17T18:34:02.378Z"
   },
   {
    "duration": 26,
    "start_time": "2023-04-17T18:34:02.436Z"
   },
   {
    "duration": 22,
    "start_time": "2023-04-17T18:34:02.464Z"
   },
   {
    "duration": 63,
    "start_time": "2023-04-17T18:34:02.488Z"
   },
   {
    "duration": 52,
    "start_time": "2023-04-17T18:34:02.553Z"
   },
   {
    "duration": 23,
    "start_time": "2023-04-17T18:34:02.607Z"
   },
   {
    "duration": 22,
    "start_time": "2023-04-17T18:34:02.632Z"
   },
   {
    "duration": 39,
    "start_time": "2023-04-17T18:34:02.656Z"
   },
   {
    "duration": 571,
    "start_time": "2023-04-18T05:50:58.132Z"
   },
   {
    "duration": 23,
    "start_time": "2023-04-18T05:50:58.705Z"
   },
   {
    "duration": 15,
    "start_time": "2023-04-18T05:50:58.730Z"
   },
   {
    "duration": 9,
    "start_time": "2023-04-18T05:50:58.747Z"
   },
   {
    "duration": 35,
    "start_time": "2023-04-18T05:50:58.758Z"
   },
   {
    "duration": 4,
    "start_time": "2023-04-18T05:50:58.795Z"
   },
   {
    "duration": 10,
    "start_time": "2023-04-18T05:50:58.800Z"
   },
   {
    "duration": 5,
    "start_time": "2023-04-18T05:50:58.811Z"
   },
   {
    "duration": 11,
    "start_time": "2023-04-18T05:50:58.817Z"
   },
   {
    "duration": 5,
    "start_time": "2023-04-18T05:50:58.856Z"
   },
   {
    "duration": 36,
    "start_time": "2023-04-18T05:50:58.862Z"
   },
   {
    "duration": 10,
    "start_time": "2023-04-18T05:50:58.900Z"
   },
   {
    "duration": 4,
    "start_time": "2023-04-18T05:50:58.911Z"
   },
   {
    "duration": 43,
    "start_time": "2023-04-18T05:50:58.917Z"
   },
   {
    "duration": 21,
    "start_time": "2023-04-18T05:50:58.961Z"
   },
   {
    "duration": 17,
    "start_time": "2023-04-18T05:50:58.984Z"
   },
   {
    "duration": 4,
    "start_time": "2023-04-18T05:50:59.003Z"
   },
   {
    "duration": 13,
    "start_time": "2023-04-18T05:50:59.008Z"
   },
   {
    "duration": 6,
    "start_time": "2023-04-18T05:50:59.023Z"
   },
   {
    "duration": 3,
    "start_time": "2023-04-18T05:50:59.056Z"
   },
   {
    "duration": 12,
    "start_time": "2023-04-18T05:50:59.061Z"
   },
   {
    "duration": 25,
    "start_time": "2023-04-18T05:50:59.075Z"
   },
   {
    "duration": 21,
    "start_time": "2023-04-18T05:50:59.102Z"
   },
   {
    "duration": 47,
    "start_time": "2023-04-18T05:50:59.125Z"
   },
   {
    "duration": 24,
    "start_time": "2023-04-18T05:50:59.174Z"
   },
   {
    "duration": 49,
    "start_time": "2023-04-18T17:11:12.672Z"
   },
   {
    "duration": 43,
    "start_time": "2023-04-18T17:11:43.067Z"
   },
   {
    "duration": 71,
    "start_time": "2023-04-18T17:13:00.717Z"
   },
   {
    "duration": 64,
    "start_time": "2023-04-18T17:13:11.429Z"
   },
   {
    "duration": 65,
    "start_time": "2023-04-18T17:15:05.247Z"
   },
   {
    "duration": 45,
    "start_time": "2023-04-18T17:16:32.130Z"
   },
   {
    "duration": 516,
    "start_time": "2023-04-18T17:16:37.243Z"
   },
   {
    "duration": 23,
    "start_time": "2023-04-18T17:16:37.760Z"
   },
   {
    "duration": 18,
    "start_time": "2023-04-18T17:16:37.785Z"
   },
   {
    "duration": 11,
    "start_time": "2023-04-18T17:16:37.805Z"
   },
   {
    "duration": 38,
    "start_time": "2023-04-18T17:16:37.817Z"
   },
   {
    "duration": 5,
    "start_time": "2023-04-18T17:16:37.858Z"
   },
   {
    "duration": 12,
    "start_time": "2023-04-18T17:16:37.864Z"
   },
   {
    "duration": 4,
    "start_time": "2023-04-18T17:16:37.878Z"
   },
   {
    "duration": 8,
    "start_time": "2023-04-18T17:16:37.884Z"
   },
   {
    "duration": 4,
    "start_time": "2023-04-18T17:16:37.895Z"
   },
   {
    "duration": 48,
    "start_time": "2023-04-18T17:16:37.936Z"
   },
   {
    "duration": 10,
    "start_time": "2023-04-18T17:16:37.986Z"
   },
   {
    "duration": 4,
    "start_time": "2023-04-18T17:16:37.997Z"
   },
   {
    "duration": 34,
    "start_time": "2023-04-18T17:16:38.002Z"
   },
   {
    "duration": 24,
    "start_time": "2023-04-18T17:16:38.038Z"
   },
   {
    "duration": 17,
    "start_time": "2023-04-18T17:16:38.063Z"
   },
   {
    "duration": 4,
    "start_time": "2023-04-18T17:16:38.081Z"
   },
   {
    "duration": 14,
    "start_time": "2023-04-18T17:16:38.086Z"
   },
   {
    "duration": 35,
    "start_time": "2023-04-18T17:16:38.101Z"
   },
   {
    "duration": 3,
    "start_time": "2023-04-18T17:16:38.138Z"
   },
   {
    "duration": 10,
    "start_time": "2023-04-18T17:16:38.143Z"
   },
   {
    "duration": 33,
    "start_time": "2023-04-18T17:16:38.154Z"
   },
   {
    "duration": 23,
    "start_time": "2023-04-18T17:16:38.190Z"
   },
   {
    "duration": 40,
    "start_time": "2023-04-18T17:16:38.214Z"
   },
   {
    "duration": 20,
    "start_time": "2023-04-18T17:16:38.255Z"
   },
   {
    "duration": 45,
    "start_time": "2023-04-18T17:16:49.339Z"
   },
   {
    "duration": 43,
    "start_time": "2023-04-18T17:17:16.949Z"
   },
   {
    "duration": 47,
    "start_time": "2023-04-18T17:32:30.930Z"
   },
   {
    "duration": 64,
    "start_time": "2023-04-18T17:33:05.279Z"
   },
   {
    "duration": 14,
    "start_time": "2023-04-18T17:33:05.345Z"
   },
   {
    "duration": 34,
    "start_time": "2023-04-18T17:33:05.361Z"
   },
   {
    "duration": 7,
    "start_time": "2023-04-18T17:33:05.397Z"
   },
   {
    "duration": 39,
    "start_time": "2023-04-18T17:33:05.406Z"
   },
   {
    "duration": 4,
    "start_time": "2023-04-18T17:33:05.448Z"
   },
   {
    "duration": 10,
    "start_time": "2023-04-18T17:33:05.453Z"
   },
   {
    "duration": 17,
    "start_time": "2023-04-18T17:33:05.464Z"
   },
   {
    "duration": 11,
    "start_time": "2023-04-18T17:33:05.482Z"
   },
   {
    "duration": 13,
    "start_time": "2023-04-18T17:33:05.495Z"
   },
   {
    "duration": 45,
    "start_time": "2023-04-18T17:33:05.510Z"
   },
   {
    "duration": 8,
    "start_time": "2023-04-18T17:33:05.557Z"
   },
   {
    "duration": 20,
    "start_time": "2023-04-18T17:33:05.566Z"
   },
   {
    "duration": 34,
    "start_time": "2023-04-18T17:33:05.588Z"
   },
   {
    "duration": 31,
    "start_time": "2023-04-18T17:33:05.623Z"
   },
   {
    "duration": 38,
    "start_time": "2023-04-18T17:33:05.656Z"
   },
   {
    "duration": 5,
    "start_time": "2023-04-18T17:33:05.696Z"
   },
   {
    "duration": 35,
    "start_time": "2023-04-18T17:33:05.703Z"
   },
   {
    "duration": 16,
    "start_time": "2023-04-18T17:33:05.739Z"
   },
   {
    "duration": 5,
    "start_time": "2023-04-18T17:33:05.757Z"
   },
   {
    "duration": 9,
    "start_time": "2023-04-18T17:33:05.763Z"
   },
   {
    "duration": 22,
    "start_time": "2023-04-18T17:33:05.774Z"
   },
   {
    "duration": 18,
    "start_time": "2023-04-18T17:33:05.798Z"
   },
   {
    "duration": 33,
    "start_time": "2023-04-18T17:33:05.818Z"
   },
   {
    "duration": 17,
    "start_time": "2023-04-18T17:33:05.853Z"
   },
   {
    "duration": 48,
    "start_time": "2023-04-18T17:33:05.871Z"
   },
   {
    "duration": 0,
    "start_time": "2023-04-18T17:33:05.920Z"
   },
   {
    "duration": 44,
    "start_time": "2023-04-18T17:33:11.287Z"
   },
   {
    "duration": 44,
    "start_time": "2023-04-18T17:34:22.143Z"
   },
   {
    "duration": 3,
    "start_time": "2023-04-18T18:41:10.953Z"
   },
   {
    "duration": 9,
    "start_time": "2023-04-18T18:41:12.033Z"
   },
   {
    "duration": 18,
    "start_time": "2023-04-18T18:41:20.553Z"
   },
   {
    "duration": 51,
    "start_time": "2023-04-18T18:42:20.152Z"
   },
   {
    "duration": 88,
    "start_time": "2023-04-18T19:14:26.554Z"
   },
   {
    "duration": 19,
    "start_time": "2023-04-18T19:14:26.644Z"
   },
   {
    "duration": 18,
    "start_time": "2023-04-18T19:14:26.665Z"
   },
   {
    "duration": 12,
    "start_time": "2023-04-18T19:14:26.685Z"
   },
   {
    "duration": 67,
    "start_time": "2023-04-18T19:14:26.698Z"
   },
   {
    "duration": 4,
    "start_time": "2023-04-18T19:14:26.767Z"
   },
   {
    "duration": 8,
    "start_time": "2023-04-18T19:14:26.773Z"
   },
   {
    "duration": 5,
    "start_time": "2023-04-18T19:14:26.782Z"
   },
   {
    "duration": 5,
    "start_time": "2023-04-18T19:14:26.788Z"
   },
   {
    "duration": 4,
    "start_time": "2023-04-18T19:14:26.797Z"
   },
   {
    "duration": 57,
    "start_time": "2023-04-18T19:14:26.803Z"
   },
   {
    "duration": 8,
    "start_time": "2023-04-18T19:14:26.862Z"
   },
   {
    "duration": 14,
    "start_time": "2023-04-18T19:14:26.872Z"
   },
   {
    "duration": 23,
    "start_time": "2023-04-18T19:14:26.887Z"
   },
   {
    "duration": 20,
    "start_time": "2023-04-18T19:14:26.911Z"
   },
   {
    "duration": 24,
    "start_time": "2023-04-18T19:14:26.935Z"
   },
   {
    "duration": 4,
    "start_time": "2023-04-18T19:14:26.960Z"
   },
   {
    "duration": 14,
    "start_time": "2023-04-18T19:14:26.966Z"
   },
   {
    "duration": 6,
    "start_time": "2023-04-18T19:14:26.981Z"
   },
   {
    "duration": 14,
    "start_time": "2023-04-18T19:14:26.988Z"
   },
   {
    "duration": 10,
    "start_time": "2023-04-18T19:14:27.003Z"
   },
   {
    "duration": 40,
    "start_time": "2023-04-18T19:14:27.015Z"
   },
   {
    "duration": 22,
    "start_time": "2023-04-18T19:14:27.057Z"
   },
   {
    "duration": 20,
    "start_time": "2023-04-18T19:14:27.081Z"
   },
   {
    "duration": 44,
    "start_time": "2023-04-18T19:14:27.103Z"
   },
   {
    "duration": 660,
    "start_time": "2023-04-19T05:54:57.356Z"
   },
   {
    "duration": 27,
    "start_time": "2023-04-19T05:54:58.020Z"
   },
   {
    "duration": 46,
    "start_time": "2023-04-19T05:54:58.049Z"
   },
   {
    "duration": 26,
    "start_time": "2023-04-19T05:54:58.098Z"
   },
   {
    "duration": 69,
    "start_time": "2023-04-19T05:54:58.126Z"
   },
   {
    "duration": 7,
    "start_time": "2023-04-19T05:54:58.197Z"
   },
   {
    "duration": 18,
    "start_time": "2023-04-19T05:54:58.213Z"
   },
   {
    "duration": 8,
    "start_time": "2023-04-19T05:54:58.233Z"
   },
   {
    "duration": 8,
    "start_time": "2023-04-19T05:54:58.244Z"
   },
   {
    "duration": 6,
    "start_time": "2023-04-19T05:54:58.256Z"
   },
   {
    "duration": 97,
    "start_time": "2023-04-19T05:54:58.264Z"
   },
   {
    "duration": 19,
    "start_time": "2023-04-19T05:54:58.363Z"
   },
   {
    "duration": 6,
    "start_time": "2023-04-19T05:54:58.384Z"
   },
   {
    "duration": 35,
    "start_time": "2023-04-19T05:54:58.392Z"
   },
   {
    "duration": 31,
    "start_time": "2023-04-19T05:54:58.430Z"
   },
   {
    "duration": 49,
    "start_time": "2023-04-19T05:54:58.464Z"
   },
   {
    "duration": 5,
    "start_time": "2023-04-19T05:54:58.516Z"
   },
   {
    "duration": 16,
    "start_time": "2023-04-19T05:54:58.523Z"
   },
   {
    "duration": 9,
    "start_time": "2023-04-19T05:54:58.541Z"
   },
   {
    "duration": 4,
    "start_time": "2023-04-19T05:54:58.553Z"
   },
   {
    "duration": 23,
    "start_time": "2023-04-19T05:54:58.560Z"
   },
   {
    "duration": 59,
    "start_time": "2023-04-19T05:54:58.585Z"
   },
   {
    "duration": 31,
    "start_time": "2023-04-19T05:54:58.646Z"
   },
   {
    "duration": 48,
    "start_time": "2023-04-19T05:54:58.679Z"
   },
   {
    "duration": 33,
    "start_time": "2023-04-19T05:54:58.729Z"
   },
   {
    "duration": 600,
    "start_time": "2023-04-19T06:07:28.541Z"
   },
   {
    "duration": 37,
    "start_time": "2023-04-19T06:07:29.145Z"
   },
   {
    "duration": 43,
    "start_time": "2023-04-19T06:07:29.185Z"
   },
   {
    "duration": 18,
    "start_time": "2023-04-19T06:07:29.231Z"
   },
   {
    "duration": 69,
    "start_time": "2023-04-19T06:07:29.253Z"
   },
   {
    "duration": 5,
    "start_time": "2023-04-19T06:07:29.324Z"
   },
   {
    "duration": 20,
    "start_time": "2023-04-19T06:07:29.332Z"
   },
   {
    "duration": 7,
    "start_time": "2023-04-19T06:07:29.354Z"
   },
   {
    "duration": 21,
    "start_time": "2023-04-19T06:07:29.363Z"
   },
   {
    "duration": 25,
    "start_time": "2023-04-19T06:07:29.387Z"
   },
   {
    "duration": 44,
    "start_time": "2023-04-19T06:07:29.415Z"
   },
   {
    "duration": 14,
    "start_time": "2023-04-19T06:07:29.461Z"
   },
   {
    "duration": 15,
    "start_time": "2023-04-19T06:07:29.477Z"
   },
   {
    "duration": 15,
    "start_time": "2023-04-19T06:07:29.513Z"
   },
   {
    "duration": 34,
    "start_time": "2023-04-19T06:07:29.530Z"
   },
   {
    "duration": 19,
    "start_time": "2023-04-19T06:07:29.566Z"
   },
   {
    "duration": 5,
    "start_time": "2023-04-19T06:07:29.611Z"
   },
   {
    "duration": 18,
    "start_time": "2023-04-19T06:07:29.618Z"
   },
   {
    "duration": 15,
    "start_time": "2023-04-19T06:07:29.638Z"
   },
   {
    "duration": 5,
    "start_time": "2023-04-19T06:07:29.656Z"
   },
   {
    "duration": 31,
    "start_time": "2023-04-19T06:07:29.663Z"
   },
   {
    "duration": 36,
    "start_time": "2023-04-19T06:07:29.696Z"
   },
   {
    "duration": 53,
    "start_time": "2023-04-19T06:07:29.734Z"
   },
   {
    "duration": 37,
    "start_time": "2023-04-19T06:07:29.790Z"
   },
   {
    "duration": 25,
    "start_time": "2023-04-19T06:07:29.829Z"
   }
  ],
  "colab": {
   "provenance": []
  },
  "kernelspec": {
   "display_name": "Python 3 (ipykernel)",
   "language": "python",
   "name": "python3"
  },
  "language_info": {
   "codemirror_mode": {
    "name": "ipython",
    "version": 3
   },
   "file_extension": ".py",
   "mimetype": "text/x-python",
   "name": "python",
   "nbconvert_exporter": "python",
   "pygments_lexer": "ipython3",
   "version": "3.11.5"
  },
  "toc": {
   "base_numbering": 1,
   "nav_menu": {},
   "number_sections": true,
   "sideBar": true,
   "skip_h1_title": true,
   "title_cell": "Table of Contents",
   "title_sidebar": "Contents",
   "toc_cell": false,
   "toc_position": {
    "height": "calc(100% - 180px)",
    "left": "10px",
    "top": "150px",
    "width": "271px"
   },
   "toc_section_display": true,
   "toc_window_display": true
  }
 },
 "nbformat": 4,
 "nbformat_minor": 5
}
