{
 "cells": [
  {
   "cell_type": "markdown",
   "id": "7c60c1d3",
   "metadata": {},
   "source": [
    "# Исследование данных о пользователях сервиса аренды самокатов GoFast"
   ]
  },
  {
   "cell_type": "markdown",
   "id": "28193217",
   "metadata": {},
   "source": [
    "**Описание проекта**\n",
    "\n",
    "Я аналитик популярного сервиса аренды самокатов GoFast. Мне передали данные о некоторых пользователях из нескольких городов, а также об их поездках. Проанализируем данные и проверим некоторые гипотезы, которые могут помочь бизнесу вырасти.\n",
    "Чтобы совершать поездки по городу, пользователи сервиса GoFast пользуются мобильным приложением. \n",
    "\n",
    "Сервисом можно пользоваться:\n",
    "- без подписки\n",
    "     - абонентская плата отсутствует;\n",
    "     - стоимость одной минуты поездки — 8 рублей;\n",
    "     - стоимость старта (начала поездки) — 50 рублей;\n",
    "     \n",
    "- с подпиской Ultra\n",
    "     - абонентская плата — 199 рублей в месяц;\n",
    "     - стоимость одной минуты поездки — 6 рублей;\n",
    "     - стоимость старта — бесплатно.\n",
    "\n",
    "Для анализа нам предоставлены 3 таблицы.\n",
    "\n",
    "**Описание данных**\n",
    "\n",
    "В основных данных есть информация о пользователях, их поездках и подписках.\n",
    "Пользователи — users_go.csv\n",
    "- user_id - уникальный идентификатор пользователя\n",
    "- name - имя пользователя\n",
    "- age - возраст\n",
    "- city - город\n",
    "- subscription_type - тип подписки (free, ultra)\n",
    "  \n",
    "Поездки — rides_go.csv\n",
    "- user_id - уникальный идентификатор пользователя\n",
    "- distance - расстояние, которое пользователь проехал в текущей сессии (в метрах)\n",
    "- duration - продолжительность сессии (в минутах) — время с того момента, как пользователь нажал кнопку «Начать поездку» до момента, как он нажал кнопку «Завершить поездку»\n",
    "- date - дата совершения поездки\n",
    "  \n",
    "Подписки — subscriptions_go.csv\n",
    "- subscription_type - тип подписки\n",
    "- minute_price - стоимость одной минуты поездки по данной подписке\n",
    "- start_ride_price - стоимость начала поездки\n",
    "- subscription_fee - стоимость ежемесячного платежа\n",
    "\n",
    "**Цели исследования:**\n",
    "- ознакомиться с исходными данными;\n",
    "- подготовить данные к анализу: проверить на наличие пропущенных значений и дубликатов;\n",
    "- описать и визуализировать общую информацию о пользователях и поездках;\n",
    "- объединить данные о пользователях, поездках и подписках в один датафрейм;\n",
    "- рассчитать помесячную выручку по каждому пользователю;\n",
    "- проверить предложенные гипотезы, которые могут улучшить работу бизнеса."
   ]
  },
  {
   "cell_type": "markdown",
   "id": "c42cbe00",
   "metadata": {},
   "source": [
    "## Загрузка данных"
   ]
  },
  {
   "cell_type": "markdown",
   "id": "97a6ac0f",
   "metadata": {},
   "source": [
    "### Считаем CSV-файлы с данными с помощью библиотеки Pandas и сохраним их в датафреймы\n",
    "\n"
   ]
  },
  {
   "cell_type": "code",
   "execution_count": 1,
   "id": "f4970393",
   "metadata": {},
   "outputs": [],
   "source": [
    "#импортируем необходимые библиотеки\n",
    "import pandas as pd\n",
    "import matplotlib.pyplot as plt\n",
    "import numpy as np\n",
    "from scipy import stats as st"
   ]
  },
  {
   "cell_type": "code",
   "execution_count": 2,
   "id": "45f03108",
   "metadata": {},
   "outputs": [],
   "source": [
    "#откроем файл с данными о пользователях\n",
    "data_users = pd.read_csv('https://code.s3.yandex.net/datasets/users_go.csv')"
   ]
  },
  {
   "cell_type": "code",
   "execution_count": 3,
   "id": "d340ac35",
   "metadata": {},
   "outputs": [],
   "source": [
    "#откроем файл с данными о поездках\n",
    "data_riders = pd.read_csv('https://code.s3.yandex.net/datasets/rides_go.csv')"
   ]
  },
  {
   "cell_type": "code",
   "execution_count": 4,
   "id": "bdbabace",
   "metadata": {},
   "outputs": [],
   "source": [
    "#откроем файл с данными о подписках\n",
    "data_subs = pd.read_csv('https://code.s3.yandex.net/datasets/subscriptions_go.csv')"
   ]
  },
  {
   "cell_type": "markdown",
   "id": "d422dcf1",
   "metadata": {},
   "source": [
    "Сохранили файлы в 3 датафрейма: data_users (данные о пользователях), data_riders (данные о поездках), data_subs (данные о подписках)."
   ]
  },
  {
   "cell_type": "markdown",
   "id": "23ba0760",
   "metadata": {},
   "source": [
    "### Выведем первые строки каждого набора данных и изучим информацию"
   ]
  },
  {
   "cell_type": "code",
   "execution_count": 5,
   "id": "eff9f206",
   "metadata": {},
   "outputs": [
    {
     "data": {
      "text/html": [
       "<div>\n",
       "<style scoped>\n",
       "    .dataframe tbody tr th:only-of-type {\n",
       "        vertical-align: middle;\n",
       "    }\n",
       "\n",
       "    .dataframe tbody tr th {\n",
       "        vertical-align: top;\n",
       "    }\n",
       "\n",
       "    .dataframe thead th {\n",
       "        text-align: right;\n",
       "    }\n",
       "</style>\n",
       "<table border=\"1\" class=\"dataframe\">\n",
       "  <thead>\n",
       "    <tr style=\"text-align: right;\">\n",
       "      <th></th>\n",
       "      <th>user_id</th>\n",
       "      <th>name</th>\n",
       "      <th>age</th>\n",
       "      <th>city</th>\n",
       "      <th>subscription_type</th>\n",
       "    </tr>\n",
       "  </thead>\n",
       "  <tbody>\n",
       "    <tr>\n",
       "      <th>0</th>\n",
       "      <td>1</td>\n",
       "      <td>Кира</td>\n",
       "      <td>22</td>\n",
       "      <td>Тюмень</td>\n",
       "      <td>ultra</td>\n",
       "    </tr>\n",
       "    <tr>\n",
       "      <th>1</th>\n",
       "      <td>2</td>\n",
       "      <td>Станислав</td>\n",
       "      <td>31</td>\n",
       "      <td>Омск</td>\n",
       "      <td>ultra</td>\n",
       "    </tr>\n",
       "    <tr>\n",
       "      <th>2</th>\n",
       "      <td>3</td>\n",
       "      <td>Алексей</td>\n",
       "      <td>20</td>\n",
       "      <td>Москва</td>\n",
       "      <td>ultra</td>\n",
       "    </tr>\n",
       "    <tr>\n",
       "      <th>3</th>\n",
       "      <td>4</td>\n",
       "      <td>Константин</td>\n",
       "      <td>26</td>\n",
       "      <td>Ростов-на-Дону</td>\n",
       "      <td>ultra</td>\n",
       "    </tr>\n",
       "    <tr>\n",
       "      <th>4</th>\n",
       "      <td>5</td>\n",
       "      <td>Адель</td>\n",
       "      <td>28</td>\n",
       "      <td>Омск</td>\n",
       "      <td>ultra</td>\n",
       "    </tr>\n",
       "    <tr>\n",
       "      <th>5</th>\n",
       "      <td>6</td>\n",
       "      <td>Регина</td>\n",
       "      <td>25</td>\n",
       "      <td>Краснодар</td>\n",
       "      <td>ultra</td>\n",
       "    </tr>\n",
       "    <tr>\n",
       "      <th>6</th>\n",
       "      <td>7</td>\n",
       "      <td>Игорь</td>\n",
       "      <td>23</td>\n",
       "      <td>Омск</td>\n",
       "      <td>ultra</td>\n",
       "    </tr>\n",
       "    <tr>\n",
       "      <th>7</th>\n",
       "      <td>8</td>\n",
       "      <td>Юрий</td>\n",
       "      <td>23</td>\n",
       "      <td>Краснодар</td>\n",
       "      <td>ultra</td>\n",
       "    </tr>\n",
       "    <tr>\n",
       "      <th>8</th>\n",
       "      <td>9</td>\n",
       "      <td>Ян</td>\n",
       "      <td>21</td>\n",
       "      <td>Пятигорск</td>\n",
       "      <td>ultra</td>\n",
       "    </tr>\n",
       "    <tr>\n",
       "      <th>9</th>\n",
       "      <td>10</td>\n",
       "      <td>Валерий</td>\n",
       "      <td>18</td>\n",
       "      <td>Екатеринбург</td>\n",
       "      <td>ultra</td>\n",
       "    </tr>\n",
       "  </tbody>\n",
       "</table>\n",
       "</div>"
      ],
      "text/plain": [
       "   user_id        name  age            city subscription_type\n",
       "0        1        Кира   22          Тюмень             ultra\n",
       "1        2   Станислав   31            Омск             ultra\n",
       "2        3     Алексей   20          Москва             ultra\n",
       "3        4  Константин   26  Ростов-на-Дону             ultra\n",
       "4        5       Адель   28            Омск             ultra\n",
       "5        6      Регина   25       Краснодар             ultra\n",
       "6        7       Игорь   23            Омск             ultra\n",
       "7        8        Юрий   23       Краснодар             ultra\n",
       "8        9          Ян   21       Пятигорск             ultra\n",
       "9       10     Валерий   18    Екатеринбург             ultra"
      ]
     },
     "execution_count": 5,
     "metadata": {},
     "output_type": "execute_result"
    }
   ],
   "source": [
    "#выведем первые строки датафрейма о пользователях\n",
    "data_users.head(10)"
   ]
  },
  {
   "cell_type": "code",
   "execution_count": 6,
   "id": "2f9b04f9",
   "metadata": {},
   "outputs": [
    {
     "data": {
      "text/plain": [
       "1565"
      ]
     },
     "execution_count": 6,
     "metadata": {},
     "output_type": "execute_result"
    }
   ],
   "source": [
    "#посчитаем количество пользователей в исходной таблице\n",
    "data_users_initial = len(data_users)\n",
    "data_users_initial"
   ]
  },
  {
   "cell_type": "code",
   "execution_count": 7,
   "id": "f76e2639",
   "metadata": {},
   "outputs": [
    {
     "name": "stdout",
     "output_type": "stream",
     "text": [
      "<class 'pandas.core.frame.DataFrame'>\n",
      "RangeIndex: 1565 entries, 0 to 1564\n",
      "Data columns (total 5 columns):\n",
      " #   Column             Non-Null Count  Dtype \n",
      "---  ------             --------------  ----- \n",
      " 0   user_id            1565 non-null   int64 \n",
      " 1   name               1565 non-null   object\n",
      " 2   age                1565 non-null   int64 \n",
      " 3   city               1565 non-null   object\n",
      " 4   subscription_type  1565 non-null   object\n",
      "dtypes: int64(2), object(3)\n",
      "memory usage: 61.3+ KB\n"
     ]
    }
   ],
   "source": [
    "#запросим все атрибуты таблицы о пользователях\n",
    "data_users.info()"
   ]
  },
  {
   "cell_type": "markdown",
   "id": "a1655ca0",
   "metadata": {},
   "source": [
    "Таблица data_users содержит информацию о 1565 пользователях и 5 параметров с характеристиками. В набор данных входят 2 типа данных: строки и целые числа. Нет необходимости преобразовывать столбцы к другим типам данных. Также обращаем внимание на отсутствие пропущенных значений. Названия столбцов изначально приведены к хорошему стилю. Длину датафрема заключили в параметр data_users_initial, т.к. это значение пригодится нам в дальнейших расчетах."
   ]
  },
  {
   "cell_type": "code",
   "execution_count": 8,
   "id": "3d7ea2a0",
   "metadata": {},
   "outputs": [
    {
     "data": {
      "text/html": [
       "<div>\n",
       "<style scoped>\n",
       "    .dataframe tbody tr th:only-of-type {\n",
       "        vertical-align: middle;\n",
       "    }\n",
       "\n",
       "    .dataframe tbody tr th {\n",
       "        vertical-align: top;\n",
       "    }\n",
       "\n",
       "    .dataframe thead th {\n",
       "        text-align: right;\n",
       "    }\n",
       "</style>\n",
       "<table border=\"1\" class=\"dataframe\">\n",
       "  <thead>\n",
       "    <tr style=\"text-align: right;\">\n",
       "      <th></th>\n",
       "      <th>user_id</th>\n",
       "      <th>distance</th>\n",
       "      <th>duration</th>\n",
       "      <th>date</th>\n",
       "    </tr>\n",
       "  </thead>\n",
       "  <tbody>\n",
       "    <tr>\n",
       "      <th>0</th>\n",
       "      <td>1</td>\n",
       "      <td>4409.919140</td>\n",
       "      <td>25.599769</td>\n",
       "      <td>2021-01-01</td>\n",
       "    </tr>\n",
       "    <tr>\n",
       "      <th>1</th>\n",
       "      <td>1</td>\n",
       "      <td>2617.592153</td>\n",
       "      <td>15.816871</td>\n",
       "      <td>2021-01-18</td>\n",
       "    </tr>\n",
       "    <tr>\n",
       "      <th>2</th>\n",
       "      <td>1</td>\n",
       "      <td>754.159807</td>\n",
       "      <td>6.232113</td>\n",
       "      <td>2021-04-20</td>\n",
       "    </tr>\n",
       "    <tr>\n",
       "      <th>3</th>\n",
       "      <td>1</td>\n",
       "      <td>2694.783254</td>\n",
       "      <td>18.511000</td>\n",
       "      <td>2021-08-11</td>\n",
       "    </tr>\n",
       "    <tr>\n",
       "      <th>4</th>\n",
       "      <td>1</td>\n",
       "      <td>4028.687306</td>\n",
       "      <td>26.265803</td>\n",
       "      <td>2021-08-28</td>\n",
       "    </tr>\n",
       "    <tr>\n",
       "      <th>5</th>\n",
       "      <td>1</td>\n",
       "      <td>2770.890808</td>\n",
       "      <td>16.650138</td>\n",
       "      <td>2021-10-09</td>\n",
       "    </tr>\n",
       "    <tr>\n",
       "      <th>6</th>\n",
       "      <td>1</td>\n",
       "      <td>3039.020292</td>\n",
       "      <td>14.927879</td>\n",
       "      <td>2021-10-19</td>\n",
       "    </tr>\n",
       "    <tr>\n",
       "      <th>7</th>\n",
       "      <td>1</td>\n",
       "      <td>2842.118050</td>\n",
       "      <td>23.117468</td>\n",
       "      <td>2021-11-06</td>\n",
       "    </tr>\n",
       "    <tr>\n",
       "      <th>8</th>\n",
       "      <td>1</td>\n",
       "      <td>3412.690668</td>\n",
       "      <td>15.238072</td>\n",
       "      <td>2021-11-14</td>\n",
       "    </tr>\n",
       "    <tr>\n",
       "      <th>9</th>\n",
       "      <td>1</td>\n",
       "      <td>748.690645</td>\n",
       "      <td>15.041884</td>\n",
       "      <td>2021-11-22</td>\n",
       "    </tr>\n",
       "  </tbody>\n",
       "</table>\n",
       "</div>"
      ],
      "text/plain": [
       "   user_id     distance   duration        date\n",
       "0        1  4409.919140  25.599769  2021-01-01\n",
       "1        1  2617.592153  15.816871  2021-01-18\n",
       "2        1   754.159807   6.232113  2021-04-20\n",
       "3        1  2694.783254  18.511000  2021-08-11\n",
       "4        1  4028.687306  26.265803  2021-08-28\n",
       "5        1  2770.890808  16.650138  2021-10-09\n",
       "6        1  3039.020292  14.927879  2021-10-19\n",
       "7        1  2842.118050  23.117468  2021-11-06\n",
       "8        1  3412.690668  15.238072  2021-11-14\n",
       "9        1   748.690645  15.041884  2021-11-22"
      ]
     },
     "execution_count": 8,
     "metadata": {},
     "output_type": "execute_result"
    }
   ],
   "source": [
    "#выведем первые строки датафрейма о поездках\n",
    "data_riders.head(10)"
   ]
  },
  {
   "cell_type": "code",
   "execution_count": 9,
   "id": "e2d82684",
   "metadata": {},
   "outputs": [
    {
     "name": "stdout",
     "output_type": "stream",
     "text": [
      "<class 'pandas.core.frame.DataFrame'>\n",
      "RangeIndex: 18068 entries, 0 to 18067\n",
      "Data columns (total 4 columns):\n",
      " #   Column    Non-Null Count  Dtype  \n",
      "---  ------    --------------  -----  \n",
      " 0   user_id   18068 non-null  int64  \n",
      " 1   distance  18068 non-null  float64\n",
      " 2   duration  18068 non-null  float64\n",
      " 3   date      18068 non-null  object \n",
      "dtypes: float64(2), int64(1), object(1)\n",
      "memory usage: 564.8+ KB\n"
     ]
    }
   ],
   "source": [
    "#запросим все атрибуты таблицы о поездках\n",
    "data_riders.info()"
   ]
  },
  {
   "cell_type": "markdown",
   "id": "3f94edd0",
   "metadata": {},
   "source": [
    "Таблица data_riders содержит информацию о 18068 поездках и 4 параметра с характеристиками. В набор данных входят 3 типа данных: строки, целые и вещественные числа. Необходимо преобразовать столбец date в datetime. Также обращаем внимание на отсутствие пропущенных значений. Названия столбцов изначально приведены к хорошему стилю."
   ]
  },
  {
   "cell_type": "code",
   "execution_count": 10,
   "id": "3dc69d23",
   "metadata": {},
   "outputs": [
    {
     "data": {
      "text/html": [
       "<div>\n",
       "<style scoped>\n",
       "    .dataframe tbody tr th:only-of-type {\n",
       "        vertical-align: middle;\n",
       "    }\n",
       "\n",
       "    .dataframe tbody tr th {\n",
       "        vertical-align: top;\n",
       "    }\n",
       "\n",
       "    .dataframe thead th {\n",
       "        text-align: right;\n",
       "    }\n",
       "</style>\n",
       "<table border=\"1\" class=\"dataframe\">\n",
       "  <thead>\n",
       "    <tr style=\"text-align: right;\">\n",
       "      <th></th>\n",
       "      <th>subscription_type</th>\n",
       "      <th>minute_price</th>\n",
       "      <th>start_ride_price</th>\n",
       "      <th>subscription_fee</th>\n",
       "    </tr>\n",
       "  </thead>\n",
       "  <tbody>\n",
       "    <tr>\n",
       "      <th>0</th>\n",
       "      <td>free</td>\n",
       "      <td>8</td>\n",
       "      <td>50</td>\n",
       "      <td>0</td>\n",
       "    </tr>\n",
       "    <tr>\n",
       "      <th>1</th>\n",
       "      <td>ultra</td>\n",
       "      <td>6</td>\n",
       "      <td>0</td>\n",
       "      <td>199</td>\n",
       "    </tr>\n",
       "  </tbody>\n",
       "</table>\n",
       "</div>"
      ],
      "text/plain": [
       "  subscription_type  minute_price  start_ride_price  subscription_fee\n",
       "0              free             8                50                 0\n",
       "1             ultra             6                 0               199"
      ]
     },
     "execution_count": 10,
     "metadata": {},
     "output_type": "execute_result"
    }
   ],
   "source": [
    "#выведем первые строки датафрейма о подписках\n",
    "data_subs.head(10)"
   ]
  },
  {
   "cell_type": "code",
   "execution_count": 11,
   "id": "546c880d",
   "metadata": {},
   "outputs": [
    {
     "name": "stdout",
     "output_type": "stream",
     "text": [
      "<class 'pandas.core.frame.DataFrame'>\n",
      "RangeIndex: 2 entries, 0 to 1\n",
      "Data columns (total 4 columns):\n",
      " #   Column             Non-Null Count  Dtype \n",
      "---  ------             --------------  ----- \n",
      " 0   subscription_type  2 non-null      object\n",
      " 1   minute_price       2 non-null      int64 \n",
      " 2   start_ride_price   2 non-null      int64 \n",
      " 3   subscription_fee   2 non-null      int64 \n",
      "dtypes: int64(3), object(1)\n",
      "memory usage: 196.0+ bytes\n"
     ]
    }
   ],
   "source": [
    "#запросим все атрибуты таблицы о подписках\n",
    "data_subs.info()"
   ]
  },
  {
   "cell_type": "markdown",
   "id": "f9cb0ab2",
   "metadata": {},
   "source": [
    "Таблица data_subs содержит информацию о 2х видах подписок (с подпиской и без) и 4 параметра с характеристиками. В набор данных входят 2 типа данных: строки и целые числа. Нет необходимости преобразовывать столбцы к другим типам данных. Также обращаем внимание на отсутствие пропущенных значений. Названия столбцов изначально приведены к хорошему стилю."
   ]
  },
  {
   "cell_type": "markdown",
   "id": "28a5df34",
   "metadata": {},
   "source": [
    "**Вывод:** Открыли файлы и сохранили их в 3 датафрейма: data_users (данные о пользователях), data_riders (данные о поездках), data_subs (данные о подписках). Ознакомились с исходными таблицами и на основе полученных данных выявили, что: \n",
    "\n",
    "- в датафрейме data_riders необходимо преобразовать столбец date в datetime;\n",
    "- пропущенные значения в данных отсутствуют;\n",
    "- названия столбцов всех датафреймов изначально приведены к хорошему стилю;\n",
    "- необходимо выявить наличие дубликатов (явных и неявных)."
   ]
  },
  {
   "cell_type": "markdown",
   "id": "e95ebca7",
   "metadata": {},
   "source": [
    "## Предобработка данных"
   ]
  },
  {
   "cell_type": "markdown",
   "id": "348eeba8",
   "metadata": {},
   "source": [
    "### Приведем столбец date к типу даты Pandas"
   ]
  },
  {
   "cell_type": "code",
   "execution_count": 12,
   "id": "af6d202c",
   "metadata": {},
   "outputs": [
    {
     "name": "stdout",
     "output_type": "stream",
     "text": [
      "<class 'pandas.core.frame.DataFrame'>\n",
      "RangeIndex: 18068 entries, 0 to 18067\n",
      "Data columns (total 4 columns):\n",
      " #   Column    Non-Null Count  Dtype         \n",
      "---  ------    --------------  -----         \n",
      " 0   user_id   18068 non-null  int64         \n",
      " 1   distance  18068 non-null  float64       \n",
      " 2   duration  18068 non-null  float64       \n",
      " 3   date      18068 non-null  datetime64[ns]\n",
      "dtypes: datetime64[ns](1), float64(2), int64(1)\n",
      "memory usage: 564.8 KB\n"
     ]
    }
   ],
   "source": [
    "#столбец date приведем к типу datetime\n",
    "data_riders['date'] = pd.to_datetime(data_riders['date'], format='%Y-%m-%d')\n",
    "\n",
    "#проверим\n",
    "data_riders.info()"
   ]
  },
  {
   "cell_type": "markdown",
   "id": "1dcfb612",
   "metadata": {},
   "source": [
    "Столбец date датафрейма data_riders успешно принял тип данных datetime."
   ]
  },
  {
   "cell_type": "markdown",
   "id": "b0dcdf63",
   "metadata": {},
   "source": [
    "### Создадим новый столбец с номером месяца на основе столбца date"
   ]
  },
  {
   "cell_type": "code",
   "execution_count": 13,
   "id": "1f1f7a89",
   "metadata": {},
   "outputs": [
    {
     "data": {
      "text/html": [
       "<div>\n",
       "<style scoped>\n",
       "    .dataframe tbody tr th:only-of-type {\n",
       "        vertical-align: middle;\n",
       "    }\n",
       "\n",
       "    .dataframe tbody tr th {\n",
       "        vertical-align: top;\n",
       "    }\n",
       "\n",
       "    .dataframe thead th {\n",
       "        text-align: right;\n",
       "    }\n",
       "</style>\n",
       "<table border=\"1\" class=\"dataframe\">\n",
       "  <thead>\n",
       "    <tr style=\"text-align: right;\">\n",
       "      <th></th>\n",
       "      <th>user_id</th>\n",
       "      <th>distance</th>\n",
       "      <th>duration</th>\n",
       "      <th>date</th>\n",
       "      <th>month</th>\n",
       "    </tr>\n",
       "  </thead>\n",
       "  <tbody>\n",
       "    <tr>\n",
       "      <th>0</th>\n",
       "      <td>1</td>\n",
       "      <td>4409.919140</td>\n",
       "      <td>25.599769</td>\n",
       "      <td>2021-01-01</td>\n",
       "      <td>1</td>\n",
       "    </tr>\n",
       "    <tr>\n",
       "      <th>1</th>\n",
       "      <td>1</td>\n",
       "      <td>2617.592153</td>\n",
       "      <td>15.816871</td>\n",
       "      <td>2021-01-18</td>\n",
       "      <td>1</td>\n",
       "    </tr>\n",
       "    <tr>\n",
       "      <th>2</th>\n",
       "      <td>1</td>\n",
       "      <td>754.159807</td>\n",
       "      <td>6.232113</td>\n",
       "      <td>2021-04-20</td>\n",
       "      <td>4</td>\n",
       "    </tr>\n",
       "    <tr>\n",
       "      <th>3</th>\n",
       "      <td>1</td>\n",
       "      <td>2694.783254</td>\n",
       "      <td>18.511000</td>\n",
       "      <td>2021-08-11</td>\n",
       "      <td>8</td>\n",
       "    </tr>\n",
       "    <tr>\n",
       "      <th>4</th>\n",
       "      <td>1</td>\n",
       "      <td>4028.687306</td>\n",
       "      <td>26.265803</td>\n",
       "      <td>2021-08-28</td>\n",
       "      <td>8</td>\n",
       "    </tr>\n",
       "    <tr>\n",
       "      <th>5</th>\n",
       "      <td>1</td>\n",
       "      <td>2770.890808</td>\n",
       "      <td>16.650138</td>\n",
       "      <td>2021-10-09</td>\n",
       "      <td>10</td>\n",
       "    </tr>\n",
       "    <tr>\n",
       "      <th>6</th>\n",
       "      <td>1</td>\n",
       "      <td>3039.020292</td>\n",
       "      <td>14.927879</td>\n",
       "      <td>2021-10-19</td>\n",
       "      <td>10</td>\n",
       "    </tr>\n",
       "    <tr>\n",
       "      <th>7</th>\n",
       "      <td>1</td>\n",
       "      <td>2842.118050</td>\n",
       "      <td>23.117468</td>\n",
       "      <td>2021-11-06</td>\n",
       "      <td>11</td>\n",
       "    </tr>\n",
       "    <tr>\n",
       "      <th>8</th>\n",
       "      <td>1</td>\n",
       "      <td>3412.690668</td>\n",
       "      <td>15.238072</td>\n",
       "      <td>2021-11-14</td>\n",
       "      <td>11</td>\n",
       "    </tr>\n",
       "    <tr>\n",
       "      <th>9</th>\n",
       "      <td>1</td>\n",
       "      <td>748.690645</td>\n",
       "      <td>15.041884</td>\n",
       "      <td>2021-11-22</td>\n",
       "      <td>11</td>\n",
       "    </tr>\n",
       "  </tbody>\n",
       "</table>\n",
       "</div>"
      ],
      "text/plain": [
       "   user_id     distance   duration       date  month\n",
       "0        1  4409.919140  25.599769 2021-01-01      1\n",
       "1        1  2617.592153  15.816871 2021-01-18      1\n",
       "2        1   754.159807   6.232113 2021-04-20      4\n",
       "3        1  2694.783254  18.511000 2021-08-11      8\n",
       "4        1  4028.687306  26.265803 2021-08-28      8\n",
       "5        1  2770.890808  16.650138 2021-10-09     10\n",
       "6        1  3039.020292  14.927879 2021-10-19     10\n",
       "7        1  2842.118050  23.117468 2021-11-06     11\n",
       "8        1  3412.690668  15.238072 2021-11-14     11\n",
       "9        1   748.690645  15.041884 2021-11-22     11"
      ]
     },
     "execution_count": 13,
     "metadata": {},
     "output_type": "execute_result"
    }
   ],
   "source": [
    "#добавим в таблицу новый столбец с номером месяца\n",
    "data_riders['month'] = data_riders['date'].dt.month\n",
    "\n",
    "#проверим\n",
    "data_riders.head(10)"
   ]
  },
  {
   "cell_type": "markdown",
   "id": "a40b6a42",
   "metadata": {},
   "source": [
    "В датафрейм data_riders успешно добавили новый столбец month с номером месяца на основе столбца date.\n",
    "\n",
    "Проверим, за какой период предоставлены данные."
   ]
  },
  {
   "cell_type": "code",
   "execution_count": 14,
   "id": "c81167e8",
   "metadata": {},
   "outputs": [
    {
     "name": "stdout",
     "output_type": "stream",
     "text": [
      "В датафрейме data_riders предоставлены данные за период с 2021-01-01 00:00:00 по 2021-12-30 00:00:00.\n"
     ]
    }
   ],
   "source": [
    "#найдем min и max значения в столбце date\n",
    "date_min = data_riders['date'].min()\n",
    "date_max = data_riders['date'].max()\n",
    "\n",
    "print(f'В датафрейме data_riders предоставлены данные за период с {date_min} по {date_max}.')"
   ]
  },
  {
   "cell_type": "markdown",
   "id": "45af63dc",
   "metadata": {},
   "source": [
    "Проверим столбец duration на предмет наличия аномальных зачений."
   ]
  },
  {
   "cell_type": "code",
   "execution_count": 15,
   "id": "8a29a86d",
   "metadata": {},
   "outputs": [
    {
     "data": {
      "text/plain": [
       "12013     0.500000\n",
       "17314     0.500000\n",
       "15029     0.500000\n",
       "7437      0.500000\n",
       "12967     0.500000\n",
       "           ...    \n",
       "6453     38.265229\n",
       "1998     38.352763\n",
       "2623     39.526602\n",
       "4709     39.873856\n",
       "4215     40.823963\n",
       "Name: duration, Length: 18068, dtype: float64"
      ]
     },
     "execution_count": 15,
     "metadata": {},
     "output_type": "execute_result"
    }
   ],
   "source": [
    "#проверим столбец duration на наличие аномальных значений\n",
    "data_riders['duration'].sort_values(ascending=True)"
   ]
  },
  {
   "cell_type": "markdown",
   "id": "6bfe61f3",
   "metadata": {},
   "source": [
    "Обнаружено, что минимальная продолжительность поездки - 0,5 мин. Слишком короткая продолжительность для езды на самокате, похоже на выброс. Вероятно, активиров сессию поездки, пользователь передумал кататься или произошла техническая ошибка. Не будем удалять строки с аномальными значениями, а на этапе исследовательского анализа данных построим гистограмму, исключив выбросы."
   ]
  },
  {
   "cell_type": "markdown",
   "id": "8857a8bd",
   "metadata": {},
   "source": [
    "### Проверим наличие пропущенных значений и дубликатов в датафреймах, обработаем их"
   ]
  },
  {
   "cell_type": "code",
   "execution_count": 16,
   "id": "0a12380f",
   "metadata": {},
   "outputs": [
    {
     "data": {
      "text/plain": [
       "31"
      ]
     },
     "execution_count": 16,
     "metadata": {},
     "output_type": "execute_result"
    }
   ],
   "source": [
    "#проверим наличие явных дубликатов в таблице с пользователями\n",
    "data_users.duplicated().sum()"
   ]
  },
  {
   "cell_type": "code",
   "execution_count": 17,
   "id": "266f4797",
   "metadata": {},
   "outputs": [
    {
     "data": {
      "text/plain": [
       "0"
      ]
     },
     "execution_count": 17,
     "metadata": {},
     "output_type": "execute_result"
    }
   ],
   "source": [
    "#удалим явные дубликаты и присвоим новые индексы строкам\n",
    "data_users = data_users.drop_duplicates().reset_index(drop=True) \n",
    "\n",
    "#проверим\n",
    "data_users.duplicated().sum()"
   ]
  },
  {
   "cell_type": "code",
   "execution_count": 18,
   "id": "2f520dd1",
   "metadata": {},
   "outputs": [
    {
     "data": {
      "text/plain": [
       "0"
      ]
     },
     "execution_count": 18,
     "metadata": {},
     "output_type": "execute_result"
    }
   ],
   "source": [
    "#проверим наличие явных дубликатов в таблице с поездками\n",
    "data_riders.duplicated().sum()"
   ]
  },
  {
   "cell_type": "markdown",
   "id": "d8991143",
   "metadata": {},
   "source": [
    "31 явный дубликат был обнаружен в датафрейме data_users. Удалили дубликаты и присвоили строкам новые индексы. В других датафреймах явные дубликаты не обнаружены."
   ]
  },
  {
   "cell_type": "code",
   "execution_count": 19,
   "id": "28e956fe",
   "metadata": {},
   "outputs": [
    {
     "data": {
      "text/plain": [
       "array(['Тюмень', 'Омск', 'Москва', 'Ростов-на-Дону', 'Краснодар',\n",
       "       'Пятигорск', 'Екатеринбург', 'Сочи'], dtype=object)"
      ]
     },
     "execution_count": 19,
     "metadata": {},
     "output_type": "execute_result"
    }
   ],
   "source": [
    "#проверим уникальные узначения в столбце city\n",
    "data_users['city'].unique()"
   ]
  },
  {
   "cell_type": "markdown",
   "id": "fd8e07ed",
   "metadata": {},
   "source": [
    "Неявные дубликаты в данных отсутствуют."
   ]
  },
  {
   "cell_type": "code",
   "execution_count": 20,
   "id": "3ebd3013",
   "metadata": {},
   "outputs": [
    {
     "data": {
      "text/plain": [
       "user_id              0\n",
       "name                 0\n",
       "age                  0\n",
       "city                 0\n",
       "subscription_type    0\n",
       "dtype: int64"
      ]
     },
     "execution_count": 20,
     "metadata": {},
     "output_type": "execute_result"
    }
   ],
   "source": [
    "#проверим наличие пропущенных значений в датафрейме с пользователями\n",
    "data_users.isna().sum()"
   ]
  },
  {
   "cell_type": "code",
   "execution_count": 21,
   "id": "c273c0a0",
   "metadata": {},
   "outputs": [
    {
     "data": {
      "text/plain": [
       "user_id     0\n",
       "distance    0\n",
       "duration    0\n",
       "date        0\n",
       "month       0\n",
       "dtype: int64"
      ]
     },
     "execution_count": 21,
     "metadata": {},
     "output_type": "execute_result"
    }
   ],
   "source": [
    "#проверим наличие пропущенных значений в датафрейме с поездками\n",
    "data_riders.isna().sum()"
   ]
  },
  {
   "cell_type": "code",
   "execution_count": 22,
   "id": "7239f8fa",
   "metadata": {},
   "outputs": [
    {
     "data": {
      "text/plain": [
       "subscription_type    0\n",
       "minute_price         0\n",
       "start_ride_price     0\n",
       "subscription_fee     0\n",
       "dtype: int64"
      ]
     },
     "execution_count": 22,
     "metadata": {},
     "output_type": "execute_result"
    }
   ],
   "source": [
    "#проверим наличие пропущенных значений в датафрейме с подписками\n",
    "data_subs.isna().sum()"
   ]
  },
  {
   "cell_type": "markdown",
   "id": "5336abe6",
   "metadata": {},
   "source": [
    "Еще раз убедились, что пропущенные значения во всех датафреймах отсутствуют.\n",
    "\n",
    "Также необходимо проверить, какая доля данных от исходной таблицы data_users осталась после предобработки."
   ]
  },
  {
   "cell_type": "code",
   "execution_count": 23,
   "id": "289c690f",
   "metadata": {},
   "outputs": [
    {
     "name": "stdout",
     "output_type": "stream",
     "text": [
      "98.01916932907349\n",
      "31\n"
     ]
    }
   ],
   "source": [
    "#посчитаем долю оставшихся данных после предобработки\n",
    "print(len(data_users) / data_users_initial * 100)\n",
    "\n",
    "#посмотрим, сколько объявлений было удалено\n",
    "print(data_users_initial - len(data_users))"
   ]
  },
  {
   "cell_type": "markdown",
   "id": "aadf7f94",
   "metadata": {},
   "source": [
    "**Вывод:** На этапе предобработки данных:\n",
    "- в датафрейме data_riders столбец date преобразовали в тип datetime;\n",
    "- в датафрейм data_riders успешно добавили новый столбец month с номером месяца на основе столбца date;\n",
    "- обнаружен 31 явный дубликат в датафрейме data_users, удалили дубликаты и присвоили строкам новые индексы;\n",
    "- выявлены аномальные значения в столбце duration датафрейма data_riders\n",
    "- не обнаружены неявные дубликаты;\n",
    "- не обнаружены пропущенные значения.\n",
    "\n",
    "В результате предобработки данных в датафрейме data_users был удален 31 пользователь. Текущая таблица содержит 98% данных из исходной таблицы.\n",
    "\n",
    "Также выяснили, что в датафрейме data_riders предоставлены данные за период с 1 января 2021 года по 30 декабря 2021 года."
   ]
  },
  {
   "cell_type": "markdown",
   "id": "212593c7",
   "metadata": {},
   "source": [
    "## Исследовательский анализ данных"
   ]
  },
  {
   "cell_type": "markdown",
   "id": "112caf07",
   "metadata": {},
   "source": [
    "**Опишем и визуализируем общую информацию о пользователях и поездках:**"
   ]
  },
  {
   "cell_type": "markdown",
   "id": "7fe65ade",
   "metadata": {},
   "source": [
    "### частота встречаемости городов"
   ]
  },
  {
   "cell_type": "code",
   "execution_count": 24,
   "id": "e3a4274c",
   "metadata": {},
   "outputs": [
    {
     "data": {
      "text/plain": [
       "count          1534\n",
       "unique            8\n",
       "top       Пятигорск\n",
       "freq            219\n",
       "Name: city, dtype: object"
      ]
     },
     "execution_count": 24,
     "metadata": {},
     "output_type": "execute_result"
    }
   ],
   "source": [
    "#запросим дополнительные характеристики столбца city\n",
    "data_users['city'].describe()"
   ]
  },
  {
   "cell_type": "code",
   "execution_count": 25,
   "id": "52cac7a7",
   "metadata": {},
   "outputs": [
    {
     "data": {
      "image/png": "[encoded data removed]",
      "text/plain": [
       "<Figure size 1000x900 with 1 Axes>"
      ]
     },
     "metadata": {},
     "output_type": "display_data"
    }
   ],
   "source": [
    "data_users['city'].value_counts(ascending = True).plot.barh(figsize=(10, 9), grid = True)\n",
    "\n",
    "plt.title('Частота встречаемости городов')\n",
    "plt.xlabel('Количество городов')\n",
    "plt.ylabel('Название города')\n",
    "plt.show()"
   ]
  },
  {
   "cell_type": "markdown",
   "id": "b85e3fa5",
   "metadata": {},
   "source": [
    "На гистограмме видно, что распредение городов находится в диапазоне от 170 до 220. В данных чаще всего встречаются пользователи, совершающие поездки в Пятигорске. Реже всего пользователи пользуются сервисом GoFast в Москве. Вероятно, в столице много других сервисов аренды самокатов, присутствует большая конкуренция."
   ]
  },
  {
   "cell_type": "markdown",
   "id": "b292a805",
   "metadata": {},
   "source": [
    "### соотношение пользователей с подпиской и без подписки"
   ]
  },
  {
   "cell_type": "code",
   "execution_count": 26,
   "id": "0aeecb03",
   "metadata": {},
   "outputs": [
    {
     "data": {
      "text/plain": [
       "count     1534\n",
       "unique       2\n",
       "top       free\n",
       "freq       835\n",
       "Name: subscription_type, dtype: object"
      ]
     },
     "execution_count": 26,
     "metadata": {},
     "output_type": "execute_result"
    }
   ],
   "source": [
    "#запросим дополнительные характеристики столбца subscription_type\n",
    "data_users['subscription_type'].describe()"
   ]
  },
  {
   "cell_type": "code",
   "execution_count": 27,
   "id": "7332fbe4",
   "metadata": {},
   "outputs": [
    {
     "data": {
      "text/plain": [
       "54.43285528031291"
      ]
     },
     "execution_count": 27,
     "metadata": {},
     "output_type": "execute_result"
    }
   ],
   "source": [
    "#найдем долю пользователей без подписки\n",
    "users_free = data_users.query('subscription_type == \"free\"')\n",
    "users_free_share = len(users_free) / len(data_users) * 100\n",
    "\n",
    "users_free_share"
   ]
  },
  {
   "cell_type": "code",
   "execution_count": 28,
   "id": "9d67f31c",
   "metadata": {},
   "outputs": [
    {
     "data": {
      "text/plain": [
       "45.56714471968709"
      ]
     },
     "execution_count": 28,
     "metadata": {},
     "output_type": "execute_result"
    }
   ],
   "source": [
    "#найдем долю пользователей с подпиской\n",
    "users_ultra = data_users.query('subscription_type == \"ultra\"')\n",
    "users_ultra_share = len(users_ultra) / len(data_users) * 100\n",
    "\n",
    "users_ultra_share"
   ]
  },
  {
   "cell_type": "code",
   "execution_count": 29,
   "id": "43405cc3",
   "metadata": {},
   "outputs": [
    {
     "data": {
      "image/png": "[encoded data removed]",
      "text/plain": [
       "<Figure size 900x900 with 1 Axes>"
      ]
     },
     "metadata": {},
     "output_type": "display_data"
    }
   ],
   "source": [
    "#построим гистограмму для столбца subscription_type\n",
    "data_users['subscription_type'].hist(figsize=(9, 9), grid = True)\n",
    "\n",
    "plt.title('Соотношение пользователей с подпиской и без подписки')\n",
    "plt.xlabel('Тип подписки')\n",
    "plt.ylabel('Количество подписок')\n",
    "plt.show()"
   ]
  },
  {
   "cell_type": "markdown",
   "id": "b0d76f5d",
   "metadata": {},
   "source": [
    "Общее количество уникальных пользователей, пользующихся сервисом GoFast - 1534. Доля пользователей без подписки составляет примерно 54%, что больше, чем доля пользователей с подпиской (примерно 45%). Убеждаемся в этом, построив гистограмму. 835 пользователей предпочитают не оформлять подписку. "
   ]
  },
  {
   "cell_type": "markdown",
   "id": "02747f8b",
   "metadata": {},
   "source": [
    "### возраст пользователей"
   ]
  },
  {
   "cell_type": "code",
   "execution_count": 30,
   "id": "87c448e4",
   "metadata": {},
   "outputs": [
    {
     "data": {
      "text/plain": [
       "count    1534.000000\n",
       "mean       24.903520\n",
       "std         4.572367\n",
       "min        12.000000\n",
       "25%        22.000000\n",
       "50%        25.000000\n",
       "75%        28.000000\n",
       "max        43.000000\n",
       "Name: age, dtype: float64"
      ]
     },
     "execution_count": 30,
     "metadata": {},
     "output_type": "execute_result"
    }
   ],
   "source": [
    "#запросим дополнительные характеристики столбца age\n",
    "data_users['age'].describe()"
   ]
  },
  {
   "cell_type": "code",
   "execution_count": 31,
   "id": "c1065fad",
   "metadata": {},
   "outputs": [
    {
     "data": {
      "image/png": "[encoded data removed]",
      "text/plain": [
       "<Figure size 900x900 with 1 Axes>"
      ]
     },
     "metadata": {},
     "output_type": "display_data"
    }
   ],
   "source": [
    "#построим гистограмму для столбца age\n",
    "data_users.hist(column = 'age',  figsize=(9, 9), grid = True, bins = 100)\n",
    "\n",
    "plt.title('Возраст пользователей')\n",
    "plt.xlabel('Возраст')\n",
    "plt.ylabel('Количество пользователей')\n",
    "plt.show()"
   ]
  },
  {
   "cell_type": "markdown",
   "id": "fb363063",
   "metadata": {},
   "source": [
    "Среднее значение в столбце age - 24, а медиана - 25. Построили гистограмму, видно, что действительно чаще всего встречаются пользователи в возрасте 25 лет (таких примерно 145 человек). Реже всего встречаются пользователи старше 35 лет. График имеет вид нормального распределения."
   ]
  },
  {
   "cell_type": "markdown",
   "id": "bc6c79fc",
   "metadata": {},
   "source": [
    "### расстояние, которое пользователь преодолел за одну поездку"
   ]
  },
  {
   "cell_type": "code",
   "execution_count": 32,
   "id": "bdf1342e",
   "metadata": {},
   "outputs": [
    {
     "data": {
      "text/plain": [
       "count    18068.000000\n",
       "mean      3070.659976\n",
       "std       1116.831209\n",
       "min          0.855683\n",
       "25%       2543.226360\n",
       "50%       3133.609994\n",
       "75%       3776.222735\n",
       "max       7211.007745\n",
       "Name: distance, dtype: float64"
      ]
     },
     "execution_count": 32,
     "metadata": {},
     "output_type": "execute_result"
    }
   ],
   "source": [
    "#запросим дополнительные характеристики столбца distance\n",
    "data_riders['distance'].describe()"
   ]
  },
  {
   "cell_type": "code",
   "execution_count": 33,
   "id": "ede60edf",
   "metadata": {},
   "outputs": [
    {
     "data": {
      "image/png": "[encoded data removed]",
      "text/plain": [
       "<Figure size 900x900 with 1 Axes>"
      ]
     },
     "metadata": {},
     "output_type": "display_data"
    }
   ],
   "source": [
    "#построим диаграмму размаха для столбца distance\n",
    "data_riders.boxplot(column='distance', figsize=(9, 9))\n",
    "plt.title('Размах расстояние пользователей за поездку')\n",
    "plt.ylabel('Расстояние, м')\n",
    "plt.show()"
   ]
  },
  {
   "cell_type": "code",
   "execution_count": 34,
   "id": "ee5c6b30",
   "metadata": {},
   "outputs": [
    {
     "data": {
      "image/png": "[encoded data removed]",
      "text/plain": [
       "<Figure size 900x900 with 1 Axes>"
      ]
     },
     "metadata": {},
     "output_type": "display_data"
    }
   ],
   "source": [
    "#построим гистограмму для столбца distance, исключив выбросы\n",
    "(\n",
    "data_riders.query('750 <= distance <= 5700')\n",
    "    .hist(column = 'distance', figsize=(9, 9), grid = True, bins = 20)\n",
    ")\n",
    "\n",
    "plt.title('Расстояние пользователя за поездку')\n",
    "plt.xlabel('Расстояние, м')\n",
    "plt.ylabel('Частота')\n",
    "plt.show()"
   ]
  },
  {
   "cell_type": "markdown",
   "id": "67875215",
   "metadata": {},
   "source": [
    "Запросили дополнительные характеристики столбца distance и обнаружили, что минимальное расстояние, которое проделал пользователь, составляет 0,85 м. Слишком маленькое расстояние для езды на самокате, похоже на выброс. Вероятно, активиров сессию поездки, пользователь передумал кататься или произошла техническая ошибка. В связи с этим построили гистограмму, исключив выбросы. Среднее значение в столбце distance - 3070 м, а медиана - 3133 м. На гистограмме видно, что действительно чаще всего пользователи преодолевали расстояние в диапазоне от 3000 до 3250 м. Также встречается пик в пределах 1000 м. Скорее всего, в данном случае пользователи арендовали самокат для поездки до магазина или метро, а не для прогулки. Реже всего пользователи преодолевали расстояния в 1500 м и более 5000 м."
   ]
  },
  {
   "cell_type": "markdown",
   "id": "aec2c842",
   "metadata": {},
   "source": [
    "### продолжительность поездок"
   ]
  },
  {
   "cell_type": "code",
   "execution_count": 35,
   "id": "bc788697",
   "metadata": {},
   "outputs": [
    {
     "data": {
      "text/plain": [
       "count    18068.000000\n",
       "mean        17.805011\n",
       "std          6.091051\n",
       "min          0.500000\n",
       "25%         13.597563\n",
       "50%         17.678395\n",
       "75%         21.724800\n",
       "max         40.823963\n",
       "Name: duration, dtype: float64"
      ]
     },
     "execution_count": 35,
     "metadata": {},
     "output_type": "execute_result"
    }
   ],
   "source": [
    "#запросим дополнительные характеристики столбца duration\n",
    "data_riders['duration'].describe()"
   ]
  },
  {
   "cell_type": "code",
   "execution_count": 36,
   "id": "db5933e9",
   "metadata": {},
   "outputs": [
    {
     "data": {
      "image/png": "[encoded data removed]",
      "text/plain": [
       "<Figure size 900x900 with 1 Axes>"
      ]
     },
     "metadata": {},
     "output_type": "display_data"
    }
   ],
   "source": [
    "#построим диаграмму размаха для столбца duration\n",
    "data_riders.boxplot(column='duration', figsize=(9, 9))\n",
    "plt.title('Размах продолжительности поездок')\n",
    "plt.ylabel('Продолжительность, мин')\n",
    "plt.show()"
   ]
  },
  {
   "cell_type": "code",
   "execution_count": 37,
   "id": "28052849",
   "metadata": {},
   "outputs": [
    {
     "data": {
      "image/png": "[encoded data removed]",
      "text/plain": [
       "<Figure size 900x900 with 1 Axes>"
      ]
     },
     "metadata": {},
     "output_type": "display_data"
    }
   ],
   "source": [
    "#построим гистограмму для столбца total_area, исключив выбросы\n",
    "(\n",
    "data_riders.query('2.5 <= duration <= 34')\n",
    "    .hist(column = 'duration', figsize=(9, 9), grid = True, bins = 20)\n",
    ")\n",
    "\n",
    "plt.title('Продолжительность поездок')\n",
    "plt.xlabel('Продолжительность, мин')\n",
    "plt.ylabel('Частота')\n",
    "plt.show()"
   ]
  },
  {
   "cell_type": "markdown",
   "id": "d09dc483",
   "metadata": {},
   "source": [
    "Запросили дополнительные характеристики столбца duration и обнаружили, что минимальная продолжительность проездки - 0,5 мин. Слишком короткая продолжительность для езды на самокате, похоже на выброс. Вероятно, активиров сессию поездки, пользователь передумал кататься или произошла техническая ошибка. В связи с этим построили гистограмму, исключив выбросы. График стремится к нормальному распределению. Среднее значение в столбце duration - 17,8 мин, а медиана - 17,6 мин. На гистограмме видно, что действительно чаще всего пользователи тратили на поездку 17,5-18 мин. Реже всего пользователи тратили на одну поездку меньше 5 минут и больше 33 минут."
   ]
  },
  {
   "cell_type": "markdown",
   "id": "05b7464f",
   "metadata": {},
   "source": [
    "**Вывод:** На данном этапе выявили характеристики самых распространенных поездок:\n",
    "\n",
    "- поездки чаще всего совершались в Пятигорске;\n",
    "- пользователи предпочитают совершать поездки без оформления подписки;\n",
    "- самый популярный пользователь - в возрасте 25 лет;\n",
    "- в среднем пользователи преодолевают расстояние от 3000 до 3250 м;\n",
    "- в среднем каждый пользователь тратит на одну поездку 17,5-18 мин."
   ]
  },
  {
   "cell_type": "markdown",
   "id": "4ef51331",
   "metadata": {},
   "source": [
    "## Объединение данных"
   ]
  },
  {
   "cell_type": "markdown",
   "id": "bbe510f0",
   "metadata": {},
   "source": [
    "### Объединим данные о пользователях, поездках и подписках в один датафрейм"
   ]
  },
  {
   "cell_type": "code",
   "execution_count": 38,
   "id": "6bf288b5",
   "metadata": {},
   "outputs": [
    {
     "data": {
      "text/html": [
       "<div>\n",
       "<style scoped>\n",
       "    .dataframe tbody tr th:only-of-type {\n",
       "        vertical-align: middle;\n",
       "    }\n",
       "\n",
       "    .dataframe tbody tr th {\n",
       "        vertical-align: top;\n",
       "    }\n",
       "\n",
       "    .dataframe thead th {\n",
       "        text-align: right;\n",
       "    }\n",
       "</style>\n",
       "<table border=\"1\" class=\"dataframe\">\n",
       "  <thead>\n",
       "    <tr style=\"text-align: right;\">\n",
       "      <th></th>\n",
       "      <th>user_id</th>\n",
       "      <th>distance</th>\n",
       "      <th>duration</th>\n",
       "      <th>date</th>\n",
       "      <th>month</th>\n",
       "      <th>name</th>\n",
       "      <th>age</th>\n",
       "      <th>city</th>\n",
       "      <th>subscription_type</th>\n",
       "      <th>minute_price</th>\n",
       "      <th>start_ride_price</th>\n",
       "      <th>subscription_fee</th>\n",
       "    </tr>\n",
       "  </thead>\n",
       "  <tbody>\n",
       "    <tr>\n",
       "      <th>0</th>\n",
       "      <td>1</td>\n",
       "      <td>4409.919140</td>\n",
       "      <td>25.599769</td>\n",
       "      <td>2021-01-01</td>\n",
       "      <td>1</td>\n",
       "      <td>Кира</td>\n",
       "      <td>22</td>\n",
       "      <td>Тюмень</td>\n",
       "      <td>ultra</td>\n",
       "      <td>6</td>\n",
       "      <td>0</td>\n",
       "      <td>199</td>\n",
       "    </tr>\n",
       "    <tr>\n",
       "      <th>1</th>\n",
       "      <td>1</td>\n",
       "      <td>2617.592153</td>\n",
       "      <td>15.816871</td>\n",
       "      <td>2021-01-18</td>\n",
       "      <td>1</td>\n",
       "      <td>Кира</td>\n",
       "      <td>22</td>\n",
       "      <td>Тюмень</td>\n",
       "      <td>ultra</td>\n",
       "      <td>6</td>\n",
       "      <td>0</td>\n",
       "      <td>199</td>\n",
       "    </tr>\n",
       "    <tr>\n",
       "      <th>2</th>\n",
       "      <td>1</td>\n",
       "      <td>754.159807</td>\n",
       "      <td>6.232113</td>\n",
       "      <td>2021-04-20</td>\n",
       "      <td>4</td>\n",
       "      <td>Кира</td>\n",
       "      <td>22</td>\n",
       "      <td>Тюмень</td>\n",
       "      <td>ultra</td>\n",
       "      <td>6</td>\n",
       "      <td>0</td>\n",
       "      <td>199</td>\n",
       "    </tr>\n",
       "    <tr>\n",
       "      <th>3</th>\n",
       "      <td>1</td>\n",
       "      <td>2694.783254</td>\n",
       "      <td>18.511000</td>\n",
       "      <td>2021-08-11</td>\n",
       "      <td>8</td>\n",
       "      <td>Кира</td>\n",
       "      <td>22</td>\n",
       "      <td>Тюмень</td>\n",
       "      <td>ultra</td>\n",
       "      <td>6</td>\n",
       "      <td>0</td>\n",
       "      <td>199</td>\n",
       "    </tr>\n",
       "    <tr>\n",
       "      <th>4</th>\n",
       "      <td>1</td>\n",
       "      <td>4028.687306</td>\n",
       "      <td>26.265803</td>\n",
       "      <td>2021-08-28</td>\n",
       "      <td>8</td>\n",
       "      <td>Кира</td>\n",
       "      <td>22</td>\n",
       "      <td>Тюмень</td>\n",
       "      <td>ultra</td>\n",
       "      <td>6</td>\n",
       "      <td>0</td>\n",
       "      <td>199</td>\n",
       "    </tr>\n",
       "    <tr>\n",
       "      <th>...</th>\n",
       "      <td>...</td>\n",
       "      <td>...</td>\n",
       "      <td>...</td>\n",
       "      <td>...</td>\n",
       "      <td>...</td>\n",
       "      <td>...</td>\n",
       "      <td>...</td>\n",
       "      <td>...</td>\n",
       "      <td>...</td>\n",
       "      <td>...</td>\n",
       "      <td>...</td>\n",
       "      <td>...</td>\n",
       "    </tr>\n",
       "    <tr>\n",
       "      <th>18063</th>\n",
       "      <td>1534</td>\n",
       "      <td>3781.098080</td>\n",
       "      <td>19.822962</td>\n",
       "      <td>2021-11-04</td>\n",
       "      <td>11</td>\n",
       "      <td>Альберт</td>\n",
       "      <td>25</td>\n",
       "      <td>Краснодар</td>\n",
       "      <td>free</td>\n",
       "      <td>8</td>\n",
       "      <td>50</td>\n",
       "      <td>0</td>\n",
       "    </tr>\n",
       "    <tr>\n",
       "      <th>18064</th>\n",
       "      <td>1534</td>\n",
       "      <td>2840.423057</td>\n",
       "      <td>21.409799</td>\n",
       "      <td>2021-11-16</td>\n",
       "      <td>11</td>\n",
       "      <td>Альберт</td>\n",
       "      <td>25</td>\n",
       "      <td>Краснодар</td>\n",
       "      <td>free</td>\n",
       "      <td>8</td>\n",
       "      <td>50</td>\n",
       "      <td>0</td>\n",
       "    </tr>\n",
       "    <tr>\n",
       "      <th>18065</th>\n",
       "      <td>1534</td>\n",
       "      <td>3826.185507</td>\n",
       "      <td>18.435051</td>\n",
       "      <td>2021-11-18</td>\n",
       "      <td>11</td>\n",
       "      <td>Альберт</td>\n",
       "      <td>25</td>\n",
       "      <td>Краснодар</td>\n",
       "      <td>free</td>\n",
       "      <td>8</td>\n",
       "      <td>50</td>\n",
       "      <td>0</td>\n",
       "    </tr>\n",
       "    <tr>\n",
       "      <th>18066</th>\n",
       "      <td>1534</td>\n",
       "      <td>2902.308661</td>\n",
       "      <td>16.674362</td>\n",
       "      <td>2021-11-27</td>\n",
       "      <td>11</td>\n",
       "      <td>Альберт</td>\n",
       "      <td>25</td>\n",
       "      <td>Краснодар</td>\n",
       "      <td>free</td>\n",
       "      <td>8</td>\n",
       "      <td>50</td>\n",
       "      <td>0</td>\n",
       "    </tr>\n",
       "    <tr>\n",
       "      <th>18067</th>\n",
       "      <td>1534</td>\n",
       "      <td>2371.711192</td>\n",
       "      <td>15.893917</td>\n",
       "      <td>2021-12-29</td>\n",
       "      <td>12</td>\n",
       "      <td>Альберт</td>\n",
       "      <td>25</td>\n",
       "      <td>Краснодар</td>\n",
       "      <td>free</td>\n",
       "      <td>8</td>\n",
       "      <td>50</td>\n",
       "      <td>0</td>\n",
       "    </tr>\n",
       "  </tbody>\n",
       "</table>\n",
       "<p>18068 rows × 12 columns</p>\n",
       "</div>"
      ],
      "text/plain": [
       "       user_id     distance   duration       date  month     name  age  \\\n",
       "0            1  4409.919140  25.599769 2021-01-01      1     Кира   22   \n",
       "1            1  2617.592153  15.816871 2021-01-18      1     Кира   22   \n",
       "2            1   754.159807   6.232113 2021-04-20      4     Кира   22   \n",
       "3            1  2694.783254  18.511000 2021-08-11      8     Кира   22   \n",
       "4            1  4028.687306  26.265803 2021-08-28      8     Кира   22   \n",
       "...        ...          ...        ...        ...    ...      ...  ...   \n",
       "18063     1534  3781.098080  19.822962 2021-11-04     11  Альберт   25   \n",
       "18064     1534  2840.423057  21.409799 2021-11-16     11  Альберт   25   \n",
       "18065     1534  3826.185507  18.435051 2021-11-18     11  Альберт   25   \n",
       "18066     1534  2902.308661  16.674362 2021-11-27     11  Альберт   25   \n",
       "18067     1534  2371.711192  15.893917 2021-12-29     12  Альберт   25   \n",
       "\n",
       "            city subscription_type  minute_price  start_ride_price  \\\n",
       "0         Тюмень             ultra             6                 0   \n",
       "1         Тюмень             ultra             6                 0   \n",
       "2         Тюмень             ultra             6                 0   \n",
       "3         Тюмень             ultra             6                 0   \n",
       "4         Тюмень             ultra             6                 0   \n",
       "...          ...               ...           ...               ...   \n",
       "18063  Краснодар              free             8                50   \n",
       "18064  Краснодар              free             8                50   \n",
       "18065  Краснодар              free             8                50   \n",
       "18066  Краснодар              free             8                50   \n",
       "18067  Краснодар              free             8                50   \n",
       "\n",
       "       subscription_fee  \n",
       "0                   199  \n",
       "1                   199  \n",
       "2                   199  \n",
       "3                   199  \n",
       "4                   199  \n",
       "...                 ...  \n",
       "18063                 0  \n",
       "18064                 0  \n",
       "18065                 0  \n",
       "18066                 0  \n",
       "18067                 0  \n",
       "\n",
       "[18068 rows x 12 columns]"
      ]
     },
     "execution_count": 38,
     "metadata": {},
     "output_type": "execute_result"
    }
   ],
   "source": [
    "#объединим 3 исходных датафрейма\n",
    "data_total = data_riders.merge(data_users, on='user_id')\n",
    "data_total = data_total.merge(data_subs, on='subscription_type')\n",
    "\n",
    "#проверим\n",
    "data_total"
   ]
  },
  {
   "cell_type": "markdown",
   "id": "76de22c8",
   "metadata": {},
   "source": [
    "Получили общий датафрейм data_total, путем успешного объединения 3х датафреймов. Новая таблица имеет информацию о 18068 поездках по 12 характеристикам."
   ]
  },
  {
   "cell_type": "markdown",
   "id": "fd726383",
   "metadata": {},
   "source": [
    "### Создадим ещё два датафрейма из датафрейма, созданного на этапе 4.1:\n",
    "- c данными о пользователях без подписки;\n",
    "- с данными о пользователях с подпиской."
   ]
  },
  {
   "cell_type": "code",
   "execution_count": 39,
   "id": "fc342923",
   "metadata": {},
   "outputs": [
    {
     "data": {
      "text/html": [
       "<div>\n",
       "<style scoped>\n",
       "    .dataframe tbody tr th:only-of-type {\n",
       "        vertical-align: middle;\n",
       "    }\n",
       "\n",
       "    .dataframe tbody tr th {\n",
       "        vertical-align: top;\n",
       "    }\n",
       "\n",
       "    .dataframe thead th {\n",
       "        text-align: right;\n",
       "    }\n",
       "</style>\n",
       "<table border=\"1\" class=\"dataframe\">\n",
       "  <thead>\n",
       "    <tr style=\"text-align: right;\">\n",
       "      <th></th>\n",
       "      <th>user_id</th>\n",
       "      <th>distance</th>\n",
       "      <th>duration</th>\n",
       "      <th>date</th>\n",
       "      <th>month</th>\n",
       "      <th>name</th>\n",
       "      <th>age</th>\n",
       "      <th>city</th>\n",
       "      <th>subscription_type</th>\n",
       "      <th>minute_price</th>\n",
       "      <th>start_ride_price</th>\n",
       "      <th>subscription_fee</th>\n",
       "    </tr>\n",
       "  </thead>\n",
       "  <tbody>\n",
       "    <tr>\n",
       "      <th>0</th>\n",
       "      <td>1</td>\n",
       "      <td>4409.919140</td>\n",
       "      <td>25.599769</td>\n",
       "      <td>2021-01-01</td>\n",
       "      <td>1</td>\n",
       "      <td>Кира</td>\n",
       "      <td>22</td>\n",
       "      <td>Тюмень</td>\n",
       "      <td>ultra</td>\n",
       "      <td>6</td>\n",
       "      <td>0</td>\n",
       "      <td>199</td>\n",
       "    </tr>\n",
       "    <tr>\n",
       "      <th>1</th>\n",
       "      <td>1</td>\n",
       "      <td>2617.592153</td>\n",
       "      <td>15.816871</td>\n",
       "      <td>2021-01-18</td>\n",
       "      <td>1</td>\n",
       "      <td>Кира</td>\n",
       "      <td>22</td>\n",
       "      <td>Тюмень</td>\n",
       "      <td>ultra</td>\n",
       "      <td>6</td>\n",
       "      <td>0</td>\n",
       "      <td>199</td>\n",
       "    </tr>\n",
       "    <tr>\n",
       "      <th>2</th>\n",
       "      <td>1</td>\n",
       "      <td>754.159807</td>\n",
       "      <td>6.232113</td>\n",
       "      <td>2021-04-20</td>\n",
       "      <td>4</td>\n",
       "      <td>Кира</td>\n",
       "      <td>22</td>\n",
       "      <td>Тюмень</td>\n",
       "      <td>ultra</td>\n",
       "      <td>6</td>\n",
       "      <td>0</td>\n",
       "      <td>199</td>\n",
       "    </tr>\n",
       "    <tr>\n",
       "      <th>3</th>\n",
       "      <td>1</td>\n",
       "      <td>2694.783254</td>\n",
       "      <td>18.511000</td>\n",
       "      <td>2021-08-11</td>\n",
       "      <td>8</td>\n",
       "      <td>Кира</td>\n",
       "      <td>22</td>\n",
       "      <td>Тюмень</td>\n",
       "      <td>ultra</td>\n",
       "      <td>6</td>\n",
       "      <td>0</td>\n",
       "      <td>199</td>\n",
       "    </tr>\n",
       "    <tr>\n",
       "      <th>4</th>\n",
       "      <td>1</td>\n",
       "      <td>4028.687306</td>\n",
       "      <td>26.265803</td>\n",
       "      <td>2021-08-28</td>\n",
       "      <td>8</td>\n",
       "      <td>Кира</td>\n",
       "      <td>22</td>\n",
       "      <td>Тюмень</td>\n",
       "      <td>ultra</td>\n",
       "      <td>6</td>\n",
       "      <td>0</td>\n",
       "      <td>199</td>\n",
       "    </tr>\n",
       "    <tr>\n",
       "      <th>...</th>\n",
       "      <td>...</td>\n",
       "      <td>...</td>\n",
       "      <td>...</td>\n",
       "      <td>...</td>\n",
       "      <td>...</td>\n",
       "      <td>...</td>\n",
       "      <td>...</td>\n",
       "      <td>...</td>\n",
       "      <td>...</td>\n",
       "      <td>...</td>\n",
       "      <td>...</td>\n",
       "      <td>...</td>\n",
       "    </tr>\n",
       "    <tr>\n",
       "      <th>6495</th>\n",
       "      <td>699</td>\n",
       "      <td>3973.046497</td>\n",
       "      <td>24.671163</td>\n",
       "      <td>2021-08-29</td>\n",
       "      <td>8</td>\n",
       "      <td>Оксана</td>\n",
       "      <td>22</td>\n",
       "      <td>Москва</td>\n",
       "      <td>ultra</td>\n",
       "      <td>6</td>\n",
       "      <td>0</td>\n",
       "      <td>199</td>\n",
       "    </tr>\n",
       "    <tr>\n",
       "      <th>6496</th>\n",
       "      <td>699</td>\n",
       "      <td>3288.702563</td>\n",
       "      <td>15.892886</td>\n",
       "      <td>2021-09-12</td>\n",
       "      <td>9</td>\n",
       "      <td>Оксана</td>\n",
       "      <td>22</td>\n",
       "      <td>Москва</td>\n",
       "      <td>ultra</td>\n",
       "      <td>6</td>\n",
       "      <td>0</td>\n",
       "      <td>199</td>\n",
       "    </tr>\n",
       "    <tr>\n",
       "      <th>6497</th>\n",
       "      <td>699</td>\n",
       "      <td>3076.159348</td>\n",
       "      <td>14.389525</td>\n",
       "      <td>2021-09-26</td>\n",
       "      <td>9</td>\n",
       "      <td>Оксана</td>\n",
       "      <td>22</td>\n",
       "      <td>Москва</td>\n",
       "      <td>ultra</td>\n",
       "      <td>6</td>\n",
       "      <td>0</td>\n",
       "      <td>199</td>\n",
       "    </tr>\n",
       "    <tr>\n",
       "      <th>6498</th>\n",
       "      <td>699</td>\n",
       "      <td>4707.845501</td>\n",
       "      <td>15.839579</td>\n",
       "      <td>2021-10-17</td>\n",
       "      <td>10</td>\n",
       "      <td>Оксана</td>\n",
       "      <td>22</td>\n",
       "      <td>Москва</td>\n",
       "      <td>ultra</td>\n",
       "      <td>6</td>\n",
       "      <td>0</td>\n",
       "      <td>199</td>\n",
       "    </tr>\n",
       "    <tr>\n",
       "      <th>6499</th>\n",
       "      <td>699</td>\n",
       "      <td>3202.890770</td>\n",
       "      <td>25.217345</td>\n",
       "      <td>2021-12-03</td>\n",
       "      <td>12</td>\n",
       "      <td>Оксана</td>\n",
       "      <td>22</td>\n",
       "      <td>Москва</td>\n",
       "      <td>ultra</td>\n",
       "      <td>6</td>\n",
       "      <td>0</td>\n",
       "      <td>199</td>\n",
       "    </tr>\n",
       "  </tbody>\n",
       "</table>\n",
       "<p>6500 rows × 12 columns</p>\n",
       "</div>"
      ],
      "text/plain": [
       "      user_id     distance   duration       date  month    name  age    city  \\\n",
       "0           1  4409.919140  25.599769 2021-01-01      1    Кира   22  Тюмень   \n",
       "1           1  2617.592153  15.816871 2021-01-18      1    Кира   22  Тюмень   \n",
       "2           1   754.159807   6.232113 2021-04-20      4    Кира   22  Тюмень   \n",
       "3           1  2694.783254  18.511000 2021-08-11      8    Кира   22  Тюмень   \n",
       "4           1  4028.687306  26.265803 2021-08-28      8    Кира   22  Тюмень   \n",
       "...       ...          ...        ...        ...    ...     ...  ...     ...   \n",
       "6495      699  3973.046497  24.671163 2021-08-29      8  Оксана   22  Москва   \n",
       "6496      699  3288.702563  15.892886 2021-09-12      9  Оксана   22  Москва   \n",
       "6497      699  3076.159348  14.389525 2021-09-26      9  Оксана   22  Москва   \n",
       "6498      699  4707.845501  15.839579 2021-10-17     10  Оксана   22  Москва   \n",
       "6499      699  3202.890770  25.217345 2021-12-03     12  Оксана   22  Москва   \n",
       "\n",
       "     subscription_type  minute_price  start_ride_price  subscription_fee  \n",
       "0                ultra             6                 0               199  \n",
       "1                ultra             6                 0               199  \n",
       "2                ultra             6                 0               199  \n",
       "3                ultra             6                 0               199  \n",
       "4                ultra             6                 0               199  \n",
       "...                ...           ...               ...               ...  \n",
       "6495             ultra             6                 0               199  \n",
       "6496             ultra             6                 0               199  \n",
       "6497             ultra             6                 0               199  \n",
       "6498             ultra             6                 0               199  \n",
       "6499             ultra             6                 0               199  \n",
       "\n",
       "[6500 rows x 12 columns]"
      ]
     },
     "execution_count": 39,
     "metadata": {},
     "output_type": "execute_result"
    }
   ],
   "source": [
    "#создадим датафрейм, с данными о пользователях с подпиской\n",
    "data_subs_ultra = data_total.query('subscription_type == \"ultra\"')\n",
    "\n",
    "#проверим\n",
    "data_subs_ultra"
   ]
  },
  {
   "cell_type": "code",
   "execution_count": 40,
   "id": "62131aca",
   "metadata": {},
   "outputs": [
    {
     "data": {
      "text/html": [
       "<div>\n",
       "<style scoped>\n",
       "    .dataframe tbody tr th:only-of-type {\n",
       "        vertical-align: middle;\n",
       "    }\n",
       "\n",
       "    .dataframe tbody tr th {\n",
       "        vertical-align: top;\n",
       "    }\n",
       "\n",
       "    .dataframe thead th {\n",
       "        text-align: right;\n",
       "    }\n",
       "</style>\n",
       "<table border=\"1\" class=\"dataframe\">\n",
       "  <thead>\n",
       "    <tr style=\"text-align: right;\">\n",
       "      <th></th>\n",
       "      <th>user_id</th>\n",
       "      <th>distance</th>\n",
       "      <th>duration</th>\n",
       "      <th>date</th>\n",
       "      <th>month</th>\n",
       "      <th>name</th>\n",
       "      <th>age</th>\n",
       "      <th>city</th>\n",
       "      <th>subscription_type</th>\n",
       "      <th>minute_price</th>\n",
       "      <th>start_ride_price</th>\n",
       "      <th>subscription_fee</th>\n",
       "    </tr>\n",
       "  </thead>\n",
       "  <tbody>\n",
       "    <tr>\n",
       "      <th>6500</th>\n",
       "      <td>700</td>\n",
       "      <td>2515.690719</td>\n",
       "      <td>14.944286</td>\n",
       "      <td>2021-01-02</td>\n",
       "      <td>1</td>\n",
       "      <td>Айдар</td>\n",
       "      <td>22</td>\n",
       "      <td>Омск</td>\n",
       "      <td>free</td>\n",
       "      <td>8</td>\n",
       "      <td>50</td>\n",
       "      <td>0</td>\n",
       "    </tr>\n",
       "    <tr>\n",
       "      <th>6501</th>\n",
       "      <td>700</td>\n",
       "      <td>846.932642</td>\n",
       "      <td>16.234663</td>\n",
       "      <td>2021-02-01</td>\n",
       "      <td>2</td>\n",
       "      <td>Айдар</td>\n",
       "      <td>22</td>\n",
       "      <td>Омск</td>\n",
       "      <td>free</td>\n",
       "      <td>8</td>\n",
       "      <td>50</td>\n",
       "      <td>0</td>\n",
       "    </tr>\n",
       "    <tr>\n",
       "      <th>6502</th>\n",
       "      <td>700</td>\n",
       "      <td>4004.434142</td>\n",
       "      <td>20.016628</td>\n",
       "      <td>2021-02-04</td>\n",
       "      <td>2</td>\n",
       "      <td>Айдар</td>\n",
       "      <td>22</td>\n",
       "      <td>Омск</td>\n",
       "      <td>free</td>\n",
       "      <td>8</td>\n",
       "      <td>50</td>\n",
       "      <td>0</td>\n",
       "    </tr>\n",
       "    <tr>\n",
       "      <th>6503</th>\n",
       "      <td>700</td>\n",
       "      <td>1205.911290</td>\n",
       "      <td>9.782872</td>\n",
       "      <td>2021-02-10</td>\n",
       "      <td>2</td>\n",
       "      <td>Айдар</td>\n",
       "      <td>22</td>\n",
       "      <td>Омск</td>\n",
       "      <td>free</td>\n",
       "      <td>8</td>\n",
       "      <td>50</td>\n",
       "      <td>0</td>\n",
       "    </tr>\n",
       "    <tr>\n",
       "      <th>6504</th>\n",
       "      <td>700</td>\n",
       "      <td>3047.379435</td>\n",
       "      <td>17.427673</td>\n",
       "      <td>2021-02-14</td>\n",
       "      <td>2</td>\n",
       "      <td>Айдар</td>\n",
       "      <td>22</td>\n",
       "      <td>Омск</td>\n",
       "      <td>free</td>\n",
       "      <td>8</td>\n",
       "      <td>50</td>\n",
       "      <td>0</td>\n",
       "    </tr>\n",
       "    <tr>\n",
       "      <th>...</th>\n",
       "      <td>...</td>\n",
       "      <td>...</td>\n",
       "      <td>...</td>\n",
       "      <td>...</td>\n",
       "      <td>...</td>\n",
       "      <td>...</td>\n",
       "      <td>...</td>\n",
       "      <td>...</td>\n",
       "      <td>...</td>\n",
       "      <td>...</td>\n",
       "      <td>...</td>\n",
       "      <td>...</td>\n",
       "    </tr>\n",
       "    <tr>\n",
       "      <th>18063</th>\n",
       "      <td>1534</td>\n",
       "      <td>3781.098080</td>\n",
       "      <td>19.822962</td>\n",
       "      <td>2021-11-04</td>\n",
       "      <td>11</td>\n",
       "      <td>Альберт</td>\n",
       "      <td>25</td>\n",
       "      <td>Краснодар</td>\n",
       "      <td>free</td>\n",
       "      <td>8</td>\n",
       "      <td>50</td>\n",
       "      <td>0</td>\n",
       "    </tr>\n",
       "    <tr>\n",
       "      <th>18064</th>\n",
       "      <td>1534</td>\n",
       "      <td>2840.423057</td>\n",
       "      <td>21.409799</td>\n",
       "      <td>2021-11-16</td>\n",
       "      <td>11</td>\n",
       "      <td>Альберт</td>\n",
       "      <td>25</td>\n",
       "      <td>Краснодар</td>\n",
       "      <td>free</td>\n",
       "      <td>8</td>\n",
       "      <td>50</td>\n",
       "      <td>0</td>\n",
       "    </tr>\n",
       "    <tr>\n",
       "      <th>18065</th>\n",
       "      <td>1534</td>\n",
       "      <td>3826.185507</td>\n",
       "      <td>18.435051</td>\n",
       "      <td>2021-11-18</td>\n",
       "      <td>11</td>\n",
       "      <td>Альберт</td>\n",
       "      <td>25</td>\n",
       "      <td>Краснодар</td>\n",
       "      <td>free</td>\n",
       "      <td>8</td>\n",
       "      <td>50</td>\n",
       "      <td>0</td>\n",
       "    </tr>\n",
       "    <tr>\n",
       "      <th>18066</th>\n",
       "      <td>1534</td>\n",
       "      <td>2902.308661</td>\n",
       "      <td>16.674362</td>\n",
       "      <td>2021-11-27</td>\n",
       "      <td>11</td>\n",
       "      <td>Альберт</td>\n",
       "      <td>25</td>\n",
       "      <td>Краснодар</td>\n",
       "      <td>free</td>\n",
       "      <td>8</td>\n",
       "      <td>50</td>\n",
       "      <td>0</td>\n",
       "    </tr>\n",
       "    <tr>\n",
       "      <th>18067</th>\n",
       "      <td>1534</td>\n",
       "      <td>2371.711192</td>\n",
       "      <td>15.893917</td>\n",
       "      <td>2021-12-29</td>\n",
       "      <td>12</td>\n",
       "      <td>Альберт</td>\n",
       "      <td>25</td>\n",
       "      <td>Краснодар</td>\n",
       "      <td>free</td>\n",
       "      <td>8</td>\n",
       "      <td>50</td>\n",
       "      <td>0</td>\n",
       "    </tr>\n",
       "  </tbody>\n",
       "</table>\n",
       "<p>11568 rows × 12 columns</p>\n",
       "</div>"
      ],
      "text/plain": [
       "       user_id     distance   duration       date  month     name  age  \\\n",
       "6500       700  2515.690719  14.944286 2021-01-02      1    Айдар   22   \n",
       "6501       700   846.932642  16.234663 2021-02-01      2    Айдар   22   \n",
       "6502       700  4004.434142  20.016628 2021-02-04      2    Айдар   22   \n",
       "6503       700  1205.911290   9.782872 2021-02-10      2    Айдар   22   \n",
       "6504       700  3047.379435  17.427673 2021-02-14      2    Айдар   22   \n",
       "...        ...          ...        ...        ...    ...      ...  ...   \n",
       "18063     1534  3781.098080  19.822962 2021-11-04     11  Альберт   25   \n",
       "18064     1534  2840.423057  21.409799 2021-11-16     11  Альберт   25   \n",
       "18065     1534  3826.185507  18.435051 2021-11-18     11  Альберт   25   \n",
       "18066     1534  2902.308661  16.674362 2021-11-27     11  Альберт   25   \n",
       "18067     1534  2371.711192  15.893917 2021-12-29     12  Альберт   25   \n",
       "\n",
       "            city subscription_type  minute_price  start_ride_price  \\\n",
       "6500        Омск              free             8                50   \n",
       "6501        Омск              free             8                50   \n",
       "6502        Омск              free             8                50   \n",
       "6503        Омск              free             8                50   \n",
       "6504        Омск              free             8                50   \n",
       "...          ...               ...           ...               ...   \n",
       "18063  Краснодар              free             8                50   \n",
       "18064  Краснодар              free             8                50   \n",
       "18065  Краснодар              free             8                50   \n",
       "18066  Краснодар              free             8                50   \n",
       "18067  Краснодар              free             8                50   \n",
       "\n",
       "       subscription_fee  \n",
       "6500                  0  \n",
       "6501                  0  \n",
       "6502                  0  \n",
       "6503                  0  \n",
       "6504                  0  \n",
       "...                 ...  \n",
       "18063                 0  \n",
       "18064                 0  \n",
       "18065                 0  \n",
       "18066                 0  \n",
       "18067                 0  \n",
       "\n",
       "[11568 rows x 12 columns]"
      ]
     },
     "execution_count": 40,
     "metadata": {},
     "output_type": "execute_result"
    }
   ],
   "source": [
    "#создадим датафрейм, с данными о пользователях без подписки\n",
    "data_subs_free = data_total.query('subscription_type == \"free\"')\n",
    "\n",
    "#проверим\n",
    "data_subs_free"
   ]
  },
  {
   "cell_type": "markdown",
   "id": "cfc87965",
   "metadata": {},
   "source": [
    "Создали 2 датафрейма data_subs_ultra (с данными о пользователях с подпиской) и data_subs_free (с данными о пользователях без подписки) на основе датафрейма data_total. data_subs_ultra содержит данные о 6500 поездках, а data_subs_free - о 11568 поездках. "
   ]
  },
  {
   "cell_type": "markdown",
   "id": "e2da1f80",
   "metadata": {},
   "source": [
    "### Визуализируем информацию о расстоянии и времени поездок для пользователей обеих категорий"
   ]
  },
  {
   "cell_type": "code",
   "execution_count": 41,
   "id": "f732d9f3",
   "metadata": {},
   "outputs": [
    {
     "data": {
      "text/html": [
       "<div>\n",
       "<style scoped>\n",
       "    .dataframe tbody tr th:only-of-type {\n",
       "        vertical-align: middle;\n",
       "    }\n",
       "\n",
       "    .dataframe tbody tr th {\n",
       "        vertical-align: top;\n",
       "    }\n",
       "\n",
       "    .dataframe thead th {\n",
       "        text-align: right;\n",
       "    }\n",
       "</style>\n",
       "<table border=\"1\" class=\"dataframe\">\n",
       "  <thead>\n",
       "    <tr style=\"text-align: right;\">\n",
       "      <th></th>\n",
       "      <th>user_id</th>\n",
       "      <th>distance</th>\n",
       "      <th>duration</th>\n",
       "      <th>date</th>\n",
       "      <th>month</th>\n",
       "      <th>age</th>\n",
       "      <th>minute_price</th>\n",
       "      <th>start_ride_price</th>\n",
       "      <th>subscription_fee</th>\n",
       "    </tr>\n",
       "  </thead>\n",
       "  <tbody>\n",
       "    <tr>\n",
       "      <th>count</th>\n",
       "      <td>6500.000000</td>\n",
       "      <td>6500.000000</td>\n",
       "      <td>6500.000000</td>\n",
       "      <td>6500</td>\n",
       "      <td>6500.000000</td>\n",
       "      <td>6500.000000</td>\n",
       "      <td>6500.0</td>\n",
       "      <td>6500.0</td>\n",
       "      <td>6500.0</td>\n",
       "    </tr>\n",
       "    <tr>\n",
       "      <th>mean</th>\n",
       "      <td>348.725385</td>\n",
       "      <td>3115.445388</td>\n",
       "      <td>18.541985</td>\n",
       "      <td>2021-06-28 21:31:34.153846016</td>\n",
       "      <td>6.422308</td>\n",
       "      <td>24.892615</td>\n",
       "      <td>6.0</td>\n",
       "      <td>0.0</td>\n",
       "      <td>199.0</td>\n",
       "    </tr>\n",
       "    <tr>\n",
       "      <th>min</th>\n",
       "      <td>1.000000</td>\n",
       "      <td>244.210438</td>\n",
       "      <td>3.760353</td>\n",
       "      <td>2021-01-01 00:00:00</td>\n",
       "      <td>1.000000</td>\n",
       "      <td>12.000000</td>\n",
       "      <td>6.0</td>\n",
       "      <td>0.0</td>\n",
       "      <td>199.0</td>\n",
       "    </tr>\n",
       "    <tr>\n",
       "      <th>25%</th>\n",
       "      <td>175.000000</td>\n",
       "      <td>2785.444017</td>\n",
       "      <td>14.524654</td>\n",
       "      <td>2021-04-01 00:00:00</td>\n",
       "      <td>4.000000</td>\n",
       "      <td>22.000000</td>\n",
       "      <td>6.0</td>\n",
       "      <td>0.0</td>\n",
       "      <td>199.0</td>\n",
       "    </tr>\n",
       "    <tr>\n",
       "      <th>50%</th>\n",
       "      <td>351.000000</td>\n",
       "      <td>3148.637229</td>\n",
       "      <td>18.178153</td>\n",
       "      <td>2021-06-27 00:00:00</td>\n",
       "      <td>6.000000</td>\n",
       "      <td>25.000000</td>\n",
       "      <td>6.0</td>\n",
       "      <td>0.0</td>\n",
       "      <td>199.0</td>\n",
       "    </tr>\n",
       "    <tr>\n",
       "      <th>75%</th>\n",
       "      <td>525.000000</td>\n",
       "      <td>3560.574425</td>\n",
       "      <td>21.884129</td>\n",
       "      <td>2021-09-25 00:00:00</td>\n",
       "      <td>9.000000</td>\n",
       "      <td>28.000000</td>\n",
       "      <td>6.0</td>\n",
       "      <td>0.0</td>\n",
       "      <td>199.0</td>\n",
       "    </tr>\n",
       "    <tr>\n",
       "      <th>max</th>\n",
       "      <td>699.000000</td>\n",
       "      <td>5699.769662</td>\n",
       "      <td>40.823963</td>\n",
       "      <td>2021-12-30 00:00:00</td>\n",
       "      <td>12.000000</td>\n",
       "      <td>38.000000</td>\n",
       "      <td>6.0</td>\n",
       "      <td>0.0</td>\n",
       "      <td>199.0</td>\n",
       "    </tr>\n",
       "    <tr>\n",
       "      <th>std</th>\n",
       "      <td>201.099339</td>\n",
       "      <td>836.895330</td>\n",
       "      <td>5.572048</td>\n",
       "      <td>NaN</td>\n",
       "      <td>3.414616</td>\n",
       "      <td>4.757208</td>\n",
       "      <td>0.0</td>\n",
       "      <td>0.0</td>\n",
       "      <td>0.0</td>\n",
       "    </tr>\n",
       "  </tbody>\n",
       "</table>\n",
       "</div>"
      ],
      "text/plain": [
       "           user_id     distance     duration                           date  \\\n",
       "count  6500.000000  6500.000000  6500.000000                           6500   \n",
       "mean    348.725385  3115.445388    18.541985  2021-06-28 21:31:34.153846016   \n",
       "min       1.000000   244.210438     3.760353            2021-01-01 00:00:00   \n",
       "25%     175.000000  2785.444017    14.524654            2021-04-01 00:00:00   \n",
       "50%     351.000000  3148.637229    18.178153            2021-06-27 00:00:00   \n",
       "75%     525.000000  3560.574425    21.884129            2021-09-25 00:00:00   \n",
       "max     699.000000  5699.769662    40.823963            2021-12-30 00:00:00   \n",
       "std     201.099339   836.895330     5.572048                            NaN   \n",
       "\n",
       "             month          age  minute_price  start_ride_price  \\\n",
       "count  6500.000000  6500.000000        6500.0            6500.0   \n",
       "mean      6.422308    24.892615           6.0               0.0   \n",
       "min       1.000000    12.000000           6.0               0.0   \n",
       "25%       4.000000    22.000000           6.0               0.0   \n",
       "50%       6.000000    25.000000           6.0               0.0   \n",
       "75%       9.000000    28.000000           6.0               0.0   \n",
       "max      12.000000    38.000000           6.0               0.0   \n",
       "std       3.414616     4.757208           0.0               0.0   \n",
       "\n",
       "       subscription_fee  \n",
       "count            6500.0  \n",
       "mean              199.0  \n",
       "min               199.0  \n",
       "25%               199.0  \n",
       "50%               199.0  \n",
       "75%               199.0  \n",
       "max               199.0  \n",
       "std                 0.0  "
      ]
     },
     "execution_count": 41,
     "metadata": {},
     "output_type": "execute_result"
    }
   ],
   "source": [
    "#запросим дополнительные характеристики датафрейма data_subs_ultra\n",
    "data_subs_ultra.describe()"
   ]
  },
  {
   "cell_type": "code",
   "execution_count": 42,
   "id": "f9364dca",
   "metadata": {},
   "outputs": [
    {
     "data": {
      "text/html": [
       "<div>\n",
       "<style scoped>\n",
       "    .dataframe tbody tr th:only-of-type {\n",
       "        vertical-align: middle;\n",
       "    }\n",
       "\n",
       "    .dataframe tbody tr th {\n",
       "        vertical-align: top;\n",
       "    }\n",
       "\n",
       "    .dataframe thead th {\n",
       "        text-align: right;\n",
       "    }\n",
       "</style>\n",
       "<table border=\"1\" class=\"dataframe\">\n",
       "  <thead>\n",
       "    <tr style=\"text-align: right;\">\n",
       "      <th></th>\n",
       "      <th>user_id</th>\n",
       "      <th>distance</th>\n",
       "      <th>duration</th>\n",
       "      <th>date</th>\n",
       "      <th>month</th>\n",
       "      <th>age</th>\n",
       "      <th>minute_price</th>\n",
       "      <th>start_ride_price</th>\n",
       "      <th>subscription_fee</th>\n",
       "    </tr>\n",
       "  </thead>\n",
       "  <tbody>\n",
       "    <tr>\n",
       "      <th>count</th>\n",
       "      <td>11568.000000</td>\n",
       "      <td>11568.000000</td>\n",
       "      <td>11568.000000</td>\n",
       "      <td>11568</td>\n",
       "      <td>11568.000000</td>\n",
       "      <td>11568.000000</td>\n",
       "      <td>11568.0</td>\n",
       "      <td>11568.0</td>\n",
       "      <td>11568.0</td>\n",
       "    </tr>\n",
       "    <tr>\n",
       "      <th>mean</th>\n",
       "      <td>1120.527230</td>\n",
       "      <td>3045.495282</td>\n",
       "      <td>17.390909</td>\n",
       "      <td>2021-07-01 21:47:03.236514560</td>\n",
       "      <td>6.522994</td>\n",
       "      <td>24.893326</td>\n",
       "      <td>8.0</td>\n",
       "      <td>50.0</td>\n",
       "      <td>0.0</td>\n",
       "    </tr>\n",
       "    <tr>\n",
       "      <th>min</th>\n",
       "      <td>700.000000</td>\n",
       "      <td>0.855683</td>\n",
       "      <td>0.500000</td>\n",
       "      <td>2021-01-01 00:00:00</td>\n",
       "      <td>1.000000</td>\n",
       "      <td>12.000000</td>\n",
       "      <td>8.0</td>\n",
       "      <td>50.0</td>\n",
       "      <td>0.0</td>\n",
       "    </tr>\n",
       "    <tr>\n",
       "      <th>25%</th>\n",
       "      <td>915.000000</td>\n",
       "      <td>2366.562689</td>\n",
       "      <td>12.958437</td>\n",
       "      <td>2021-04-02 00:00:00</td>\n",
       "      <td>4.000000</td>\n",
       "      <td>22.000000</td>\n",
       "      <td>8.0</td>\n",
       "      <td>50.0</td>\n",
       "      <td>0.0</td>\n",
       "    </tr>\n",
       "    <tr>\n",
       "      <th>50%</th>\n",
       "      <td>1123.000000</td>\n",
       "      <td>3114.648465</td>\n",
       "      <td>17.326890</td>\n",
       "      <td>2021-07-01 00:00:00</td>\n",
       "      <td>7.000000</td>\n",
       "      <td>25.000000</td>\n",
       "      <td>8.0</td>\n",
       "      <td>50.0</td>\n",
       "      <td>0.0</td>\n",
       "    </tr>\n",
       "    <tr>\n",
       "      <th>75%</th>\n",
       "      <td>1328.000000</td>\n",
       "      <td>3905.697894</td>\n",
       "      <td>21.594071</td>\n",
       "      <td>2021-09-30 00:00:00</td>\n",
       "      <td>9.000000</td>\n",
       "      <td>28.000000</td>\n",
       "      <td>8.0</td>\n",
       "      <td>50.0</td>\n",
       "      <td>0.0</td>\n",
       "    </tr>\n",
       "    <tr>\n",
       "      <th>max</th>\n",
       "      <td>1534.000000</td>\n",
       "      <td>7211.007745</td>\n",
       "      <td>34.948498</td>\n",
       "      <td>2021-12-30 00:00:00</td>\n",
       "      <td>12.000000</td>\n",
       "      <td>43.000000</td>\n",
       "      <td>8.0</td>\n",
       "      <td>50.0</td>\n",
       "      <td>0.0</td>\n",
       "    </tr>\n",
       "    <tr>\n",
       "      <th>std</th>\n",
       "      <td>241.165628</td>\n",
       "      <td>1246.173806</td>\n",
       "      <td>6.326803</td>\n",
       "      <td>NaN</td>\n",
       "      <td>3.449770</td>\n",
       "      <td>4.481100</td>\n",
       "      <td>0.0</td>\n",
       "      <td>0.0</td>\n",
       "      <td>0.0</td>\n",
       "    </tr>\n",
       "  </tbody>\n",
       "</table>\n",
       "</div>"
      ],
      "text/plain": [
       "            user_id      distance      duration  \\\n",
       "count  11568.000000  11568.000000  11568.000000   \n",
       "mean    1120.527230   3045.495282     17.390909   \n",
       "min      700.000000      0.855683      0.500000   \n",
       "25%      915.000000   2366.562689     12.958437   \n",
       "50%     1123.000000   3114.648465     17.326890   \n",
       "75%     1328.000000   3905.697894     21.594071   \n",
       "max     1534.000000   7211.007745     34.948498   \n",
       "std      241.165628   1246.173806      6.326803   \n",
       "\n",
       "                                date         month           age  \\\n",
       "count                          11568  11568.000000  11568.000000   \n",
       "mean   2021-07-01 21:47:03.236514560      6.522994     24.893326   \n",
       "min              2021-01-01 00:00:00      1.000000     12.000000   \n",
       "25%              2021-04-02 00:00:00      4.000000     22.000000   \n",
       "50%              2021-07-01 00:00:00      7.000000     25.000000   \n",
       "75%              2021-09-30 00:00:00      9.000000     28.000000   \n",
       "max              2021-12-30 00:00:00     12.000000     43.000000   \n",
       "std                              NaN      3.449770      4.481100   \n",
       "\n",
       "       minute_price  start_ride_price  subscription_fee  \n",
       "count       11568.0           11568.0           11568.0  \n",
       "mean            8.0              50.0               0.0  \n",
       "min             8.0              50.0               0.0  \n",
       "25%             8.0              50.0               0.0  \n",
       "50%             8.0              50.0               0.0  \n",
       "75%             8.0              50.0               0.0  \n",
       "max             8.0              50.0               0.0  \n",
       "std             0.0               0.0               0.0  "
      ]
     },
     "execution_count": 42,
     "metadata": {},
     "output_type": "execute_result"
    }
   ],
   "source": [
    "#запросим дополнительные характеристики датафрейма data_subs_free\n",
    "data_subs_free.describe()"
   ]
  },
  {
   "cell_type": "code",
   "execution_count": 43,
   "id": "48ef9516",
   "metadata": {},
   "outputs": [
    {
     "data": {
      "image/png": "[encoded data removed]",
      "text/plain": [
       "<Figure size 900x900 with 1 Axes>"
      ]
     },
     "metadata": {},
     "output_type": "display_data"
    }
   ],
   "source": [
    "#построим две гистограммы на одном графике\n",
    "data_subs_free['distance'].hist(label='без подписки', alpha=0.5, figsize=(9, 9), grid = True, bins = 50)\n",
    "data_subs_ultra['distance'].hist(label='с подпиской', alpha=0.5, figsize=(9, 9), grid = True, bins = 50)\n",
    "\n",
    "plt.legend(loc='upper right')\n",
    "plt.title('Расстояние поездок по типу подписки')\n",
    "plt.xlabel('Расстояние, м')\n",
    "plt.ylabel('Частота')\n",
    "plt.show()"
   ]
  },
  {
   "cell_type": "markdown",
   "id": "4d22d60e",
   "metadata": {},
   "source": [
    "Для большей наглядности построили 2 гистограммы на одном графике. Обе гистограммы имеют похожее распределение. Среднее значение в столбце distance с подпиской - 3115 м, а медиана - 3158 м. Среднее значение в столбце distance без подписки - 3045 м, а медиана - 3114 м. Пользователи без подписки чаще преодолевают расстояние в 2250 м, а пользователи с подпиской - 3100 м. Пользователи без подписки реже всего преодолевали расстояния в 1400-1500 м и более 5500 м, а пользователи с подпиской - 1500-2000 м и более 5000 м. "
   ]
  },
  {
   "cell_type": "code",
   "execution_count": 44,
   "id": "e6244e80",
   "metadata": {},
   "outputs": [
    {
     "data": {
      "image/png": "[encoded data removed]",
      "text/plain": [
       "<Figure size 900x900 with 1 Axes>"
      ]
     },
     "metadata": {},
     "output_type": "display_data"
    }
   ],
   "source": [
    "#построим две гистограммы на одном графике\n",
    "data_subs_free['duration'].hist(label='без подписки', alpha=0.9, figsize=(9, 9), grid = True, bins = 20)\n",
    "data_subs_ultra['duration'].hist(label='с подпиской', alpha=0.6, figsize=(9, 9), grid = True, bins = 20)\n",
    "\n",
    "plt.legend(loc='upper right')\n",
    "plt.title('Продолжительность поездок по типу подписки')\n",
    "plt.xlabel('Продолжительность, мин')\n",
    "plt.ylabel('Частота')\n",
    "plt.show()"
   ]
  },
  {
   "cell_type": "markdown",
   "id": "6e833aae",
   "metadata": {},
   "source": [
    "Так же для большей наглядности построили 2 гистограммы на одном графике. Обе гистограммы имеют похожее распределение. Среднее значение в столбце duration с подпиской - 18,5 мин, а медиана - 18 мин. Среднее значение в столбце duration без подписки - 17 мин, и медиана - 17 мин. Пользователи с подпиской и без в среднем тратят на поездку 17-18 мин. Пользователи без подписки редко тратят на поездки меньше 5 минут, а пользователи с подпиской - меньше 6 минут и больше 35 минут."
   ]
  },
  {
   "cell_type": "markdown",
   "id": "a38ec07e",
   "metadata": {},
   "source": [
    "**Вывод:** На данном этапе мы объединили 3 датафрейма в один и на его основе создали 2 датафрейма с данными о пользователях с подпиской и без. Затем визуализировали информацию о расстоянии и времени поездок для пользователей обеих категорий, построив гистограммы. Было выявлено, что гистограммы по данным с подпиской и без имеют похожее распределение. В среднем пользователи с подпиской и без тратят одинаковое количество времени на одну поездку (17-18 минут). А что касается расстояния, пользователи без подписки чаще преодолевают расстояния в примерно 2250 метров, а пользователи с подпиской больше - примерно 3100 метров. "
   ]
  },
  {
   "cell_type": "markdown",
   "id": "402d620f",
   "metadata": {},
   "source": [
    "## Подсчёт выручки"
   ]
  },
  {
   "cell_type": "markdown",
   "id": "c5008215",
   "metadata": {},
   "source": [
    "### Создадим датафрейм с агрегированными данными о поездках на основе датафрейма с объединёнными данными из шага 4: найдем суммарное расстояние, количество поездок и суммарное время для каждого пользователя за каждый месяц"
   ]
  },
  {
   "cell_type": "code",
   "execution_count": 45,
   "id": "a5be85b6",
   "metadata": {},
   "outputs": [
    {
     "name": "stderr",
     "output_type": "stream",
     "text": [
      "C:\\Users\\Эльвира\\AppData\\Local\\Temp\\ipykernel_27744\\847279661.py:2: FutureWarning: The provided callable <built-in function sum> is currently using SeriesGroupBy.sum. In a future version of pandas, the provided callable will be used directly. To keep current behavior pass the string \"sum\" instead.\n",
      "  data_total_pivot = data_total.pivot_table(index=['user_id','month','subscription_type'],\n",
      "C:\\Users\\Эльвира\\AppData\\Local\\Temp\\ipykernel_27744\\847279661.py:2: FutureWarning: The provided callable <built-in function sum> is currently using SeriesGroupBy.sum. In a future version of pandas, the provided callable will be used directly. To keep current behavior pass the string \"sum\" instead.\n",
      "  data_total_pivot = data_total.pivot_table(index=['user_id','month','subscription_type'],\n"
     ]
    },
    {
     "data": {
      "text/html": [
       "<div>\n",
       "<style scoped>\n",
       "    .dataframe tbody tr th:only-of-type {\n",
       "        vertical-align: middle;\n",
       "    }\n",
       "\n",
       "    .dataframe tbody tr th {\n",
       "        vertical-align: top;\n",
       "    }\n",
       "\n",
       "    .dataframe thead th {\n",
       "        text-align: right;\n",
       "    }\n",
       "</style>\n",
       "<table border=\"1\" class=\"dataframe\">\n",
       "  <thead>\n",
       "    <tr style=\"text-align: right;\">\n",
       "      <th></th>\n",
       "      <th>user_id</th>\n",
       "      <th>month</th>\n",
       "      <th>subscription_type</th>\n",
       "      <th>total_distance</th>\n",
       "      <th>total_duration</th>\n",
       "      <th>rides_amount</th>\n",
       "    </tr>\n",
       "  </thead>\n",
       "  <tbody>\n",
       "    <tr>\n",
       "      <th>0</th>\n",
       "      <td>1</td>\n",
       "      <td>1</td>\n",
       "      <td>ultra</td>\n",
       "      <td>7027.511294</td>\n",
       "      <td>41.416640</td>\n",
       "      <td>2</td>\n",
       "    </tr>\n",
       "    <tr>\n",
       "      <th>1</th>\n",
       "      <td>1</td>\n",
       "      <td>4</td>\n",
       "      <td>ultra</td>\n",
       "      <td>754.159807</td>\n",
       "      <td>6.232113</td>\n",
       "      <td>1</td>\n",
       "    </tr>\n",
       "    <tr>\n",
       "      <th>2</th>\n",
       "      <td>1</td>\n",
       "      <td>8</td>\n",
       "      <td>ultra</td>\n",
       "      <td>6723.470560</td>\n",
       "      <td>44.776802</td>\n",
       "      <td>2</td>\n",
       "    </tr>\n",
       "    <tr>\n",
       "      <th>3</th>\n",
       "      <td>1</td>\n",
       "      <td>10</td>\n",
       "      <td>ultra</td>\n",
       "      <td>5809.911100</td>\n",
       "      <td>31.578017</td>\n",
       "      <td>2</td>\n",
       "    </tr>\n",
       "    <tr>\n",
       "      <th>4</th>\n",
       "      <td>1</td>\n",
       "      <td>11</td>\n",
       "      <td>ultra</td>\n",
       "      <td>7003.499363</td>\n",
       "      <td>53.397424</td>\n",
       "      <td>3</td>\n",
       "    </tr>\n",
       "    <tr>\n",
       "      <th>5</th>\n",
       "      <td>1</td>\n",
       "      <td>12</td>\n",
       "      <td>ultra</td>\n",
       "      <td>6751.629942</td>\n",
       "      <td>27.203912</td>\n",
       "      <td>2</td>\n",
       "    </tr>\n",
       "    <tr>\n",
       "      <th>6</th>\n",
       "      <td>2</td>\n",
       "      <td>3</td>\n",
       "      <td>ultra</td>\n",
       "      <td>10187.723006</td>\n",
       "      <td>60.959959</td>\n",
       "      <td>3</td>\n",
       "    </tr>\n",
       "    <tr>\n",
       "      <th>7</th>\n",
       "      <td>2</td>\n",
       "      <td>4</td>\n",
       "      <td>ultra</td>\n",
       "      <td>6164.381824</td>\n",
       "      <td>39.048633</td>\n",
       "      <td>2</td>\n",
       "    </tr>\n",
       "    <tr>\n",
       "      <th>8</th>\n",
       "      <td>2</td>\n",
       "      <td>6</td>\n",
       "      <td>ultra</td>\n",
       "      <td>3255.338202</td>\n",
       "      <td>13.851127</td>\n",
       "      <td>1</td>\n",
       "    </tr>\n",
       "    <tr>\n",
       "      <th>9</th>\n",
       "      <td>2</td>\n",
       "      <td>7</td>\n",
       "      <td>ultra</td>\n",
       "      <td>6780.722964</td>\n",
       "      <td>46.170157</td>\n",
       "      <td>2</td>\n",
       "    </tr>\n",
       "  </tbody>\n",
       "</table>\n",
       "</div>"
      ],
      "text/plain": [
       "   user_id  month subscription_type  total_distance  total_duration  \\\n",
       "0        1      1             ultra     7027.511294       41.416640   \n",
       "1        1      4             ultra      754.159807        6.232113   \n",
       "2        1      8             ultra     6723.470560       44.776802   \n",
       "3        1     10             ultra     5809.911100       31.578017   \n",
       "4        1     11             ultra     7003.499363       53.397424   \n",
       "5        1     12             ultra     6751.629942       27.203912   \n",
       "6        2      3             ultra    10187.723006       60.959959   \n",
       "7        2      4             ultra     6164.381824       39.048633   \n",
       "8        2      6             ultra     3255.338202       13.851127   \n",
       "9        2      7             ultra     6780.722964       46.170157   \n",
       "\n",
       "   rides_amount  \n",
       "0             2  \n",
       "1             1  \n",
       "2             2  \n",
       "3             2  \n",
       "4             3  \n",
       "5             2  \n",
       "6             3  \n",
       "7             2  \n",
       "8             1  \n",
       "9             2  "
      ]
     },
     "execution_count": 45,
     "metadata": {},
     "output_type": "execute_result"
    }
   ],
   "source": [
    "#построим сводную таблицу\n",
    "data_total_pivot = data_total.pivot_table(index=['user_id','month','subscription_type'],\n",
    "                                          aggfunc = {'distance': sum, 'name': len, 'duration': sum}\n",
    "                                          ).reset_index()\n",
    "#переименуем названия столбцов\n",
    "data_total_pivot.columns = ['user_id','month','subscription_type','total_distance','total_duration','rides_amount']\n",
    "\n",
    "#проверим\n",
    "data_total_pivot.head(10)"
   ]
  },
  {
   "cell_type": "markdown",
   "id": "c02fa07a",
   "metadata": {},
   "source": [
    "Создали датафрейм data_total_pivot с агрегированными данными о поездках."
   ]
  },
  {
   "cell_type": "code",
   "execution_count": 46,
   "id": "3b7fa49b",
   "metadata": {},
   "outputs": [
    {
     "data": {
      "text/html": [
       "<div>\n",
       "<style scoped>\n",
       "    .dataframe tbody tr th:only-of-type {\n",
       "        vertical-align: middle;\n",
       "    }\n",
       "\n",
       "    .dataframe tbody tr th {\n",
       "        vertical-align: top;\n",
       "    }\n",
       "\n",
       "    .dataframe thead th {\n",
       "        text-align: right;\n",
       "    }\n",
       "</style>\n",
       "<table border=\"1\" class=\"dataframe\">\n",
       "  <thead>\n",
       "    <tr style=\"text-align: right;\">\n",
       "      <th></th>\n",
       "      <th>user_id</th>\n",
       "      <th>month</th>\n",
       "      <th>subscription_type</th>\n",
       "      <th>total_distance</th>\n",
       "      <th>total_duration</th>\n",
       "      <th>rides_amount</th>\n",
       "      <th>minute_price</th>\n",
       "      <th>start_ride_price</th>\n",
       "      <th>subscription_fee</th>\n",
       "    </tr>\n",
       "  </thead>\n",
       "  <tbody>\n",
       "    <tr>\n",
       "      <th>0</th>\n",
       "      <td>1</td>\n",
       "      <td>1</td>\n",
       "      <td>ultra</td>\n",
       "      <td>7027.511294</td>\n",
       "      <td>41.416640</td>\n",
       "      <td>2</td>\n",
       "      <td>6</td>\n",
       "      <td>0</td>\n",
       "      <td>199</td>\n",
       "    </tr>\n",
       "    <tr>\n",
       "      <th>1</th>\n",
       "      <td>1</td>\n",
       "      <td>4</td>\n",
       "      <td>ultra</td>\n",
       "      <td>754.159807</td>\n",
       "      <td>6.232113</td>\n",
       "      <td>1</td>\n",
       "      <td>6</td>\n",
       "      <td>0</td>\n",
       "      <td>199</td>\n",
       "    </tr>\n",
       "    <tr>\n",
       "      <th>2</th>\n",
       "      <td>1</td>\n",
       "      <td>8</td>\n",
       "      <td>ultra</td>\n",
       "      <td>6723.470560</td>\n",
       "      <td>44.776802</td>\n",
       "      <td>2</td>\n",
       "      <td>6</td>\n",
       "      <td>0</td>\n",
       "      <td>199</td>\n",
       "    </tr>\n",
       "    <tr>\n",
       "      <th>3</th>\n",
       "      <td>1</td>\n",
       "      <td>10</td>\n",
       "      <td>ultra</td>\n",
       "      <td>5809.911100</td>\n",
       "      <td>31.578017</td>\n",
       "      <td>2</td>\n",
       "      <td>6</td>\n",
       "      <td>0</td>\n",
       "      <td>199</td>\n",
       "    </tr>\n",
       "    <tr>\n",
       "      <th>4</th>\n",
       "      <td>1</td>\n",
       "      <td>11</td>\n",
       "      <td>ultra</td>\n",
       "      <td>7003.499363</td>\n",
       "      <td>53.397424</td>\n",
       "      <td>3</td>\n",
       "      <td>6</td>\n",
       "      <td>0</td>\n",
       "      <td>199</td>\n",
       "    </tr>\n",
       "    <tr>\n",
       "      <th>...</th>\n",
       "      <td>...</td>\n",
       "      <td>...</td>\n",
       "      <td>...</td>\n",
       "      <td>...</td>\n",
       "      <td>...</td>\n",
       "      <td>...</td>\n",
       "      <td>...</td>\n",
       "      <td>...</td>\n",
       "      <td>...</td>\n",
       "    </tr>\n",
       "    <tr>\n",
       "      <th>11326</th>\n",
       "      <td>1534</td>\n",
       "      <td>6</td>\n",
       "      <td>free</td>\n",
       "      <td>3409.468534</td>\n",
       "      <td>24.812678</td>\n",
       "      <td>2</td>\n",
       "      <td>8</td>\n",
       "      <td>50</td>\n",
       "      <td>0</td>\n",
       "    </tr>\n",
       "    <tr>\n",
       "      <th>11327</th>\n",
       "      <td>1534</td>\n",
       "      <td>8</td>\n",
       "      <td>free</td>\n",
       "      <td>7622.453034</td>\n",
       "      <td>47.205960</td>\n",
       "      <td>2</td>\n",
       "      <td>8</td>\n",
       "      <td>50</td>\n",
       "      <td>0</td>\n",
       "    </tr>\n",
       "    <tr>\n",
       "      <th>11328</th>\n",
       "      <td>1534</td>\n",
       "      <td>9</td>\n",
       "      <td>free</td>\n",
       "      <td>4928.173852</td>\n",
       "      <td>22.560373</td>\n",
       "      <td>1</td>\n",
       "      <td>8</td>\n",
       "      <td>50</td>\n",
       "      <td>0</td>\n",
       "    </tr>\n",
       "    <tr>\n",
       "      <th>11329</th>\n",
       "      <td>1534</td>\n",
       "      <td>11</td>\n",
       "      <td>free</td>\n",
       "      <td>13350.015305</td>\n",
       "      <td>76.342174</td>\n",
       "      <td>4</td>\n",
       "      <td>8</td>\n",
       "      <td>50</td>\n",
       "      <td>0</td>\n",
       "    </tr>\n",
       "    <tr>\n",
       "      <th>11330</th>\n",
       "      <td>1534</td>\n",
       "      <td>12</td>\n",
       "      <td>free</td>\n",
       "      <td>2371.711192</td>\n",
       "      <td>15.893917</td>\n",
       "      <td>1</td>\n",
       "      <td>8</td>\n",
       "      <td>50</td>\n",
       "      <td>0</td>\n",
       "    </tr>\n",
       "  </tbody>\n",
       "</table>\n",
       "<p>11331 rows × 9 columns</p>\n",
       "</div>"
      ],
      "text/plain": [
       "       user_id  month subscription_type  total_distance  total_duration  \\\n",
       "0            1      1             ultra     7027.511294       41.416640   \n",
       "1            1      4             ultra      754.159807        6.232113   \n",
       "2            1      8             ultra     6723.470560       44.776802   \n",
       "3            1     10             ultra     5809.911100       31.578017   \n",
       "4            1     11             ultra     7003.499363       53.397424   \n",
       "...        ...    ...               ...             ...             ...   \n",
       "11326     1534      6              free     3409.468534       24.812678   \n",
       "11327     1534      8              free     7622.453034       47.205960   \n",
       "11328     1534      9              free     4928.173852       22.560373   \n",
       "11329     1534     11              free    13350.015305       76.342174   \n",
       "11330     1534     12              free     2371.711192       15.893917   \n",
       "\n",
       "       rides_amount  minute_price  start_ride_price  subscription_fee  \n",
       "0                 2             6                 0               199  \n",
       "1                 1             6                 0               199  \n",
       "2                 2             6                 0               199  \n",
       "3                 2             6                 0               199  \n",
       "4                 3             6                 0               199  \n",
       "...             ...           ...               ...               ...  \n",
       "11326             2             8                50                 0  \n",
       "11327             2             8                50                 0  \n",
       "11328             1             8                50                 0  \n",
       "11329             4             8                50                 0  \n",
       "11330             1             8                50                 0  \n",
       "\n",
       "[11331 rows x 9 columns]"
      ]
     },
     "execution_count": 46,
     "metadata": {},
     "output_type": "execute_result"
    }
   ],
   "source": [
    "#объединим полученную таблицу с исходной таблицей с инфо о подписках\n",
    "data_final = data_total_pivot.merge(data_subs, on='subscription_type')\n",
    "\n",
    "#построим сводную таблицу\n",
    "data_final"
   ]
  },
  {
   "cell_type": "markdown",
   "id": "c3b5b67a",
   "metadata": {},
   "source": [
    "Объединили полученную таблицу с исходной таблицей с информацией о подписках, получили датафрейм data_final. Данный шаг пригодится для расчета помесячной выручки на следующем этапе."
   ]
  },
  {
   "cell_type": "markdown",
   "id": "5c71d780",
   "metadata": {},
   "source": [
    "### В этот же датафрейм добавим столбец с помесячной выручкой, которую принёс каждый пользователь"
   ]
  },
  {
   "cell_type": "code",
   "execution_count": 47,
   "id": "ac2cff5f",
   "metadata": {},
   "outputs": [
    {
     "data": {
      "text/html": [
       "<div>\n",
       "<style scoped>\n",
       "    .dataframe tbody tr th:only-of-type {\n",
       "        vertical-align: middle;\n",
       "    }\n",
       "\n",
       "    .dataframe tbody tr th {\n",
       "        vertical-align: top;\n",
       "    }\n",
       "\n",
       "    .dataframe thead th {\n",
       "        text-align: right;\n",
       "    }\n",
       "</style>\n",
       "<table border=\"1\" class=\"dataframe\">\n",
       "  <thead>\n",
       "    <tr style=\"text-align: right;\">\n",
       "      <th></th>\n",
       "      <th>user_id</th>\n",
       "      <th>month</th>\n",
       "      <th>subscription_type</th>\n",
       "      <th>total_distance</th>\n",
       "      <th>total_duration</th>\n",
       "      <th>rides_amount</th>\n",
       "      <th>minute_price</th>\n",
       "      <th>start_ride_price</th>\n",
       "      <th>subscription_fee</th>\n",
       "    </tr>\n",
       "  </thead>\n",
       "  <tbody>\n",
       "    <tr>\n",
       "      <th>0</th>\n",
       "      <td>1</td>\n",
       "      <td>1</td>\n",
       "      <td>ultra</td>\n",
       "      <td>7027.51</td>\n",
       "      <td>42.0</td>\n",
       "      <td>2</td>\n",
       "      <td>6</td>\n",
       "      <td>0</td>\n",
       "      <td>199</td>\n",
       "    </tr>\n",
       "    <tr>\n",
       "      <th>1</th>\n",
       "      <td>1</td>\n",
       "      <td>4</td>\n",
       "      <td>ultra</td>\n",
       "      <td>754.16</td>\n",
       "      <td>7.0</td>\n",
       "      <td>1</td>\n",
       "      <td>6</td>\n",
       "      <td>0</td>\n",
       "      <td>199</td>\n",
       "    </tr>\n",
       "    <tr>\n",
       "      <th>2</th>\n",
       "      <td>1</td>\n",
       "      <td>8</td>\n",
       "      <td>ultra</td>\n",
       "      <td>6723.47</td>\n",
       "      <td>45.0</td>\n",
       "      <td>2</td>\n",
       "      <td>6</td>\n",
       "      <td>0</td>\n",
       "      <td>199</td>\n",
       "    </tr>\n",
       "    <tr>\n",
       "      <th>3</th>\n",
       "      <td>1</td>\n",
       "      <td>10</td>\n",
       "      <td>ultra</td>\n",
       "      <td>5809.91</td>\n",
       "      <td>32.0</td>\n",
       "      <td>2</td>\n",
       "      <td>6</td>\n",
       "      <td>0</td>\n",
       "      <td>199</td>\n",
       "    </tr>\n",
       "    <tr>\n",
       "      <th>4</th>\n",
       "      <td>1</td>\n",
       "      <td>11</td>\n",
       "      <td>ultra</td>\n",
       "      <td>7003.50</td>\n",
       "      <td>54.0</td>\n",
       "      <td>3</td>\n",
       "      <td>6</td>\n",
       "      <td>0</td>\n",
       "      <td>199</td>\n",
       "    </tr>\n",
       "    <tr>\n",
       "      <th>...</th>\n",
       "      <td>...</td>\n",
       "      <td>...</td>\n",
       "      <td>...</td>\n",
       "      <td>...</td>\n",
       "      <td>...</td>\n",
       "      <td>...</td>\n",
       "      <td>...</td>\n",
       "      <td>...</td>\n",
       "      <td>...</td>\n",
       "    </tr>\n",
       "    <tr>\n",
       "      <th>11326</th>\n",
       "      <td>1534</td>\n",
       "      <td>6</td>\n",
       "      <td>free</td>\n",
       "      <td>3409.47</td>\n",
       "      <td>25.0</td>\n",
       "      <td>2</td>\n",
       "      <td>8</td>\n",
       "      <td>50</td>\n",
       "      <td>0</td>\n",
       "    </tr>\n",
       "    <tr>\n",
       "      <th>11327</th>\n",
       "      <td>1534</td>\n",
       "      <td>8</td>\n",
       "      <td>free</td>\n",
       "      <td>7622.45</td>\n",
       "      <td>48.0</td>\n",
       "      <td>2</td>\n",
       "      <td>8</td>\n",
       "      <td>50</td>\n",
       "      <td>0</td>\n",
       "    </tr>\n",
       "    <tr>\n",
       "      <th>11328</th>\n",
       "      <td>1534</td>\n",
       "      <td>9</td>\n",
       "      <td>free</td>\n",
       "      <td>4928.17</td>\n",
       "      <td>23.0</td>\n",
       "      <td>1</td>\n",
       "      <td>8</td>\n",
       "      <td>50</td>\n",
       "      <td>0</td>\n",
       "    </tr>\n",
       "    <tr>\n",
       "      <th>11329</th>\n",
       "      <td>1534</td>\n",
       "      <td>11</td>\n",
       "      <td>free</td>\n",
       "      <td>13350.02</td>\n",
       "      <td>77.0</td>\n",
       "      <td>4</td>\n",
       "      <td>8</td>\n",
       "      <td>50</td>\n",
       "      <td>0</td>\n",
       "    </tr>\n",
       "    <tr>\n",
       "      <th>11330</th>\n",
       "      <td>1534</td>\n",
       "      <td>12</td>\n",
       "      <td>free</td>\n",
       "      <td>2371.71</td>\n",
       "      <td>16.0</td>\n",
       "      <td>1</td>\n",
       "      <td>8</td>\n",
       "      <td>50</td>\n",
       "      <td>0</td>\n",
       "    </tr>\n",
       "  </tbody>\n",
       "</table>\n",
       "<p>11331 rows × 9 columns</p>\n",
       "</div>"
      ],
      "text/plain": [
       "       user_id  month subscription_type  total_distance  total_duration  \\\n",
       "0            1      1             ultra         7027.51            42.0   \n",
       "1            1      4             ultra          754.16             7.0   \n",
       "2            1      8             ultra         6723.47            45.0   \n",
       "3            1     10             ultra         5809.91            32.0   \n",
       "4            1     11             ultra         7003.50            54.0   \n",
       "...        ...    ...               ...             ...             ...   \n",
       "11326     1534      6              free         3409.47            25.0   \n",
       "11327     1534      8              free         7622.45            48.0   \n",
       "11328     1534      9              free         4928.17            23.0   \n",
       "11329     1534     11              free        13350.02            77.0   \n",
       "11330     1534     12              free         2371.71            16.0   \n",
       "\n",
       "       rides_amount  minute_price  start_ride_price  subscription_fee  \n",
       "0                 2             6                 0               199  \n",
       "1                 1             6                 0               199  \n",
       "2                 2             6                 0               199  \n",
       "3                 2             6                 0               199  \n",
       "4                 3             6                 0               199  \n",
       "...             ...           ...               ...               ...  \n",
       "11326             2             8                50                 0  \n",
       "11327             2             8                50                 0  \n",
       "11328             1             8                50                 0  \n",
       "11329             4             8                50                 0  \n",
       "11330             1             8                50                 0  \n",
       "\n",
       "[11331 rows x 9 columns]"
      ]
     },
     "execution_count": 47,
     "metadata": {},
     "output_type": "execute_result"
    }
   ],
   "source": [
    "#округлим данные в столбцах total_distance и total_duration\n",
    "data_final['total_distance'] = np.round(data_final['total_distance'], decimals = 2)\n",
    "data_final['total_duration'] = np.ceil(data_final['total_duration'])\n",
    "\n",
    "#проверим\n",
    "data_final"
   ]
  },
  {
   "cell_type": "code",
   "execution_count": 48,
   "id": "427d07a0",
   "metadata": {},
   "outputs": [
    {
     "data": {
      "text/html": [
       "<div>\n",
       "<style scoped>\n",
       "    .dataframe tbody tr th:only-of-type {\n",
       "        vertical-align: middle;\n",
       "    }\n",
       "\n",
       "    .dataframe tbody tr th {\n",
       "        vertical-align: top;\n",
       "    }\n",
       "\n",
       "    .dataframe thead th {\n",
       "        text-align: right;\n",
       "    }\n",
       "</style>\n",
       "<table border=\"1\" class=\"dataframe\">\n",
       "  <thead>\n",
       "    <tr style=\"text-align: right;\">\n",
       "      <th></th>\n",
       "      <th>user_id</th>\n",
       "      <th>month</th>\n",
       "      <th>subscription_type</th>\n",
       "      <th>total_distance</th>\n",
       "      <th>total_duration</th>\n",
       "      <th>rides_amount</th>\n",
       "      <th>minute_price</th>\n",
       "      <th>start_ride_price</th>\n",
       "      <th>subscription_fee</th>\n",
       "      <th>revenue_per_month</th>\n",
       "    </tr>\n",
       "  </thead>\n",
       "  <tbody>\n",
       "    <tr>\n",
       "      <th>0</th>\n",
       "      <td>1</td>\n",
       "      <td>1</td>\n",
       "      <td>ultra</td>\n",
       "      <td>7027.51</td>\n",
       "      <td>42.0</td>\n",
       "      <td>2</td>\n",
       "      <td>6</td>\n",
       "      <td>0</td>\n",
       "      <td>199</td>\n",
       "      <td>451.0</td>\n",
       "    </tr>\n",
       "    <tr>\n",
       "      <th>1</th>\n",
       "      <td>1</td>\n",
       "      <td>4</td>\n",
       "      <td>ultra</td>\n",
       "      <td>754.16</td>\n",
       "      <td>7.0</td>\n",
       "      <td>1</td>\n",
       "      <td>6</td>\n",
       "      <td>0</td>\n",
       "      <td>199</td>\n",
       "      <td>241.0</td>\n",
       "    </tr>\n",
       "    <tr>\n",
       "      <th>2</th>\n",
       "      <td>1</td>\n",
       "      <td>8</td>\n",
       "      <td>ultra</td>\n",
       "      <td>6723.47</td>\n",
       "      <td>45.0</td>\n",
       "      <td>2</td>\n",
       "      <td>6</td>\n",
       "      <td>0</td>\n",
       "      <td>199</td>\n",
       "      <td>469.0</td>\n",
       "    </tr>\n",
       "    <tr>\n",
       "      <th>3</th>\n",
       "      <td>1</td>\n",
       "      <td>10</td>\n",
       "      <td>ultra</td>\n",
       "      <td>5809.91</td>\n",
       "      <td>32.0</td>\n",
       "      <td>2</td>\n",
       "      <td>6</td>\n",
       "      <td>0</td>\n",
       "      <td>199</td>\n",
       "      <td>391.0</td>\n",
       "    </tr>\n",
       "    <tr>\n",
       "      <th>4</th>\n",
       "      <td>1</td>\n",
       "      <td>11</td>\n",
       "      <td>ultra</td>\n",
       "      <td>7003.50</td>\n",
       "      <td>54.0</td>\n",
       "      <td>3</td>\n",
       "      <td>6</td>\n",
       "      <td>0</td>\n",
       "      <td>199</td>\n",
       "      <td>523.0</td>\n",
       "    </tr>\n",
       "    <tr>\n",
       "      <th>...</th>\n",
       "      <td>...</td>\n",
       "      <td>...</td>\n",
       "      <td>...</td>\n",
       "      <td>...</td>\n",
       "      <td>...</td>\n",
       "      <td>...</td>\n",
       "      <td>...</td>\n",
       "      <td>...</td>\n",
       "      <td>...</td>\n",
       "      <td>...</td>\n",
       "    </tr>\n",
       "    <tr>\n",
       "      <th>11326</th>\n",
       "      <td>1534</td>\n",
       "      <td>6</td>\n",
       "      <td>free</td>\n",
       "      <td>3409.47</td>\n",
       "      <td>25.0</td>\n",
       "      <td>2</td>\n",
       "      <td>8</td>\n",
       "      <td>50</td>\n",
       "      <td>0</td>\n",
       "      <td>300.0</td>\n",
       "    </tr>\n",
       "    <tr>\n",
       "      <th>11327</th>\n",
       "      <td>1534</td>\n",
       "      <td>8</td>\n",
       "      <td>free</td>\n",
       "      <td>7622.45</td>\n",
       "      <td>48.0</td>\n",
       "      <td>2</td>\n",
       "      <td>8</td>\n",
       "      <td>50</td>\n",
       "      <td>0</td>\n",
       "      <td>484.0</td>\n",
       "    </tr>\n",
       "    <tr>\n",
       "      <th>11328</th>\n",
       "      <td>1534</td>\n",
       "      <td>9</td>\n",
       "      <td>free</td>\n",
       "      <td>4928.17</td>\n",
       "      <td>23.0</td>\n",
       "      <td>1</td>\n",
       "      <td>8</td>\n",
       "      <td>50</td>\n",
       "      <td>0</td>\n",
       "      <td>234.0</td>\n",
       "    </tr>\n",
       "    <tr>\n",
       "      <th>11329</th>\n",
       "      <td>1534</td>\n",
       "      <td>11</td>\n",
       "      <td>free</td>\n",
       "      <td>13350.02</td>\n",
       "      <td>77.0</td>\n",
       "      <td>4</td>\n",
       "      <td>8</td>\n",
       "      <td>50</td>\n",
       "      <td>0</td>\n",
       "      <td>816.0</td>\n",
       "    </tr>\n",
       "    <tr>\n",
       "      <th>11330</th>\n",
       "      <td>1534</td>\n",
       "      <td>12</td>\n",
       "      <td>free</td>\n",
       "      <td>2371.71</td>\n",
       "      <td>16.0</td>\n",
       "      <td>1</td>\n",
       "      <td>8</td>\n",
       "      <td>50</td>\n",
       "      <td>0</td>\n",
       "      <td>178.0</td>\n",
       "    </tr>\n",
       "  </tbody>\n",
       "</table>\n",
       "<p>11331 rows × 10 columns</p>\n",
       "</div>"
      ],
      "text/plain": [
       "       user_id  month subscription_type  total_distance  total_duration  \\\n",
       "0            1      1             ultra         7027.51            42.0   \n",
       "1            1      4             ultra          754.16             7.0   \n",
       "2            1      8             ultra         6723.47            45.0   \n",
       "3            1     10             ultra         5809.91            32.0   \n",
       "4            1     11             ultra         7003.50            54.0   \n",
       "...        ...    ...               ...             ...             ...   \n",
       "11326     1534      6              free         3409.47            25.0   \n",
       "11327     1534      8              free         7622.45            48.0   \n",
       "11328     1534      9              free         4928.17            23.0   \n",
       "11329     1534     11              free        13350.02            77.0   \n",
       "11330     1534     12              free         2371.71            16.0   \n",
       "\n",
       "       rides_amount  minute_price  start_ride_price  subscription_fee  \\\n",
       "0                 2             6                 0               199   \n",
       "1                 1             6                 0               199   \n",
       "2                 2             6                 0               199   \n",
       "3                 2             6                 0               199   \n",
       "4                 3             6                 0               199   \n",
       "...             ...           ...               ...               ...   \n",
       "11326             2             8                50                 0   \n",
       "11327             2             8                50                 0   \n",
       "11328             1             8                50                 0   \n",
       "11329             4             8                50                 0   \n",
       "11330             1             8                50                 0   \n",
       "\n",
       "       revenue_per_month  \n",
       "0                  451.0  \n",
       "1                  241.0  \n",
       "2                  469.0  \n",
       "3                  391.0  \n",
       "4                  523.0  \n",
       "...                  ...  \n",
       "11326              300.0  \n",
       "11327              484.0  \n",
       "11328              234.0  \n",
       "11329              816.0  \n",
       "11330              178.0  \n",
       "\n",
       "[11331 rows x 10 columns]"
      ]
     },
     "execution_count": 48,
     "metadata": {},
     "output_type": "execute_result"
    }
   ],
   "source": [
    "#создадим столбец с информацией о помесячной выручке\n",
    "data_final['revenue_per_month'] = (data_final['start_ride_price'] * data_final['rides_amount']) + \\\n",
    "                            (data_final['minute_price'] * data_final['total_duration']) + data_final['subscription_fee']\n",
    "\n",
    "#проверим\n",
    "data_final"
   ]
  },
  {
   "cell_type": "markdown",
   "id": "4761735c",
   "metadata": {},
   "source": [
    "**Вывод:** На данном этапе мы cоздали датафрейм с агрегированными данными о поездках (data_total_pivot) на основе датафрейма с объединёнными данными (data_total) из шага 4. Нашли суммарное расстояние, количество поездок и суммарное время для каждого пользователя за каждый месяц. В этот же датафрейм добавили новый столбец с помесячной выручкой для каждого пользователя."
   ]
  },
  {
   "cell_type": "markdown",
   "id": "41545ac0",
   "metadata": {},
   "source": [
    "## Проверка гипотез"
   ]
  },
  {
   "cell_type": "markdown",
   "id": "e106092c",
   "metadata": {},
   "source": [
    "Продакт-менеджеры сервиса хотят увеличить количество пользователей с подпиской. Для этого они будут проводить различные акции, но сначала нужно выяснить несколько важных моментов."
   ]
  },
  {
   "cell_type": "markdown",
   "id": "883d33c2",
   "metadata": {},
   "source": [
    "### Важно понять, тратят ли пользователи с подпиской больше времени на поездки? Если да, то пользователи с подпиской могут быть «выгоднее» для компании. Проверим гипотезу."
   ]
  },
  {
   "cell_type": "markdown",
   "id": "a8e4d99b",
   "metadata": {},
   "source": [
    "Сформулируем нулевую гипотезу H0: Пользователи с подпиской и без тратят одинаковое количество времени на поездки.\n",
    "\n",
    "Сформулируем альтернативную гипотезу Н1: Пользователи с подпиской тратят больше времени на поездки, чем пользователи без подписки."
   ]
  },
  {
   "cell_type": "code",
   "execution_count": 49,
   "id": "ea36c156",
   "metadata": {},
   "outputs": [
    {
     "name": "stdout",
     "output_type": "stream",
     "text": [
      "p-value: 5.6757813771289775e-37\n",
      "Отвергаем нулевую гипотезу\n"
     ]
    }
   ],
   "source": [
    "# задаём уровень значимости\n",
    "alpha = 0.05\n",
    "\n",
    "# траты первой группы пользователей (с подпиской)\n",
    "first_group_total = data_subs_ultra['duration']\n",
    "\n",
    "# траты второй группы пользователей (без подписки)\n",
    "second_group_total = data_subs_free['duration']\n",
    "\n",
    "# проводим ttest для двух выборок, в качестве альтернативной используем одностороннюю гипотезу \"больше\"\n",
    "results = st.ttest_ind(first_group_total, second_group_total, equal_var=False, alternative='greater')\n",
    "\n",
    "print(f'p-value: {results.pvalue}')\n",
    "\n",
    "# проверяем p-value\n",
    "if results.pvalue < alpha:\n",
    "    print('Отвергаем нулевую гипотезу')\n",
    "else:\n",
    "    print('Нет оснований отвергнуть нулевую гипотезу')"
   ]
  },
  {
   "cell_type": "markdown",
   "id": "5ebcdc12",
   "metadata": {},
   "source": [
    "Полученное значение p-value оказалось меньше заданного уровня значимости, поэтому можно отвергнуть нулевую гипотезу. Есть основания говорить, что пользователи с подпиской тратят больше времени на поездки."
   ]
  },
  {
   "cell_type": "markdown",
   "id": "d4e5ad5f",
   "metadata": {},
   "source": [
    "### Расстояние одной поездки в 3130 метров — оптимальное с точки зрения износа самоката. Можно ли сказать, что расстояние, которое проезжают пользователи с подпиской за одну поездку, не превышает 3130 метров? Проверим данную гипотезу."
   ]
  },
  {
   "cell_type": "markdown",
   "id": "17763ab2",
   "metadata": {},
   "source": [
    "Сформулируем нулевую гипотезу H0: Среднее расстояние одной поездки пользователей с подпиской равно 3130 метров.\n",
    "\n",
    "Сформулируем альтернативную гипотезу Н1: Среднее расстояние одной поездки пользователей с подпиской превышает 3130 метров."
   ]
  },
  {
   "cell_type": "code",
   "execution_count": 50,
   "id": "c77cfc36",
   "metadata": {},
   "outputs": [
    {
     "name": "stdout",
     "output_type": "stream",
     "text": [
      "p-значение: 0.9195368847849785\n",
      "Не получилось отвергнуть нулевую гипотезу\n"
     ]
    }
   ],
   "source": [
    "interested_value = 3130 # среднее оптимальное настроение \n",
    "\n",
    "alpha = 0.05 # уровень статистической значимости\n",
    "            \n",
    "\n",
    "results = st.ttest_1samp(\n",
    "    data_subs_ultra['distance'], \n",
    "    interested_value, alternative='greater') # используем метод st.ttest_1samp\n",
    "\n",
    "print('p-значение:', results.pvalue) \n",
    "\n",
    "# проверяем p-value\n",
    "if (results.pvalue < alpha):\n",
    "    print('Отвергаем нулевую гипотезу')\n",
    "else:\n",
    "    print('Не получилось отвергнуть нулевую гипотезу')"
   ]
  },
  {
   "cell_type": "markdown",
   "id": "a3c61795",
   "metadata": {},
   "source": [
    "Полученное значение p-value оказалось больше заданного уровня значимости, поэтому нулевая гипотеза не отвергается. Есть основания говорить, что среднее расстояние одной поездки пользователей с подпиской равно 3130 метров."
   ]
  },
  {
   "cell_type": "markdown",
   "id": "7cd46719",
   "metadata": {},
   "source": [
    "### Проверим гипотезу о том, будет ли помесячная выручка от пользователей с подпиской по месяцам выше, чем выручка от пользователей без подписки."
   ]
  },
  {
   "cell_type": "markdown",
   "id": "883e50fe",
   "metadata": {},
   "source": [
    "Сформулируем нулевую гипотезу H0: Помесячная выручка от пользователей с подпиской по месяцам и без одинакова.\n",
    "\n",
    "Сформулируем альтернативную гипотезу Н1: Помесячная выручка от пользователей с подпиской по месяцам выше, чем выручка от пользователей без подписки. "
   ]
  },
  {
   "cell_type": "code",
   "execution_count": 51,
   "id": "960539aa",
   "metadata": {},
   "outputs": [
    {
     "name": "stdout",
     "output_type": "stream",
     "text": [
      "p-value: 1.0718729651261336e-44\n",
      "Отвергаем нулевую гипотезу\n"
     ]
    }
   ],
   "source": [
    "# задаём уровень значимости\n",
    "alpha = 0.05\n",
    "\n",
    "# траты первой группы пользователей (с подпиской)\n",
    "first_group = data_final[data_final['subscription_type'] == 'ultra']['revenue_per_month']\n",
    "\n",
    "# траты второй группы пользователей (без подписки)\n",
    "second_group = data_final[data_final['subscription_type'] == 'free']['revenue_per_month']\n",
    "\n",
    "# проводим ttest для двух выборок, в качестве альтернативной используем одностороннюю гипотезу \"больше\"\n",
    "results = st.ttest_ind(first_group, second_group, equal_var=False, alternative='greater')\n",
    "\n",
    "print(f'p-value: {results.pvalue}')\n",
    "\n",
    "# проверяем p-value\n",
    "if results.pvalue < alpha:\n",
    "    print('Отвергаем нулевую гипотезу')\n",
    "else:\n",
    "    print('Нет оснований отвергнуть нулевую гипотезу')"
   ]
  },
  {
   "cell_type": "markdown",
   "id": "b6b8e7e5",
   "metadata": {},
   "source": [
    "Полученное значение p-value оказалось меньше заданного уровня значимости, поэтому можно отвергнуть нулевую гипотезу. Есть основания говорить, что помесячная выручка от пользователей с подпиской по месяцам выше, чем выручка от пользователей без подписки."
   ]
  },
  {
   "cell_type": "markdown",
   "id": "23929c82",
   "metadata": {},
   "source": [
    "### Представим такую ситуацию: техническая команда сервиса обновила сервера, с которыми взаимодействует мобильное приложение. Она надеется, что из-за этого количество обращений в техподдержку значимо снизилось. Некоторый файл содержит для каждого пользователя данные о количестве обращений до обновления и после него. Какой тест нам понадобился бы для проверки этой гипотезы?"
   ]
  },
  {
   "cell_type": "markdown",
   "id": "360838d9",
   "metadata": {},
   "source": [
    "Для большего представления сформулируем нулевую и альтернативную гипотезы:\n",
    "- Н0: среднее количество обращений в техподдержку после обновления серверов осталось прежним.\n",
    "- Н1: среднее количество обращений в техподдержку после обновления серверов снизилось.\n",
    "\n",
    "В данном случае будет целесообразно воспользоваться односторонним тестом для проверки гипотезы, с помощью метода scipy.stats.ttest_1samp(), с аргументом alternative='less' левосторонней Н1, т.к. согласно альтернативной гипотезе количество обращений в техподдержку снижается."
   ]
  },
  {
   "cell_type": "markdown",
   "id": "b036e3b5",
   "metadata": {},
   "source": [
    "**Вывод:** На данном этапе были проверены некоторые гипотезы продакт-менеджеров. На основе проведенных тестов есть основания говорить, что:\n",
    "- пользователи с подпиской тратят больше времени на поездки;\n",
    "- среднее расстояние одной поездки пользователей с подпиской равно 3130 метров;\n",
    "- помесячная выручка от пользователей с подпиской по месяцам выше, чем выручка от пользователей без подписки.\n",
    "\n",
    "На этапе 6.4. предположили, что наиболее подходящим тестом будет односторонний тест для проверки гипотезы, с помощью метода scipy.stats.ttest_1samp(), с аргументом alternative='less' левосторонней Н1."
   ]
  },
  {
   "cell_type": "markdown",
   "id": "4cc50d36",
   "metadata": {},
   "source": [
    "## Общий вывод"
   ]
  },
  {
   "cell_type": "markdown",
   "id": "a2dc78a4",
   "metadata": {},
   "source": [
    "Для получения корректных результатов исследования исходные таблицы были успешно преобразованы на этапе предобработки.\n",
    "\n",
    "В ходе исследования были выявлены характеристики самых распространенных поездок:\n",
    "- поездки чаще всего совершались в Пятигорске;\n",
    "- пользователи предпочитают совершать поездки без оформления подписки;\n",
    "- самый популярный пользователь - в возрасте 25 лет;\n",
    "- в среднем пользователи преодолевают расстояние от 3000 до 3250 м;\n",
    "- в среднем каждый пользователь тратит на одну поездку 17,5-18 мин.\n",
    "\n",
    "Для подробного анализа были объединены 3 исходных датафрейма в один и на его основе создали 2 датафрейма с данными о пользователях с подпиской и без. Затем визуализировали информацию о расстоянии и времени поездок для пользователей обеих категорий, построив гистограммы. Было выявлено, что в среднем пользователи с подпиской и без тратят одинаковое количество времени на одну поездку (17-18 минут). А что касается расстояния, пользователи без подписки чаще преодолевают расстояния в примерно 2250 метров, а пользователи с подпиской больше - примерно 3100 метров.\n",
    "\n",
    "В ходе анализа был cоздан датафрейм с агрегированными данными о поездках. Нашли суммарное расстояние, количество поездок и суммарное время для каждого пользователя за каждый месяц. В этот же датафрейм был добавлен новый столбец с помесячной выручкой для каждого пользователя.\n",
    "\n",
    "Также были проверены гипотезы, предложенные продакт-менеджерами сервиса GoFast. Получив результаты проведенных тестов, можем передать коллегам, что:\n",
    "- пользователи с подпиской тратят больше времени на поездки;\n",
    "- среднее расстояние одной поездки пользователей с подпиской равно 3130 метров;\n",
    "- помесячная выручка от пользователей с подпиской по месяцам выше, чем выручка от пользователей без подписки.\n",
    "\n",
    "Продакт-менеджерам стоит разработать привлекательные акции для существующих пользователей, чтобы они были заинтересованы в оформлении подписки сервиса. Ведь есть основания предполагать, что пользователи с подпиской \"выгоднее\" для сервиса GoFast."
   ]
  }
 ],
 "metadata": {
  "ExecuteTimeLog": [
   {
    "duration": 1237,
    "start_time": "2023-05-17T17:20:50.075Z"
   },
   {
    "duration": 176,
    "start_time": "2023-05-17T17:21:01.053Z"
   },
   {
    "duration": 108,
    "start_time": "2023-05-17T17:22:47.825Z"
   },
   {
    "duration": 99,
    "start_time": "2023-05-17T17:23:00.017Z"
   },
   {
    "duration": 201,
    "start_time": "2023-05-17T17:24:30.018Z"
   },
   {
    "duration": 113,
    "start_time": "2023-05-17T17:25:37.087Z"
   },
   {
    "duration": 10,
    "start_time": "2023-05-17T17:25:46.914Z"
   },
   {
    "duration": 10,
    "start_time": "2023-05-17T17:25:47.786Z"
   },
   {
    "duration": 12,
    "start_time": "2023-05-17T17:26:13.788Z"
   },
   {
    "duration": 15,
    "start_time": "2023-05-17T17:26:31.954Z"
   },
   {
    "duration": 17,
    "start_time": "2023-05-17T17:26:47.448Z"
   },
   {
    "duration": 28,
    "start_time": "2023-05-17T17:27:50.601Z"
   },
   {
    "duration": 9,
    "start_time": "2023-05-17T17:36:27.991Z"
   },
   {
    "duration": 88,
    "start_time": "2023-05-17T17:36:40.035Z"
   },
   {
    "duration": 35,
    "start_time": "2023-05-17T17:36:55.130Z"
   },
   {
    "duration": 23,
    "start_time": "2023-05-17T17:37:22.397Z"
   },
   {
    "duration": 20,
    "start_time": "2023-05-17T17:39:49.002Z"
   },
   {
    "duration": 18,
    "start_time": "2023-05-17T17:40:21.314Z"
   },
   {
    "duration": 18,
    "start_time": "2023-05-17T17:40:40.598Z"
   },
   {
    "duration": 17,
    "start_time": "2023-05-17T17:40:48.106Z"
   },
   {
    "duration": 9,
    "start_time": "2023-05-17T17:43:54.455Z"
   },
   {
    "duration": 12,
    "start_time": "2023-05-17T17:43:57.827Z"
   },
   {
    "duration": 10,
    "start_time": "2023-05-17T17:43:59.002Z"
   },
   {
    "duration": 9,
    "start_time": "2023-05-17T17:44:06.667Z"
   },
   {
    "duration": 12,
    "start_time": "2023-05-17T17:44:21.643Z"
   },
   {
    "duration": 7,
    "start_time": "2023-05-17T17:45:05.423Z"
   },
   {
    "duration": 13,
    "start_time": "2023-05-17T17:45:22.521Z"
   },
   {
    "duration": 25,
    "start_time": "2023-05-17T17:45:35.040Z"
   },
   {
    "duration": 10,
    "start_time": "2023-05-17T17:49:14.794Z"
   },
   {
    "duration": 9,
    "start_time": "2023-05-17T17:49:22.674Z"
   },
   {
    "duration": 6,
    "start_time": "2023-05-17T17:52:14.115Z"
   },
   {
    "duration": 11,
    "start_time": "2023-05-17T17:52:19.210Z"
   },
   {
    "duration": 7,
    "start_time": "2023-05-17T17:52:53.914Z"
   },
   {
    "duration": 7,
    "start_time": "2023-05-17T17:53:04.511Z"
   },
   {
    "duration": 9,
    "start_time": "2023-05-17T17:53:19.216Z"
   },
   {
    "duration": 17,
    "start_time": "2023-05-17T17:53:38.889Z"
   },
   {
    "duration": 6,
    "start_time": "2023-05-17T17:55:10.334Z"
   },
   {
    "duration": 8,
    "start_time": "2023-05-17T17:56:15.100Z"
   },
   {
    "duration": 8,
    "start_time": "2023-05-17T17:56:19.315Z"
   },
   {
    "duration": 7,
    "start_time": "2023-05-17T17:57:24.598Z"
   },
   {
    "duration": 7,
    "start_time": "2023-05-17T17:57:29.418Z"
   },
   {
    "duration": 17,
    "start_time": "2023-05-17T18:00:55.021Z"
   },
   {
    "duration": 8,
    "start_time": "2023-05-17T18:21:16.393Z"
   },
   {
    "duration": 4,
    "start_time": "2023-05-17T18:21:32.997Z"
   },
   {
    "duration": 10,
    "start_time": "2023-05-17T18:22:02.095Z"
   },
   {
    "duration": 4,
    "start_time": "2023-05-17T18:22:07.798Z"
   },
   {
    "duration": 9,
    "start_time": "2023-05-17T18:22:30.943Z"
   },
   {
    "duration": 10,
    "start_time": "2023-05-17T18:22:32.023Z"
   },
   {
    "duration": 7,
    "start_time": "2023-05-17T18:22:32.898Z"
   },
   {
    "duration": 5,
    "start_time": "2023-05-17T18:22:33.525Z"
   },
   {
    "duration": 5,
    "start_time": "2023-05-17T18:22:34.424Z"
   },
   {
    "duration": 16,
    "start_time": "2023-05-17T18:22:52.234Z"
   },
   {
    "duration": 9,
    "start_time": "2023-05-17T18:23:04.503Z"
   },
   {
    "duration": 16,
    "start_time": "2023-05-17T18:23:05.495Z"
   },
   {
    "duration": 511,
    "start_time": "2023-05-17T18:23:14.785Z"
   },
   {
    "duration": 5,
    "start_time": "2023-05-17T18:23:15.300Z"
   },
   {
    "duration": 15,
    "start_time": "2023-05-17T18:23:15.306Z"
   },
   {
    "duration": 11,
    "start_time": "2023-05-17T18:23:15.324Z"
   },
   {
    "duration": 13,
    "start_time": "2023-05-17T18:23:15.339Z"
   },
   {
    "duration": 18,
    "start_time": "2023-05-17T18:23:15.360Z"
   },
   {
    "duration": 18,
    "start_time": "2023-05-17T18:23:15.384Z"
   },
   {
    "duration": 16,
    "start_time": "2023-05-17T18:23:15.409Z"
   },
   {
    "duration": 13,
    "start_time": "2023-05-17T18:23:15.427Z"
   },
   {
    "duration": 19,
    "start_time": "2023-05-17T18:23:15.443Z"
   },
   {
    "duration": 18,
    "start_time": "2023-05-17T18:23:15.464Z"
   },
   {
    "duration": 22,
    "start_time": "2023-05-17T18:23:15.484Z"
   },
   {
    "duration": 7,
    "start_time": "2023-05-17T18:23:15.508Z"
   },
   {
    "duration": 6,
    "start_time": "2023-05-17T18:23:15.517Z"
   },
   {
    "duration": 39,
    "start_time": "2023-05-17T18:23:15.525Z"
   },
   {
    "duration": 14,
    "start_time": "2023-05-17T18:27:39.695Z"
   },
   {
    "duration": 23,
    "start_time": "2023-05-17T18:29:00.934Z"
   },
   {
    "duration": 795,
    "start_time": "2023-05-17T18:29:10.433Z"
   },
   {
    "duration": 422,
    "start_time": "2023-05-17T18:30:57.101Z"
   },
   {
    "duration": 190,
    "start_time": "2023-05-17T18:31:23.717Z"
   },
   {
    "duration": 105,
    "start_time": "2023-05-17T18:32:02.102Z"
   },
   {
    "duration": 5,
    "start_time": "2023-05-17T18:32:02.209Z"
   },
   {
    "duration": 28,
    "start_time": "2023-05-17T18:32:02.215Z"
   },
   {
    "duration": 16,
    "start_time": "2023-05-17T18:32:02.246Z"
   },
   {
    "duration": 39,
    "start_time": "2023-05-17T18:32:02.270Z"
   },
   {
    "duration": 17,
    "start_time": "2023-05-17T18:32:02.313Z"
   },
   {
    "duration": 31,
    "start_time": "2023-05-17T18:32:02.332Z"
   },
   {
    "duration": 43,
    "start_time": "2023-05-17T18:32:02.367Z"
   },
   {
    "duration": 14,
    "start_time": "2023-05-17T18:32:02.418Z"
   },
   {
    "duration": 15,
    "start_time": "2023-05-17T18:32:02.437Z"
   },
   {
    "duration": 68,
    "start_time": "2023-05-17T18:32:02.454Z"
   },
   {
    "duration": 11,
    "start_time": "2023-05-17T18:32:02.525Z"
   },
   {
    "duration": 8,
    "start_time": "2023-05-17T18:32:02.538Z"
   },
   {
    "duration": 21,
    "start_time": "2023-05-17T18:32:02.553Z"
   },
   {
    "duration": 6,
    "start_time": "2023-05-17T18:32:02.583Z"
   },
   {
    "duration": 37,
    "start_time": "2023-05-17T18:32:02.591Z"
   },
   {
    "duration": 241,
    "start_time": "2023-05-17T18:32:02.630Z"
   },
   {
    "duration": 239,
    "start_time": "2023-05-17T18:32:16.736Z"
   },
   {
    "duration": 197,
    "start_time": "2023-05-17T18:32:28.500Z"
   },
   {
    "duration": 260,
    "start_time": "2023-05-17T18:32:56.506Z"
   },
   {
    "duration": 216,
    "start_time": "2023-05-17T19:14:19.810Z"
   },
   {
    "duration": 155,
    "start_time": "2023-05-17T19:14:29.744Z"
   },
   {
    "duration": 165,
    "start_time": "2023-05-17T19:14:37.401Z"
   },
   {
    "duration": 8,
    "start_time": "2023-05-17T19:15:17.395Z"
   },
   {
    "duration": 13,
    "start_time": "2023-05-17T19:16:19.099Z"
   },
   {
    "duration": 219,
    "start_time": "2023-05-17T19:17:40.110Z"
   },
   {
    "duration": 210,
    "start_time": "2023-05-17T19:18:01.288Z"
   },
   {
    "duration": 325,
    "start_time": "2023-05-17T19:18:14.891Z"
   },
   {
    "duration": 450,
    "start_time": "2023-05-17T19:18:28.804Z"
   },
   {
    "duration": 9,
    "start_time": "2023-05-17T19:21:23.585Z"
   },
   {
    "duration": 16,
    "start_time": "2023-05-17T19:22:22.733Z"
   },
   {
    "duration": 86,
    "start_time": "2023-05-17T19:22:44.032Z"
   },
   {
    "duration": 4,
    "start_time": "2023-05-17T19:22:44.121Z"
   },
   {
    "duration": 14,
    "start_time": "2023-05-17T19:22:44.127Z"
   },
   {
    "duration": 47,
    "start_time": "2023-05-17T19:22:44.144Z"
   },
   {
    "duration": 19,
    "start_time": "2023-05-17T19:22:44.193Z"
   },
   {
    "duration": 10,
    "start_time": "2023-05-17T19:22:44.215Z"
   },
   {
    "duration": 12,
    "start_time": "2023-05-17T19:22:44.227Z"
   },
   {
    "duration": 43,
    "start_time": "2023-05-17T19:22:44.241Z"
   },
   {
    "duration": 13,
    "start_time": "2023-05-17T19:22:44.286Z"
   },
   {
    "duration": 7,
    "start_time": "2023-05-17T19:22:44.302Z"
   },
   {
    "duration": 21,
    "start_time": "2023-05-17T19:22:44.310Z"
   },
   {
    "duration": 32,
    "start_time": "2023-05-17T19:22:44.333Z"
   },
   {
    "duration": 9,
    "start_time": "2023-05-17T19:22:44.379Z"
   },
   {
    "duration": 6,
    "start_time": "2023-05-17T19:22:44.390Z"
   },
   {
    "duration": 5,
    "start_time": "2023-05-17T19:22:44.398Z"
   },
   {
    "duration": 10,
    "start_time": "2023-05-17T19:22:44.404Z"
   },
   {
    "duration": 297,
    "start_time": "2023-05-17T19:22:44.416Z"
   },
   {
    "duration": 8,
    "start_time": "2023-05-17T19:22:44.716Z"
   },
   {
    "duration": 221,
    "start_time": "2023-05-17T19:22:44.726Z"
   },
   {
    "duration": 13,
    "start_time": "2023-05-17T19:22:44.958Z"
   },
   {
    "duration": 354,
    "start_time": "2023-05-17T19:22:44.973Z"
   },
   {
    "duration": 14,
    "start_time": "2023-05-17T19:22:45.330Z"
   },
   {
    "duration": 27,
    "start_time": "2023-05-17T19:22:45.359Z"
   },
   {
    "duration": 13,
    "start_time": "2023-05-17T19:23:11.605Z"
   },
   {
    "duration": 12,
    "start_time": "2023-05-17T19:23:22.088Z"
   },
   {
    "duration": 21,
    "start_time": "2023-05-17T19:23:48.957Z"
   },
   {
    "duration": 956,
    "start_time": "2023-05-17T19:24:20.282Z"
   },
   {
    "duration": 207,
    "start_time": "2023-05-17T19:24:32.614Z"
   },
   {
    "duration": 341,
    "start_time": "2023-05-17T19:24:42.220Z"
   },
   {
    "duration": 10,
    "start_time": "2023-05-17T19:32:26.337Z"
   },
   {
    "duration": 45,
    "start_time": "2023-05-18T17:07:16.849Z"
   },
   {
    "duration": 1028,
    "start_time": "2023-05-18T17:07:21.950Z"
   },
   {
    "duration": 4,
    "start_time": "2023-05-18T17:07:22.980Z"
   },
   {
    "duration": 14,
    "start_time": "2023-05-18T17:07:22.986Z"
   },
   {
    "duration": 17,
    "start_time": "2023-05-18T17:07:23.003Z"
   },
   {
    "duration": 49,
    "start_time": "2023-05-18T17:07:23.021Z"
   },
   {
    "duration": 7,
    "start_time": "2023-05-18T17:07:23.072Z"
   },
   {
    "duration": 14,
    "start_time": "2023-05-18T17:07:23.081Z"
   },
   {
    "duration": 22,
    "start_time": "2023-05-18T17:07:23.097Z"
   },
   {
    "duration": 11,
    "start_time": "2023-05-18T17:07:23.120Z"
   },
   {
    "duration": 5,
    "start_time": "2023-05-18T17:07:23.135Z"
   },
   {
    "duration": 18,
    "start_time": "2023-05-18T17:07:23.142Z"
   },
   {
    "duration": 8,
    "start_time": "2023-05-18T17:07:23.161Z"
   },
   {
    "duration": 28,
    "start_time": "2023-05-18T17:07:23.170Z"
   },
   {
    "duration": 5,
    "start_time": "2023-05-18T17:07:23.200Z"
   },
   {
    "duration": 15,
    "start_time": "2023-05-18T17:07:23.207Z"
   },
   {
    "duration": 78,
    "start_time": "2023-05-18T17:07:23.224Z"
   },
   {
    "duration": 189,
    "start_time": "2023-05-18T17:07:23.304Z"
   },
   {
    "duration": 7,
    "start_time": "2023-05-18T17:07:23.497Z"
   },
   {
    "duration": 148,
    "start_time": "2023-05-18T17:07:23.506Z"
   },
   {
    "duration": 8,
    "start_time": "2023-05-18T17:07:23.655Z"
   },
   {
    "duration": 276,
    "start_time": "2023-05-18T17:07:23.665Z"
   },
   {
    "duration": 9,
    "start_time": "2023-05-18T17:07:23.943Z"
   },
   {
    "duration": 334,
    "start_time": "2023-05-18T17:07:23.954Z"
   },
   {
    "duration": 14,
    "start_time": "2023-05-18T17:07:24.290Z"
   },
   {
    "duration": 150,
    "start_time": "2023-05-18T17:07:24.305Z"
   },
   {
    "duration": 147,
    "start_time": "2023-05-18T17:07:37.253Z"
   },
   {
    "duration": 155,
    "start_time": "2023-05-18T17:07:58.705Z"
   },
   {
    "duration": 153,
    "start_time": "2023-05-18T17:11:53.558Z"
   },
   {
    "duration": 144,
    "start_time": "2023-05-18T17:16:29.254Z"
   },
   {
    "duration": 9,
    "start_time": "2023-05-18T17:31:42.402Z"
   },
   {
    "duration": 28,
    "start_time": "2023-05-18T17:31:49.956Z"
   },
   {
    "duration": 27,
    "start_time": "2023-05-18T17:32:10.657Z"
   },
   {
    "duration": 25,
    "start_time": "2023-05-18T17:32:22.515Z"
   },
   {
    "duration": 23,
    "start_time": "2023-05-18T17:32:30.161Z"
   },
   {
    "duration": 35,
    "start_time": "2023-05-18T17:33:50.511Z"
   },
   {
    "duration": 65,
    "start_time": "2023-05-18T17:38:17.455Z"
   },
   {
    "duration": 17,
    "start_time": "2023-05-18T17:38:41.480Z"
   },
   {
    "duration": 10,
    "start_time": "2023-05-18T17:38:50.190Z"
   },
   {
    "duration": 24,
    "start_time": "2023-05-18T17:38:58.906Z"
   },
   {
    "duration": 22,
    "start_time": "2023-05-18T17:39:11.303Z"
   },
   {
    "duration": 22,
    "start_time": "2023-05-18T17:42:51.322Z"
   },
   {
    "duration": 27,
    "start_time": "2023-05-18T17:42:52.111Z"
   },
   {
    "duration": 175,
    "start_time": "2023-05-18T17:50:00.492Z"
   },
   {
    "duration": 180,
    "start_time": "2023-05-18T17:50:30.817Z"
   },
   {
    "duration": 150,
    "start_time": "2023-05-18T17:51:28.492Z"
   },
   {
    "duration": 178,
    "start_time": "2023-05-18T17:51:52.096Z"
   },
   {
    "duration": 331,
    "start_time": "2023-05-18T17:52:38.154Z"
   },
   {
    "duration": 216,
    "start_time": "2023-05-18T17:52:46.560Z"
   },
   {
    "duration": 176,
    "start_time": "2023-05-18T17:52:55.754Z"
   },
   {
    "duration": 174,
    "start_time": "2023-05-18T17:53:02.213Z"
   },
   {
    "duration": 159,
    "start_time": "2023-05-18T17:53:14.152Z"
   },
   {
    "duration": 173,
    "start_time": "2023-05-18T17:53:22.305Z"
   },
   {
    "duration": 174,
    "start_time": "2023-05-18T17:53:27.220Z"
   },
   {
    "duration": 167,
    "start_time": "2023-05-18T17:53:49.150Z"
   },
   {
    "duration": 203,
    "start_time": "2023-05-18T17:56:36.588Z"
   },
   {
    "duration": 169,
    "start_time": "2023-05-18T17:57:06.502Z"
   },
   {
    "duration": 31,
    "start_time": "2023-05-18T17:58:13.620Z"
   },
   {
    "duration": 1179,
    "start_time": "2023-05-18T17:58:47.889Z"
   },
   {
    "duration": 30,
    "start_time": "2023-05-18T17:58:58.949Z"
   },
   {
    "duration": 30,
    "start_time": "2023-05-18T17:59:23.596Z"
   },
   {
    "duration": 15,
    "start_time": "2023-05-18T18:54:16.130Z"
   },
   {
    "duration": 16,
    "start_time": "2023-05-18T18:54:49.017Z"
   },
   {
    "duration": 107,
    "start_time": "2023-05-18T19:02:18.948Z"
   },
   {
    "duration": 80,
    "start_time": "2023-05-18T19:02:38.362Z"
   },
   {
    "duration": 103,
    "start_time": "2023-05-18T19:03:13.927Z"
   },
   {
    "duration": 88,
    "start_time": "2023-05-18T19:03:25.515Z"
   },
   {
    "duration": 92,
    "start_time": "2023-05-18T19:03:35.269Z"
   },
   {
    "duration": 83,
    "start_time": "2023-05-18T19:03:46.648Z"
   },
   {
    "duration": 75,
    "start_time": "2023-05-18T19:04:01.471Z"
   },
   {
    "duration": 97,
    "start_time": "2023-05-18T19:04:08.392Z"
   },
   {
    "duration": 76,
    "start_time": "2023-05-18T19:04:30.197Z"
   },
   {
    "duration": 104,
    "start_time": "2023-05-18T19:04:38.520Z"
   },
   {
    "duration": 99,
    "start_time": "2023-05-18T19:05:10.378Z"
   },
   {
    "duration": 18,
    "start_time": "2023-05-18T19:05:48.520Z"
   },
   {
    "duration": 19,
    "start_time": "2023-05-18T19:08:31.065Z"
   },
   {
    "duration": 17,
    "start_time": "2023-05-18T19:09:38.307Z"
   },
   {
    "duration": 29,
    "start_time": "2023-05-18T19:09:46.745Z"
   },
   {
    "duration": 22,
    "start_time": "2023-05-18T19:10:00.744Z"
   },
   {
    "duration": 1037,
    "start_time": "2023-05-19T19:17:03.874Z"
   },
   {
    "duration": 3,
    "start_time": "2023-05-19T19:17:04.913Z"
   },
   {
    "duration": 15,
    "start_time": "2023-05-19T19:17:04.917Z"
   },
   {
    "duration": 25,
    "start_time": "2023-05-19T19:17:04.934Z"
   },
   {
    "duration": 29,
    "start_time": "2023-05-19T19:17:04.962Z"
   },
   {
    "duration": 16,
    "start_time": "2023-05-19T19:17:04.993Z"
   },
   {
    "duration": 17,
    "start_time": "2023-05-19T19:17:05.010Z"
   },
   {
    "duration": 30,
    "start_time": "2023-05-19T19:17:05.028Z"
   },
   {
    "duration": 30,
    "start_time": "2023-05-19T19:17:05.060Z"
   },
   {
    "duration": 23,
    "start_time": "2023-05-19T19:17:05.092Z"
   },
   {
    "duration": 17,
    "start_time": "2023-05-19T19:17:05.117Z"
   },
   {
    "duration": 17,
    "start_time": "2023-05-19T19:17:05.136Z"
   },
   {
    "duration": 16,
    "start_time": "2023-05-19T19:17:05.154Z"
   },
   {
    "duration": 18,
    "start_time": "2023-05-19T19:17:05.172Z"
   },
   {
    "duration": 8,
    "start_time": "2023-05-19T19:17:05.191Z"
   },
   {
    "duration": 10,
    "start_time": "2023-05-19T19:17:05.201Z"
   },
   {
    "duration": 176,
    "start_time": "2023-05-19T19:17:05.212Z"
   },
   {
    "duration": 9,
    "start_time": "2023-05-19T19:17:05.390Z"
   },
   {
    "duration": 152,
    "start_time": "2023-05-19T19:17:05.401Z"
   },
   {
    "duration": 8,
    "start_time": "2023-05-19T19:17:05.555Z"
   },
   {
    "duration": 291,
    "start_time": "2023-05-19T19:17:05.565Z"
   },
   {
    "duration": 8,
    "start_time": "2023-05-19T19:17:05.858Z"
   },
   {
    "duration": 213,
    "start_time": "2023-05-19T19:17:05.867Z"
   },
   {
    "duration": 271,
    "start_time": "2023-05-19T19:17:06.082Z"
   },
   {
    "duration": 9,
    "start_time": "2023-05-19T19:17:06.354Z"
   },
   {
    "duration": 164,
    "start_time": "2023-05-19T19:17:06.365Z"
   },
   {
    "duration": 167,
    "start_time": "2023-05-19T19:17:06.531Z"
   },
   {
    "duration": 28,
    "start_time": "2023-05-19T19:17:06.699Z"
   },
   {
    "duration": 20,
    "start_time": "2023-05-19T19:17:06.728Z"
   },
   {
    "duration": 18,
    "start_time": "2023-05-19T19:17:06.749Z"
   },
   {
    "duration": 52,
    "start_time": "2023-05-19T19:17:06.769Z"
   },
   {
    "duration": 35,
    "start_time": "2023-05-19T19:17:06.823Z"
   },
   {
    "duration": 187,
    "start_time": "2023-05-19T19:17:06.859Z"
   },
   {
    "duration": 178,
    "start_time": "2023-05-19T19:17:07.048Z"
   },
   {
    "duration": 22,
    "start_time": "2023-05-19T19:17:07.228Z"
   },
   {
    "duration": 104,
    "start_time": "2023-05-19T19:17:07.252Z"
   },
   {
    "duration": 22,
    "start_time": "2023-05-19T19:28:06.318Z"
   },
   {
    "duration": 21,
    "start_time": "2023-05-19T19:34:04.658Z"
   },
   {
    "duration": 14,
    "start_time": "2023-05-19T19:36:31.253Z"
   },
   {
    "duration": 24,
    "start_time": "2023-05-19T19:37:25.930Z"
   },
   {
    "duration": 26,
    "start_time": "2023-05-19T19:38:17.683Z"
   },
   {
    "duration": 24,
    "start_time": "2023-05-19T19:38:28.749Z"
   },
   {
    "duration": 23,
    "start_time": "2023-05-19T19:38:41.644Z"
   },
   {
    "duration": 17,
    "start_time": "2023-05-19T19:40:21.197Z"
   },
   {
    "duration": 86,
    "start_time": "2023-05-19T19:41:08.550Z"
   },
   {
    "duration": 75,
    "start_time": "2023-05-19T19:41:36.331Z"
   },
   {
    "duration": 84,
    "start_time": "2023-05-19T19:42:04.352Z"
   },
   {
    "duration": 88,
    "start_time": "2023-05-19T19:42:14.599Z"
   },
   {
    "duration": 79,
    "start_time": "2023-05-19T19:43:37.192Z"
   },
   {
    "duration": 90,
    "start_time": "2023-05-19T19:43:43.328Z"
   },
   {
    "duration": 80,
    "start_time": "2023-05-19T19:44:08.296Z"
   },
   {
    "duration": 91,
    "start_time": "2023-05-19T19:48:03.611Z"
   },
   {
    "duration": 80,
    "start_time": "2023-05-19T19:48:31.301Z"
   },
   {
    "duration": 78,
    "start_time": "2023-05-19T19:48:35.258Z"
   },
   {
    "duration": 174,
    "start_time": "2023-05-19T19:50:07.367Z"
   },
   {
    "duration": 176,
    "start_time": "2023-05-19T19:50:13.698Z"
   },
   {
    "duration": 178,
    "start_time": "2023-05-19T19:50:21.086Z"
   },
   {
    "duration": 176,
    "start_time": "2023-05-19T19:50:28.820Z"
   },
   {
    "duration": 235,
    "start_time": "2023-05-19T19:50:36.969Z"
   },
   {
    "duration": 150,
    "start_time": "2023-05-19T19:50:41.336Z"
   },
   {
    "duration": 178,
    "start_time": "2023-05-19T19:51:06.419Z"
   },
   {
    "duration": 84,
    "start_time": "2023-05-19T20:00:20.331Z"
   },
   {
    "duration": 70,
    "start_time": "2023-05-19T20:08:00.613Z"
   },
   {
    "duration": 3,
    "start_time": "2023-05-19T20:08:00.685Z"
   },
   {
    "duration": 50,
    "start_time": "2023-05-19T20:08:00.690Z"
   },
   {
    "duration": 42,
    "start_time": "2023-05-19T20:08:00.742Z"
   },
   {
    "duration": 34,
    "start_time": "2023-05-19T20:08:00.788Z"
   },
   {
    "duration": 15,
    "start_time": "2023-05-19T20:08:00.824Z"
   },
   {
    "duration": 40,
    "start_time": "2023-05-19T20:08:00.840Z"
   },
   {
    "duration": 27,
    "start_time": "2023-05-19T20:08:00.881Z"
   },
   {
    "duration": 25,
    "start_time": "2023-05-19T20:08:00.910Z"
   },
   {
    "duration": 45,
    "start_time": "2023-05-19T20:08:00.937Z"
   },
   {
    "duration": 63,
    "start_time": "2023-05-19T20:08:00.984Z"
   },
   {
    "duration": 81,
    "start_time": "2023-05-19T20:08:01.049Z"
   },
   {
    "duration": 61,
    "start_time": "2023-05-19T20:08:01.132Z"
   },
   {
    "duration": 70,
    "start_time": "2023-05-19T20:08:01.210Z"
   },
   {
    "duration": 43,
    "start_time": "2023-05-19T20:08:01.281Z"
   },
   {
    "duration": 64,
    "start_time": "2023-05-19T20:08:01.325Z"
   },
   {
    "duration": 230,
    "start_time": "2023-05-19T20:08:01.391Z"
   },
   {
    "duration": 7,
    "start_time": "2023-05-19T20:08:01.623Z"
   },
   {
    "duration": 169,
    "start_time": "2023-05-19T20:08:01.631Z"
   },
   {
    "duration": 8,
    "start_time": "2023-05-19T20:08:01.802Z"
   },
   {
    "duration": 280,
    "start_time": "2023-05-19T20:08:01.811Z"
   },
   {
    "duration": 12,
    "start_time": "2023-05-19T20:08:02.096Z"
   },
   {
    "duration": 168,
    "start_time": "2023-05-19T20:08:02.111Z"
   },
   {
    "duration": 389,
    "start_time": "2023-05-19T20:08:02.280Z"
   },
   {
    "duration": 11,
    "start_time": "2023-05-19T20:08:02.671Z"
   },
   {
    "duration": 241,
    "start_time": "2023-05-19T20:08:02.706Z"
   },
   {
    "duration": 176,
    "start_time": "2023-05-19T20:08:02.949Z"
   },
   {
    "duration": 30,
    "start_time": "2023-05-19T20:08:03.126Z"
   },
   {
    "duration": 41,
    "start_time": "2023-05-19T20:08:03.157Z"
   },
   {
    "duration": 23,
    "start_time": "2023-05-19T20:08:03.201Z"
   },
   {
    "duration": 52,
    "start_time": "2023-05-19T20:08:03.226Z"
   },
   {
    "duration": 37,
    "start_time": "2023-05-19T20:08:03.280Z"
   },
   {
    "duration": 195,
    "start_time": "2023-05-19T20:08:03.319Z"
   },
   {
    "duration": 198,
    "start_time": "2023-05-19T20:08:03.516Z"
   },
   {
    "duration": 93,
    "start_time": "2023-05-19T20:08:03.716Z"
   },
   {
    "duration": 17,
    "start_time": "2023-05-19T20:08:03.812Z"
   },
   {
    "duration": 111,
    "start_time": "2023-05-19T20:10:02.113Z"
   },
   {
    "duration": 96,
    "start_time": "2023-05-19T20:13:50.507Z"
   },
   {
    "duration": 397,
    "start_time": "2023-05-19T20:14:43.640Z"
   },
   {
    "duration": 95,
    "start_time": "2023-05-19T20:15:36.264Z"
   },
   {
    "duration": 91,
    "start_time": "2023-05-19T20:17:18.830Z"
   },
   {
    "duration": 98,
    "start_time": "2023-05-19T20:21:21.876Z"
   },
   {
    "duration": 162,
    "start_time": "2023-05-19T20:24:55.037Z"
   },
   {
    "duration": 137,
    "start_time": "2023-05-19T20:25:58.589Z"
   },
   {
    "duration": 100,
    "start_time": "2023-05-19T20:26:11.046Z"
   },
   {
    "duration": 82,
    "start_time": "2023-05-19T20:26:23.992Z"
   },
   {
    "duration": 20,
    "start_time": "2023-05-19T20:26:28.476Z"
   },
   {
    "duration": 5,
    "start_time": "2023-05-19T20:32:23.353Z"
   },
   {
    "duration": 19,
    "start_time": "2023-05-19T20:32:33.742Z"
   },
   {
    "duration": 33,
    "start_time": "2023-05-19T20:34:54.871Z"
   },
   {
    "duration": 105,
    "start_time": "2023-05-19T20:35:30.784Z"
   },
   {
    "duration": 10,
    "start_time": "2023-05-19T20:35:30.892Z"
   },
   {
    "duration": 58,
    "start_time": "2023-05-19T20:35:30.904Z"
   },
   {
    "duration": 47,
    "start_time": "2023-05-19T20:35:30.965Z"
   },
   {
    "duration": 55,
    "start_time": "2023-05-19T20:35:31.017Z"
   },
   {
    "duration": 72,
    "start_time": "2023-05-19T20:35:31.075Z"
   },
   {
    "duration": 27,
    "start_time": "2023-05-19T20:35:31.149Z"
   },
   {
    "duration": 69,
    "start_time": "2023-05-19T20:35:31.179Z"
   },
   {
    "duration": 26,
    "start_time": "2023-05-19T20:35:31.250Z"
   },
   {
    "duration": 8,
    "start_time": "2023-05-19T20:35:31.278Z"
   },
   {
    "duration": 71,
    "start_time": "2023-05-19T20:35:31.288Z"
   },
   {
    "duration": 11,
    "start_time": "2023-05-19T20:35:31.361Z"
   },
   {
    "duration": 60,
    "start_time": "2023-05-19T20:35:31.374Z"
   },
   {
    "duration": 26,
    "start_time": "2023-05-19T20:35:31.438Z"
   },
   {
    "duration": 28,
    "start_time": "2023-05-19T20:35:31.466Z"
   },
   {
    "duration": 85,
    "start_time": "2023-05-19T20:35:31.497Z"
   },
   {
    "duration": 288,
    "start_time": "2023-05-19T20:35:31.584Z"
   },
   {
    "duration": 11,
    "start_time": "2023-05-19T20:35:31.876Z"
   },
   {
    "duration": 228,
    "start_time": "2023-05-19T20:35:31.891Z"
   },
   {
    "duration": 11,
    "start_time": "2023-05-19T20:35:32.121Z"
   },
   {
    "duration": 403,
    "start_time": "2023-05-19T20:35:32.134Z"
   },
   {
    "duration": 12,
    "start_time": "2023-05-19T20:35:32.539Z"
   },
   {
    "duration": 238,
    "start_time": "2023-05-19T20:35:32.552Z"
   },
   {
    "duration": 565,
    "start_time": "2023-05-19T20:35:32.803Z"
   },
   {
    "duration": 10,
    "start_time": "2023-05-19T20:35:33.370Z"
   },
   {
    "duration": 213,
    "start_time": "2023-05-19T20:35:33.394Z"
   },
   {
    "duration": 212,
    "start_time": "2023-05-19T20:35:33.609Z"
   },
   {
    "duration": 45,
    "start_time": "2023-05-19T20:35:33.823Z"
   },
   {
    "duration": 52,
    "start_time": "2023-05-19T20:35:33.870Z"
   },
   {
    "duration": 25,
    "start_time": "2023-05-19T20:35:33.924Z"
   },
   {
    "duration": 48,
    "start_time": "2023-05-19T20:35:33.951Z"
   },
   {
    "duration": 49,
    "start_time": "2023-05-19T20:35:34.001Z"
   },
   {
    "duration": 289,
    "start_time": "2023-05-19T20:35:34.052Z"
   },
   {
    "duration": 300,
    "start_time": "2023-05-19T20:35:34.342Z"
   },
   {
    "duration": 178,
    "start_time": "2023-05-19T20:35:34.644Z"
   },
   {
    "duration": 27,
    "start_time": "2023-05-19T20:35:34.827Z"
   },
   {
    "duration": 49,
    "start_time": "2023-05-19T20:35:34.856Z"
   },
   {
    "duration": 15,
    "start_time": "2023-05-19T20:37:17.915Z"
   },
   {
    "duration": 26,
    "start_time": "2023-05-19T20:37:36.931Z"
   },
   {
    "duration": 20,
    "start_time": "2023-05-19T20:40:25.781Z"
   },
   {
    "duration": 77,
    "start_time": "2023-05-19T20:40:34.309Z"
   },
   {
    "duration": 4,
    "start_time": "2023-05-19T20:40:34.388Z"
   },
   {
    "duration": 43,
    "start_time": "2023-05-19T20:40:34.394Z"
   },
   {
    "duration": 20,
    "start_time": "2023-05-19T20:40:34.439Z"
   },
   {
    "duration": 18,
    "start_time": "2023-05-19T20:40:34.462Z"
   },
   {
    "duration": 6,
    "start_time": "2023-05-19T20:40:34.482Z"
   },
   {
    "duration": 32,
    "start_time": "2023-05-19T20:40:34.490Z"
   },
   {
    "duration": 35,
    "start_time": "2023-05-19T20:40:34.526Z"
   },
   {
    "duration": 23,
    "start_time": "2023-05-19T20:40:34.563Z"
   },
   {
    "duration": 44,
    "start_time": "2023-05-19T20:40:34.589Z"
   },
   {
    "duration": 62,
    "start_time": "2023-05-19T20:40:34.637Z"
   },
   {
    "duration": 52,
    "start_time": "2023-05-19T20:40:34.701Z"
   },
   {
    "duration": 19,
    "start_time": "2023-05-19T20:40:34.755Z"
   },
   {
    "duration": 20,
    "start_time": "2023-05-19T20:40:34.778Z"
   },
   {
    "duration": 90,
    "start_time": "2023-05-19T20:40:34.799Z"
   },
   {
    "duration": 53,
    "start_time": "2023-05-19T20:40:34.891Z"
   },
   {
    "duration": 232,
    "start_time": "2023-05-19T20:40:34.946Z"
   },
   {
    "duration": 18,
    "start_time": "2023-05-19T20:40:35.180Z"
   },
   {
    "duration": 212,
    "start_time": "2023-05-19T20:40:35.200Z"
   },
   {
    "duration": 18,
    "start_time": "2023-05-19T20:40:35.414Z"
   },
   {
    "duration": 408,
    "start_time": "2023-05-19T20:40:35.434Z"
   },
   {
    "duration": 10,
    "start_time": "2023-05-19T20:40:35.845Z"
   },
   {
    "duration": 243,
    "start_time": "2023-05-19T20:40:35.858Z"
   },
   {
    "duration": 529,
    "start_time": "2023-05-19T20:40:36.104Z"
   },
   {
    "duration": 11,
    "start_time": "2023-05-19T20:40:36.638Z"
   },
   {
    "duration": 237,
    "start_time": "2023-05-19T20:40:36.651Z"
   },
   {
    "duration": 242,
    "start_time": "2023-05-19T20:40:36.890Z"
   },
   {
    "duration": 45,
    "start_time": "2023-05-19T20:40:37.135Z"
   },
   {
    "duration": 42,
    "start_time": "2023-05-19T20:40:37.182Z"
   },
   {
    "duration": 43,
    "start_time": "2023-05-19T20:40:37.226Z"
   },
   {
    "duration": 45,
    "start_time": "2023-05-19T20:40:37.271Z"
   },
   {
    "duration": 62,
    "start_time": "2023-05-19T20:40:37.318Z"
   },
   {
    "duration": 249,
    "start_time": "2023-05-19T20:40:37.381Z"
   },
   {
    "duration": 242,
    "start_time": "2023-05-19T20:40:37.633Z"
   },
   {
    "duration": 148,
    "start_time": "2023-05-19T20:40:37.877Z"
   },
   {
    "duration": 25,
    "start_time": "2023-05-19T20:40:38.026Z"
   },
   {
    "duration": 20,
    "start_time": "2023-05-19T20:40:38.052Z"
   },
   {
    "duration": 41,
    "start_time": "2023-05-19T20:40:38.074Z"
   },
   {
    "duration": 40,
    "start_time": "2023-05-19T20:41:03.183Z"
   },
   {
    "duration": 16,
    "start_time": "2023-05-19T20:42:30.173Z"
   },
   {
    "duration": 526,
    "start_time": "2023-05-19T21:20:17.193Z"
   },
   {
    "duration": 4,
    "start_time": "2023-05-19T21:20:17.721Z"
   },
   {
    "duration": 19,
    "start_time": "2023-05-19T21:20:17.726Z"
   },
   {
    "duration": 20,
    "start_time": "2023-05-19T21:20:17.746Z"
   },
   {
    "duration": 15,
    "start_time": "2023-05-19T21:20:17.768Z"
   },
   {
    "duration": 11,
    "start_time": "2023-05-19T21:20:17.784Z"
   },
   {
    "duration": 25,
    "start_time": "2023-05-19T21:20:17.806Z"
   },
   {
    "duration": 24,
    "start_time": "2023-05-19T21:20:17.832Z"
   },
   {
    "duration": 14,
    "start_time": "2023-05-19T21:20:17.857Z"
   },
   {
    "duration": 14,
    "start_time": "2023-05-19T21:20:17.873Z"
   },
   {
    "duration": 34,
    "start_time": "2023-05-19T21:20:17.888Z"
   },
   {
    "duration": 14,
    "start_time": "2023-05-19T21:20:17.924Z"
   },
   {
    "duration": 8,
    "start_time": "2023-05-19T21:20:17.940Z"
   },
   {
    "duration": 14,
    "start_time": "2023-05-19T21:20:17.951Z"
   },
   {
    "duration": 16,
    "start_time": "2023-05-19T21:20:17.966Z"
   },
   {
    "duration": 29,
    "start_time": "2023-05-19T21:20:17.984Z"
   },
   {
    "duration": 245,
    "start_time": "2023-05-19T21:20:18.015Z"
   },
   {
    "duration": 7,
    "start_time": "2023-05-19T21:20:18.262Z"
   },
   {
    "duration": 173,
    "start_time": "2023-05-19T21:20:18.271Z"
   },
   {
    "duration": 9,
    "start_time": "2023-05-19T21:20:18.446Z"
   },
   {
    "duration": 291,
    "start_time": "2023-05-19T21:20:18.457Z"
   },
   {
    "duration": 8,
    "start_time": "2023-05-19T21:20:18.749Z"
   },
   {
    "duration": 174,
    "start_time": "2023-05-19T21:20:18.759Z"
   },
   {
    "duration": 269,
    "start_time": "2023-05-19T21:20:18.935Z"
   },
   {
    "duration": 10,
    "start_time": "2023-05-19T21:20:19.206Z"
   },
   {
    "duration": 139,
    "start_time": "2023-05-19T21:20:19.217Z"
   },
   {
    "duration": 161,
    "start_time": "2023-05-19T21:20:19.358Z"
   },
   {
    "duration": 28,
    "start_time": "2023-05-19T21:20:19.520Z"
   },
   {
    "duration": 21,
    "start_time": "2023-05-19T21:20:19.550Z"
   },
   {
    "duration": 41,
    "start_time": "2023-05-19T21:20:19.572Z"
   },
   {
    "duration": 32,
    "start_time": "2023-05-19T21:20:19.614Z"
   },
   {
    "duration": 28,
    "start_time": "2023-05-19T21:20:19.647Z"
   },
   {
    "duration": 187,
    "start_time": "2023-05-19T21:20:19.676Z"
   },
   {
    "duration": 197,
    "start_time": "2023-05-19T21:20:19.865Z"
   },
   {
    "duration": 103,
    "start_time": "2023-05-19T21:20:20.063Z"
   },
   {
    "duration": 15,
    "start_time": "2023-05-19T21:20:20.168Z"
   },
   {
    "duration": 27,
    "start_time": "2023-05-19T21:20:20.185Z"
   },
   {
    "duration": 16,
    "start_time": "2023-05-19T21:20:20.213Z"
   },
   {
    "duration": 31,
    "start_time": "2023-05-19T21:20:20.231Z"
   },
   {
    "duration": 0,
    "start_time": "2023-05-19T21:20:20.264Z"
   },
   {
    "duration": 0,
    "start_time": "2023-05-19T21:20:20.265Z"
   },
   {
    "duration": 0,
    "start_time": "2023-05-19T21:20:20.373Z"
   },
   {
    "duration": 0,
    "start_time": "2023-05-19T21:20:20.374Z"
   },
   {
    "duration": 18,
    "start_time": "2023-05-19T21:30:45.156Z"
   },
   {
    "duration": 82,
    "start_time": "2023-05-19T21:33:14.683Z"
   },
   {
    "duration": 4,
    "start_time": "2023-05-19T21:33:14.768Z"
   },
   {
    "duration": 15,
    "start_time": "2023-05-19T21:33:14.774Z"
   },
   {
    "duration": 23,
    "start_time": "2023-05-19T21:33:14.791Z"
   },
   {
    "duration": 12,
    "start_time": "2023-05-19T21:33:14.816Z"
   },
   {
    "duration": 6,
    "start_time": "2023-05-19T21:33:14.830Z"
   },
   {
    "duration": 15,
    "start_time": "2023-05-19T21:33:14.837Z"
   },
   {
    "duration": 14,
    "start_time": "2023-05-19T21:33:14.854Z"
   },
   {
    "duration": 10,
    "start_time": "2023-05-19T21:33:14.869Z"
   },
   {
    "duration": 19,
    "start_time": "2023-05-19T21:33:14.881Z"
   },
   {
    "duration": 13,
    "start_time": "2023-05-19T21:33:14.902Z"
   },
   {
    "duration": 9,
    "start_time": "2023-05-19T21:33:14.917Z"
   },
   {
    "duration": 4,
    "start_time": "2023-05-19T21:33:14.928Z"
   },
   {
    "duration": 4,
    "start_time": "2023-05-19T21:33:14.935Z"
   },
   {
    "duration": 5,
    "start_time": "2023-05-19T21:33:14.940Z"
   },
   {
    "duration": 9,
    "start_time": "2023-05-19T21:33:14.946Z"
   },
   {
    "duration": 194,
    "start_time": "2023-05-19T21:33:14.957Z"
   },
   {
    "duration": 6,
    "start_time": "2023-05-19T21:33:15.153Z"
   },
   {
    "duration": 146,
    "start_time": "2023-05-19T21:33:15.161Z"
   },
   {
    "duration": 8,
    "start_time": "2023-05-19T21:33:15.309Z"
   },
   {
    "duration": 249,
    "start_time": "2023-05-19T21:33:15.319Z"
   },
   {
    "duration": 8,
    "start_time": "2023-05-19T21:33:15.570Z"
   },
   {
    "duration": 158,
    "start_time": "2023-05-19T21:33:15.579Z"
   },
   {
    "duration": 268,
    "start_time": "2023-05-19T21:33:15.739Z"
   },
   {
    "duration": 9,
    "start_time": "2023-05-19T21:33:16.010Z"
   },
   {
    "duration": 160,
    "start_time": "2023-05-19T21:33:16.021Z"
   },
   {
    "duration": 163,
    "start_time": "2023-05-19T21:33:16.183Z"
   },
   {
    "duration": 26,
    "start_time": "2023-05-19T21:33:16.348Z"
   },
   {
    "duration": 39,
    "start_time": "2023-05-19T21:33:16.376Z"
   },
   {
    "duration": 21,
    "start_time": "2023-05-19T21:33:16.417Z"
   },
   {
    "duration": 32,
    "start_time": "2023-05-19T21:33:16.440Z"
   },
   {
    "duration": 51,
    "start_time": "2023-05-19T21:33:16.473Z"
   },
   {
    "duration": 200,
    "start_time": "2023-05-19T21:33:16.526Z"
   },
   {
    "duration": 175,
    "start_time": "2023-05-19T21:33:16.728Z"
   },
   {
    "duration": 96,
    "start_time": "2023-05-19T21:33:16.906Z"
   },
   {
    "duration": 20,
    "start_time": "2023-05-19T21:33:17.005Z"
   },
   {
    "duration": 14,
    "start_time": "2023-05-19T21:33:17.027Z"
   },
   {
    "duration": 17,
    "start_time": "2023-05-19T21:33:17.043Z"
   },
   {
    "duration": 5,
    "start_time": "2023-05-19T21:33:17.062Z"
   },
   {
    "duration": 193,
    "start_time": "2023-05-19T21:33:17.069Z"
   },
   {
    "duration": 0,
    "start_time": "2023-05-19T21:33:17.264Z"
   },
   {
    "duration": 0,
    "start_time": "2023-05-19T21:33:17.352Z"
   },
   {
    "duration": 0,
    "start_time": "2023-05-19T21:33:17.354Z"
   },
   {
    "duration": 5,
    "start_time": "2023-05-19T21:57:10.127Z"
   },
   {
    "duration": 83,
    "start_time": "2023-05-19T21:57:26.388Z"
   },
   {
    "duration": 3,
    "start_time": "2023-05-19T21:57:26.473Z"
   },
   {
    "duration": 24,
    "start_time": "2023-05-19T21:57:26.478Z"
   },
   {
    "duration": 56,
    "start_time": "2023-05-19T21:57:26.513Z"
   },
   {
    "duration": 17,
    "start_time": "2023-05-19T21:57:26.572Z"
   },
   {
    "duration": 10,
    "start_time": "2023-05-19T21:57:26.591Z"
   },
   {
    "duration": 57,
    "start_time": "2023-05-19T21:57:26.602Z"
   },
   {
    "duration": 14,
    "start_time": "2023-05-19T21:57:26.661Z"
   },
   {
    "duration": 10,
    "start_time": "2023-05-19T21:57:26.676Z"
   },
   {
    "duration": 40,
    "start_time": "2023-05-19T21:57:26.688Z"
   },
   {
    "duration": 16,
    "start_time": "2023-05-19T21:57:26.730Z"
   },
   {
    "duration": 7,
    "start_time": "2023-05-19T21:57:26.748Z"
   },
   {
    "duration": 16,
    "start_time": "2023-05-19T21:57:26.757Z"
   },
   {
    "duration": 5,
    "start_time": "2023-05-19T21:57:26.776Z"
   },
   {
    "duration": 6,
    "start_time": "2023-05-19T21:57:26.782Z"
   },
   {
    "duration": 14,
    "start_time": "2023-05-19T21:57:26.789Z"
   },
   {
    "duration": 201,
    "start_time": "2023-05-19T21:57:26.807Z"
   },
   {
    "duration": 12,
    "start_time": "2023-05-19T21:57:27.014Z"
   },
   {
    "duration": 135,
    "start_time": "2023-05-19T21:57:27.029Z"
   },
   {
    "duration": 9,
    "start_time": "2023-05-19T21:57:27.167Z"
   },
   {
    "duration": 325,
    "start_time": "2023-05-19T21:57:27.177Z"
   },
   {
    "duration": 15,
    "start_time": "2023-05-19T21:57:27.503Z"
   },
   {
    "duration": 154,
    "start_time": "2023-05-19T21:57:27.521Z"
   },
   {
    "duration": 279,
    "start_time": "2023-05-19T21:57:27.677Z"
   },
   {
    "duration": 8,
    "start_time": "2023-05-19T21:57:27.957Z"
   },
   {
    "duration": 170,
    "start_time": "2023-05-19T21:57:27.967Z"
   },
   {
    "duration": 155,
    "start_time": "2023-05-19T21:57:28.138Z"
   },
   {
    "duration": 38,
    "start_time": "2023-05-19T21:57:28.294Z"
   },
   {
    "duration": 20,
    "start_time": "2023-05-19T21:57:28.333Z"
   },
   {
    "duration": 18,
    "start_time": "2023-05-19T21:57:28.354Z"
   },
   {
    "duration": 58,
    "start_time": "2023-05-19T21:57:28.374Z"
   },
   {
    "duration": 32,
    "start_time": "2023-05-19T21:57:28.434Z"
   },
   {
    "duration": 196,
    "start_time": "2023-05-19T21:57:28.468Z"
   },
   {
    "duration": 189,
    "start_time": "2023-05-19T21:57:28.666Z"
   },
   {
    "duration": 103,
    "start_time": "2023-05-19T21:57:28.856Z"
   },
   {
    "duration": 17,
    "start_time": "2023-05-19T21:57:28.961Z"
   },
   {
    "duration": 30,
    "start_time": "2023-05-19T21:57:28.979Z"
   },
   {
    "duration": 35,
    "start_time": "2023-05-19T21:57:29.011Z"
   },
   {
    "duration": 5,
    "start_time": "2023-05-19T21:57:29.047Z"
   },
   {
    "duration": 8,
    "start_time": "2023-05-19T21:57:29.053Z"
   },
   {
    "duration": 10,
    "start_time": "2023-05-19T21:57:29.064Z"
   },
   {
    "duration": 5,
    "start_time": "2023-05-19T22:04:47.941Z"
   },
   {
    "duration": 8,
    "start_time": "2023-05-19T22:05:41.613Z"
   },
   {
    "duration": 9,
    "start_time": "2023-05-19T22:06:48.323Z"
   },
   {
    "duration": 1400,
    "start_time": "2023-05-19T22:06:49.235Z"
   },
   {
    "duration": 9,
    "start_time": "2023-05-19T22:07:09.925Z"
   },
   {
    "duration": 10,
    "start_time": "2023-05-19T22:07:24.488Z"
   },
   {
    "duration": 10,
    "start_time": "2023-05-19T22:08:42.927Z"
   },
   {
    "duration": 7,
    "start_time": "2023-05-19T22:31:23.552Z"
   },
   {
    "duration": 6,
    "start_time": "2023-05-19T22:31:28.087Z"
   },
   {
    "duration": 6,
    "start_time": "2023-05-19T22:31:32.836Z"
   },
   {
    "duration": 7,
    "start_time": "2023-05-19T22:31:35.712Z"
   },
   {
    "duration": 7,
    "start_time": "2023-05-19T22:31:42.412Z"
   },
   {
    "duration": 7,
    "start_time": "2023-05-19T22:31:49.782Z"
   },
   {
    "duration": 8,
    "start_time": "2023-05-19T22:32:19.050Z"
   },
   {
    "duration": 1877,
    "start_time": "2023-05-19T23:07:17.565Z"
   },
   {
    "duration": 102,
    "start_time": "2023-05-19T23:23:20.343Z"
   },
   {
    "duration": 1651,
    "start_time": "2023-05-19T23:29:19.319Z"
   },
   {
    "duration": 258,
    "start_time": "2023-05-19T23:29:47.357Z"
   },
   {
    "duration": 119,
    "start_time": "2023-05-19T23:30:45.536Z"
   },
   {
    "duration": 259,
    "start_time": "2023-05-19T23:32:00.577Z"
   },
   {
    "duration": 296,
    "start_time": "2023-05-19T23:32:20.028Z"
   },
   {
    "duration": 240,
    "start_time": "2023-05-19T23:34:29.646Z"
   },
   {
    "duration": 296,
    "start_time": "2023-05-19T23:34:42.660Z"
   },
   {
    "duration": 161,
    "start_time": "2023-05-19T23:35:46.076Z"
   },
   {
    "duration": 90,
    "start_time": "2023-05-19T23:38:05.286Z"
   },
   {
    "duration": 3,
    "start_time": "2023-05-19T23:38:05.378Z"
   },
   {
    "duration": 19,
    "start_time": "2023-05-19T23:38:05.383Z"
   },
   {
    "duration": 40,
    "start_time": "2023-05-19T23:38:05.407Z"
   },
   {
    "duration": 17,
    "start_time": "2023-05-19T23:38:05.449Z"
   },
   {
    "duration": 14,
    "start_time": "2023-05-19T23:38:05.468Z"
   },
   {
    "duration": 20,
    "start_time": "2023-05-19T23:38:05.484Z"
   },
   {
    "duration": 29,
    "start_time": "2023-05-19T23:38:05.506Z"
   },
   {
    "duration": 26,
    "start_time": "2023-05-19T23:38:05.536Z"
   },
   {
    "duration": 7,
    "start_time": "2023-05-19T23:38:05.564Z"
   },
   {
    "duration": 13,
    "start_time": "2023-05-19T23:38:05.572Z"
   },
   {
    "duration": 7,
    "start_time": "2023-05-19T23:38:05.586Z"
   },
   {
    "duration": 13,
    "start_time": "2023-05-19T23:38:05.596Z"
   },
   {
    "duration": 21,
    "start_time": "2023-05-19T23:38:05.612Z"
   },
   {
    "duration": 6,
    "start_time": "2023-05-19T23:38:05.635Z"
   },
   {
    "duration": 11,
    "start_time": "2023-05-19T23:38:05.643Z"
   },
   {
    "duration": 160,
    "start_time": "2023-05-19T23:38:05.655Z"
   },
   {
    "duration": 7,
    "start_time": "2023-05-19T23:38:05.816Z"
   },
   {
    "duration": 142,
    "start_time": "2023-05-19T23:38:05.828Z"
   },
   {
    "duration": 8,
    "start_time": "2023-05-19T23:38:05.971Z"
   },
   {
    "duration": 282,
    "start_time": "2023-05-19T23:38:05.980Z"
   },
   {
    "duration": 8,
    "start_time": "2023-05-19T23:38:06.264Z"
   },
   {
    "duration": 343,
    "start_time": "2023-05-19T23:38:06.273Z"
   },
   {
    "duration": 262,
    "start_time": "2023-05-19T23:38:06.618Z"
   },
   {
    "duration": 24,
    "start_time": "2023-05-19T23:38:06.882Z"
   },
   {
    "duration": 140,
    "start_time": "2023-05-19T23:38:06.907Z"
   },
   {
    "duration": 173,
    "start_time": "2023-05-19T23:38:07.049Z"
   },
   {
    "duration": 26,
    "start_time": "2023-05-19T23:38:07.226Z"
   },
   {
    "duration": 19,
    "start_time": "2023-05-19T23:38:07.253Z"
   },
   {
    "duration": 48,
    "start_time": "2023-05-19T23:38:07.273Z"
   },
   {
    "duration": 37,
    "start_time": "2023-05-19T23:38:07.323Z"
   },
   {
    "duration": 36,
    "start_time": "2023-05-19T23:38:07.361Z"
   },
   {
    "duration": 197,
    "start_time": "2023-05-19T23:38:07.399Z"
   },
   {
    "duration": 189,
    "start_time": "2023-05-19T23:38:07.604Z"
   },
   {
    "duration": 101,
    "start_time": "2023-05-19T23:38:07.794Z"
   },
   {
    "duration": 19,
    "start_time": "2023-05-19T23:38:07.899Z"
   },
   {
    "duration": 24,
    "start_time": "2023-05-19T23:38:07.920Z"
   },
   {
    "duration": 18,
    "start_time": "2023-05-19T23:38:07.946Z"
   },
   {
    "duration": 6,
    "start_time": "2023-05-19T23:38:07.965Z"
   },
   {
    "duration": 8,
    "start_time": "2023-05-19T23:38:07.972Z"
   },
   {
    "duration": 17,
    "start_time": "2023-05-19T23:38:07.997Z"
   },
   {
    "duration": 25,
    "start_time": "2023-05-19T23:38:08.016Z"
   },
   {
    "duration": 1571,
    "start_time": "2023-05-19T23:38:29.390Z"
   },
   {
    "duration": 195,
    "start_time": "2023-05-19T23:38:59.118Z"
   },
   {
    "duration": 1653,
    "start_time": "2023-05-19T23:39:16.628Z"
   },
   {
    "duration": 263,
    "start_time": "2023-05-19T23:40:11.606Z"
   },
   {
    "duration": 1670,
    "start_time": "2023-05-19T23:40:32.139Z"
   },
   {
    "duration": 73,
    "start_time": "2023-05-20T11:12:15.386Z"
   },
   {
    "duration": 1610,
    "start_time": "2023-05-20T11:13:53.889Z"
   },
   {
    "duration": 22,
    "start_time": "2023-05-20T11:18:07.818Z"
   },
   {
    "duration": 4,
    "start_time": "2023-05-20T11:18:09.048Z"
   },
   {
    "duration": 12,
    "start_time": "2023-05-20T11:18:11.738Z"
   },
   {
    "duration": 10,
    "start_time": "2023-05-20T11:18:16.870Z"
   },
   {
    "duration": 11,
    "start_time": "2023-05-20T11:18:20.477Z"
   },
   {
    "duration": 8,
    "start_time": "2023-05-20T11:19:36.922Z"
   },
   {
    "duration": 10,
    "start_time": "2023-05-20T11:19:38.265Z"
   },
   {
    "duration": 1687,
    "start_time": "2023-05-21T12:15:28.194Z"
   },
   {
    "duration": 18,
    "start_time": "2023-05-21T12:15:29.883Z"
   },
   {
    "duration": 16,
    "start_time": "2023-05-21T12:15:29.903Z"
   },
   {
    "duration": 17,
    "start_time": "2023-05-21T12:15:29.921Z"
   },
   {
    "duration": 10,
    "start_time": "2023-05-21T12:15:29.939Z"
   },
   {
    "duration": 13,
    "start_time": "2023-05-21T12:15:29.951Z"
   },
   {
    "duration": 8,
    "start_time": "2023-05-21T12:15:29.965Z"
   },
   {
    "duration": 21,
    "start_time": "2023-05-21T12:15:29.974Z"
   },
   {
    "duration": 43,
    "start_time": "2023-05-21T12:15:29.997Z"
   },
   {
    "duration": 12,
    "start_time": "2023-05-21T12:15:30.042Z"
   },
   {
    "duration": 23,
    "start_time": "2023-05-21T12:15:30.055Z"
   },
   {
    "duration": 36,
    "start_time": "2023-05-21T12:15:30.080Z"
   },
   {
    "duration": 12,
    "start_time": "2023-05-21T12:15:30.118Z"
   },
   {
    "duration": 28,
    "start_time": "2023-05-21T12:15:30.132Z"
   },
   {
    "duration": 25,
    "start_time": "2023-05-21T12:15:30.162Z"
   },
   {
    "duration": 32,
    "start_time": "2023-05-21T12:15:30.189Z"
   },
   {
    "duration": 31,
    "start_time": "2023-05-21T12:15:30.223Z"
   },
   {
    "duration": 244,
    "start_time": "2023-05-21T12:15:30.255Z"
   },
   {
    "duration": 11,
    "start_time": "2023-05-21T12:15:30.501Z"
   },
   {
    "duration": 169,
    "start_time": "2023-05-21T12:15:30.514Z"
   },
   {
    "duration": 8,
    "start_time": "2023-05-21T12:15:30.685Z"
   },
   {
    "duration": 306,
    "start_time": "2023-05-21T12:15:30.695Z"
   },
   {
    "duration": 24,
    "start_time": "2023-05-21T12:15:31.004Z"
   },
   {
    "duration": 147,
    "start_time": "2023-05-21T12:15:31.030Z"
   },
   {
    "duration": 269,
    "start_time": "2023-05-21T12:15:31.179Z"
   },
   {
    "duration": 10,
    "start_time": "2023-05-21T12:15:31.449Z"
   },
   {
    "duration": 182,
    "start_time": "2023-05-21T12:15:31.461Z"
   },
   {
    "duration": 217,
    "start_time": "2023-05-21T12:15:31.647Z"
   },
   {
    "duration": 52,
    "start_time": "2023-05-21T12:15:31.866Z"
   },
   {
    "duration": 20,
    "start_time": "2023-05-21T12:15:31.920Z"
   },
   {
    "duration": 122,
    "start_time": "2023-05-21T12:15:31.942Z"
   },
   {
    "duration": 37,
    "start_time": "2023-05-21T12:15:32.066Z"
   },
   {
    "duration": 37,
    "start_time": "2023-05-21T12:15:32.105Z"
   },
   {
    "duration": 246,
    "start_time": "2023-05-21T12:15:32.144Z"
   },
   {
    "duration": 247,
    "start_time": "2023-05-21T12:15:32.392Z"
   },
   {
    "duration": 139,
    "start_time": "2023-05-21T12:15:32.641Z"
   },
   {
    "duration": 33,
    "start_time": "2023-05-21T12:15:32.783Z"
   },
   {
    "duration": 24,
    "start_time": "2023-05-21T12:15:32.818Z"
   },
   {
    "duration": 24,
    "start_time": "2023-05-21T12:15:32.844Z"
   },
   {
    "duration": 6,
    "start_time": "2023-05-21T12:15:32.870Z"
   },
   {
    "duration": 33,
    "start_time": "2023-05-21T12:15:32.878Z"
   },
   {
    "duration": 12,
    "start_time": "2023-05-21T12:15:32.913Z"
   },
   {
    "duration": 1600,
    "start_time": "2023-05-21T12:15:32.927Z"
   },
   {
    "duration": 100,
    "start_time": "2023-05-21T12:16:42.529Z"
   },
   {
    "duration": 14,
    "start_time": "2023-05-21T12:18:43.322Z"
   },
   {
    "duration": 12,
    "start_time": "2023-05-21T12:22:17.431Z"
   },
   {
    "duration": 80,
    "start_time": "2023-05-21T12:22:21.970Z"
   },
   {
    "duration": 8,
    "start_time": "2023-05-21T12:22:22.052Z"
   },
   {
    "duration": 7,
    "start_time": "2023-05-21T12:22:22.062Z"
   },
   {
    "duration": 15,
    "start_time": "2023-05-21T12:22:22.071Z"
   },
   {
    "duration": 10,
    "start_time": "2023-05-21T12:22:22.087Z"
   },
   {
    "duration": 31,
    "start_time": "2023-05-21T12:22:22.099Z"
   },
   {
    "duration": 10,
    "start_time": "2023-05-21T12:22:22.131Z"
   },
   {
    "duration": 16,
    "start_time": "2023-05-21T12:22:22.143Z"
   },
   {
    "duration": 19,
    "start_time": "2023-05-21T12:22:22.161Z"
   },
   {
    "duration": 36,
    "start_time": "2023-05-21T12:22:22.184Z"
   },
   {
    "duration": 18,
    "start_time": "2023-05-21T12:22:22.223Z"
   },
   {
    "duration": 16,
    "start_time": "2023-05-21T12:22:22.247Z"
   },
   {
    "duration": 9,
    "start_time": "2023-05-21T12:22:22.265Z"
   },
   {
    "duration": 6,
    "start_time": "2023-05-21T12:22:22.275Z"
   },
   {
    "duration": 12,
    "start_time": "2023-05-21T12:22:22.283Z"
   },
   {
    "duration": 9,
    "start_time": "2023-05-21T12:22:22.297Z"
   },
   {
    "duration": 36,
    "start_time": "2023-05-21T12:22:22.308Z"
   },
   {
    "duration": 240,
    "start_time": "2023-05-21T12:22:22.346Z"
   },
   {
    "duration": 26,
    "start_time": "2023-05-21T12:22:22.589Z"
   },
   {
    "duration": 174,
    "start_time": "2023-05-21T12:22:22.623Z"
   },
   {
    "duration": 21,
    "start_time": "2023-05-21T12:22:22.799Z"
   },
   {
    "duration": 319,
    "start_time": "2023-05-21T12:22:22.824Z"
   },
   {
    "duration": 11,
    "start_time": "2023-05-21T12:22:23.145Z"
   },
   {
    "duration": 147,
    "start_time": "2023-05-21T12:22:23.157Z"
   },
   {
    "duration": 294,
    "start_time": "2023-05-21T12:22:23.305Z"
   },
   {
    "duration": 12,
    "start_time": "2023-05-21T12:22:23.606Z"
   },
   {
    "duration": 173,
    "start_time": "2023-05-21T12:22:23.620Z"
   },
   {
    "duration": 336,
    "start_time": "2023-05-21T12:22:23.795Z"
   },
   {
    "duration": 30,
    "start_time": "2023-05-21T12:22:24.136Z"
   },
   {
    "duration": 21,
    "start_time": "2023-05-21T12:22:24.168Z"
   },
   {
    "duration": 34,
    "start_time": "2023-05-21T12:22:24.190Z"
   },
   {
    "duration": 36,
    "start_time": "2023-05-21T12:22:24.225Z"
   },
   {
    "duration": 49,
    "start_time": "2023-05-21T12:22:24.262Z"
   },
   {
    "duration": 215,
    "start_time": "2023-05-21T12:22:24.313Z"
   },
   {
    "duration": 197,
    "start_time": "2023-05-21T12:22:24.536Z"
   },
   {
    "duration": 102,
    "start_time": "2023-05-21T12:22:24.735Z"
   },
   {
    "duration": 21,
    "start_time": "2023-05-21T12:22:24.838Z"
   },
   {
    "duration": 19,
    "start_time": "2023-05-21T12:22:24.861Z"
   },
   {
    "duration": 43,
    "start_time": "2023-05-21T12:22:24.882Z"
   },
   {
    "duration": 12,
    "start_time": "2023-05-21T12:22:24.927Z"
   },
   {
    "duration": 8,
    "start_time": "2023-05-21T12:22:24.940Z"
   },
   {
    "duration": 13,
    "start_time": "2023-05-21T12:22:24.950Z"
   },
   {
    "duration": 1626,
    "start_time": "2023-05-21T12:22:24.965Z"
   },
   {
    "duration": 9,
    "start_time": "2023-05-21T12:24:16.555Z"
   },
   {
    "duration": 5,
    "start_time": "2023-05-21T12:24:43.659Z"
   },
   {
    "duration": 4,
    "start_time": "2023-05-21T12:26:03.025Z"
   },
   {
    "duration": 4,
    "start_time": "2023-05-21T12:28:27.077Z"
   },
   {
    "duration": 3,
    "start_time": "2023-05-21T12:29:29.197Z"
   },
   {
    "duration": 3,
    "start_time": "2023-05-21T12:30:34.561Z"
   },
   {
    "duration": 8,
    "start_time": "2023-05-21T12:31:40.431Z"
   },
   {
    "duration": 8,
    "start_time": "2023-05-21T12:32:28.990Z"
   },
   {
    "duration": 7,
    "start_time": "2023-05-21T12:32:36.479Z"
   },
   {
    "duration": 4,
    "start_time": "2023-05-21T12:32:37.623Z"
   },
   {
    "duration": 9,
    "start_time": "2023-05-21T12:33:18.125Z"
   },
   {
    "duration": 6,
    "start_time": "2023-05-21T12:33:21.476Z"
   },
   {
    "duration": 7,
    "start_time": "2023-05-21T12:34:10.465Z"
   },
   {
    "duration": 11,
    "start_time": "2023-05-21T12:34:18.819Z"
   },
   {
    "duration": 6,
    "start_time": "2023-05-21T12:34:29.726Z"
   },
   {
    "duration": 47,
    "start_time": "2023-05-21T12:35:21.004Z"
   },
   {
    "duration": 374,
    "start_time": "2023-05-21T14:28:54.043Z"
   },
   {
    "duration": 207,
    "start_time": "2023-05-21T14:29:39.943Z"
   },
   {
    "duration": 209,
    "start_time": "2023-05-21T14:30:53.285Z"
   },
   {
    "duration": 203,
    "start_time": "2023-05-21T14:31:09.189Z"
   },
   {
    "duration": 350,
    "start_time": "2023-05-21T14:31:27.597Z"
   },
   {
    "duration": 163,
    "start_time": "2023-05-21T14:31:41.664Z"
   },
   {
    "duration": 47,
    "start_time": "2023-05-21T14:31:49.691Z"
   },
   {
    "duration": 84,
    "start_time": "2023-05-21T14:31:55.839Z"
   },
   {
    "duration": 63,
    "start_time": "2023-05-21T14:32:01.152Z"
   },
   {
    "duration": 9,
    "start_time": "2023-05-21T14:32:01.217Z"
   },
   {
    "duration": 12,
    "start_time": "2023-05-21T14:32:01.228Z"
   },
   {
    "duration": 23,
    "start_time": "2023-05-21T14:32:01.242Z"
   },
   {
    "duration": 18,
    "start_time": "2023-05-21T14:32:01.266Z"
   },
   {
    "duration": 28,
    "start_time": "2023-05-21T14:32:01.285Z"
   },
   {
    "duration": 11,
    "start_time": "2023-05-21T14:32:01.315Z"
   },
   {
    "duration": 16,
    "start_time": "2023-05-21T14:32:01.328Z"
   },
   {
    "duration": 18,
    "start_time": "2023-05-21T14:32:01.346Z"
   },
   {
    "duration": 14,
    "start_time": "2023-05-21T14:32:01.366Z"
   },
   {
    "duration": 29,
    "start_time": "2023-05-21T14:32:01.382Z"
   },
   {
    "duration": 25,
    "start_time": "2023-05-21T14:32:01.413Z"
   },
   {
    "duration": 24,
    "start_time": "2023-05-21T14:32:01.440Z"
   },
   {
    "duration": 9,
    "start_time": "2023-05-21T14:32:01.466Z"
   },
   {
    "duration": 21,
    "start_time": "2023-05-21T14:32:01.477Z"
   },
   {
    "duration": 11,
    "start_time": "2023-05-21T14:32:01.500Z"
   },
   {
    "duration": 18,
    "start_time": "2023-05-21T14:32:01.513Z"
   },
   {
    "duration": 22,
    "start_time": "2023-05-21T14:32:01.533Z"
   },
   {
    "duration": 55,
    "start_time": "2023-05-21T14:32:01.556Z"
   },
   {
    "duration": 202,
    "start_time": "2023-05-21T14:32:01.613Z"
   },
   {
    "duration": 8,
    "start_time": "2023-05-21T14:32:01.817Z"
   },
   {
    "duration": 153,
    "start_time": "2023-05-21T14:32:01.827Z"
   },
   {
    "duration": 9,
    "start_time": "2023-05-21T14:32:01.982Z"
   },
   {
    "duration": 268,
    "start_time": "2023-05-21T14:32:01.993Z"
   },
   {
    "duration": 7,
    "start_time": "2023-05-21T14:32:02.264Z"
   },
   {
    "duration": 166,
    "start_time": "2023-05-21T14:32:02.273Z"
   },
   {
    "duration": 56,
    "start_time": "2023-05-21T14:32:02.441Z"
   },
   {
    "duration": 0,
    "start_time": "2023-05-21T14:32:02.499Z"
   },
   {
    "duration": 0,
    "start_time": "2023-05-21T14:32:02.500Z"
   },
   {
    "duration": 0,
    "start_time": "2023-05-21T14:32:02.502Z"
   },
   {
    "duration": 0,
    "start_time": "2023-05-21T14:32:02.503Z"
   },
   {
    "duration": 0,
    "start_time": "2023-05-21T14:32:02.504Z"
   },
   {
    "duration": 0,
    "start_time": "2023-05-21T14:32:02.506Z"
   },
   {
    "duration": 0,
    "start_time": "2023-05-21T14:32:02.507Z"
   },
   {
    "duration": 0,
    "start_time": "2023-05-21T14:32:02.508Z"
   },
   {
    "duration": 0,
    "start_time": "2023-05-21T14:32:02.509Z"
   },
   {
    "duration": 0,
    "start_time": "2023-05-21T14:32:02.510Z"
   },
   {
    "duration": 0,
    "start_time": "2023-05-21T14:32:02.511Z"
   },
   {
    "duration": 0,
    "start_time": "2023-05-21T14:32:02.512Z"
   },
   {
    "duration": 0,
    "start_time": "2023-05-21T14:32:02.514Z"
   },
   {
    "duration": 0,
    "start_time": "2023-05-21T14:32:02.515Z"
   },
   {
    "duration": 0,
    "start_time": "2023-05-21T14:32:02.516Z"
   },
   {
    "duration": 0,
    "start_time": "2023-05-21T14:32:02.517Z"
   },
   {
    "duration": 0,
    "start_time": "2023-05-21T14:32:02.518Z"
   },
   {
    "duration": 0,
    "start_time": "2023-05-21T14:32:02.520Z"
   },
   {
    "duration": 164,
    "start_time": "2023-05-21T14:32:48.887Z"
   },
   {
    "duration": 8,
    "start_time": "2023-05-21T14:32:50.686Z"
   },
   {
    "duration": 215,
    "start_time": "2023-05-21T14:32:52.493Z"
   },
   {
    "duration": 64,
    "start_time": "2023-05-21T14:32:55.170Z"
   },
   {
    "duration": 8,
    "start_time": "2023-05-21T14:32:55.236Z"
   },
   {
    "duration": 6,
    "start_time": "2023-05-21T14:32:55.246Z"
   },
   {
    "duration": 13,
    "start_time": "2023-05-21T14:32:55.254Z"
   },
   {
    "duration": 11,
    "start_time": "2023-05-21T14:32:55.269Z"
   },
   {
    "duration": 33,
    "start_time": "2023-05-21T14:32:55.281Z"
   },
   {
    "duration": 7,
    "start_time": "2023-05-21T14:32:55.316Z"
   },
   {
    "duration": 11,
    "start_time": "2023-05-21T14:32:55.325Z"
   },
   {
    "duration": 19,
    "start_time": "2023-05-21T14:32:55.338Z"
   },
   {
    "duration": 47,
    "start_time": "2023-05-21T14:32:55.360Z"
   },
   {
    "duration": 6,
    "start_time": "2023-05-21T14:32:55.409Z"
   },
   {
    "duration": 9,
    "start_time": "2023-05-21T14:32:55.417Z"
   },
   {
    "duration": 13,
    "start_time": "2023-05-21T14:32:55.427Z"
   },
   {
    "duration": 5,
    "start_time": "2023-05-21T14:32:55.441Z"
   },
   {
    "duration": 8,
    "start_time": "2023-05-21T14:32:55.448Z"
   },
   {
    "duration": 16,
    "start_time": "2023-05-21T14:32:55.458Z"
   },
   {
    "duration": 8,
    "start_time": "2023-05-21T14:32:55.507Z"
   },
   {
    "duration": 11,
    "start_time": "2023-05-21T14:32:55.517Z"
   },
   {
    "duration": 24,
    "start_time": "2023-05-21T14:32:55.530Z"
   },
   {
    "duration": 178,
    "start_time": "2023-05-21T14:32:55.557Z"
   },
   {
    "duration": 7,
    "start_time": "2023-05-21T14:32:55.736Z"
   },
   {
    "duration": 149,
    "start_time": "2023-05-21T14:32:55.745Z"
   },
   {
    "duration": 8,
    "start_time": "2023-05-21T14:32:55.906Z"
   },
   {
    "duration": 262,
    "start_time": "2023-05-21T14:32:55.916Z"
   },
   {
    "duration": 9,
    "start_time": "2023-05-21T14:32:56.179Z"
   },
   {
    "duration": 145,
    "start_time": "2023-05-21T14:32:56.189Z"
   },
   {
    "duration": 185,
    "start_time": "2023-05-21T14:32:56.336Z"
   },
   {
    "duration": 10,
    "start_time": "2023-05-21T14:32:56.523Z"
   },
   {
    "duration": 356,
    "start_time": "2023-05-21T14:32:56.534Z"
   },
   {
    "duration": 179,
    "start_time": "2023-05-21T14:32:56.891Z"
   },
   {
    "duration": 39,
    "start_time": "2023-05-21T14:32:57.071Z"
   },
   {
    "duration": 21,
    "start_time": "2023-05-21T14:32:57.112Z"
   },
   {
    "duration": 23,
    "start_time": "2023-05-21T14:32:57.135Z"
   },
   {
    "duration": 51,
    "start_time": "2023-05-21T14:32:57.159Z"
   },
   {
    "duration": 29,
    "start_time": "2023-05-21T14:32:57.212Z"
   },
   {
    "duration": 193,
    "start_time": "2023-05-21T14:32:57.242Z"
   },
   {
    "duration": 176,
    "start_time": "2023-05-21T14:32:57.438Z"
   },
   {
    "duration": 94,
    "start_time": "2023-05-21T14:32:57.616Z"
   },
   {
    "duration": 18,
    "start_time": "2023-05-21T14:32:57.712Z"
   },
   {
    "duration": 16,
    "start_time": "2023-05-21T14:32:57.731Z"
   },
   {
    "duration": 19,
    "start_time": "2023-05-21T14:32:57.749Z"
   },
   {
    "duration": 38,
    "start_time": "2023-05-21T14:32:57.769Z"
   },
   {
    "duration": 6,
    "start_time": "2023-05-21T14:32:57.809Z"
   },
   {
    "duration": 15,
    "start_time": "2023-05-21T14:32:57.816Z"
   },
   {
    "duration": 1462,
    "start_time": "2023-05-21T14:32:57.833Z"
   },
   {
    "duration": 156,
    "start_time": "2023-05-21T14:34:18.465Z"
   },
   {
    "duration": 131,
    "start_time": "2023-05-21T14:42:24.042Z"
   },
   {
    "duration": 132,
    "start_time": "2023-05-21T14:42:40.321Z"
   },
   {
    "duration": 6,
    "start_time": "2023-05-21T14:48:24.972Z"
   },
   {
    "duration": 7,
    "start_time": "2023-05-21T14:49:11.354Z"
   },
   {
    "duration": 6,
    "start_time": "2023-05-21T14:49:34.318Z"
   },
   {
    "duration": 6,
    "start_time": "2023-05-21T14:49:34.956Z"
   },
   {
    "duration": 6,
    "start_time": "2023-05-21T14:50:26.417Z"
   },
   {
    "duration": 6,
    "start_time": "2023-05-21T14:50:28.176Z"
   },
   {
    "duration": 268,
    "start_time": "2023-05-21T14:54:29.816Z"
   },
   {
    "duration": 146,
    "start_time": "2023-05-21T15:00:06.539Z"
   },
   {
    "duration": 169,
    "start_time": "2023-05-21T15:00:52.910Z"
   },
   {
    "duration": 329,
    "start_time": "2023-05-21T15:15:16.967Z"
   },
   {
    "duration": 124,
    "start_time": "2023-05-21T15:15:28.742Z"
   },
   {
    "duration": 212,
    "start_time": "2023-05-21T15:15:42.405Z"
   },
   {
    "duration": 133,
    "start_time": "2023-05-21T15:16:19.269Z"
   },
   {
    "duration": 165,
    "start_time": "2023-05-21T15:17:04.001Z"
   },
   {
    "duration": 175,
    "start_time": "2023-05-21T15:22:09.908Z"
   },
   {
    "duration": 35,
    "start_time": "2023-05-21T15:33:40.112Z"
   },
   {
    "duration": 20,
    "start_time": "2023-05-21T15:38:53.710Z"
   },
   {
    "duration": 22,
    "start_time": "2023-05-21T15:38:57.103Z"
   },
   {
    "duration": 195,
    "start_time": "2023-05-21T15:48:31.725Z"
   },
   {
    "duration": 175,
    "start_time": "2023-05-21T15:50:42.762Z"
   },
   {
    "duration": 275,
    "start_time": "2023-05-21T15:53:46.894Z"
   },
   {
    "duration": 404,
    "start_time": "2023-05-21T15:54:03.734Z"
   },
   {
    "duration": 381,
    "start_time": "2023-05-21T15:54:24.934Z"
   },
   {
    "duration": 503,
    "start_time": "2023-05-21T16:00:12.780Z"
   },
   {
    "duration": 149,
    "start_time": "2023-05-21T16:05:07.680Z"
   },
   {
    "duration": 160,
    "start_time": "2023-05-21T16:05:08.503Z"
   },
   {
    "duration": 305,
    "start_time": "2023-05-21T16:10:48.057Z"
   },
   {
    "duration": 186,
    "start_time": "2023-05-21T16:14:24.992Z"
   },
   {
    "duration": 223,
    "start_time": "2023-05-21T16:14:55.510Z"
   },
   {
    "duration": 103,
    "start_time": "2023-05-21T16:30:39.232Z"
   },
   {
    "duration": 37,
    "start_time": "2023-05-21T16:39:08.232Z"
   },
   {
    "duration": 33,
    "start_time": "2023-05-21T16:40:39.336Z"
   },
   {
    "duration": 165,
    "start_time": "2023-05-21T16:41:24.349Z"
   },
   {
    "duration": 15,
    "start_time": "2023-05-21T16:41:28.832Z"
   },
   {
    "duration": 7,
    "start_time": "2023-05-21T16:57:08.585Z"
   },
   {
    "duration": 6,
    "start_time": "2023-05-21T17:00:51.130Z"
   },
   {
    "duration": 10,
    "start_time": "2023-05-21T17:00:54.468Z"
   },
   {
    "duration": 63,
    "start_time": "2023-05-21T18:38:05.862Z"
   },
   {
    "duration": 12,
    "start_time": "2023-05-21T18:38:05.927Z"
   },
   {
    "duration": 26,
    "start_time": "2023-05-21T18:38:05.941Z"
   },
   {
    "duration": 25,
    "start_time": "2023-05-21T18:38:05.970Z"
   },
   {
    "duration": 24,
    "start_time": "2023-05-21T18:38:05.998Z"
   },
   {
    "duration": 42,
    "start_time": "2023-05-21T18:38:06.024Z"
   },
   {
    "duration": 16,
    "start_time": "2023-05-21T18:38:06.068Z"
   },
   {
    "duration": 12,
    "start_time": "2023-05-21T18:38:06.086Z"
   },
   {
    "duration": 20,
    "start_time": "2023-05-21T18:38:06.100Z"
   },
   {
    "duration": 14,
    "start_time": "2023-05-21T18:38:06.124Z"
   },
   {
    "duration": 8,
    "start_time": "2023-05-21T18:38:06.141Z"
   },
   {
    "duration": 13,
    "start_time": "2023-05-21T18:38:06.151Z"
   },
   {
    "duration": 15,
    "start_time": "2023-05-21T18:38:06.166Z"
   },
   {
    "duration": 26,
    "start_time": "2023-05-21T18:38:06.182Z"
   },
   {
    "duration": 8,
    "start_time": "2023-05-21T18:38:06.210Z"
   },
   {
    "duration": 11,
    "start_time": "2023-05-21T18:38:06.220Z"
   },
   {
    "duration": 10,
    "start_time": "2023-05-21T18:38:06.233Z"
   },
   {
    "duration": 4,
    "start_time": "2023-05-21T18:38:06.245Z"
   },
   {
    "duration": 10,
    "start_time": "2023-05-21T18:38:06.251Z"
   },
   {
    "duration": 213,
    "start_time": "2023-05-21T18:38:06.262Z"
   },
   {
    "duration": 7,
    "start_time": "2023-05-21T18:38:06.478Z"
   },
   {
    "duration": 22,
    "start_time": "2023-05-21T18:38:06.487Z"
   },
   {
    "duration": 8,
    "start_time": "2023-05-21T18:38:06.511Z"
   },
   {
    "duration": 196,
    "start_time": "2023-05-21T18:38:06.521Z"
   },
   {
    "duration": 8,
    "start_time": "2023-05-21T18:38:06.719Z"
   },
   {
    "duration": 264,
    "start_time": "2023-05-21T18:38:06.730Z"
   },
   {
    "duration": 17,
    "start_time": "2023-05-21T18:38:06.995Z"
   },
   {
    "duration": 143,
    "start_time": "2023-05-21T18:38:07.014Z"
   },
   {
    "duration": 179,
    "start_time": "2023-05-21T18:38:07.159Z"
   },
   {
    "duration": 9,
    "start_time": "2023-05-21T18:38:07.340Z"
   },
   {
    "duration": 148,
    "start_time": "2023-05-21T18:38:07.350Z"
   },
   {
    "duration": 196,
    "start_time": "2023-05-21T18:38:07.499Z"
   },
   {
    "duration": 47,
    "start_time": "2023-05-21T18:38:07.697Z"
   },
   {
    "duration": 34,
    "start_time": "2023-05-21T18:38:07.746Z"
   },
   {
    "duration": 51,
    "start_time": "2023-05-21T18:38:07.782Z"
   },
   {
    "duration": 35,
    "start_time": "2023-05-21T18:38:07.836Z"
   },
   {
    "duration": 60,
    "start_time": "2023-05-21T18:38:07.873Z"
   },
   {
    "duration": 346,
    "start_time": "2023-05-21T18:38:07.936Z"
   },
   {
    "duration": 252,
    "start_time": "2023-05-21T18:38:08.283Z"
   },
   {
    "duration": 125,
    "start_time": "2023-05-21T18:38:08.537Z"
   },
   {
    "duration": 19,
    "start_time": "2023-05-21T18:38:08.665Z"
   },
   {
    "duration": 33,
    "start_time": "2023-05-21T18:38:08.686Z"
   },
   {
    "duration": 21,
    "start_time": "2023-05-21T18:38:08.720Z"
   },
   {
    "duration": 6,
    "start_time": "2023-05-21T18:38:08.742Z"
   },
   {
    "duration": 8,
    "start_time": "2023-05-21T18:38:08.750Z"
   },
   {
    "duration": 14,
    "start_time": "2023-05-21T18:38:08.760Z"
   },
   {
    "duration": 1467,
    "start_time": "2023-05-22T10:17:10.084Z"
   },
   {
    "duration": 13,
    "start_time": "2023-05-22T10:17:11.553Z"
   },
   {
    "duration": 13,
    "start_time": "2023-05-22T10:17:11.568Z"
   },
   {
    "duration": 11,
    "start_time": "2023-05-22T10:17:11.583Z"
   },
   {
    "duration": 12,
    "start_time": "2023-05-22T10:17:11.596Z"
   },
   {
    "duration": 12,
    "start_time": "2023-05-22T10:17:11.609Z"
   },
   {
    "duration": 6,
    "start_time": "2023-05-22T10:17:11.622Z"
   },
   {
    "duration": 14,
    "start_time": "2023-05-22T10:17:11.629Z"
   },
   {
    "duration": 15,
    "start_time": "2023-05-22T10:17:11.644Z"
   },
   {
    "duration": 10,
    "start_time": "2023-05-22T10:17:11.661Z"
   },
   {
    "duration": 5,
    "start_time": "2023-05-22T10:17:11.672Z"
   },
   {
    "duration": 10,
    "start_time": "2023-05-22T10:17:11.678Z"
   },
   {
    "duration": 30,
    "start_time": "2023-05-22T10:17:11.689Z"
   },
   {
    "duration": 3,
    "start_time": "2023-05-22T10:17:11.720Z"
   },
   {
    "duration": 7,
    "start_time": "2023-05-22T10:17:11.725Z"
   },
   {
    "duration": 9,
    "start_time": "2023-05-22T10:17:11.733Z"
   },
   {
    "duration": 5,
    "start_time": "2023-05-22T10:17:11.743Z"
   },
   {
    "duration": 6,
    "start_time": "2023-05-22T10:17:11.749Z"
   },
   {
    "duration": 9,
    "start_time": "2023-05-22T10:17:11.756Z"
   },
   {
    "duration": 200,
    "start_time": "2023-05-22T10:17:11.766Z"
   },
   {
    "duration": 7,
    "start_time": "2023-05-22T10:17:11.968Z"
   },
   {
    "duration": 9,
    "start_time": "2023-05-22T10:17:11.977Z"
   },
   {
    "duration": 6,
    "start_time": "2023-05-22T10:17:11.987Z"
   },
   {
    "duration": 160,
    "start_time": "2023-05-22T10:17:11.994Z"
   },
   {
    "duration": 8,
    "start_time": "2023-05-22T10:17:12.156Z"
   },
   {
    "duration": 263,
    "start_time": "2023-05-22T10:17:12.165Z"
   },
   {
    "duration": 7,
    "start_time": "2023-05-22T10:17:12.429Z"
   },
   {
    "duration": 154,
    "start_time": "2023-05-22T10:17:12.439Z"
   },
   {
    "duration": 177,
    "start_time": "2023-05-22T10:17:12.594Z"
   },
   {
    "duration": 8,
    "start_time": "2023-05-22T10:17:12.772Z"
   },
   {
    "duration": 149,
    "start_time": "2023-05-22T10:17:12.782Z"
   },
   {
    "duration": 170,
    "start_time": "2023-05-22T10:17:12.932Z"
   },
   {
    "duration": 33,
    "start_time": "2023-05-22T10:17:13.104Z"
   },
   {
    "duration": 21,
    "start_time": "2023-05-22T10:17:13.139Z"
   },
   {
    "duration": 22,
    "start_time": "2023-05-22T10:17:13.161Z"
   },
   {
    "duration": 49,
    "start_time": "2023-05-22T10:17:13.185Z"
   },
   {
    "duration": 27,
    "start_time": "2023-05-22T10:17:13.235Z"
   },
   {
    "duration": 342,
    "start_time": "2023-05-22T10:17:13.264Z"
   },
   {
    "duration": 216,
    "start_time": "2023-05-22T10:17:13.607Z"
   },
   {
    "duration": 116,
    "start_time": "2023-05-22T10:17:13.825Z"
   },
   {
    "duration": 17,
    "start_time": "2023-05-22T10:17:13.943Z"
   },
   {
    "duration": 21,
    "start_time": "2023-05-22T10:17:13.961Z"
   },
   {
    "duration": 37,
    "start_time": "2023-05-22T10:17:13.983Z"
   },
   {
    "duration": 6,
    "start_time": "2023-05-22T10:17:14.022Z"
   },
   {
    "duration": 24,
    "start_time": "2023-05-22T10:17:14.030Z"
   },
   {
    "duration": 34,
    "start_time": "2023-05-22T10:17:14.056Z"
   },
   {
    "duration": 1227,
    "start_time": "2023-05-22T17:18:04.392Z"
   },
   {
    "duration": 87,
    "start_time": "2023-05-22T17:18:05.621Z"
   },
   {
    "duration": 158,
    "start_time": "2023-05-22T17:18:05.710Z"
   },
   {
    "duration": 10,
    "start_time": "2023-05-22T17:22:29.565Z"
   },
   {
    "duration": 5,
    "start_time": "2023-05-22T17:23:49.770Z"
   },
   {
    "duration": 5,
    "start_time": "2023-05-22T17:23:53.171Z"
   },
   {
    "duration": 5,
    "start_time": "2023-05-22T17:24:13.246Z"
   },
   {
    "duration": 7,
    "start_time": "2023-05-22T17:24:20.143Z"
   },
   {
    "duration": 5,
    "start_time": "2023-05-22T17:28:22.410Z"
   },
   {
    "duration": 6,
    "start_time": "2023-05-22T17:28:40.859Z"
   },
   {
    "duration": 8,
    "start_time": "2023-05-22T17:31:08.492Z"
   },
   {
    "duration": 147,
    "start_time": "2023-05-22T17:58:46.821Z"
   },
   {
    "duration": 129,
    "start_time": "2023-05-22T18:05:28.902Z"
   },
   {
    "duration": 17,
    "start_time": "2023-05-22T18:06:08.171Z"
   },
   {
    "duration": 18,
    "start_time": "2023-05-22T18:06:12.108Z"
   },
   {
    "duration": 18,
    "start_time": "2023-05-22T18:06:17.164Z"
   },
   {
    "duration": 145,
    "start_time": "2023-05-22T18:07:11.506Z"
   },
   {
    "duration": 143,
    "start_time": "2023-05-22T18:07:18.923Z"
   },
   {
    "duration": 102,
    "start_time": "2023-05-22T18:08:30.153Z"
   },
   {
    "duration": 9,
    "start_time": "2023-05-22T18:08:37.522Z"
   },
   {
    "duration": 131,
    "start_time": "2023-05-22T18:08:43.410Z"
   },
   {
    "duration": 3,
    "start_time": "2023-05-22T18:10:35.824Z"
   },
   {
    "duration": 40,
    "start_time": "2023-05-22T18:10:35.837Z"
   },
   {
    "duration": 26,
    "start_time": "2023-05-22T18:10:35.880Z"
   },
   {
    "duration": 63,
    "start_time": "2023-05-22T18:10:35.908Z"
   },
   {
    "duration": 10,
    "start_time": "2023-05-22T18:10:35.973Z"
   },
   {
    "duration": 4,
    "start_time": "2023-05-22T18:10:35.985Z"
   },
   {
    "duration": 25,
    "start_time": "2023-05-22T18:10:35.990Z"
   },
   {
    "duration": 9,
    "start_time": "2023-05-22T18:10:36.017Z"
   },
   {
    "duration": 10,
    "start_time": "2023-05-22T18:10:36.028Z"
   },
   {
    "duration": 6,
    "start_time": "2023-05-22T18:10:36.040Z"
   },
   {
    "duration": 18,
    "start_time": "2023-05-22T18:10:36.050Z"
   },
   {
    "duration": 14,
    "start_time": "2023-05-22T18:10:36.070Z"
   },
   {
    "duration": 10,
    "start_time": "2023-05-22T18:10:36.086Z"
   },
   {
    "duration": 13,
    "start_time": "2023-05-22T18:10:36.098Z"
   },
   {
    "duration": 18,
    "start_time": "2023-05-22T18:10:36.113Z"
   },
   {
    "duration": 8,
    "start_time": "2023-05-22T18:10:36.133Z"
   },
   {
    "duration": 11,
    "start_time": "2023-05-22T18:10:36.143Z"
   },
   {
    "duration": 10,
    "start_time": "2023-05-22T18:10:36.156Z"
   },
   {
    "duration": 5,
    "start_time": "2023-05-22T18:10:36.168Z"
   },
   {
    "duration": 8,
    "start_time": "2023-05-22T18:10:36.175Z"
   },
   {
    "duration": 6,
    "start_time": "2023-05-22T18:10:36.184Z"
   },
   {
    "duration": 5,
    "start_time": "2023-05-22T18:10:36.192Z"
   },
   {
    "duration": 5,
    "start_time": "2023-05-22T18:10:36.199Z"
   },
   {
    "duration": 46,
    "start_time": "2023-05-22T18:10:36.205Z"
   },
   {
    "duration": 2,
    "start_time": "2023-05-22T18:10:39.326Z"
   },
   {
    "duration": 34,
    "start_time": "2023-05-22T18:10:39.342Z"
   },
   {
    "duration": 25,
    "start_time": "2023-05-22T18:10:39.377Z"
   },
   {
    "duration": 14,
    "start_time": "2023-05-22T18:10:39.404Z"
   },
   {
    "duration": 8,
    "start_time": "2023-05-22T18:10:39.420Z"
   },
   {
    "duration": 3,
    "start_time": "2023-05-22T18:10:39.431Z"
   },
   {
    "duration": 10,
    "start_time": "2023-05-22T18:10:39.436Z"
   },
   {
    "duration": 10,
    "start_time": "2023-05-22T18:10:39.447Z"
   },
   {
    "duration": 12,
    "start_time": "2023-05-22T18:10:39.459Z"
   },
   {
    "duration": 7,
    "start_time": "2023-05-22T18:10:39.472Z"
   },
   {
    "duration": 11,
    "start_time": "2023-05-22T18:10:39.480Z"
   },
   {
    "duration": 19,
    "start_time": "2023-05-22T18:10:39.493Z"
   },
   {
    "duration": 40,
    "start_time": "2023-05-22T18:10:39.513Z"
   },
   {
    "duration": 4,
    "start_time": "2023-05-22T18:10:39.555Z"
   },
   {
    "duration": 14,
    "start_time": "2023-05-22T18:10:39.563Z"
   },
   {
    "duration": 6,
    "start_time": "2023-05-22T18:10:39.579Z"
   },
   {
    "duration": 8,
    "start_time": "2023-05-22T18:10:39.587Z"
   },
   {
    "duration": 8,
    "start_time": "2023-05-22T18:10:39.596Z"
   },
   {
    "duration": 4,
    "start_time": "2023-05-22T18:10:39.606Z"
   },
   {
    "duration": 7,
    "start_time": "2023-05-22T18:10:39.651Z"
   },
   {
    "duration": 8,
    "start_time": "2023-05-22T18:10:39.660Z"
   },
   {
    "duration": 6,
    "start_time": "2023-05-22T18:10:39.670Z"
   },
   {
    "duration": 5,
    "start_time": "2023-05-22T18:10:39.678Z"
   },
   {
    "duration": 9,
    "start_time": "2023-05-22T18:10:39.684Z"
   },
   {
    "duration": 188,
    "start_time": "2023-05-22T18:10:39.695Z"
   },
   {
    "duration": 178,
    "start_time": "2023-05-22T18:10:39.884Z"
   },
   {
    "duration": 6,
    "start_time": "2023-05-22T18:10:40.065Z"
   },
   {
    "duration": 10,
    "start_time": "2023-05-22T18:10:40.073Z"
   },
   {
    "duration": 18,
    "start_time": "2023-05-22T18:10:40.085Z"
   },
   {
    "duration": 153,
    "start_time": "2023-05-22T18:10:40.105Z"
   },
   {
    "duration": 9,
    "start_time": "2023-05-22T18:10:40.260Z"
   },
   {
    "duration": 361,
    "start_time": "2023-05-22T18:10:40.270Z"
   },
   {
    "duration": 18,
    "start_time": "2023-05-22T18:10:40.632Z"
   },
   {
    "duration": 151,
    "start_time": "2023-05-22T18:10:40.652Z"
   },
   {
    "duration": 183,
    "start_time": "2023-05-22T18:10:40.805Z"
   },
   {
    "duration": 9,
    "start_time": "2023-05-22T18:10:40.995Z"
   },
   {
    "duration": 180,
    "start_time": "2023-05-22T18:10:41.005Z"
   },
   {
    "duration": 207,
    "start_time": "2023-05-22T18:10:41.187Z"
   },
   {
    "duration": 30,
    "start_time": "2023-05-22T18:10:41.397Z"
   },
   {
    "duration": 42,
    "start_time": "2023-05-22T18:10:41.428Z"
   },
   {
    "duration": 23,
    "start_time": "2023-05-22T18:10:41.472Z"
   },
   {
    "duration": 31,
    "start_time": "2023-05-22T18:10:41.496Z"
   },
   {
    "duration": 54,
    "start_time": "2023-05-22T18:10:41.528Z"
   },
   {
    "duration": 329,
    "start_time": "2023-05-22T18:10:41.583Z"
   },
   {
    "duration": 250,
    "start_time": "2023-05-22T18:10:41.914Z"
   },
   {
    "duration": 111,
    "start_time": "2023-05-22T18:10:42.166Z"
   },
   {
    "duration": 17,
    "start_time": "2023-05-22T18:10:42.278Z"
   },
   {
    "duration": 16,
    "start_time": "2023-05-22T18:10:42.296Z"
   },
   {
    "duration": 40,
    "start_time": "2023-05-22T18:10:42.313Z"
   },
   {
    "duration": 7,
    "start_time": "2023-05-22T18:10:42.355Z"
   },
   {
    "duration": 5,
    "start_time": "2023-05-22T18:10:42.364Z"
   },
   {
    "duration": 11,
    "start_time": "2023-05-22T18:10:42.371Z"
   },
   {
    "duration": 142,
    "start_time": "2023-05-22T18:13:53.510Z"
   },
   {
    "duration": 135,
    "start_time": "2023-05-22T18:16:21.915Z"
   },
   {
    "duration": 154,
    "start_time": "2023-05-22T18:16:49.053Z"
   },
   {
    "duration": 244,
    "start_time": "2023-05-22T18:17:15.941Z"
   },
   {
    "duration": 175,
    "start_time": "2023-05-22T18:17:34.652Z"
   },
   {
    "duration": 7,
    "start_time": "2023-05-22T18:25:29.632Z"
   },
   {
    "duration": 9,
    "start_time": "2023-05-22T18:25:42.771Z"
   },
   {
    "duration": 5,
    "start_time": "2023-05-22T18:25:52.043Z"
   },
   {
    "duration": 5,
    "start_time": "2023-05-22T18:30:22.879Z"
   },
   {
    "duration": 61,
    "start_time": "2023-05-22T18:31:42.648Z"
   },
   {
    "duration": 5,
    "start_time": "2023-05-22T18:39:06.641Z"
   },
   {
    "duration": 6,
    "start_time": "2023-05-22T18:39:13.247Z"
   },
   {
    "duration": 7,
    "start_time": "2023-05-22T18:39:41.807Z"
   },
   {
    "duration": 6,
    "start_time": "2023-05-22T18:39:56.967Z"
   },
   {
    "duration": 3,
    "start_time": "2023-05-22T18:41:17.895Z"
   },
   {
    "duration": 30,
    "start_time": "2023-05-22T18:41:17.899Z"
   },
   {
    "duration": 26,
    "start_time": "2023-05-22T18:41:17.931Z"
   },
   {
    "duration": 15,
    "start_time": "2023-05-22T18:41:17.958Z"
   },
   {
    "duration": 9,
    "start_time": "2023-05-22T18:41:17.975Z"
   },
   {
    "duration": 4,
    "start_time": "2023-05-22T18:41:17.986Z"
   },
   {
    "duration": 10,
    "start_time": "2023-05-22T18:41:17.992Z"
   },
   {
    "duration": 11,
    "start_time": "2023-05-22T18:41:18.003Z"
   },
   {
    "duration": 13,
    "start_time": "2023-05-22T18:41:18.016Z"
   },
   {
    "duration": 7,
    "start_time": "2023-05-22T18:41:18.050Z"
   },
   {
    "duration": 10,
    "start_time": "2023-05-22T18:41:18.059Z"
   },
   {
    "duration": 14,
    "start_time": "2023-05-22T18:41:18.070Z"
   },
   {
    "duration": 10,
    "start_time": "2023-05-22T18:41:18.085Z"
   },
   {
    "duration": 5,
    "start_time": "2023-05-22T18:41:18.096Z"
   },
   {
    "duration": 9,
    "start_time": "2023-05-22T18:41:18.102Z"
   },
   {
    "duration": 6,
    "start_time": "2023-05-22T18:41:18.150Z"
   },
   {
    "duration": 7,
    "start_time": "2023-05-22T18:41:18.158Z"
   },
   {
    "duration": 7,
    "start_time": "2023-05-22T18:41:18.167Z"
   },
   {
    "duration": 3,
    "start_time": "2023-05-22T18:41:18.175Z"
   },
   {
    "duration": 5,
    "start_time": "2023-05-22T18:41:18.180Z"
   },
   {
    "duration": 6,
    "start_time": "2023-05-22T18:41:18.187Z"
   },
   {
    "duration": 4,
    "start_time": "2023-05-22T18:41:18.195Z"
   },
   {
    "duration": 50,
    "start_time": "2023-05-22T18:41:18.201Z"
   },
   {
    "duration": 11,
    "start_time": "2023-05-22T18:41:18.252Z"
   },
   {
    "duration": 174,
    "start_time": "2023-05-22T18:41:18.265Z"
   },
   {
    "duration": 14,
    "start_time": "2023-05-22T18:41:18.440Z"
   },
   {
    "duration": 9,
    "start_time": "2023-05-22T18:41:18.455Z"
   },
   {
    "duration": 7,
    "start_time": "2023-05-22T18:41:18.467Z"
   },
   {
    "duration": 157,
    "start_time": "2023-05-22T18:41:18.476Z"
   },
   {
    "duration": 15,
    "start_time": "2023-05-22T18:41:18.635Z"
   },
   {
    "duration": 271,
    "start_time": "2023-05-22T18:41:18.652Z"
   },
   {
    "duration": 8,
    "start_time": "2023-05-22T18:41:18.924Z"
   },
   {
    "duration": 148,
    "start_time": "2023-05-22T18:41:18.933Z"
   },
   {
    "duration": 186,
    "start_time": "2023-05-22T18:41:19.082Z"
   },
   {
    "duration": 8,
    "start_time": "2023-05-22T18:41:19.270Z"
   },
   {
    "duration": 159,
    "start_time": "2023-05-22T18:41:19.280Z"
   },
   {
    "duration": 186,
    "start_time": "2023-05-22T18:41:19.440Z"
   },
   {
    "duration": 36,
    "start_time": "2023-05-22T18:41:19.627Z"
   },
   {
    "duration": 22,
    "start_time": "2023-05-22T18:41:19.665Z"
   },
   {
    "duration": 21,
    "start_time": "2023-05-22T18:41:19.688Z"
   },
   {
    "duration": 50,
    "start_time": "2023-05-22T18:41:19.710Z"
   },
   {
    "duration": 31,
    "start_time": "2023-05-22T18:41:19.762Z"
   },
   {
    "duration": 394,
    "start_time": "2023-05-22T18:41:19.794Z"
   },
   {
    "duration": 241,
    "start_time": "2023-05-22T18:41:20.190Z"
   },
   {
    "duration": 103,
    "start_time": "2023-05-22T18:41:20.432Z"
   },
   {
    "duration": 27,
    "start_time": "2023-05-22T18:41:20.537Z"
   },
   {
    "duration": 16,
    "start_time": "2023-05-22T18:41:20.565Z"
   },
   {
    "duration": 20,
    "start_time": "2023-05-22T18:41:20.583Z"
   },
   {
    "duration": 5,
    "start_time": "2023-05-22T18:41:20.605Z"
   },
   {
    "duration": 10,
    "start_time": "2023-05-22T18:41:20.611Z"
   },
   {
    "duration": 33,
    "start_time": "2023-05-22T18:41:20.623Z"
   },
   {
    "duration": 1077,
    "start_time": "2023-05-22T22:02:49.578Z"
   },
   {
    "duration": 28,
    "start_time": "2023-05-22T22:02:50.657Z"
   },
   {
    "duration": 26,
    "start_time": "2023-05-22T22:02:50.686Z"
   },
   {
    "duration": 16,
    "start_time": "2023-05-22T22:02:50.714Z"
   },
   {
    "duration": 15,
    "start_time": "2023-05-22T22:02:50.732Z"
   },
   {
    "duration": 9,
    "start_time": "2023-05-22T22:02:50.749Z"
   },
   {
    "duration": 37,
    "start_time": "2023-05-22T22:02:50.759Z"
   },
   {
    "duration": 35,
    "start_time": "2023-05-22T22:02:50.798Z"
   },
   {
    "duration": 27,
    "start_time": "2023-05-22T22:02:50.834Z"
   },
   {
    "duration": 27,
    "start_time": "2023-05-22T22:02:50.865Z"
   },
   {
    "duration": 27,
    "start_time": "2023-05-22T22:02:50.894Z"
   },
   {
    "duration": 44,
    "start_time": "2023-05-22T22:02:50.922Z"
   },
   {
    "duration": 21,
    "start_time": "2023-05-22T22:02:50.968Z"
   },
   {
    "duration": 13,
    "start_time": "2023-05-22T22:02:50.990Z"
   },
   {
    "duration": 13,
    "start_time": "2023-05-22T22:02:51.004Z"
   },
   {
    "duration": 23,
    "start_time": "2023-05-22T22:02:51.018Z"
   },
   {
    "duration": 19,
    "start_time": "2023-05-22T22:02:51.043Z"
   },
   {
    "duration": 20,
    "start_time": "2023-05-22T22:02:51.063Z"
   },
   {
    "duration": 33,
    "start_time": "2023-05-22T22:02:51.085Z"
   },
   {
    "duration": 55,
    "start_time": "2023-05-22T22:02:51.119Z"
   },
   {
    "duration": 23,
    "start_time": "2023-05-22T22:02:51.176Z"
   },
   {
    "duration": 5,
    "start_time": "2023-05-22T22:02:51.201Z"
   },
   {
    "duration": 12,
    "start_time": "2023-05-22T22:02:51.207Z"
   },
   {
    "duration": 12,
    "start_time": "2023-05-22T22:02:51.221Z"
   },
   {
    "duration": 175,
    "start_time": "2023-05-22T22:02:51.234Z"
   },
   {
    "duration": 9,
    "start_time": "2023-05-22T22:02:51.411Z"
   },
   {
    "duration": 16,
    "start_time": "2023-05-22T22:02:51.422Z"
   },
   {
    "duration": 25,
    "start_time": "2023-05-22T22:02:51.441Z"
   },
   {
    "duration": 145,
    "start_time": "2023-05-22T22:02:51.468Z"
   },
   {
    "duration": 9,
    "start_time": "2023-05-22T22:02:51.615Z"
   },
   {
    "duration": 250,
    "start_time": "2023-05-22T22:02:51.625Z"
   },
   {
    "duration": 9,
    "start_time": "2023-05-22T22:02:51.877Z"
   },
   {
    "duration": 150,
    "start_time": "2023-05-22T22:02:51.887Z"
   },
   {
    "duration": 173,
    "start_time": "2023-05-22T22:02:52.039Z"
   },
   {
    "duration": 7,
    "start_time": "2023-05-22T22:02:52.217Z"
   },
   {
    "duration": 147,
    "start_time": "2023-05-22T22:02:52.225Z"
   },
   {
    "duration": 171,
    "start_time": "2023-05-22T22:02:52.373Z"
   },
   {
    "duration": 27,
    "start_time": "2023-05-22T22:02:52.545Z"
   },
   {
    "duration": 20,
    "start_time": "2023-05-22T22:02:52.574Z"
   },
   {
    "duration": 36,
    "start_time": "2023-05-22T22:02:52.595Z"
   },
   {
    "duration": 29,
    "start_time": "2023-05-22T22:02:52.632Z"
   },
   {
    "duration": 27,
    "start_time": "2023-05-22T22:02:52.662Z"
   },
   {
    "duration": 340,
    "start_time": "2023-05-22T22:02:52.690Z"
   },
   {
    "duration": 214,
    "start_time": "2023-05-22T22:02:53.032Z"
   },
   {
    "duration": 110,
    "start_time": "2023-05-22T22:02:53.248Z"
   },
   {
    "duration": 16,
    "start_time": "2023-05-22T22:02:53.360Z"
   },
   {
    "duration": 15,
    "start_time": "2023-05-22T22:02:53.377Z"
   },
   {
    "duration": 39,
    "start_time": "2023-05-22T22:02:53.394Z"
   },
   {
    "duration": 6,
    "start_time": "2023-05-22T22:02:53.434Z"
   },
   {
    "duration": 14,
    "start_time": "2023-05-22T22:02:53.441Z"
   },
   {
    "duration": 11,
    "start_time": "2023-05-22T22:02:53.456Z"
   },
   {
    "duration": 103,
    "start_time": "2023-05-22T22:03:48.034Z"
   },
   {
    "duration": 4,
    "start_time": "2023-05-22T22:03:58.879Z"
   },
   {
    "duration": 63,
    "start_time": "2023-05-28T12:49:46.051Z"
   },
   {
    "duration": 1268,
    "start_time": "2023-05-28T12:49:49.359Z"
   },
   {
    "duration": 118,
    "start_time": "2023-05-28T12:49:50.637Z"
   },
   {
    "duration": 335,
    "start_time": "2023-05-28T12:49:50.758Z"
   },
   {
    "duration": 70,
    "start_time": "2023-05-28T12:49:51.096Z"
   },
   {
    "duration": 18,
    "start_time": "2023-05-28T12:49:51.167Z"
   },
   {
    "duration": 9,
    "start_time": "2023-05-28T12:49:51.187Z"
   },
   {
    "duration": 26,
    "start_time": "2023-05-28T12:49:51.198Z"
   },
   {
    "duration": 16,
    "start_time": "2023-05-28T12:49:51.230Z"
   },
   {
    "duration": 22,
    "start_time": "2023-05-28T12:49:51.248Z"
   },
   {
    "duration": 23,
    "start_time": "2023-05-28T12:49:51.273Z"
   },
   {
    "duration": 19,
    "start_time": "2023-05-28T12:49:51.301Z"
   },
   {
    "duration": 21,
    "start_time": "2023-05-28T12:49:51.325Z"
   },
   {
    "duration": 16,
    "start_time": "2023-05-28T12:49:51.348Z"
   },
   {
    "duration": 7,
    "start_time": "2023-05-28T12:49:51.366Z"
   },
   {
    "duration": 30,
    "start_time": "2023-05-28T12:49:51.375Z"
   },
   {
    "duration": 8,
    "start_time": "2023-05-28T12:49:51.406Z"
   },
   {
    "duration": 27,
    "start_time": "2023-05-28T12:49:51.416Z"
   },
   {
    "duration": 9,
    "start_time": "2023-05-28T12:49:51.445Z"
   },
   {
    "duration": 13,
    "start_time": "2023-05-28T12:49:51.455Z"
   },
   {
    "duration": 21,
    "start_time": "2023-05-28T12:49:51.470Z"
   },
   {
    "duration": 19,
    "start_time": "2023-05-28T12:49:51.493Z"
   },
   {
    "duration": 31,
    "start_time": "2023-05-28T12:49:51.514Z"
   },
   {
    "duration": 11,
    "start_time": "2023-05-28T12:49:51.546Z"
   },
   {
    "duration": 28,
    "start_time": "2023-05-28T12:49:51.559Z"
   },
   {
    "duration": 219,
    "start_time": "2023-05-28T12:49:51.591Z"
   },
   {
    "duration": 21,
    "start_time": "2023-05-28T12:49:51.811Z"
   },
   {
    "duration": 7,
    "start_time": "2023-05-28T12:49:51.833Z"
   },
   {
    "duration": 19,
    "start_time": "2023-05-28T12:49:51.843Z"
   },
   {
    "duration": 192,
    "start_time": "2023-05-28T12:49:51.864Z"
   },
   {
    "duration": 9,
    "start_time": "2023-05-28T12:49:52.057Z"
   },
   {
    "duration": 286,
    "start_time": "2023-05-28T12:49:52.088Z"
   },
   {
    "duration": 24,
    "start_time": "2023-05-28T12:49:52.376Z"
   },
   {
    "duration": 175,
    "start_time": "2023-05-28T12:49:52.412Z"
   },
   {
    "duration": 198,
    "start_time": "2023-05-28T12:49:52.592Z"
   },
   {
    "duration": 19,
    "start_time": "2023-05-28T12:49:52.797Z"
   },
   {
    "duration": 142,
    "start_time": "2023-05-28T12:49:52.821Z"
   },
   {
    "duration": 239,
    "start_time": "2023-05-28T12:49:52.965Z"
   },
   {
    "duration": 34,
    "start_time": "2023-05-28T12:49:53.214Z"
   },
   {
    "duration": 21,
    "start_time": "2023-05-28T12:49:53.250Z"
   },
   {
    "duration": 42,
    "start_time": "2023-05-28T12:49:53.273Z"
   },
   {
    "duration": 33,
    "start_time": "2023-05-28T12:49:53.316Z"
   },
   {
    "duration": 46,
    "start_time": "2023-05-28T12:49:53.351Z"
   },
   {
    "duration": 389,
    "start_time": "2023-05-28T12:49:53.407Z"
   },
   {
    "duration": 240,
    "start_time": "2023-05-28T12:49:53.800Z"
   },
   {
    "duration": 117,
    "start_time": "2023-05-28T12:49:54.041Z"
   },
   {
    "duration": 37,
    "start_time": "2023-05-28T12:49:54.160Z"
   },
   {
    "duration": 26,
    "start_time": "2023-05-28T12:49:54.198Z"
   },
   {
    "duration": 19,
    "start_time": "2023-05-28T12:49:54.229Z"
   },
   {
    "duration": 6,
    "start_time": "2023-05-28T12:49:54.249Z"
   },
   {
    "duration": 7,
    "start_time": "2023-05-28T12:49:54.257Z"
   },
   {
    "duration": 23,
    "start_time": "2023-05-28T12:49:54.265Z"
   },
   {
    "duration": 198,
    "start_time": "2023-05-28T12:50:08.122Z"
   }
  ],
  "kernelspec": {
   "display_name": "Python 3 (ipykernel)",
   "language": "python",
   "name": "python3"
  },
  "language_info": {
   "codemirror_mode": {
    "name": "ipython",
    "version": 3
   },
   "file_extension": ".py",
   "mimetype": "text/x-python",
   "name": "python",
   "nbconvert_exporter": "python",
   "pygments_lexer": "ipython3",
   "version": "3.11.5"
  },
  "toc": {
   "base_numbering": 1,
   "nav_menu": {},
   "number_sections": true,
   "sideBar": true,
   "skip_h1_title": true,
   "title_cell": "Table of Contents",
   "title_sidebar": "Contents",
   "toc_cell": false,
   "toc_position": {},
   "toc_section_display": true,
   "toc_window_display": false
  }
 },
 "nbformat": 4,
 "nbformat_minor": 5
}
